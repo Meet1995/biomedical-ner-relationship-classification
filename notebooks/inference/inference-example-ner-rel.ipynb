{
  "cells": [
    {
      "cell_type": "markdown",
      "metadata": {
        "id": "nIte3BXnA_i7"
      },
      "source": [
        "### Install & Import Packages"
      ]
    },
    {
      "cell_type": "code",
      "execution_count": 1,
      "metadata": {
        "id": "RHaKJyT29SBx"
      },
      "outputs": [],
      "source": [
        "%%capture\n",
        "!pip install \"flair\" -q"
      ]
    },
    {
      "cell_type": "code",
      "execution_count": 3,
      "metadata": {
        "colab": {
          "base_uri": "https://localhost:8080/"
        },
        "id": "H7k5xilpsMSh",
        "outputId": "a8c83c02-b806-4cd2-b536-eec54d7b40e4"
      },
      "outputs": [
        {
          "name": "stdout",
          "output_type": "stream",
          "text": [
            "Drive already mounted at /content/drive; to attempt to forcibly remount, call drive.mount(\"/content/drive\", force_remount=True).\n"
          ]
        }
      ],
      "source": [
        "from google.colab import drive\n",
        "drive.mount('/content/drive')\n",
        "\n",
        "from flair.data import Sentence\n",
        "from flair.models import RelationExtractor, SequenceTagger"
      ]
    },
    {
      "cell_type": "markdown",
      "metadata": {
        "id": "scEloR7tA_i_"
      },
      "source": [
        "### Import Data"
      ]
    },
    {
      "cell_type": "code",
      "execution_count": 4,
      "metadata": {
        "id": "qBDCigAEcMgZ"
      },
      "outputs": [],
      "source": [
        "MODEL_PATH = \"/content/drive/Shareddrives/CIS522-Project/models\""
      ]
    },
    {
      "cell_type": "markdown",
      "metadata": {
        "id": "xg7AJnIaA_jB"
      },
      "source": [
        "### Loading Models"
      ]
    },
    {
      "cell_type": "code",
      "execution_count": 5,
      "metadata": {
        "colab": {
          "base_uri": "https://localhost:8080/"
        },
        "id": "TQOawXo4kZif",
        "outputId": "90be2a48-6ba4-484c-c099-0b48f242c8d8"
      },
      "outputs": [
        {
          "name": "stdout",
          "output_type": "stream",
          "text": [
            "2023-04-26 19:31:16,204 SequenceTagger predicts: Dictionary with 39 tags: O, S-Drug, B-Drug, E-Drug, I-Drug, S-Strength, B-Strength, E-Strength, I-Strength, S-Form, B-Form, E-Form, I-Form, S-Frequency, B-Frequency, E-Frequency, I-Frequency, S-Route, B-Route, E-Route, I-Route, S-Dosage, B-Dosage, E-Dosage, I-Dosage, S-Reason, B-Reason, E-Reason, I-Reason, S-Duration, B-Duration, E-Duration, I-Duration, S-ADE, B-ADE, E-ADE, I-ADE, <START>, <STOP>\n"
          ]
        }
      ],
      "source": [
        "rel_extractor = RelationExtractor.load(\n",
        "    f\"{MODEL_PATH}/extractors/flair-embedding-rel/best-model.pt\"\n",
        ")\n",
        "\n",
        "tagger = SequenceTagger.load(\n",
        "    f\"{MODEL_PATH}/taggers/lstm-crf-augmented/best-model.pt\"\n",
        ")"
      ]
    },
    {
      "cell_type": "markdown",
      "metadata": {
        "id": "RTdzY51XA_jC"
      },
      "source": [
        "### Predictions"
      ]
    },
    {
      "cell_type": "code",
      "execution_count": 6,
      "metadata": {
        "colab": {
          "base_uri": "https://localhost:8080/"
        },
        "id": "cKEo7wqaNbZd",
        "outputId": "a4dffe3f-5534-4fd0-8737-4a6e52c099aa"
      },
      "outputs": [
        {
          "name": "stdout",
          "output_type": "stream",
          "text": [
            "Sentence[15]: \"Patients on 40 mg of Topelfate and Topoxy twice a day generally suffer from headache\" → [\"40 mg\"/Strength, \"Topelfate\"/Drug, \"headache -> Topelfate\"/ADE-Drug, \"Topoxy\"/Drug, \"headache -> Topoxy\"/ADE-Drug, \"twice a day\"/Frequency, \"headache\"/ADE]\n"
          ]
        }
      ],
      "source": [
        "# create example sentence\n",
        "sentence = Sentence(\"Patients on 40 mg of Topelfate and Topoxy twice a day generally suffer from headache\")\n",
        "\n",
        "# predict tags and print\n",
        "tagger.predict(sentence)\n",
        "rel_extractor.predict(sentence)\n",
        "\n",
        "print(sentence.to_tagged_string())"
      ]
    },
    {
      "cell_type": "code",
      "execution_count": null,
      "metadata": {
        "id": "SK2sofWTwtg3"
      },
      "outputs": [],
      "source": []
    }
  ],
  "metadata": {
    "accelerator": "GPU",
    "colab": {
      "provenance": []
    },
    "gpuClass": "standard",
    "kernelspec": {
      "display_name": "Python 3",
      "name": "python3"
    },
    "language_info": {
      "name": "python"
    }
  },
  "nbformat": 4,
  "nbformat_minor": 0
}
