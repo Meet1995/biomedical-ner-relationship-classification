{
  "cells": [
    {
      "cell_type": "code",
      "execution_count": 2,
      "metadata": {
        "id": "p7s9-ovEguP8"
      },
      "outputs": [],
      "source": [
        "%%capture\n",
        "!pip install \"flair\" -q\n",
        "# !pip install \"scispacy\" -q\n",
        "# !pip install https://s3-us-west-2.amazonaws.com/ai2-s2-scispacy/releases/v0.5.1/en_core_sci_sm-0.5.1.tar.gz -q"
      ],
      "id": "p7s9-ovEguP8"
    },
    {
      "cell_type": "code",
      "execution_count": null,
      "metadata": {
        "id": "cbce5941"
      },
      "outputs": [],
      "source": [
        "import pandas as pd\n",
        "from flair.data import Corpus\n",
        "from flair.datasets import ColumnCorpus\n",
        "from flair.embeddings import WordEmbeddings, StackedEmbeddings, TokenEmbeddings\n",
        "from typing import List\n",
        "# https://sagorbrur.github.io/2022/05/relation-extraction-using-flair/"
      ],
      "id": "cbce5941"
    },
    {
      "cell_type": "code",
      "execution_count": null,
      "metadata": {
        "id": "c98e6d24"
      },
      "outputs": [],
      "source": [
        "file_path = \"/content/\"\n",
        "filename = \"flair_train.txt\""
      ],
      "id": "c98e6d24"
    },
    {
      "cell_type": "code",
      "execution_count": null,
      "metadata": {
        "id": "818f3be8"
      },
      "outputs": [],
      "source": [
        "columns = {0:\"text\", 1:\"ner\"}"
      ],
      "id": "818f3be8"
    },
    {
      "cell_type": "code",
      "execution_count": null,
      "metadata": {
        "colab": {
          "base_uri": "https://localhost:8080/"
        },
        "id": "80f5f07c",
        "outputId": "91eae59e-24a2-48ba-b8ec-891c6e257dc9",
        "scrolled": true
      },
      "outputs": [
        {
          "name": "stdout",
          "output_type": "stream",
          "text": [
            "2023-04-04 00:00:41,913 Reading data from /content\n",
            "2023-04-04 00:00:41,915 Train: /content/flair_train.txt\n",
            "2023-04-04 00:00:41,916 Dev: None\n",
            "2023-04-04 00:00:41,917 Test: None\n"
          ]
        }
      ],
      "source": [
        "corpus: Corpus = ColumnCorpus(file_path, columns,\n",
        "                              train_file=filename)"
      ],
      "id": "80f5f07c"
    },
    {
      "cell_type": "code",
      "execution_count": null,
      "metadata": {
        "colab": {
          "base_uri": "https://localhost:8080/"
        },
        "id": "bac17ac1",
        "outputId": "97bad1ff-8b0b-4dff-858a-73f635efa3e6"
      },
      "outputs": [
        {
          "name": "stdout",
          "output_type": "stream",
          "text": [
            "32818\n"
          ]
        }
      ],
      "source": [
        "print(len(corpus.train))"
      ],
      "id": "bac17ac1"
    },
    {
      "cell_type": "code",
      "execution_count": null,
      "metadata": {
        "id": "769bc48d"
      },
      "outputs": [],
      "source": [
        "# print(corpus.train[0].to_tagged_string(\"ner\"))"
      ],
      "id": "769bc48d"
    },
    {
      "cell_type": "code",
      "execution_count": null,
      "metadata": {
        "colab": {
          "base_uri": "https://localhost:8080/"
        },
        "id": "2c0514cf",
        "outputId": "3c08288f-46a3-44f5-828e-fee6b8500eea"
      },
      "outputs": [
        {
          "name": "stderr",
          "output_type": "stream",
          "text": [
            "<ipython-input-31-07532d47af76>:2: DeprecationWarning: Call to deprecated method make_tag_dictionary. (Use 'make_label_dictionary' instead.) -- Deprecated since version 0.8.\n",
            "  tag_dictionary = corpus.make_tag_dictionary(tag_type=tag_type)\n"
          ]
        }
      ],
      "source": [
        "tag_type = \"ner\"\n",
        "tag_dictionary = corpus.make_tag_dictionary(tag_type=tag_type)"
      ],
      "id": "2c0514cf"
    },
    {
      "cell_type": "code",
      "execution_count": null,
      "metadata": {
        "id": "98bc31b6"
      },
      "outputs": [],
      "source": [
        "embedding_types : List[TokenEmbeddings] = [\n",
        "        WordEmbeddings('glove'),\n",
        "        ## other embeddings\n",
        "        ]\n",
        "embeddings : StackedEmbeddings = StackedEmbeddings(\n",
        "                                 embeddings=embedding_types)"
      ],
      "id": "98bc31b6"
    },
    {
      "cell_type": "code",
      "execution_count": null,
      "metadata": {
        "colab": {
          "base_uri": "https://localhost:8080/"
        },
        "id": "w-bRtUSUicYq",
        "outputId": "439e3d02-277a-4618-bc54-6d0c238de807"
      },
      "outputs": [
        {
          "name": "stdout",
          "output_type": "stream",
          "text": [
            "2023-04-04 00:01:26,070 SequenceTagger predicts: Dictionary with 3 tags: O, <START>, <STOP>\n",
            "SequenceTagger(\n",
            "  (embeddings): StackedEmbeddings(\n",
            "    (list_embedding_0): WordEmbeddings(\n",
            "      'glove'\n",
            "      (embedding): Embedding(400001, 100)\n",
            "    )\n",
            "  )\n",
            "  (word_dropout): WordDropout(p=0.05)\n",
            "  (locked_dropout): LockedDropout(p=0.5)\n",
            "  (embedding2nn): Linear(in_features=100, out_features=100, bias=True)\n",
            "  (rnn): LSTM(100, 256, batch_first=True, bidirectional=True)\n",
            "  (linear): Linear(in_features=512, out_features=3, bias=True)\n",
            "  (loss_function): ViterbiLoss()\n",
            "  (crf): CRF()\n",
            ")\n"
          ]
        }
      ],
      "source": [
        "from flair.models import SequenceTagger\n",
        "tagger : SequenceTagger = SequenceTagger(hidden_size=256,\n",
        "                                       embeddings=embeddings,\n",
        "                                       tag_dictionary=tag_dictionary,\n",
        "                                       tag_type=tag_type,\n",
        "                                       use_crf=True)\n",
        "print(tagger)"
      ],
      "id": "w-bRtUSUicYq"
    },
    {
      "cell_type": "code",
      "execution_count": null,
      "metadata": {
        "colab": {
          "background_save": true,
          "base_uri": "https://localhost:8080/"
        },
        "id": "VBEZPv9EivWL",
        "outputId": "62f12913-426f-4c10-b97a-b17682a7d77f"
      },
      "outputs": [
        {
          "name": "stdout",
          "output_type": "stream",
          "text": [
            "2023-04-04 00:11:52,817 ----------------------------------------------------------------------------------------------------\n",
            "2023-04-04 00:11:52,819 Model: \"SequenceTagger(\n",
            "  (embeddings): StackedEmbeddings(\n",
            "    (list_embedding_0): WordEmbeddings(\n",
            "      'glove'\n",
            "      (embedding): Embedding(400001, 100)\n",
            "    )\n",
            "  )\n",
            "  (word_dropout): WordDropout(p=0.05)\n",
            "  (locked_dropout): LockedDropout(p=0.5)\n",
            "  (embedding2nn): Linear(in_features=100, out_features=100, bias=True)\n",
            "  (rnn): LSTM(100, 256, batch_first=True, bidirectional=True)\n",
            "  (linear): Linear(in_features=512, out_features=3, bias=True)\n",
            "  (loss_function): ViterbiLoss()\n",
            "  (crf): CRF()\n",
            ")\"\n",
            "2023-04-04 00:11:52,824 ----------------------------------------------------------------------------------------------------\n",
            "2023-04-04 00:11:52,827 Corpus: \"Corpus: 36464 train + 4052 dev + 26050 test sentences\"\n",
            "2023-04-04 00:11:52,829 ----------------------------------------------------------------------------------------------------\n",
            "2023-04-04 00:11:52,830 Parameters:\n",
            "2023-04-04 00:11:52,831  - learning_rate: \"0.100000\"\n",
            "2023-04-04 00:11:52,832  - mini_batch_size: \"32\"\n",
            "2023-04-04 00:11:52,833  - patience: \"3\"\n",
            "2023-04-04 00:11:52,834  - anneal_factor: \"0.5\"\n",
            "2023-04-04 00:11:52,835  - max_epochs: \"150\"\n",
            "2023-04-04 00:11:52,836  - shuffle: \"True\"\n",
            "2023-04-04 00:11:52,837  - train_with_dev: \"False\"\n",
            "2023-04-04 00:11:52,838  - batch_growth_annealing: \"False\"\n",
            "2023-04-04 00:11:52,839 ----------------------------------------------------------------------------------------------------\n",
            "2023-04-04 00:11:52,839 Model training base path: \"resources/taggers/example-ner\"\n",
            "2023-04-04 00:11:52,842 ----------------------------------------------------------------------------------------------------\n",
            "2023-04-04 00:11:52,843 Device: cuda:0\n",
            "2023-04-04 00:11:52,844 ----------------------------------------------------------------------------------------------------\n",
            "2023-04-04 00:11:52,845 Embeddings storage mode: cpu\n",
            "2023-04-04 00:11:52,846 ----------------------------------------------------------------------------------------------------\n",
            "2023-04-04 00:12:07,416 epoch 1 - iter 114/1140 - loss -0.00000000 - time (sec): 14.57 - samples/sec: 9255.95 - lr: 0.100000\n",
            "2023-04-04 00:12:20,283 epoch 1 - iter 228/1140 - loss -0.00000000 - time (sec): 27.44 - samples/sec: 9708.10 - lr: 0.100000\n",
            "2023-04-04 00:12:33,092 epoch 1 - iter 342/1140 - loss 0.00000000 - time (sec): 40.25 - samples/sec: 9846.10 - lr: 0.100000\n",
            "2023-04-04 00:12:46,788 epoch 1 - iter 456/1140 - loss 0.00000000 - time (sec): 53.94 - samples/sec: 9828.08 - lr: 0.100000\n",
            "2023-04-04 00:13:00,453 epoch 1 - iter 570/1140 - loss 0.00000000 - time (sec): 67.61 - samples/sec: 9839.29 - lr: 0.100000\n",
            "2023-04-04 00:13:14,212 ----------------------------------------------------------------------------------------------------\n",
            "2023-04-04 00:13:14,218 Exiting from training early.\n",
            "2023-04-04 00:13:14,222 Saving model ...\n",
            "2023-04-04 00:13:15,174 Done.\n",
            "2023-04-04 00:13:15,230 ----------------------------------------------------------------------------------------------------\n",
            "2023-04-04 00:13:15,234 Testing using last state of model ...\n"
          ]
        },
        {
          "name": "stderr",
          "output_type": "stream",
          "text": [
            "100%|██████████| 815/815 [01:26<00:00,  9.41it/s]\n"
          ]
        },
        {
          "name": "stdout",
          "output_type": "stream",
          "text": [
            "2023-04-04 00:14:42,252 Evaluating as a multi-label problem: False\n",
            "2023-04-04 00:14:43,552 0.0\t0.0\t0.0\t0.0\n",
            "2023-04-04 00:14:43,555 \n",
            "Results:\n",
            "- F-score (micro) 0.0\n",
            "- F-score (macro) 0.0\n",
            "- Accuracy 0.0\n",
            "\n",
            "By class:\n",
            "              precision    recall  f1-score   support\n",
            "\n",
            "        Drug     0.0000    0.0000    0.0000   62717.0\n",
            "    Strength     0.0000    0.0000    0.0000   43252.0\n",
            "        Form     0.0000    0.0000    0.0000   41665.0\n",
            "   Frequency     0.0000    0.0000    0.0000   36700.0\n",
            "       Route     0.0000    0.0000    0.0000   30950.0\n",
            "      Dosage     0.0000    0.0000    0.0000   23694.0\n",
            "      Reason     0.0000    0.0000    0.0000   10250.0\n",
            "    Duration     0.0000    0.0000    0.0000    2052.0\n",
            "         ADE     0.0000    0.0000    0.0000    1463.0\n",
            "\n",
            "   micro avg     0.0000    0.0000    0.0000  252743.0\n",
            "   macro avg     0.0000    0.0000    0.0000  252743.0\n",
            "weighted avg     0.0000    0.0000    0.0000  252743.0\n",
            "\n",
            "2023-04-04 00:14:43,557 ----------------------------------------------------------------------------------------------------\n"
          ]
        },
        {
          "data": {
            "text/plain": [
              "{'test_score': 0.0,\n",
              " 'dev_score_history': [],\n",
              " 'train_loss_history': [],\n",
              " 'dev_loss_history': []}"
            ]
          },
          "execution_count": 21,
          "metadata": {},
          "output_type": "execute_result"
        }
      ],
      "source": [
        "from flair.trainers import ModelTrainer\n",
        "trainer : ModelTrainer = ModelTrainer(tagger, corpus)\n",
        "trainer.train('resources/taggers/example-ner',\n",
        "              learning_rate=0.1,\n",
        "              mini_batch_size=32,\n",
        "              max_epochs=150)"
      ],
      "id": "VBEZPv9EivWL"
    },
    {
      "cell_type": "code",
      "execution_count": null,
      "metadata": {
        "id": "kJOarZyvjJiO"
      },
      "outputs": [],
      "source": [
        "from flair.data import Sentence\n",
        "from flair.models import SequenceTagger\n",
        "# load the trained model\n",
        "final_model = \"/content/resources/taggers/example-ner/final-model.pt\"\n",
        "model = SequenceTagger.load(final_model)\n",
        "# create example sentence\n",
        "sentence = Sentence('I have aspirin in my butt')\n",
        "# predict the tags\n",
        "model.predict(sentence)\n",
        "print(sentence.to_tagged_string())"
      ],
      "id": "kJOarZyvjJiO"
    },
    {
      "cell_type": "code",
      "execution_count": 4,
      "metadata": {
        "id": "3ZIfF7NejR-8",
        "colab": {
          "base_uri": "https://localhost:8080/"
        },
        "outputId": "39452930-009a-454e-b843-a2822763d389"
      },
      "outputs": [
        {
          "output_type": "stream",
          "name": "stdout",
          "text": [
            "2023-04-04 00:58:52,929 Reading data from /content/data/re_english_conll04\n",
            "2023-04-04 00:58:52,932 Train: /content/data/re_english_conll04/conll04-train.conllu\n",
            "2023-04-04 00:58:52,935 Dev: /content/data/re_english_conll04/conll04-dev.conllu\n",
            "2023-04-04 00:58:52,937 Test: /content/data/re_english_conll04/conll04-test.conllu\n",
            "2023-04-04 00:58:52,940 Warning: An empty Sentence was created! Are there empty strings in your dataset?\n",
            "2023-04-04 00:58:52,944 Warning: An empty Sentence was created! Are there empty strings in your dataset?\n",
            "2023-04-04 00:58:52,949 Warning: An empty Sentence was created! Are there empty strings in your dataset?\n",
            "Corpus: 2 train + 2 dev + 2 test sentences\n",
            "2023-04-04 00:58:52,952 Computing label dictionary. Progress:\n"
          ]
        },
        {
          "output_type": "stream",
          "name": "stderr",
          "text": [
            "2it [00:00, 1082.40it/s]"
          ]
        },
        {
          "output_type": "stream",
          "name": "stdout",
          "text": [
            "2023-04-04 00:58:52,964 Dictionary created for label 'relation' with 2 values: HOBBY (seen 2 times)\n",
            "Dictionary with 2 tags: <unk>, HOBBY\n"
          ]
        },
        {
          "output_type": "stream",
          "name": "stderr",
          "text": [
            "\n"
          ]
        },
        {
          "output_type": "stream",
          "name": "stdout",
          "text": [
            "2023-04-04 00:58:59,854 ----------------------------------------------------------------------------------------------------\n",
            "2023-04-04 00:58:59,857 Model: \"RelationExtractor(\n",
            "  (embeddings): StackedEmbeddings(\n",
            "    (list_embedding_0): WordEmbeddings(\n",
            "      'glove'\n",
            "      (embedding): Embedding(400001, 100)\n",
            "    )\n",
            "    (list_embedding_1): FlairEmbeddings(\n",
            "      (lm): LanguageModel(\n",
            "        (drop): Dropout(p=0.05, inplace=False)\n",
            "        (encoder): Embedding(300, 100)\n",
            "        (rnn): LSTM(100, 2048)\n",
            "      )\n",
            "    )\n",
            "    (list_embedding_2): FlairEmbeddings(\n",
            "      (lm): LanguageModel(\n",
            "        (drop): Dropout(p=0.05, inplace=False)\n",
            "        (encoder): Embedding(300, 100)\n",
            "        (rnn): LSTM(100, 2048)\n",
            "      )\n",
            "    )\n",
            "  )\n",
            "  (decoder): Linear(in_features=16784, out_features=2, bias=True)\n",
            "  (dropout): Dropout(p=0.0, inplace=False)\n",
            "  (locked_dropout): LockedDropout(p=0.0)\n",
            "  (word_dropout): WordDropout(p=0.0)\n",
            "  (loss_function): CrossEntropyLoss()\n",
            "  (weights): None\n",
            "  (weight_tensor) None\n",
            ")\"\n",
            "2023-04-04 00:58:59,860 ----------------------------------------------------------------------------------------------------\n",
            "2023-04-04 00:58:59,862 Corpus: \"Corpus: 2 train + 2 dev + 2 test sentences\"\n",
            "2023-04-04 00:58:59,864 ----------------------------------------------------------------------------------------------------\n",
            "2023-04-04 00:58:59,866 Parameters:\n",
            "2023-04-04 00:58:59,868  - learning_rate: \"0.100000\"\n",
            "2023-04-04 00:58:59,868  - mini_batch_size: \"32\"\n",
            "2023-04-04 00:58:59,870  - patience: \"3\"\n",
            "2023-04-04 00:58:59,871  - anneal_factor: \"0.5\"\n",
            "2023-04-04 00:58:59,872  - max_epochs: \"150\"\n",
            "2023-04-04 00:58:59,873  - shuffle: \"True\"\n",
            "2023-04-04 00:58:59,874  - train_with_dev: \"False\"\n",
            "2023-04-04 00:58:59,875  - batch_growth_annealing: \"False\"\n",
            "2023-04-04 00:58:59,876 ----------------------------------------------------------------------------------------------------\n",
            "2023-04-04 00:58:59,877 Model training base path: \"log_path\"\n",
            "2023-04-04 00:58:59,878 ----------------------------------------------------------------------------------------------------\n",
            "2023-04-04 00:58:59,892 Device: cpu\n",
            "2023-04-04 00:58:59,893 ----------------------------------------------------------------------------------------------------\n",
            "2023-04-04 00:58:59,908 Embeddings storage mode: cpu\n",
            "2023-04-04 00:58:59,917 ----------------------------------------------------------------------------------------------------\n"
          ]
        },
        {
          "output_type": "stream",
          "name": "stderr",
          "text": [
            "/usr/local/lib/python3.9/dist-packages/flair/trainers/trainer.py:69: UserWarning: There should be no best model saved at epoch 1 except there is a model from previous trainings in your training folder. All previous best models will be deleted.\n",
            "  warnings.warn(\n"
          ]
        },
        {
          "output_type": "stream",
          "name": "stdout",
          "text": [
            "2023-04-04 00:59:00,998 epoch 1 - iter 1/1 - loss 0.78562152 - time (sec): 1.08 - samples/sec: 3.72 - lr: 0.100000\n",
            "2023-04-04 00:59:01,001 ----------------------------------------------------------------------------------------------------\n",
            "2023-04-04 00:59:01,005 EPOCH 1 done: loss 0.7856 - lr 0.100000\n"
          ]
        },
        {
          "output_type": "stream",
          "name": "stderr",
          "text": [
            "100%|██████████| 1/1 [00:01<00:00,  1.15s/it]"
          ]
        },
        {
          "output_type": "stream",
          "name": "stdout",
          "text": [
            "2023-04-04 00:59:02,172 Evaluating as a multi-label problem: False\n",
            "2023-04-04 00:59:02,195 DEV : loss 0.005888152867555618 - f1-score (micro avg)  0.6667\n",
            "2023-04-04 00:59:02,203 BAD EPOCHS (no improvement): 0\n",
            "2023-04-04 00:59:02,206 saving best model\n"
          ]
        },
        {
          "output_type": "stream",
          "name": "stderr",
          "text": [
            "\n"
          ]
        },
        {
          "output_type": "stream",
          "name": "stdout",
          "text": [
            "2023-04-04 00:59:04,507 ----------------------------------------------------------------------------------------------------\n",
            "2023-04-04 00:59:04,514 epoch 2 - iter 1/1 - loss 0.00588815 - time (sec): 0.00 - samples/sec: 903.85 - lr: 0.100000\n",
            "2023-04-04 00:59:04,517 ----------------------------------------------------------------------------------------------------\n",
            "2023-04-04 00:59:04,519 EPOCH 2 done: loss 0.0059 - lr 0.100000\n"
          ]
        },
        {
          "output_type": "stream",
          "name": "stderr",
          "text": [
            "100%|██████████| 1/1 [00:00<00:00, 170.74it/s]"
          ]
        },
        {
          "output_type": "stream",
          "name": "stdout",
          "text": [
            "2023-04-04 00:59:04,534 Evaluating as a multi-label problem: False\n",
            "2023-04-04 00:59:04,560 DEV : loss 0.004446858074516058 - f1-score (micro avg)  0.6667\n",
            "2023-04-04 00:59:04,563 BAD EPOCHS (no improvement): 0\n",
            "2023-04-04 00:59:04,568 ----------------------------------------------------------------------------------------------------\n",
            "2023-04-04 00:59:04,580 epoch 3 - iter 1/1 - loss 0.00444686 - time (sec): 0.01 - samples/sec: 599.42 - lr: 0.100000\n",
            "2023-04-04 00:59:04,583 ----------------------------------------------------------------------------------------------------\n",
            "2023-04-04 00:59:04,589 EPOCH 3 done: loss 0.0044 - lr 0.100000\n"
          ]
        },
        {
          "output_type": "stream",
          "name": "stderr",
          "text": [
            "\n",
            "100%|██████████| 1/1 [00:00<00:00, 279.49it/s]"
          ]
        },
        {
          "output_type": "stream",
          "name": "stdout",
          "text": [
            "2023-04-04 00:59:04,606 Evaluating as a multi-label problem: False\n",
            "2023-04-04 00:59:04,644 DEV : loss 0.0036072288639843464 - f1-score (micro avg)  0.6667\n",
            "2023-04-04 00:59:04,648 BAD EPOCHS (no improvement): 0\n",
            "2023-04-04 00:59:04,652 ----------------------------------------------------------------------------------------------------\n",
            "2023-04-04 00:59:04,661 epoch 4 - iter 1/1 - loss 0.00360723 - time (sec): 0.00 - samples/sec: 858.21 - lr: 0.100000\n",
            "2023-04-04 00:59:04,666 ----------------------------------------------------------------------------------------------------\n",
            "2023-04-04 00:59:04,668 EPOCH 4 done: loss 0.0036 - lr 0.100000\n"
          ]
        },
        {
          "output_type": "stream",
          "name": "stderr",
          "text": [
            "\n",
            "100%|██████████| 1/1 [00:00<00:00, 241.43it/s]"
          ]
        },
        {
          "output_type": "stream",
          "name": "stdout",
          "text": [
            "2023-04-04 00:59:04,687 Evaluating as a multi-label problem: False\n",
            "2023-04-04 00:59:04,716 DEV : loss 0.003047444624826312 - f1-score (micro avg)  0.6667\n",
            "2023-04-04 00:59:04,721 BAD EPOCHS (no improvement): 0\n"
          ]
        },
        {
          "output_type": "stream",
          "name": "stderr",
          "text": [
            "\n"
          ]
        },
        {
          "output_type": "stream",
          "name": "stdout",
          "text": [
            "2023-04-04 00:59:04,725 ----------------------------------------------------------------------------------------------------\n",
            "2023-04-04 00:59:04,733 epoch 5 - iter 1/1 - loss 0.00304744 - time (sec): 0.00 - samples/sec: 814.47 - lr: 0.100000\n",
            "2023-04-04 00:59:04,738 ----------------------------------------------------------------------------------------------------\n",
            "2023-04-04 00:59:04,741 EPOCH 5 done: loss 0.0030 - lr 0.100000\n"
          ]
        },
        {
          "output_type": "stream",
          "name": "stderr",
          "text": [
            "100%|██████████| 1/1 [00:00<00:00, 320.59it/s]"
          ]
        },
        {
          "output_type": "stream",
          "name": "stdout",
          "text": [
            "2023-04-04 00:59:04,759 Evaluating as a multi-label problem: False\n",
            "2023-04-04 00:59:04,786 DEV : loss 0.0026442722883075476 - f1-score (micro avg)  0.6667\n",
            "2023-04-04 00:59:04,791 BAD EPOCHS (no improvement): 0\n",
            "2023-04-04 00:59:04,793 ----------------------------------------------------------------------------------------------------\n"
          ]
        },
        {
          "output_type": "stream",
          "name": "stderr",
          "text": [
            "\n"
          ]
        },
        {
          "output_type": "stream",
          "name": "stdout",
          "text": [
            "2023-04-04 00:59:04,803 epoch 6 - iter 1/1 - loss 0.00264427 - time (sec): 0.01 - samples/sec: 741.73 - lr: 0.100000\n",
            "2023-04-04 00:59:04,814 ----------------------------------------------------------------------------------------------------\n",
            "2023-04-04 00:59:04,817 EPOCH 6 done: loss 0.0026 - lr 0.100000\n"
          ]
        },
        {
          "output_type": "stream",
          "name": "stderr",
          "text": [
            "100%|██████████| 1/1 [00:00<00:00, 211.49it/s]"
          ]
        },
        {
          "output_type": "stream",
          "name": "stdout",
          "text": [
            "2023-04-04 00:59:04,834 Evaluating as a multi-label problem: False\n",
            "2023-04-04 00:59:04,869 DEV : loss 0.0023387058172374964 - f1-score (micro avg)  0.6667\n",
            "2023-04-04 00:59:04,875 BAD EPOCHS (no improvement): 0\n"
          ]
        },
        {
          "output_type": "stream",
          "name": "stderr",
          "text": [
            "\n"
          ]
        },
        {
          "output_type": "stream",
          "name": "stdout",
          "text": [
            "2023-04-04 00:59:04,878 ----------------------------------------------------------------------------------------------------\n",
            "2023-04-04 00:59:04,889 epoch 7 - iter 1/1 - loss 0.00233871 - time (sec): 0.01 - samples/sec: 595.95 - lr: 0.100000\n",
            "2023-04-04 00:59:04,892 ----------------------------------------------------------------------------------------------------\n",
            "2023-04-04 00:59:04,895 EPOCH 7 done: loss 0.0023 - lr 0.100000\n"
          ]
        },
        {
          "output_type": "stream",
          "name": "stderr",
          "text": [
            "100%|██████████| 1/1 [00:00<00:00, 235.75it/s]"
          ]
        },
        {
          "output_type": "stream",
          "name": "stdout",
          "text": [
            "2023-04-04 00:59:04,909 Evaluating as a multi-label problem: False\n",
            "2023-04-04 00:59:04,934 DEV : loss 0.002098431810736656 - f1-score (micro avg)  0.6667\n",
            "2023-04-04 00:59:04,937 BAD EPOCHS (no improvement): 0\n",
            "2023-04-04 00:59:04,941 ----------------------------------------------------------------------------------------------------\n"
          ]
        },
        {
          "output_type": "stream",
          "name": "stderr",
          "text": [
            "\n"
          ]
        },
        {
          "output_type": "stream",
          "name": "stdout",
          "text": [
            "2023-04-04 00:59:04,948 epoch 8 - iter 1/1 - loss 0.00209843 - time (sec): 0.01 - samples/sec: 716.88 - lr: 0.100000\n",
            "2023-04-04 00:59:04,952 ----------------------------------------------------------------------------------------------------\n",
            "2023-04-04 00:59:04,954 EPOCH 8 done: loss 0.0021 - lr 0.100000\n"
          ]
        },
        {
          "output_type": "stream",
          "name": "stderr",
          "text": [
            "100%|██████████| 1/1 [00:00<00:00, 216.16it/s]"
          ]
        },
        {
          "output_type": "stream",
          "name": "stdout",
          "text": [
            "2023-04-04 00:59:04,975 Evaluating as a multi-label problem: False\n",
            "2023-04-04 00:59:05,009 DEV : loss 0.0019041986670345068 - f1-score (micro avg)  0.6667\n",
            "2023-04-04 00:59:05,013 BAD EPOCHS (no improvement): 0\n",
            "2023-04-04 00:59:05,016 ----------------------------------------------------------------------------------------------------\n",
            "2023-04-04 00:59:05,023 epoch 9 - iter 1/1 - loss 0.00190420 - time (sec): 0.01 - samples/sec: 710.60 - lr: 0.100000\n"
          ]
        },
        {
          "output_type": "stream",
          "name": "stderr",
          "text": [
            "\n"
          ]
        },
        {
          "output_type": "stream",
          "name": "stdout",
          "text": [
            "2023-04-04 00:59:05,026 ----------------------------------------------------------------------------------------------------\n",
            "2023-04-04 00:59:05,028 EPOCH 9 done: loss 0.0019 - lr 0.100000\n"
          ]
        },
        {
          "output_type": "stream",
          "name": "stderr",
          "text": [
            "100%|██████████| 1/1 [00:00<00:00, 324.08it/s]"
          ]
        },
        {
          "output_type": "stream",
          "name": "stdout",
          "text": [
            "2023-04-04 00:59:05,045 Evaluating as a multi-label problem: False\n",
            "2023-04-04 00:59:05,072 DEV : loss 0.0017436898779124022 - f1-score (micro avg)  0.6667\n",
            "2023-04-04 00:59:05,077 BAD EPOCHS (no improvement): 0\n",
            "2023-04-04 00:59:05,080 ----------------------------------------------------------------------------------------------------\n",
            "2023-04-04 00:59:05,087 epoch 10 - iter 1/1 - loss 0.00174369 - time (sec): 0.00 - samples/sec: 836.48 - lr: 0.100000\n",
            "2023-04-04 00:59:05,096 ----------------------------------------------------------------------------------------------------\n"
          ]
        },
        {
          "output_type": "stream",
          "name": "stderr",
          "text": [
            "\n"
          ]
        },
        {
          "output_type": "stream",
          "name": "stdout",
          "text": [
            "2023-04-04 00:59:05,101 EPOCH 10 done: loss 0.0017 - lr 0.100000\n"
          ]
        },
        {
          "output_type": "stream",
          "name": "stderr",
          "text": [
            "100%|██████████| 1/1 [00:00<00:00, 309.04it/s]"
          ]
        },
        {
          "output_type": "stream",
          "name": "stdout",
          "text": [
            "2023-04-04 00:59:05,114 Evaluating as a multi-label problem: False\n",
            "2023-04-04 00:59:05,140 DEV : loss 0.0016087711555883288 - f1-score (micro avg)  0.6667\n",
            "2023-04-04 00:59:05,145 BAD EPOCHS (no improvement): 0\n",
            "2023-04-04 00:59:05,148 ----------------------------------------------------------------------------------------------------\n",
            "2023-04-04 00:59:05,154 epoch 11 - iter 1/1 - loss 0.00160877 - time (sec): 0.00 - samples/sec: 932.69 - lr: 0.100000\n",
            "2023-04-04 00:59:05,157 ----------------------------------------------------------------------------------------------------\n",
            "2023-04-04 00:59:05,160 EPOCH 11 done: loss 0.0016 - lr 0.100000\n"
          ]
        },
        {
          "output_type": "stream",
          "name": "stderr",
          "text": [
            "\n",
            "100%|██████████| 1/1 [00:00<00:00, 266.98it/s]"
          ]
        },
        {
          "output_type": "stream",
          "name": "stdout",
          "text": [
            "2023-04-04 00:59:05,173 Evaluating as a multi-label problem: False\n"
          ]
        },
        {
          "output_type": "stream",
          "name": "stderr",
          "text": [
            "\n"
          ]
        },
        {
          "output_type": "stream",
          "name": "stdout",
          "text": [
            "2023-04-04 00:59:05,210 DEV : loss 0.0014935912331566215 - f1-score (micro avg)  0.6667\n",
            "2023-04-04 00:59:05,213 BAD EPOCHS (no improvement): 0\n",
            "2023-04-04 00:59:05,219 ----------------------------------------------------------------------------------------------------\n",
            "2023-04-04 00:59:05,230 epoch 12 - iter 1/1 - loss 0.00149359 - time (sec): 0.01 - samples/sec: 473.57 - lr: 0.100000\n",
            "2023-04-04 00:59:05,232 ----------------------------------------------------------------------------------------------------\n",
            "2023-04-04 00:59:05,235 EPOCH 12 done: loss 0.0015 - lr 0.100000\n"
          ]
        },
        {
          "output_type": "stream",
          "name": "stderr",
          "text": [
            "100%|██████████| 1/1 [00:00<00:00, 342.67it/s]"
          ]
        },
        {
          "output_type": "stream",
          "name": "stdout",
          "text": [
            "2023-04-04 00:59:05,249 Evaluating as a multi-label problem: False\n",
            "2023-04-04 00:59:05,288 DEV : loss 0.0013941106153652072 - f1-score (micro avg)  0.6667\n",
            "2023-04-04 00:59:05,292 BAD EPOCHS (no improvement): 0\n",
            "2023-04-04 00:59:05,295 ----------------------------------------------------------------------------------------------------\n",
            "2023-04-04 00:59:05,304 epoch 13 - iter 1/1 - loss 0.00139411 - time (sec): 0.01 - samples/sec: 641.26 - lr: 0.100000\n"
          ]
        },
        {
          "output_type": "stream",
          "name": "stderr",
          "text": [
            "\n"
          ]
        },
        {
          "output_type": "stream",
          "name": "stdout",
          "text": [
            "2023-04-04 00:59:05,307 ----------------------------------------------------------------------------------------------------\n",
            "2023-04-04 00:59:05,309 EPOCH 13 done: loss 0.0014 - lr 0.100000\n"
          ]
        },
        {
          "output_type": "stream",
          "name": "stderr",
          "text": [
            "100%|██████████| 1/1 [00:00<00:00, 280.84it/s]"
          ]
        },
        {
          "output_type": "stream",
          "name": "stdout",
          "text": [
            "2023-04-04 00:59:05,321 Evaluating as a multi-label problem: False\n",
            "2023-04-04 00:59:05,347 DEV : loss 0.0013072686269879341 - f1-score (micro avg)  0.6667\n",
            "2023-04-04 00:59:05,351 BAD EPOCHS (no improvement): 0\n",
            "2023-04-04 00:59:05,354 ----------------------------------------------------------------------------------------------------\n",
            "2023-04-04 00:59:05,362 epoch 14 - iter 1/1 - loss 0.00130727 - time (sec): 0.00 - samples/sec: 836.19 - lr: 0.100000\n"
          ]
        },
        {
          "output_type": "stream",
          "name": "stderr",
          "text": [
            "\n"
          ]
        },
        {
          "output_type": "stream",
          "name": "stdout",
          "text": [
            "2023-04-04 00:59:05,368 ----------------------------------------------------------------------------------------------------\n",
            "2023-04-04 00:59:05,370 EPOCH 14 done: loss 0.0013 - lr 0.100000\n"
          ]
        },
        {
          "output_type": "stream",
          "name": "stderr",
          "text": [
            "100%|██████████| 1/1 [00:00<00:00, 314.56it/s]"
          ]
        },
        {
          "output_type": "stream",
          "name": "stdout",
          "text": [
            "2023-04-04 00:59:05,385 Evaluating as a multi-label problem: False\n",
            "2023-04-04 00:59:05,418 DEV : loss 0.00123083614744246 - f1-score (micro avg)  0.6667\n",
            "2023-04-04 00:59:05,421 BAD EPOCHS (no improvement): 0\n",
            "2023-04-04 00:59:05,423 ----------------------------------------------------------------------------------------------------\n",
            "2023-04-04 00:59:05,431 epoch 15 - iter 1/1 - loss 0.00123084 - time (sec): 0.01 - samples/sec: 601.59 - lr: 0.100000\n",
            "2023-04-04 00:59:05,433 ----------------------------------------------------------------------------------------------------\n",
            "2023-04-04 00:59:05,436 EPOCH 15 done: loss 0.0012 - lr 0.100000\n"
          ]
        },
        {
          "output_type": "stream",
          "name": "stderr",
          "text": [
            "\n",
            "100%|██████████| 1/1 [00:00<00:00, 210.04it/s]"
          ]
        },
        {
          "output_type": "stream",
          "name": "stdout",
          "text": [
            "2023-04-04 00:59:05,456 Evaluating as a multi-label problem: False\n",
            "2023-04-04 00:59:05,497 DEV : loss 0.0011629704385995865 - f1-score (micro avg)  0.6667\n",
            "2023-04-04 00:59:05,500 BAD EPOCHS (no improvement): 0\n",
            "2023-04-04 00:59:05,504 ----------------------------------------------------------------------------------------------------\n"
          ]
        },
        {
          "output_type": "stream",
          "name": "stderr",
          "text": [
            "\n"
          ]
        },
        {
          "output_type": "stream",
          "name": "stdout",
          "text": [
            "2023-04-04 00:59:05,515 epoch 16 - iter 1/1 - loss 0.00116297 - time (sec): 0.01 - samples/sec: 465.70 - lr: 0.100000\n",
            "2023-04-04 00:59:05,517 ----------------------------------------------------------------------------------------------------\n",
            "2023-04-04 00:59:05,519 EPOCH 16 done: loss 0.0012 - lr 0.100000\n"
          ]
        },
        {
          "output_type": "stream",
          "name": "stderr",
          "text": [
            "100%|██████████| 1/1 [00:00<00:00, 221.63it/s]"
          ]
        },
        {
          "output_type": "stream",
          "name": "stdout",
          "text": [
            "2023-04-04 00:59:05,536 Evaluating as a multi-label problem: False\n"
          ]
        },
        {
          "output_type": "stream",
          "name": "stderr",
          "text": [
            "\n"
          ]
        },
        {
          "output_type": "stream",
          "name": "stdout",
          "text": [
            "2023-04-04 00:59:05,592 DEV : loss 0.0011022741673514247 - f1-score (micro avg)  0.6667\n",
            "2023-04-04 00:59:05,599 BAD EPOCHS (no improvement): 0\n",
            "2023-04-04 00:59:05,601 ----------------------------------------------------------------------------------------------------\n",
            "2023-04-04 00:59:05,610 epoch 17 - iter 1/1 - loss 0.00110227 - time (sec): 0.01 - samples/sec: 732.92 - lr: 0.100000\n",
            "2023-04-04 00:59:05,614 ----------------------------------------------------------------------------------------------------\n",
            "2023-04-04 00:59:05,616 EPOCH 17 done: loss 0.0011 - lr 0.100000\n"
          ]
        },
        {
          "output_type": "stream",
          "name": "stderr",
          "text": [
            "100%|██████████| 1/1 [00:00<00:00, 190.95it/s]"
          ]
        },
        {
          "output_type": "stream",
          "name": "stdout",
          "text": [
            "2023-04-04 00:59:05,639 Evaluating as a multi-label problem: False\n"
          ]
        },
        {
          "output_type": "stream",
          "name": "stderr",
          "text": [
            "\n"
          ]
        },
        {
          "output_type": "stream",
          "name": "stdout",
          "text": [
            "2023-04-04 00:59:05,668 DEV : loss 0.0010477068135514855 - f1-score (micro avg)  0.6667\n",
            "2023-04-04 00:59:05,672 BAD EPOCHS (no improvement): 0\n",
            "2023-04-04 00:59:05,675 ----------------------------------------------------------------------------------------------------\n",
            "2023-04-04 00:59:05,684 epoch 18 - iter 1/1 - loss 0.00104771 - time (sec): 0.01 - samples/sec: 611.39 - lr: 0.100000\n",
            "2023-04-04 00:59:05,689 ----------------------------------------------------------------------------------------------------\n",
            "2023-04-04 00:59:05,691 EPOCH 18 done: loss 0.0010 - lr 0.100000\n"
          ]
        },
        {
          "output_type": "stream",
          "name": "stderr",
          "text": [
            "100%|██████████| 1/1 [00:00<00:00, 187.34it/s]"
          ]
        },
        {
          "output_type": "stream",
          "name": "stdout",
          "text": [
            "2023-04-04 00:59:05,709 Evaluating as a multi-label problem: False\n"
          ]
        },
        {
          "output_type": "stream",
          "name": "stderr",
          "text": [
            "\n"
          ]
        },
        {
          "output_type": "stream",
          "name": "stdout",
          "text": [
            "2023-04-04 00:59:05,742 DEV : loss 0.0009983761701732874 - f1-score (micro avg)  0.6667\n",
            "2023-04-04 00:59:05,749 BAD EPOCHS (no improvement): 0\n",
            "2023-04-04 00:59:05,755 ----------------------------------------------------------------------------------------------------\n",
            "2023-04-04 00:59:05,761 epoch 19 - iter 1/1 - loss 0.00099838 - time (sec): 0.00 - samples/sec: 1021.26 - lr: 0.100000\n",
            "2023-04-04 00:59:05,765 ----------------------------------------------------------------------------------------------------\n",
            "2023-04-04 00:59:05,767 EPOCH 19 done: loss 0.0010 - lr 0.100000\n"
          ]
        },
        {
          "output_type": "stream",
          "name": "stderr",
          "text": [
            "100%|██████████| 1/1 [00:00<00:00, 166.86it/s]"
          ]
        },
        {
          "output_type": "stream",
          "name": "stdout",
          "text": [
            "2023-04-04 00:59:05,784 Evaluating as a multi-label problem: False\n",
            "2023-04-04 00:59:05,809 DEV : loss 0.0009535090066492558 - f1-score (micro avg)  0.6667\n",
            "2023-04-04 00:59:05,813 BAD EPOCHS (no improvement): 0\n",
            "2023-04-04 00:59:05,817 ----------------------------------------------------------------------------------------------------\n"
          ]
        },
        {
          "output_type": "stream",
          "name": "stderr",
          "text": [
            "\n"
          ]
        },
        {
          "output_type": "stream",
          "name": "stdout",
          "text": [
            "2023-04-04 00:59:05,825 epoch 20 - iter 1/1 - loss 0.00095351 - time (sec): 0.01 - samples/sec: 734.01 - lr: 0.100000\n",
            "2023-04-04 00:59:05,829 ----------------------------------------------------------------------------------------------------\n",
            "2023-04-04 00:59:05,832 EPOCH 20 done: loss 0.0010 - lr 0.100000\n"
          ]
        },
        {
          "output_type": "stream",
          "name": "stderr",
          "text": [
            "100%|██████████| 1/1 [00:00<00:00, 290.08it/s]"
          ]
        },
        {
          "output_type": "stream",
          "name": "stdout",
          "text": [
            "2023-04-04 00:59:05,845 Evaluating as a multi-label problem: False\n",
            "2023-04-04 00:59:05,877 DEV : loss 0.0009125996730290353 - f1-score (micro avg)  0.6667\n",
            "2023-04-04 00:59:05,879 BAD EPOCHS (no improvement): 0\n",
            "2023-04-04 00:59:05,882 ----------------------------------------------------------------------------------------------------\n",
            "2023-04-04 00:59:05,889 epoch 21 - iter 1/1 - loss 0.00091260 - time (sec): 0.00 - samples/sec: 1015.14 - lr: 0.100000\n",
            "2023-04-04 00:59:05,892 ----------------------------------------------------------------------------------------------------\n",
            "2023-04-04 00:59:05,894 EPOCH 21 done: loss 0.0009 - lr 0.100000\n"
          ]
        },
        {
          "output_type": "stream",
          "name": "stderr",
          "text": [
            "\n",
            "100%|██████████| 1/1 [00:00<00:00, 186.71it/s]"
          ]
        },
        {
          "output_type": "stream",
          "name": "stdout",
          "text": [
            "2023-04-04 00:59:05,911 Evaluating as a multi-label problem: False\n"
          ]
        },
        {
          "output_type": "stream",
          "name": "stderr",
          "text": [
            "\n"
          ]
        },
        {
          "output_type": "stream",
          "name": "stdout",
          "text": [
            "2023-04-04 00:59:05,937 DEV : loss 0.0008750235429033637 - f1-score (micro avg)  0.6667\n",
            "2023-04-04 00:59:05,942 BAD EPOCHS (no improvement): 0\n",
            "2023-04-04 00:59:05,944 ----------------------------------------------------------------------------------------------------\n",
            "2023-04-04 00:59:05,957 epoch 22 - iter 1/1 - loss 0.00087502 - time (sec): 0.01 - samples/sec: 414.66 - lr: 0.100000\n",
            "2023-04-04 00:59:05,960 ----------------------------------------------------------------------------------------------------\n",
            "2023-04-04 00:59:05,962 EPOCH 22 done: loss 0.0009 - lr 0.100000\n"
          ]
        },
        {
          "output_type": "stream",
          "name": "stderr",
          "text": [
            "100%|██████████| 1/1 [00:00<00:00, 267.92it/s]"
          ]
        },
        {
          "output_type": "stream",
          "name": "stdout",
          "text": [
            "2023-04-04 00:59:05,977 Evaluating as a multi-label problem: False\n"
          ]
        },
        {
          "output_type": "stream",
          "name": "stderr",
          "text": [
            "\n"
          ]
        },
        {
          "output_type": "stream",
          "name": "stdout",
          "text": [
            "2023-04-04 00:59:06,007 DEV : loss 0.0008405129192396998 - f1-score (micro avg)  0.6667\n",
            "2023-04-04 00:59:06,012 BAD EPOCHS (no improvement): 0\n",
            "2023-04-04 00:59:06,015 ----------------------------------------------------------------------------------------------------\n",
            "2023-04-04 00:59:06,022 epoch 23 - iter 1/1 - loss 0.00084051 - time (sec): 0.00 - samples/sec: 913.39 - lr: 0.100000\n",
            "2023-04-04 00:59:06,027 ----------------------------------------------------------------------------------------------------\n",
            "2023-04-04 00:59:06,030 EPOCH 23 done: loss 0.0008 - lr 0.100000\n"
          ]
        },
        {
          "output_type": "stream",
          "name": "stderr",
          "text": [
            "100%|██████████| 1/1 [00:00<00:00, 242.35it/s]"
          ]
        },
        {
          "output_type": "stream",
          "name": "stdout",
          "text": [
            "2023-04-04 00:59:06,046 Evaluating as a multi-label problem: False\n"
          ]
        },
        {
          "output_type": "stream",
          "name": "stderr",
          "text": [
            "\n"
          ]
        },
        {
          "output_type": "stream",
          "name": "stdout",
          "text": [
            "2023-04-04 00:59:06,081 DEV : loss 0.0008085917215794325 - f1-score (micro avg)  0.6667\n",
            "2023-04-04 00:59:06,085 BAD EPOCHS (no improvement): 0\n",
            "2023-04-04 00:59:06,087 ----------------------------------------------------------------------------------------------------\n",
            "2023-04-04 00:59:06,098 epoch 24 - iter 1/1 - loss 0.00080859 - time (sec): 0.00 - samples/sec: 867.35 - lr: 0.100000\n",
            "2023-04-04 00:59:06,104 ----------------------------------------------------------------------------------------------------\n",
            "2023-04-04 00:59:06,108 EPOCH 24 done: loss 0.0008 - lr 0.100000\n"
          ]
        },
        {
          "output_type": "stream",
          "name": "stderr",
          "text": [
            "100%|██████████| 1/1 [00:00<00:00, 246.06it/s]"
          ]
        },
        {
          "output_type": "stream",
          "name": "stdout",
          "text": [
            "2023-04-04 00:59:06,122 Evaluating as a multi-label problem: False\n",
            "2023-04-04 00:59:06,159 DEV : loss 0.0007790816598571837 - f1-score (micro avg)  0.6667\n",
            "2023-04-04 00:59:06,163 BAD EPOCHS (no improvement): 0\n",
            "2023-04-04 00:59:06,167 ----------------------------------------------------------------------------------------------------\n"
          ]
        },
        {
          "output_type": "stream",
          "name": "stderr",
          "text": [
            "\n"
          ]
        },
        {
          "output_type": "stream",
          "name": "stdout",
          "text": [
            "2023-04-04 00:59:06,183 epoch 25 - iter 1/1 - loss 0.00077908 - time (sec): 0.01 - samples/sec: 398.20 - lr: 0.100000\n",
            "2023-04-04 00:59:06,187 ----------------------------------------------------------------------------------------------------\n",
            "2023-04-04 00:59:06,190 EPOCH 25 done: loss 0.0008 - lr 0.100000\n"
          ]
        },
        {
          "output_type": "stream",
          "name": "stderr",
          "text": [
            "100%|██████████| 1/1 [00:00<00:00, 171.04it/s]"
          ]
        },
        {
          "output_type": "stream",
          "name": "stdout",
          "text": [
            "2023-04-04 00:59:06,215 Evaluating as a multi-label problem: False\n"
          ]
        },
        {
          "output_type": "stream",
          "name": "stderr",
          "text": [
            "\n"
          ]
        },
        {
          "output_type": "stream",
          "name": "stdout",
          "text": [
            "2023-04-04 00:59:06,253 DEV : loss 0.0007516253972426057 - f1-score (micro avg)  0.6667\n",
            "2023-04-04 00:59:06,259 BAD EPOCHS (no improvement): 0\n",
            "2023-04-04 00:59:06,262 ----------------------------------------------------------------------------------------------------\n",
            "2023-04-04 00:59:06,270 epoch 26 - iter 1/1 - loss 0.00075163 - time (sec): 0.00 - samples/sec: 832.99 - lr: 0.100000\n",
            "2023-04-04 00:59:06,274 ----------------------------------------------------------------------------------------------------\n",
            "2023-04-04 00:59:06,276 EPOCH 26 done: loss 0.0008 - lr 0.100000\n"
          ]
        },
        {
          "output_type": "stream",
          "name": "stderr",
          "text": [
            "100%|██████████| 1/1 [00:00<00:00, 258.14it/s]"
          ]
        },
        {
          "output_type": "stream",
          "name": "stdout",
          "text": [
            "2023-04-04 00:59:06,294 Evaluating as a multi-label problem: False\n"
          ]
        },
        {
          "output_type": "stream",
          "name": "stderr",
          "text": [
            "\n"
          ]
        },
        {
          "output_type": "stream",
          "name": "stdout",
          "text": [
            "2023-04-04 00:59:06,330 DEV : loss 0.0007261039572767913 - f1-score (micro avg)  0.6667\n",
            "2023-04-04 00:59:06,335 BAD EPOCHS (no improvement): 0\n",
            "2023-04-04 00:59:06,338 ----------------------------------------------------------------------------------------------------\n",
            "2023-04-04 00:59:06,345 epoch 27 - iter 1/1 - loss 0.00072610 - time (sec): 0.00 - samples/sec: 824.39 - lr: 0.100000\n",
            "2023-04-04 00:59:06,347 ----------------------------------------------------------------------------------------------------\n",
            "2023-04-04 00:59:06,349 EPOCH 27 done: loss 0.0007 - lr 0.100000\n"
          ]
        },
        {
          "output_type": "stream",
          "name": "stderr",
          "text": [
            "100%|██████████| 1/1 [00:00<00:00, 238.43it/s]"
          ]
        },
        {
          "output_type": "stream",
          "name": "stdout",
          "text": [
            "2023-04-04 00:59:06,367 Evaluating as a multi-label problem: False\n"
          ]
        },
        {
          "output_type": "stream",
          "name": "stderr",
          "text": [
            "\n"
          ]
        },
        {
          "output_type": "stream",
          "name": "stdout",
          "text": [
            "2023-04-04 00:59:06,398 DEV : loss 0.0007022497011348605 - f1-score (micro avg)  0.6667\n",
            "2023-04-04 00:59:06,407 BAD EPOCHS (no improvement): 0\n",
            "2023-04-04 00:59:06,409 ----------------------------------------------------------------------------------------------------\n",
            "2023-04-04 00:59:06,418 epoch 28 - iter 1/1 - loss 0.00070225 - time (sec): 0.01 - samples/sec: 612.04 - lr: 0.100000\n",
            "2023-04-04 00:59:06,420 ----------------------------------------------------------------------------------------------------\n",
            "2023-04-04 00:59:06,422 EPOCH 28 done: loss 0.0007 - lr 0.100000\n"
          ]
        },
        {
          "output_type": "stream",
          "name": "stderr",
          "text": [
            "100%|██████████| 1/1 [00:00<00:00, 348.65it/s]"
          ]
        },
        {
          "output_type": "stream",
          "name": "stdout",
          "text": [
            "2023-04-04 00:59:06,434 Evaluating as a multi-label problem: False\n",
            "2023-04-04 00:59:06,467 DEV : loss 0.0006799435359425843 - f1-score (micro avg)  0.6667\n",
            "2023-04-04 00:59:06,470 BAD EPOCHS (no improvement): 0\n",
            "2023-04-04 00:59:06,472 ----------------------------------------------------------------------------------------------------\n",
            "2023-04-04 00:59:06,480 epoch 29 - iter 1/1 - loss 0.00067994 - time (sec): 0.01 - samples/sec: 744.99 - lr: 0.100000\n",
            "2023-04-04 00:59:06,482 ----------------------------------------------------------------------------------------------------\n",
            "2023-04-04 00:59:06,484 EPOCH 29 done: loss 0.0007 - lr 0.100000\n"
          ]
        },
        {
          "output_type": "stream",
          "name": "stderr",
          "text": [
            "\n",
            "100%|██████████| 1/1 [00:00<00:00, 199.15it/s]"
          ]
        },
        {
          "output_type": "stream",
          "name": "stdout",
          "text": [
            "2023-04-04 00:59:06,502 Evaluating as a multi-label problem: False\n",
            "2023-04-04 00:59:06,542 DEV : loss 0.0006590067641809583 - f1-score (micro avg)  0.6667\n",
            "2023-04-04 00:59:06,546 BAD EPOCHS (no improvement): 0\n",
            "2023-04-04 00:59:06,550 ----------------------------------------------------------------------------------------------------\n"
          ]
        },
        {
          "output_type": "stream",
          "name": "stderr",
          "text": [
            "\n"
          ]
        },
        {
          "output_type": "stream",
          "name": "stdout",
          "text": [
            "2023-04-04 00:59:06,560 epoch 30 - iter 1/1 - loss 0.00065901 - time (sec): 0.01 - samples/sec: 672.51 - lr: 0.100000\n",
            "2023-04-04 00:59:06,563 ----------------------------------------------------------------------------------------------------\n",
            "2023-04-04 00:59:06,565 EPOCH 30 done: loss 0.0007 - lr 0.100000\n"
          ]
        },
        {
          "output_type": "stream",
          "name": "stderr",
          "text": [
            "100%|██████████| 1/1 [00:00<00:00, 356.96it/s]"
          ]
        },
        {
          "output_type": "stream",
          "name": "stdout",
          "text": [
            "2023-04-04 00:59:06,583 Evaluating as a multi-label problem: False\n",
            "2023-04-04 00:59:06,608 DEV : loss 0.000639350269921124 - f1-score (micro avg)  0.6667\n",
            "2023-04-04 00:59:06,615 BAD EPOCHS (no improvement): 0\n",
            "2023-04-04 00:59:06,618 ----------------------------------------------------------------------------------------------------\n"
          ]
        },
        {
          "output_type": "stream",
          "name": "stderr",
          "text": [
            "\n"
          ]
        },
        {
          "output_type": "stream",
          "name": "stdout",
          "text": [
            "2023-04-04 00:59:06,631 epoch 31 - iter 1/1 - loss 0.00063935 - time (sec): 0.01 - samples/sec: 413.82 - lr: 0.100000\n",
            "2023-04-04 00:59:06,636 ----------------------------------------------------------------------------------------------------\n",
            "2023-04-04 00:59:06,639 EPOCH 31 done: loss 0.0006 - lr 0.100000\n"
          ]
        },
        {
          "output_type": "stream",
          "name": "stderr",
          "text": [
            "100%|██████████| 1/1 [00:00<00:00, 324.01it/s]"
          ]
        },
        {
          "output_type": "stream",
          "name": "stdout",
          "text": [
            "2023-04-04 00:59:06,656 Evaluating as a multi-label problem: False\n"
          ]
        },
        {
          "output_type": "stream",
          "name": "stderr",
          "text": [
            "\n"
          ]
        },
        {
          "output_type": "stream",
          "name": "stdout",
          "text": [
            "2023-04-04 00:59:06,693 DEV : loss 0.0006207952974364161 - f1-score (micro avg)  0.6667\n",
            "2023-04-04 00:59:06,698 BAD EPOCHS (no improvement): 0\n",
            "2023-04-04 00:59:06,702 ----------------------------------------------------------------------------------------------------\n",
            "2023-04-04 00:59:06,710 epoch 32 - iter 1/1 - loss 0.00062080 - time (sec): 0.00 - samples/sec: 854.76 - lr: 0.100000\n",
            "2023-04-04 00:59:06,714 ----------------------------------------------------------------------------------------------------\n",
            "2023-04-04 00:59:06,717 EPOCH 32 done: loss 0.0006 - lr 0.100000\n"
          ]
        },
        {
          "output_type": "stream",
          "name": "stderr",
          "text": [
            "100%|██████████| 1/1 [00:00<00:00, 300.28it/s]"
          ]
        },
        {
          "output_type": "stream",
          "name": "stdout",
          "text": [
            "2023-04-04 00:59:06,730 Evaluating as a multi-label problem: False\n",
            "2023-04-04 00:59:06,757 DEV : loss 0.0006033420795574784 - f1-score (micro avg)  0.6667\n",
            "2023-04-04 00:59:06,761 BAD EPOCHS (no improvement): 0\n",
            "2023-04-04 00:59:06,763 ----------------------------------------------------------------------------------------------------\n",
            "2023-04-04 00:59:06,770 epoch 33 - iter 1/1 - loss 0.00060334 - time (sec): 0.00 - samples/sec: 944.77 - lr: 0.100000\n"
          ]
        },
        {
          "output_type": "stream",
          "name": "stderr",
          "text": [
            "\n"
          ]
        },
        {
          "output_type": "stream",
          "name": "stdout",
          "text": [
            "2023-04-04 00:59:06,774 ----------------------------------------------------------------------------------------------------\n",
            "2023-04-04 00:59:06,776 EPOCH 33 done: loss 0.0006 - lr 0.100000\n"
          ]
        },
        {
          "output_type": "stream",
          "name": "stderr",
          "text": [
            "100%|██████████| 1/1 [00:00<00:00, 137.37it/s]"
          ]
        },
        {
          "output_type": "stream",
          "name": "stdout",
          "text": [
            "2023-04-04 00:59:06,793 Evaluating as a multi-label problem: False\n",
            "2023-04-04 00:59:06,817 DEV : loss 0.0005868416046723723 - f1-score (micro avg)  0.6667\n",
            "2023-04-04 00:59:06,821 BAD EPOCHS (no improvement): 0\n",
            "2023-04-04 00:59:06,824 ----------------------------------------------------------------------------------------------------\n",
            "2023-04-04 00:59:06,831 epoch 34 - iter 1/1 - loss 0.00058684 - time (sec): 0.00 - samples/sec: 944.88 - lr: 0.100000\n",
            "2023-04-04 00:59:06,834 ----------------------------------------------------------------------------------------------------\n",
            "2023-04-04 00:59:06,837 EPOCH 34 done: loss 0.0006 - lr 0.100000\n"
          ]
        },
        {
          "output_type": "stream",
          "name": "stderr",
          "text": [
            "\n",
            "100%|██████████| 1/1 [00:00<00:00, 381.86it/s]"
          ]
        },
        {
          "output_type": "stream",
          "name": "stdout",
          "text": [
            "2023-04-04 00:59:06,849 Evaluating as a multi-label problem: False\n"
          ]
        },
        {
          "output_type": "stream",
          "name": "stderr",
          "text": [
            "\n"
          ]
        },
        {
          "output_type": "stream",
          "name": "stdout",
          "text": [
            "2023-04-04 00:59:06,871 DEV : loss 0.0005712045822292566 - f1-score (micro avg)  0.6667\n",
            "2023-04-04 00:59:06,875 BAD EPOCHS (no improvement): 0\n",
            "2023-04-04 00:59:06,877 ----------------------------------------------------------------------------------------------------\n",
            "2023-04-04 00:59:06,884 epoch 35 - iter 1/1 - loss 0.00057120 - time (sec): 0.00 - samples/sec: 904.63 - lr: 0.100000\n",
            "2023-04-04 00:59:06,892 ----------------------------------------------------------------------------------------------------\n",
            "2023-04-04 00:59:06,895 EPOCH 35 done: loss 0.0006 - lr 0.100000\n"
          ]
        },
        {
          "output_type": "stream",
          "name": "stderr",
          "text": [
            "100%|██████████| 1/1 [00:00<00:00, 129.13it/s]"
          ]
        },
        {
          "output_type": "stream",
          "name": "stdout",
          "text": [
            "2023-04-04 00:59:06,913 Evaluating as a multi-label problem: False\n"
          ]
        },
        {
          "output_type": "stream",
          "name": "stderr",
          "text": [
            "\n"
          ]
        },
        {
          "output_type": "stream",
          "name": "stdout",
          "text": [
            "2023-04-04 00:59:06,937 DEV : loss 0.0005564013263210654 - f1-score (micro avg)  0.6667\n",
            "2023-04-04 00:59:06,940 BAD EPOCHS (no improvement): 0\n",
            "2023-04-04 00:59:06,943 ----------------------------------------------------------------------------------------------------\n",
            "2023-04-04 00:59:06,949 epoch 36 - iter 1/1 - loss 0.00055640 - time (sec): 0.00 - samples/sec: 1008.00 - lr: 0.100000\n",
            "2023-04-04 00:59:06,952 ----------------------------------------------------------------------------------------------------\n",
            "2023-04-04 00:59:06,954 EPOCH 36 done: loss 0.0006 - lr 0.100000\n"
          ]
        },
        {
          "output_type": "stream",
          "name": "stderr",
          "text": [
            "100%|██████████| 1/1 [00:00<00:00, 264.06it/s]"
          ]
        },
        {
          "output_type": "stream",
          "name": "stdout",
          "text": [
            "2023-04-04 00:59:06,967 Evaluating as a multi-label problem: False\n"
          ]
        },
        {
          "output_type": "stream",
          "name": "stderr",
          "text": [
            "\n"
          ]
        },
        {
          "output_type": "stream",
          "name": "stdout",
          "text": [
            "2023-04-04 00:59:06,992 DEV : loss 0.0005423424881882966 - f1-score (micro avg)  0.6667\n",
            "2023-04-04 00:59:06,995 BAD EPOCHS (no improvement): 0\n",
            "2023-04-04 00:59:06,998 ----------------------------------------------------------------------------------------------------\n",
            "2023-04-04 00:59:07,004 epoch 37 - iter 1/1 - loss 0.00054234 - time (sec): 0.00 - samples/sec: 951.90 - lr: 0.100000\n",
            "2023-04-04 00:59:07,007 ----------------------------------------------------------------------------------------------------\n",
            "2023-04-04 00:59:07,009 EPOCH 37 done: loss 0.0005 - lr 0.100000\n"
          ]
        },
        {
          "output_type": "stream",
          "name": "stderr",
          "text": [
            "100%|██████████| 1/1 [00:00<00:00, 245.45it/s]"
          ]
        },
        {
          "output_type": "stream",
          "name": "stdout",
          "text": [
            "2023-04-04 00:59:07,021 Evaluating as a multi-label problem: False\n"
          ]
        },
        {
          "output_type": "stream",
          "name": "stderr",
          "text": [
            "\n"
          ]
        },
        {
          "output_type": "stream",
          "name": "stdout",
          "text": [
            "2023-04-04 00:59:07,044 DEV : loss 0.0005289983237162232 - f1-score (micro avg)  0.6667\n",
            "2023-04-04 00:59:07,048 BAD EPOCHS (no improvement): 0\n",
            "2023-04-04 00:59:07,050 ----------------------------------------------------------------------------------------------------\n",
            "2023-04-04 00:59:07,056 epoch 38 - iter 1/1 - loss 0.00052900 - time (sec): 0.00 - samples/sec: 900.65 - lr: 0.100000\n",
            "2023-04-04 00:59:07,059 ----------------------------------------------------------------------------------------------------\n",
            "2023-04-04 00:59:07,062 EPOCH 38 done: loss 0.0005 - lr 0.100000\n"
          ]
        },
        {
          "output_type": "stream",
          "name": "stderr",
          "text": [
            "100%|██████████| 1/1 [00:00<00:00, 343.20it/s]"
          ]
        },
        {
          "output_type": "stream",
          "name": "stdout",
          "text": [
            "2023-04-04 00:59:07,077 Evaluating as a multi-label problem: False\n"
          ]
        },
        {
          "output_type": "stream",
          "name": "stderr",
          "text": [
            "\n"
          ]
        },
        {
          "output_type": "stream",
          "name": "stdout",
          "text": [
            "2023-04-04 00:59:07,105 DEV : loss 0.0005162794841453433 - f1-score (micro avg)  0.6667\n",
            "2023-04-04 00:59:07,109 BAD EPOCHS (no improvement): 0\n",
            "2023-04-04 00:59:07,111 ----------------------------------------------------------------------------------------------------\n",
            "2023-04-04 00:59:07,117 epoch 39 - iter 1/1 - loss 0.00051628 - time (sec): 0.00 - samples/sec: 1026.38 - lr: 0.100000\n",
            "2023-04-04 00:59:07,121 ----------------------------------------------------------------------------------------------------\n",
            "2023-04-04 00:59:07,124 EPOCH 39 done: loss 0.0005 - lr 0.100000\n"
          ]
        },
        {
          "output_type": "stream",
          "name": "stderr",
          "text": [
            "100%|██████████| 1/1 [00:00<00:00, 272.98it/s]"
          ]
        },
        {
          "output_type": "stream",
          "name": "stdout",
          "text": [
            "2023-04-04 00:59:07,136 Evaluating as a multi-label problem: False\n"
          ]
        },
        {
          "output_type": "stream",
          "name": "stderr",
          "text": [
            "\n"
          ]
        },
        {
          "output_type": "stream",
          "name": "stdout",
          "text": [
            "2023-04-04 00:59:07,163 DEV : loss 0.0005041860276833177 - f1-score (micro avg)  0.6667\n",
            "2023-04-04 00:59:07,166 BAD EPOCHS (no improvement): 0\n",
            "2023-04-04 00:59:07,172 ----------------------------------------------------------------------------------------------------\n",
            "2023-04-04 00:59:07,181 epoch 40 - iter 1/1 - loss 0.00050419 - time (sec): 0.00 - samples/sec: 978.61 - lr: 0.100000\n",
            "2023-04-04 00:59:07,184 ----------------------------------------------------------------------------------------------------\n",
            "2023-04-04 00:59:07,188 EPOCH 40 done: loss 0.0005 - lr 0.100000\n"
          ]
        },
        {
          "output_type": "stream",
          "name": "stderr",
          "text": [
            "100%|██████████| 1/1 [00:00<00:00, 300.37it/s]"
          ]
        },
        {
          "output_type": "stream",
          "name": "stdout",
          "text": [
            "2023-04-04 00:59:07,209 Evaluating as a multi-label problem: False\n"
          ]
        },
        {
          "output_type": "stream",
          "name": "stderr",
          "text": [
            "\n"
          ]
        },
        {
          "output_type": "stream",
          "name": "stdout",
          "text": [
            "2023-04-04 00:59:07,247 DEV : loss 0.0004926285473629832 - f1-score (micro avg)  0.6667\n",
            "2023-04-04 00:59:07,251 BAD EPOCHS (no improvement): 0\n",
            "2023-04-04 00:59:07,253 ----------------------------------------------------------------------------------------------------\n",
            "2023-04-04 00:59:07,260 epoch 41 - iter 1/1 - loss 0.00049263 - time (sec): 0.00 - samples/sec: 933.42 - lr: 0.100000\n",
            "2023-04-04 00:59:07,263 ----------------------------------------------------------------------------------------------------\n",
            "2023-04-04 00:59:07,265 EPOCH 41 done: loss 0.0005 - lr 0.100000\n"
          ]
        },
        {
          "output_type": "stream",
          "name": "stderr",
          "text": [
            "100%|██████████| 1/1 [00:00<00:00, 280.52it/s]"
          ]
        },
        {
          "output_type": "stream",
          "name": "stdout",
          "text": [
            "2023-04-04 00:59:07,278 Evaluating as a multi-label problem: False\n",
            "2023-04-04 00:59:07,310 DEV : loss 0.00048157741548493505 - f1-score (micro avg)  0.6667\n",
            "2023-04-04 00:59:07,313 BAD EPOCHS (no improvement): 0\n",
            "2023-04-04 00:59:07,320 ----------------------------------------------------------------------------------------------------\n"
          ]
        },
        {
          "output_type": "stream",
          "name": "stderr",
          "text": [
            "\n"
          ]
        },
        {
          "output_type": "stream",
          "name": "stdout",
          "text": [
            "2023-04-04 00:59:07,326 epoch 42 - iter 1/1 - loss 0.00048158 - time (sec): 0.00 - samples/sec: 953.85 - lr: 0.100000\n",
            "2023-04-04 00:59:07,334 ----------------------------------------------------------------------------------------------------\n",
            "2023-04-04 00:59:07,336 EPOCH 42 done: loss 0.0005 - lr 0.100000\n"
          ]
        },
        {
          "output_type": "stream",
          "name": "stderr",
          "text": [
            "100%|██████████| 1/1 [00:00<00:00, 265.97it/s]"
          ]
        },
        {
          "output_type": "stream",
          "name": "stdout",
          "text": [
            "2023-04-04 00:59:07,348 Evaluating as a multi-label problem: False\n",
            "2023-04-04 00:59:07,389 DEV : loss 0.00047106225974857807 - f1-score (micro avg)  0.6667\n",
            "2023-04-04 00:59:07,392 BAD EPOCHS (no improvement): 0\n",
            "2023-04-04 00:59:07,394 ----------------------------------------------------------------------------------------------------\n"
          ]
        },
        {
          "output_type": "stream",
          "name": "stderr",
          "text": [
            "\n"
          ]
        },
        {
          "output_type": "stream",
          "name": "stdout",
          "text": [
            "2023-04-04 00:59:07,404 epoch 43 - iter 1/1 - loss 0.00047106 - time (sec): 0.00 - samples/sec: 1037.94 - lr: 0.100000\n",
            "2023-04-04 00:59:07,407 ----------------------------------------------------------------------------------------------------\n",
            "2023-04-04 00:59:07,413 EPOCH 43 done: loss 0.0005 - lr 0.100000\n"
          ]
        },
        {
          "output_type": "stream",
          "name": "stderr",
          "text": [
            "100%|██████████| 1/1 [00:00<00:00, 292.57it/s]"
          ]
        },
        {
          "output_type": "stream",
          "name": "stdout",
          "text": [
            "2023-04-04 00:59:07,427 Evaluating as a multi-label problem: False\n",
            "2023-04-04 00:59:07,447 DEV : loss 0.00046096404548734426 - f1-score (micro avg)  0.6667\n",
            "2023-04-04 00:59:07,450 BAD EPOCHS (no improvement): 0\n",
            "2023-04-04 00:59:07,452 ----------------------------------------------------------------------------------------------------\n",
            "2023-04-04 00:59:07,458 epoch 44 - iter 1/1 - loss 0.00046096 - time (sec): 0.00 - samples/sec: 1157.61 - lr: 0.100000\n",
            "2023-04-04 00:59:07,460 ----------------------------------------------------------------------------------------------------\n",
            "2023-04-04 00:59:07,462 EPOCH 44 done: loss 0.0005 - lr 0.100000\n"
          ]
        },
        {
          "output_type": "stream",
          "name": "stderr",
          "text": [
            "\n",
            "100%|██████████| 1/1 [00:00<00:00, 348.08it/s]"
          ]
        },
        {
          "output_type": "stream",
          "name": "stdout",
          "text": [
            "2023-04-04 00:59:07,474 Evaluating as a multi-label problem: False\n"
          ]
        },
        {
          "output_type": "stream",
          "name": "stderr",
          "text": [
            "\n"
          ]
        },
        {
          "output_type": "stream",
          "name": "stdout",
          "text": [
            "2023-04-04 00:59:07,495 DEV : loss 0.0004513125750236213 - f1-score (micro avg)  0.6667\n",
            "2023-04-04 00:59:07,498 BAD EPOCHS (no improvement): 0\n",
            "2023-04-04 00:59:07,500 ----------------------------------------------------------------------------------------------------\n",
            "2023-04-04 00:59:07,509 epoch 45 - iter 1/1 - loss 0.00045131 - time (sec): 0.00 - samples/sec: 984.12 - lr: 0.100000\n",
            "2023-04-04 00:59:07,512 ----------------------------------------------------------------------------------------------------\n",
            "2023-04-04 00:59:07,518 EPOCH 45 done: loss 0.0005 - lr 0.100000\n"
          ]
        },
        {
          "output_type": "stream",
          "name": "stderr",
          "text": [
            "100%|██████████| 1/1 [00:00<00:00, 294.88it/s]"
          ]
        },
        {
          "output_type": "stream",
          "name": "stdout",
          "text": [
            "2023-04-04 00:59:07,532 Evaluating as a multi-label problem: False\n"
          ]
        },
        {
          "output_type": "stream",
          "name": "stderr",
          "text": [
            "\n"
          ]
        },
        {
          "output_type": "stream",
          "name": "stdout",
          "text": [
            "2023-04-04 00:59:07,563 DEV : loss 0.00044201844139024615 - f1-score (micro avg)  0.6667\n",
            "2023-04-04 00:59:07,570 BAD EPOCHS (no improvement): 0\n",
            "2023-04-04 00:59:07,573 ----------------------------------------------------------------------------------------------------\n",
            "2023-04-04 00:59:07,581 epoch 46 - iter 1/1 - loss 0.00044202 - time (sec): 0.01 - samples/sec: 673.11 - lr: 0.100000\n",
            "2023-04-04 00:59:07,583 ----------------------------------------------------------------------------------------------------\n",
            "2023-04-04 00:59:07,586 EPOCH 46 done: loss 0.0004 - lr 0.100000\n"
          ]
        },
        {
          "output_type": "stream",
          "name": "stderr",
          "text": [
            "100%|██████████| 1/1 [00:00<00:00, 239.94it/s]"
          ]
        },
        {
          "output_type": "stream",
          "name": "stdout",
          "text": [
            "2023-04-04 00:59:07,611 Evaluating as a multi-label problem: False\n"
          ]
        },
        {
          "output_type": "stream",
          "name": "stderr",
          "text": [
            "\n"
          ]
        },
        {
          "output_type": "stream",
          "name": "stdout",
          "text": [
            "2023-04-04 00:59:07,649 DEV : loss 0.0004331413365434855 - f1-score (micro avg)  0.6667\n",
            "2023-04-04 00:59:07,652 BAD EPOCHS (no improvement): 0\n",
            "2023-04-04 00:59:07,654 ----------------------------------------------------------------------------------------------------\n",
            "2023-04-04 00:59:07,661 epoch 47 - iter 1/1 - loss 0.00043314 - time (sec): 0.00 - samples/sec: 1115.65 - lr: 0.100000\n",
            "2023-04-04 00:59:07,664 ----------------------------------------------------------------------------------------------------\n",
            "2023-04-04 00:59:07,666 EPOCH 47 done: loss 0.0004 - lr 0.100000\n"
          ]
        },
        {
          "output_type": "stream",
          "name": "stderr",
          "text": [
            "100%|██████████| 1/1 [00:00<00:00, 372.43it/s]"
          ]
        },
        {
          "output_type": "stream",
          "name": "stdout",
          "text": [
            "2023-04-04 00:59:07,679 Evaluating as a multi-label problem: False\n",
            "2023-04-04 00:59:07,707 DEV : loss 0.00042462156852707267 - f1-score (micro avg)  0.6667\n",
            "2023-04-04 00:59:07,711 BAD EPOCHS (no improvement): 0\n",
            "2023-04-04 00:59:07,713 ----------------------------------------------------------------------------------------------------\n",
            "2023-04-04 00:59:07,719 epoch 48 - iter 1/1 - loss 0.00042462 - time (sec): 0.00 - samples/sec: 1039.03 - lr: 0.100000\n"
          ]
        },
        {
          "output_type": "stream",
          "name": "stderr",
          "text": [
            "\n"
          ]
        },
        {
          "output_type": "stream",
          "name": "stdout",
          "text": [
            "2023-04-04 00:59:07,722 ----------------------------------------------------------------------------------------------------\n",
            "2023-04-04 00:59:07,725 EPOCH 48 done: loss 0.0004 - lr 0.100000\n"
          ]
        },
        {
          "output_type": "stream",
          "name": "stderr",
          "text": [
            "100%|██████████| 1/1 [00:00<00:00, 379.68it/s]"
          ]
        },
        {
          "output_type": "stream",
          "name": "stdout",
          "text": [
            "2023-04-04 00:59:07,736 Evaluating as a multi-label problem: False\n",
            "2023-04-04 00:59:07,760 DEV : loss 0.00041639962000772357 - f1-score (micro avg)  0.6667\n",
            "2023-04-04 00:59:07,763 BAD EPOCHS (no improvement): 0\n",
            "2023-04-04 00:59:07,767 ----------------------------------------------------------------------------------------------------\n",
            "2023-04-04 00:59:07,774 epoch 49 - iter 1/1 - loss 0.00041640 - time (sec): 0.00 - samples/sec: 884.27 - lr: 0.100000\n",
            "2023-04-04 00:59:07,776 ----------------------------------------------------------------------------------------------------\n",
            "2023-04-04 00:59:07,778 EPOCH 49 done: loss 0.0004 - lr 0.100000\n"
          ]
        },
        {
          "output_type": "stream",
          "name": "stderr",
          "text": [
            "\n",
            "100%|██████████| 1/1 [00:00<00:00, 351.66it/s]"
          ]
        },
        {
          "output_type": "stream",
          "name": "stdout",
          "text": [
            "2023-04-04 00:59:07,790 Evaluating as a multi-label problem: False\n"
          ]
        },
        {
          "output_type": "stream",
          "name": "stderr",
          "text": [
            "\n"
          ]
        },
        {
          "output_type": "stream",
          "name": "stdout",
          "text": [
            "2023-04-04 00:59:07,813 DEV : loss 0.0004085350956302136 - f1-score (micro avg)  0.6667\n",
            "2023-04-04 00:59:07,816 BAD EPOCHS (no improvement): 0\n",
            "2023-04-04 00:59:07,818 ----------------------------------------------------------------------------------------------------\n",
            "2023-04-04 00:59:07,825 epoch 50 - iter 1/1 - loss 0.00040854 - time (sec): 0.00 - samples/sec: 1018.96 - lr: 0.100000\n",
            "2023-04-04 00:59:07,831 ----------------------------------------------------------------------------------------------------\n",
            "2023-04-04 00:59:07,834 EPOCH 50 done: loss 0.0004 - lr 0.100000\n"
          ]
        },
        {
          "output_type": "stream",
          "name": "stderr",
          "text": [
            "100%|██████████| 1/1 [00:00<00:00, 295.39it/s]"
          ]
        },
        {
          "output_type": "stream",
          "name": "stdout",
          "text": [
            "2023-04-04 00:59:07,844 Evaluating as a multi-label problem: False\n",
            "2023-04-04 00:59:07,866 DEV : loss 0.0004009386757388711 - f1-score (micro avg)  0.6667\n",
            "2023-04-04 00:59:07,869 BAD EPOCHS (no improvement): 0\n"
          ]
        },
        {
          "output_type": "stream",
          "name": "stderr",
          "text": [
            "\n"
          ]
        },
        {
          "output_type": "stream",
          "name": "stdout",
          "text": [
            "2023-04-04 00:59:07,871 ----------------------------------------------------------------------------------------------------\n",
            "2023-04-04 00:59:07,880 epoch 51 - iter 1/1 - loss 0.00040094 - time (sec): 0.01 - samples/sec: 695.49 - lr: 0.100000\n",
            "2023-04-04 00:59:07,883 ----------------------------------------------------------------------------------------------------\n",
            "2023-04-04 00:59:07,885 EPOCH 51 done: loss 0.0004 - lr 0.100000\n"
          ]
        },
        {
          "output_type": "stream",
          "name": "stderr",
          "text": [
            "100%|██████████| 1/1 [00:00<00:00, 298.78it/s]"
          ]
        },
        {
          "output_type": "stream",
          "name": "stdout",
          "text": [
            "2023-04-04 00:59:07,897 Evaluating as a multi-label problem: False\n",
            "2023-04-04 00:59:07,918 DEV : loss 0.0003936102439183742 - f1-score (micro avg)  0.6667\n",
            "2023-04-04 00:59:07,921 BAD EPOCHS (no improvement): 0\n",
            "2023-04-04 00:59:07,924 ----------------------------------------------------------------------------------------------------\n"
          ]
        },
        {
          "output_type": "stream",
          "name": "stderr",
          "text": [
            "\n"
          ]
        },
        {
          "output_type": "stream",
          "name": "stdout",
          "text": [
            "2023-04-04 00:59:07,929 epoch 52 - iter 1/1 - loss 0.00039361 - time (sec): 0.00 - samples/sec: 1049.63 - lr: 0.100000\n",
            "2023-04-04 00:59:07,933 ----------------------------------------------------------------------------------------------------\n",
            "2023-04-04 00:59:07,935 EPOCH 52 done: loss 0.0004 - lr 0.100000\n"
          ]
        },
        {
          "output_type": "stream",
          "name": "stderr",
          "text": [
            "100%|██████████| 1/1 [00:00<00:00, 271.05it/s]"
          ]
        },
        {
          "output_type": "stream",
          "name": "stdout",
          "text": [
            "2023-04-04 00:59:07,946 Evaluating as a multi-label problem: False\n",
            "2023-04-04 00:59:07,971 DEV : loss 0.0003865796606987715 - f1-score (micro avg)  0.6667\n",
            "2023-04-04 00:59:07,979 BAD EPOCHS (no improvement): 0\n",
            "2023-04-04 00:59:07,981 ----------------------------------------------------------------------------------------------------\n"
          ]
        },
        {
          "output_type": "stream",
          "name": "stderr",
          "text": [
            "\n"
          ]
        },
        {
          "output_type": "stream",
          "name": "stdout",
          "text": [
            "2023-04-04 00:59:07,990 epoch 53 - iter 1/1 - loss 0.00038658 - time (sec): 0.00 - samples/sec: 985.45 - lr: 0.100000\n",
            "2023-04-04 00:59:07,996 ----------------------------------------------------------------------------------------------------\n",
            "2023-04-04 00:59:07,999 EPOCH 53 done: loss 0.0004 - lr 0.100000\n"
          ]
        },
        {
          "output_type": "stream",
          "name": "stderr",
          "text": [
            "100%|██████████| 1/1 [00:00<00:00, 178.00it/s]"
          ]
        },
        {
          "output_type": "stream",
          "name": "stdout",
          "text": [
            "2023-04-04 00:59:08,014 Evaluating as a multi-label problem: False\n"
          ]
        },
        {
          "output_type": "stream",
          "name": "stderr",
          "text": [
            "\n"
          ]
        },
        {
          "output_type": "stream",
          "name": "stdout",
          "text": [
            "2023-04-04 00:59:08,042 DEV : loss 0.0003797575773205608 - f1-score (micro avg)  0.6667\n",
            "2023-04-04 00:59:08,047 BAD EPOCHS (no improvement): 0\n",
            "2023-04-04 00:59:08,049 ----------------------------------------------------------------------------------------------------\n",
            "2023-04-04 00:59:08,055 epoch 54 - iter 1/1 - loss 0.00037976 - time (sec): 0.00 - samples/sec: 995.27 - lr: 0.100000\n",
            "2023-04-04 00:59:08,058 ----------------------------------------------------------------------------------------------------\n",
            "2023-04-04 00:59:08,061 EPOCH 54 done: loss 0.0004 - lr 0.100000\n"
          ]
        },
        {
          "output_type": "stream",
          "name": "stderr",
          "text": [
            "100%|██████████| 1/1 [00:00<00:00, 189.71it/s]"
          ]
        },
        {
          "output_type": "stream",
          "name": "stdout",
          "text": [
            "2023-04-04 00:59:08,076 Evaluating as a multi-label problem: False\n"
          ]
        },
        {
          "output_type": "stream",
          "name": "stderr",
          "text": [
            "\n"
          ]
        },
        {
          "output_type": "stream",
          "name": "stdout",
          "text": [
            "2023-04-04 00:59:08,099 DEV : loss 0.0003731737961061299 - f1-score (micro avg)  0.6667\n",
            "2023-04-04 00:59:08,103 BAD EPOCHS (no improvement): 0\n",
            "2023-04-04 00:59:08,106 ----------------------------------------------------------------------------------------------------\n",
            "2023-04-04 00:59:08,114 epoch 55 - iter 1/1 - loss 0.00037317 - time (sec): 0.00 - samples/sec: 853.41 - lr: 0.100000\n",
            "2023-04-04 00:59:08,120 ----------------------------------------------------------------------------------------------------\n",
            "2023-04-04 00:59:08,126 EPOCH 55 done: loss 0.0004 - lr 0.100000\n"
          ]
        },
        {
          "output_type": "stream",
          "name": "stderr",
          "text": [
            "100%|██████████| 1/1 [00:00<00:00, 356.81it/s]"
          ]
        },
        {
          "output_type": "stream",
          "name": "stdout",
          "text": [
            "2023-04-04 00:59:08,141 Evaluating as a multi-label problem: False\n"
          ]
        },
        {
          "output_type": "stream",
          "name": "stderr",
          "text": [
            "\n"
          ]
        },
        {
          "output_type": "stream",
          "name": "stdout",
          "text": [
            "2023-04-04 00:59:08,165 DEV : loss 0.00036682828795164824 - f1-score (micro avg)  0.6667\n",
            "2023-04-04 00:59:08,171 BAD EPOCHS (no improvement): 0\n",
            "2023-04-04 00:59:08,175 ----------------------------------------------------------------------------------------------------\n",
            "2023-04-04 00:59:08,183 epoch 56 - iter 1/1 - loss 0.00036683 - time (sec): 0.01 - samples/sec: 786.89 - lr: 0.100000\n",
            "2023-04-04 00:59:08,186 ----------------------------------------------------------------------------------------------------\n",
            "2023-04-04 00:59:08,189 EPOCH 56 done: loss 0.0004 - lr 0.100000\n"
          ]
        },
        {
          "output_type": "stream",
          "name": "stderr",
          "text": [
            "100%|██████████| 1/1 [00:00<00:00, 276.78it/s]"
          ]
        },
        {
          "output_type": "stream",
          "name": "stdout",
          "text": [
            "2023-04-04 00:59:08,202 Evaluating as a multi-label problem: False\n"
          ]
        },
        {
          "output_type": "stream",
          "name": "stderr",
          "text": [
            "\n"
          ]
        },
        {
          "output_type": "stream",
          "name": "stdout",
          "text": [
            "2023-04-04 00:59:08,228 DEV : loss 0.0003607210237532854 - f1-score (micro avg)  0.6667\n",
            "2023-04-04 00:59:08,232 BAD EPOCHS (no improvement): 0\n",
            "2023-04-04 00:59:08,235 ----------------------------------------------------------------------------------------------------\n",
            "2023-04-04 00:59:08,242 epoch 57 - iter 1/1 - loss 0.00036072 - time (sec): 0.00 - samples/sec: 870.46 - lr: 0.100000\n",
            "2023-04-04 00:59:08,245 ----------------------------------------------------------------------------------------------------\n",
            "2023-04-04 00:59:08,248 EPOCH 57 done: loss 0.0004 - lr 0.100000\n"
          ]
        },
        {
          "output_type": "stream",
          "name": "stderr",
          "text": [
            "100%|██████████| 1/1 [00:00<00:00, 302.14it/s]"
          ]
        },
        {
          "output_type": "stream",
          "name": "stdout",
          "text": [
            "2023-04-04 00:59:08,259 Evaluating as a multi-label problem: False\n"
          ]
        },
        {
          "output_type": "stream",
          "name": "stderr",
          "text": [
            "\n"
          ]
        },
        {
          "output_type": "stream",
          "name": "stdout",
          "text": [
            "2023-04-04 00:59:08,284 DEV : loss 0.0003547627420630306 - f1-score (micro avg)  0.6667\n",
            "2023-04-04 00:59:08,287 BAD EPOCHS (no improvement): 0\n",
            "2023-04-04 00:59:08,290 ----------------------------------------------------------------------------------------------------\n",
            "2023-04-04 00:59:08,295 epoch 58 - iter 1/1 - loss 0.00035476 - time (sec): 0.00 - samples/sec: 1140.14 - lr: 0.100000\n",
            "2023-04-04 00:59:08,298 ----------------------------------------------------------------------------------------------------\n",
            "2023-04-04 00:59:08,300 EPOCH 58 done: loss 0.0004 - lr 0.100000\n"
          ]
        },
        {
          "output_type": "stream",
          "name": "stderr",
          "text": [
            "100%|██████████| 1/1 [00:00<00:00, 319.79it/s]"
          ]
        },
        {
          "output_type": "stream",
          "name": "stdout",
          "text": [
            "2023-04-04 00:59:08,311 Evaluating as a multi-label problem: False\n"
          ]
        },
        {
          "output_type": "stream",
          "name": "stderr",
          "text": [
            "\n"
          ]
        },
        {
          "output_type": "stream",
          "name": "stdout",
          "text": [
            "2023-04-04 00:59:08,339 DEV : loss 0.00034901296021416783 - f1-score (micro avg)  0.6667\n",
            "2023-04-04 00:59:08,342 BAD EPOCHS (no improvement): 0\n",
            "2023-04-04 00:59:08,345 ----------------------------------------------------------------------------------------------------\n",
            "2023-04-04 00:59:08,351 epoch 59 - iter 1/1 - loss 0.00034901 - time (sec): 0.00 - samples/sec: 980.78 - lr: 0.100000\n",
            "2023-04-04 00:59:08,354 ----------------------------------------------------------------------------------------------------\n",
            "2023-04-04 00:59:08,358 EPOCH 59 done: loss 0.0003 - lr 0.100000\n"
          ]
        },
        {
          "output_type": "stream",
          "name": "stderr",
          "text": [
            "100%|██████████| 1/1 [00:00<00:00, 251.38it/s]"
          ]
        },
        {
          "output_type": "stream",
          "name": "stdout",
          "text": [
            "2023-04-04 00:59:08,371 Evaluating as a multi-label problem: False\n"
          ]
        },
        {
          "output_type": "stream",
          "name": "stderr",
          "text": [
            "\n"
          ]
        },
        {
          "output_type": "stream",
          "name": "stdout",
          "text": [
            "2023-04-04 00:59:08,396 DEV : loss 0.00034350145142525434 - f1-score (micro avg)  0.6667\n",
            "2023-04-04 00:59:08,400 BAD EPOCHS (no improvement): 0\n",
            "2023-04-04 00:59:08,402 ----------------------------------------------------------------------------------------------------\n",
            "2023-04-04 00:59:08,408 epoch 60 - iter 1/1 - loss 0.00034350 - time (sec): 0.00 - samples/sec: 946.42 - lr: 0.100000\n",
            "2023-04-04 00:59:08,412 ----------------------------------------------------------------------------------------------------\n",
            "2023-04-04 00:59:08,414 EPOCH 60 done: loss 0.0003 - lr 0.100000\n"
          ]
        },
        {
          "output_type": "stream",
          "name": "stderr",
          "text": [
            "100%|██████████| 1/1 [00:00<00:00, 217.45it/s]"
          ]
        },
        {
          "output_type": "stream",
          "name": "stdout",
          "text": [
            "2023-04-04 00:59:08,428 Evaluating as a multi-label problem: False\n"
          ]
        },
        {
          "output_type": "stream",
          "name": "stderr",
          "text": [
            "\n"
          ]
        },
        {
          "output_type": "stream",
          "name": "stdout",
          "text": [
            "2023-04-04 00:59:08,455 DEV : loss 0.0003380793204996735 - f1-score (micro avg)  0.6667\n",
            "2023-04-04 00:59:08,460 BAD EPOCHS (no improvement): 0\n",
            "2023-04-04 00:59:08,463 ----------------------------------------------------------------------------------------------------\n",
            "2023-04-04 00:59:08,469 epoch 61 - iter 1/1 - loss 0.00033808 - time (sec): 0.00 - samples/sec: 1036.59 - lr: 0.100000\n",
            "2023-04-04 00:59:08,473 ----------------------------------------------------------------------------------------------------\n",
            "2023-04-04 00:59:08,475 EPOCH 61 done: loss 0.0003 - lr 0.100000\n"
          ]
        },
        {
          "output_type": "stream",
          "name": "stderr",
          "text": [
            "100%|██████████| 1/1 [00:00<00:00, 282.54it/s]"
          ]
        },
        {
          "output_type": "stream",
          "name": "stdout",
          "text": [
            "2023-04-04 00:59:08,489 Evaluating as a multi-label problem: False\n"
          ]
        },
        {
          "output_type": "stream",
          "name": "stderr",
          "text": [
            "\n"
          ]
        },
        {
          "output_type": "stream",
          "name": "stdout",
          "text": [
            "2023-04-04 00:59:08,520 DEV : loss 0.0003328656603116542 - f1-score (micro avg)  0.6667\n",
            "2023-04-04 00:59:08,523 BAD EPOCHS (no improvement): 0\n",
            "2023-04-04 00:59:08,526 ----------------------------------------------------------------------------------------------------\n",
            "2023-04-04 00:59:08,531 epoch 62 - iter 1/1 - loss 0.00033287 - time (sec): 0.00 - samples/sec: 1150.54 - lr: 0.100000\n",
            "2023-04-04 00:59:08,534 ----------------------------------------------------------------------------------------------------\n",
            "2023-04-04 00:59:08,536 EPOCH 62 done: loss 0.0003 - lr 0.100000\n"
          ]
        },
        {
          "output_type": "stream",
          "name": "stderr",
          "text": [
            "100%|██████████| 1/1 [00:00<00:00, 263.73it/s]"
          ]
        },
        {
          "output_type": "stream",
          "name": "stdout",
          "text": [
            "2023-04-04 00:59:08,547 Evaluating as a multi-label problem: False\n"
          ]
        },
        {
          "output_type": "stream",
          "name": "stderr",
          "text": [
            "\n"
          ]
        },
        {
          "output_type": "stream",
          "name": "stdout",
          "text": [
            "2023-04-04 00:59:08,573 DEV : loss 0.00032783078495413065 - f1-score (micro avg)  0.6667\n",
            "2023-04-04 00:59:08,576 BAD EPOCHS (no improvement): 0\n",
            "2023-04-04 00:59:08,580 ----------------------------------------------------------------------------------------------------\n",
            "2023-04-04 00:59:08,590 epoch 63 - iter 1/1 - loss 0.00032783 - time (sec): 0.01 - samples/sec: 533.61 - lr: 0.100000\n",
            "2023-04-04 00:59:08,593 ----------------------------------------------------------------------------------------------------\n",
            "2023-04-04 00:59:08,595 EPOCH 63 done: loss 0.0003 - lr 0.100000\n"
          ]
        },
        {
          "output_type": "stream",
          "name": "stderr",
          "text": [
            "100%|██████████| 1/1 [00:00<00:00, 294.56it/s]"
          ]
        },
        {
          "output_type": "stream",
          "name": "stdout",
          "text": [
            "2023-04-04 00:59:08,613 Evaluating as a multi-label problem: False\n"
          ]
        },
        {
          "output_type": "stream",
          "name": "stderr",
          "text": [
            "\n"
          ]
        },
        {
          "output_type": "stream",
          "name": "stdout",
          "text": [
            "2023-04-04 00:59:08,641 DEV : loss 0.00032294480479322374 - f1-score (micro avg)  0.6667\n",
            "2023-04-04 00:59:08,645 BAD EPOCHS (no improvement): 0\n",
            "2023-04-04 00:59:08,647 ----------------------------------------------------------------------------------------------------\n",
            "2023-04-04 00:59:08,657 epoch 64 - iter 1/1 - loss 0.00032294 - time (sec): 0.00 - samples/sec: 1019.46 - lr: 0.100000\n",
            "2023-04-04 00:59:08,660 ----------------------------------------------------------------------------------------------------\n",
            "2023-04-04 00:59:08,666 EPOCH 64 done: loss 0.0003 - lr 0.100000\n"
          ]
        },
        {
          "output_type": "stream",
          "name": "stderr",
          "text": [
            "100%|██████████| 1/1 [00:00<00:00, 266.46it/s]"
          ]
        },
        {
          "output_type": "stream",
          "name": "stdout",
          "text": [
            "2023-04-04 00:59:08,679 Evaluating as a multi-label problem: False\n"
          ]
        },
        {
          "output_type": "stream",
          "name": "stderr",
          "text": [
            "\n"
          ]
        },
        {
          "output_type": "stream",
          "name": "stdout",
          "text": [
            "2023-04-04 00:59:08,707 DEV : loss 0.0003181779757142067 - f1-score (micro avg)  0.6667\n",
            "2023-04-04 00:59:08,711 BAD EPOCHS (no improvement): 0\n",
            "2023-04-04 00:59:08,713 ----------------------------------------------------------------------------------------------------\n",
            "2023-04-04 00:59:08,719 epoch 65 - iter 1/1 - loss 0.00031818 - time (sec): 0.00 - samples/sec: 1064.81 - lr: 0.100000\n",
            "2023-04-04 00:59:08,723 ----------------------------------------------------------------------------------------------------\n",
            "2023-04-04 00:59:08,725 EPOCH 65 done: loss 0.0003 - lr 0.100000\n"
          ]
        },
        {
          "output_type": "stream",
          "name": "stderr",
          "text": [
            "100%|██████████| 1/1 [00:00<00:00, 258.65it/s]"
          ]
        },
        {
          "output_type": "stream",
          "name": "stdout",
          "text": [
            "2023-04-04 00:59:08,740 Evaluating as a multi-label problem: False\n"
          ]
        },
        {
          "output_type": "stream",
          "name": "stderr",
          "text": [
            "\n"
          ]
        },
        {
          "output_type": "stream",
          "name": "stdout",
          "text": [
            "2023-04-04 00:59:08,762 DEV : loss 0.00031353032682091 - f1-score (micro avg)  0.6667\n",
            "2023-04-04 00:59:08,766 BAD EPOCHS (no improvement): 0\n",
            "2023-04-04 00:59:08,770 ----------------------------------------------------------------------------------------------------\n",
            "2023-04-04 00:59:08,779 epoch 66 - iter 1/1 - loss 0.00031353 - time (sec): 0.01 - samples/sec: 538.98 - lr: 0.100000\n",
            "2023-04-04 00:59:08,783 ----------------------------------------------------------------------------------------------------\n",
            "2023-04-04 00:59:08,786 EPOCH 66 done: loss 0.0003 - lr 0.100000\n"
          ]
        },
        {
          "output_type": "stream",
          "name": "stderr",
          "text": [
            "100%|██████████| 1/1 [00:00<00:00, 183.33it/s]"
          ]
        },
        {
          "output_type": "stream",
          "name": "stdout",
          "text": [
            "2023-04-04 00:59:08,800 Evaluating as a multi-label problem: False\n"
          ]
        },
        {
          "output_type": "stream",
          "name": "stderr",
          "text": [
            "\n"
          ]
        },
        {
          "output_type": "stream",
          "name": "stdout",
          "text": [
            "2023-04-04 00:59:08,829 DEV : loss 0.0003090911777690053 - f1-score (micro avg)  0.6667\n",
            "2023-04-04 00:59:08,832 BAD EPOCHS (no improvement): 0\n",
            "2023-04-04 00:59:08,835 ----------------------------------------------------------------------------------------------------\n",
            "2023-04-04 00:59:08,841 epoch 67 - iter 1/1 - loss 0.00030909 - time (sec): 0.00 - samples/sec: 1061.31 - lr: 0.100000\n",
            "2023-04-04 00:59:08,844 ----------------------------------------------------------------------------------------------------\n",
            "2023-04-04 00:59:08,846 EPOCH 67 done: loss 0.0003 - lr 0.100000\n"
          ]
        },
        {
          "output_type": "stream",
          "name": "stderr",
          "text": [
            "100%|██████████| 1/1 [00:00<00:00, 274.96it/s]"
          ]
        },
        {
          "output_type": "stream",
          "name": "stdout",
          "text": [
            "2023-04-04 00:59:08,859 Evaluating as a multi-label problem: False\n"
          ]
        },
        {
          "output_type": "stream",
          "name": "stderr",
          "text": [
            "\n"
          ]
        },
        {
          "output_type": "stream",
          "name": "stdout",
          "text": [
            "2023-04-04 00:59:08,883 DEV : loss 0.0003047115751542151 - f1-score (micro avg)  0.6667\n",
            "2023-04-04 00:59:08,887 BAD EPOCHS (no improvement): 0\n",
            "2023-04-04 00:59:08,890 ----------------------------------------------------------------------------------------------------\n",
            "2023-04-04 00:59:08,898 epoch 68 - iter 1/1 - loss 0.00030471 - time (sec): 0.01 - samples/sec: 696.70 - lr: 0.100000\n",
            "2023-04-04 00:59:08,901 ----------------------------------------------------------------------------------------------------\n",
            "2023-04-04 00:59:08,904 EPOCH 68 done: loss 0.0003 - lr 0.100000\n"
          ]
        },
        {
          "output_type": "stream",
          "name": "stderr",
          "text": [
            "100%|██████████| 1/1 [00:00<00:00, 227.73it/s]"
          ]
        },
        {
          "output_type": "stream",
          "name": "stdout",
          "text": [
            "2023-04-04 00:59:08,918 Evaluating as a multi-label problem: False\n"
          ]
        },
        {
          "output_type": "stream",
          "name": "stderr",
          "text": [
            "\n"
          ]
        },
        {
          "output_type": "stream",
          "name": "stdout",
          "text": [
            "2023-04-04 00:59:08,948 DEV : loss 0.0003005107573699206 - f1-score (micro avg)  0.6667\n",
            "2023-04-04 00:59:08,953 BAD EPOCHS (no improvement): 0\n",
            "2023-04-04 00:59:08,957 ----------------------------------------------------------------------------------------------------\n",
            "2023-04-04 00:59:08,963 epoch 69 - iter 1/1 - loss 0.00030051 - time (sec): 0.00 - samples/sec: 926.05 - lr: 0.100000\n",
            "2023-04-04 00:59:08,967 ----------------------------------------------------------------------------------------------------\n",
            "2023-04-04 00:59:08,971 EPOCH 69 done: loss 0.0003 - lr 0.100000\n"
          ]
        },
        {
          "output_type": "stream",
          "name": "stderr",
          "text": [
            "100%|██████████| 1/1 [00:00<00:00, 233.37it/s]"
          ]
        },
        {
          "output_type": "stream",
          "name": "stdout",
          "text": [
            "2023-04-04 00:59:08,986 Evaluating as a multi-label problem: False\n"
          ]
        },
        {
          "output_type": "stream",
          "name": "stderr",
          "text": [
            "\n"
          ]
        },
        {
          "output_type": "stream",
          "name": "stdout",
          "text": [
            "2023-04-04 00:59:09,013 DEV : loss 0.0002963694860227406 - f1-score (micro avg)  0.6667\n",
            "2023-04-04 00:59:09,017 BAD EPOCHS (no improvement): 0\n",
            "2023-04-04 00:59:09,020 ----------------------------------------------------------------------------------------------------\n",
            "2023-04-04 00:59:09,028 epoch 70 - iter 1/1 - loss 0.00029637 - time (sec): 0.01 - samples/sec: 650.61 - lr: 0.100000\n",
            "2023-04-04 00:59:09,033 ----------------------------------------------------------------------------------------------------\n",
            "2023-04-04 00:59:09,035 EPOCH 70 done: loss 0.0003 - lr 0.100000\n"
          ]
        },
        {
          "output_type": "stream",
          "name": "stderr",
          "text": [
            "100%|██████████| 1/1 [00:00<00:00, 286.11it/s]"
          ]
        },
        {
          "output_type": "stream",
          "name": "stdout",
          "text": [
            "2023-04-04 00:59:09,052 Evaluating as a multi-label problem: False\n"
          ]
        },
        {
          "output_type": "stream",
          "name": "stderr",
          "text": [
            "\n"
          ]
        },
        {
          "output_type": "stream",
          "name": "stdout",
          "text": [
            "2023-04-04 00:59:09,078 DEV : loss 0.00029234736575745046 - f1-score (micro avg)  0.6667\n",
            "2023-04-04 00:59:09,083 BAD EPOCHS (no improvement): 0\n",
            "2023-04-04 00:59:09,086 ----------------------------------------------------------------------------------------------------\n",
            "2023-04-04 00:59:09,093 epoch 71 - iter 1/1 - loss 0.00029235 - time (sec): 0.00 - samples/sec: 936.23 - lr: 0.100000\n",
            "2023-04-04 00:59:09,096 ----------------------------------------------------------------------------------------------------\n",
            "2023-04-04 00:59:09,098 EPOCH 71 done: loss 0.0003 - lr 0.100000\n"
          ]
        },
        {
          "output_type": "stream",
          "name": "stderr",
          "text": [
            "100%|██████████| 1/1 [00:00<00:00, 225.05it/s]"
          ]
        },
        {
          "output_type": "stream",
          "name": "stdout",
          "text": [
            "2023-04-04 00:59:09,111 Evaluating as a multi-label problem: False\n"
          ]
        },
        {
          "output_type": "stream",
          "name": "stderr",
          "text": [
            "\n"
          ]
        },
        {
          "output_type": "stream",
          "name": "stdout",
          "text": [
            "2023-04-04 00:59:09,145 DEV : loss 0.0002884741988964379 - f1-score (micro avg)  0.6667\n",
            "2023-04-04 00:59:09,150 BAD EPOCHS (no improvement): 0\n",
            "2023-04-04 00:59:09,153 ----------------------------------------------------------------------------------------------------\n",
            "2023-04-04 00:59:09,161 epoch 72 - iter 1/1 - loss 0.00028847 - time (sec): 0.00 - samples/sec: 937.64 - lr: 0.100000\n",
            "2023-04-04 00:59:09,164 ----------------------------------------------------------------------------------------------------\n",
            "2023-04-04 00:59:09,167 EPOCH 72 done: loss 0.0003 - lr 0.100000\n"
          ]
        },
        {
          "output_type": "stream",
          "name": "stderr",
          "text": [
            "100%|██████████| 1/1 [00:00<00:00, 271.69it/s]"
          ]
        },
        {
          "output_type": "stream",
          "name": "stdout",
          "text": [
            "2023-04-04 00:59:09,178 Evaluating as a multi-label problem: False\n"
          ]
        },
        {
          "output_type": "stream",
          "name": "stderr",
          "text": [
            "\n"
          ]
        },
        {
          "output_type": "stream",
          "name": "stdout",
          "text": [
            "2023-04-04 00:59:09,207 DEV : loss 0.000284630834357813 - f1-score (micro avg)  0.6667\n",
            "2023-04-04 00:59:09,210 BAD EPOCHS (no improvement): 0\n",
            "2023-04-04 00:59:09,213 ----------------------------------------------------------------------------------------------------\n",
            "2023-04-04 00:59:09,219 epoch 73 - iter 1/1 - loss 0.00028463 - time (sec): 0.00 - samples/sec: 933.16 - lr: 0.100000\n",
            "2023-04-04 00:59:09,222 ----------------------------------------------------------------------------------------------------\n",
            "2023-04-04 00:59:09,225 EPOCH 73 done: loss 0.0003 - lr 0.100000\n"
          ]
        },
        {
          "output_type": "stream",
          "name": "stderr",
          "text": [
            "100%|██████████| 1/1 [00:00<00:00, 270.23it/s]"
          ]
        },
        {
          "output_type": "stream",
          "name": "stdout",
          "text": [
            "2023-04-04 00:59:09,235 Evaluating as a multi-label problem: False\n"
          ]
        },
        {
          "output_type": "stream",
          "name": "stderr",
          "text": [
            "\n"
          ]
        },
        {
          "output_type": "stream",
          "name": "stdout",
          "text": [
            "2023-04-04 00:59:09,265 DEV : loss 0.00028093636501580477 - f1-score (micro avg)  0.6667\n",
            "2023-04-04 00:59:09,269 BAD EPOCHS (no improvement): 0\n",
            "2023-04-04 00:59:09,273 ----------------------------------------------------------------------------------------------------\n",
            "2023-04-04 00:59:09,281 epoch 74 - iter 1/1 - loss 0.00028094 - time (sec): 0.01 - samples/sec: 712.80 - lr: 0.100000\n",
            "2023-04-04 00:59:09,285 ----------------------------------------------------------------------------------------------------\n",
            "2023-04-04 00:59:09,289 EPOCH 74 done: loss 0.0003 - lr 0.100000\n"
          ]
        },
        {
          "output_type": "stream",
          "name": "stderr",
          "text": [
            "100%|██████████| 1/1 [00:00<00:00, 140.99it/s]"
          ]
        },
        {
          "output_type": "stream",
          "name": "stdout",
          "text": [
            "2023-04-04 00:59:09,308 Evaluating as a multi-label problem: False\n"
          ]
        },
        {
          "output_type": "stream",
          "name": "stderr",
          "text": [
            "\n"
          ]
        },
        {
          "output_type": "stream",
          "name": "stdout",
          "text": [
            "2023-04-04 00:59:09,340 DEV : loss 0.0002773313317447901 - f1-score (micro avg)  0.6667\n",
            "2023-04-04 00:59:09,347 BAD EPOCHS (no improvement): 0\n",
            "2023-04-04 00:59:09,349 ----------------------------------------------------------------------------------------------------\n",
            "2023-04-04 00:59:09,359 epoch 75 - iter 1/1 - loss 0.00027733 - time (sec): 0.00 - samples/sec: 877.29 - lr: 0.100000\n",
            "2023-04-04 00:59:09,365 ----------------------------------------------------------------------------------------------------\n",
            "2023-04-04 00:59:09,366 EPOCH 75 done: loss 0.0003 - lr 0.100000\n"
          ]
        },
        {
          "output_type": "stream",
          "name": "stderr",
          "text": [
            "100%|██████████| 1/1 [00:00<00:00, 115.88it/s]"
          ]
        },
        {
          "output_type": "stream",
          "name": "stdout",
          "text": [
            "2023-04-04 00:59:09,398 Evaluating as a multi-label problem: False\n"
          ]
        },
        {
          "output_type": "stream",
          "name": "stderr",
          "text": [
            "\n"
          ]
        },
        {
          "output_type": "stream",
          "name": "stdout",
          "text": [
            "2023-04-04 00:59:09,447 DEV : loss 0.0002738454204518348 - f1-score (micro avg)  0.6667\n",
            "2023-04-04 00:59:09,455 BAD EPOCHS (no improvement): 0\n",
            "2023-04-04 00:59:09,461 ----------------------------------------------------------------------------------------------------\n",
            "2023-04-04 00:59:09,476 epoch 76 - iter 1/1 - loss 0.00027385 - time (sec): 0.01 - samples/sec: 510.61 - lr: 0.100000\n",
            "2023-04-04 00:59:09,481 ----------------------------------------------------------------------------------------------------\n",
            "2023-04-04 00:59:09,487 EPOCH 76 done: loss 0.0003 - lr 0.100000\n"
          ]
        },
        {
          "output_type": "stream",
          "name": "stderr",
          "text": [
            "100%|██████████| 1/1 [00:00<00:00, 148.46it/s]"
          ]
        },
        {
          "output_type": "stream",
          "name": "stdout",
          "text": [
            "2023-04-04 00:59:09,510 Evaluating as a multi-label problem: False\n",
            "2023-04-04 00:59:09,548 DEV : loss 0.0002704191138036549 - f1-score (micro avg)  0.6667\n",
            "2023-04-04 00:59:09,555 BAD EPOCHS (no improvement): 0\n",
            "2023-04-04 00:59:09,558 ----------------------------------------------------------------------------------------------------\n",
            "2023-04-04 00:59:09,568 epoch 77 - iter 1/1 - loss 0.00027042 - time (sec): 0.00 - samples/sec: 822.74 - lr: 0.100000\n",
            "2023-04-04 00:59:09,576 ----------------------------------------------------------------------------------------------------\n"
          ]
        },
        {
          "output_type": "stream",
          "name": "stderr",
          "text": [
            "\n"
          ]
        },
        {
          "output_type": "stream",
          "name": "stdout",
          "text": [
            "2023-04-04 00:59:09,583 EPOCH 77 done: loss 0.0003 - lr 0.100000\n"
          ]
        },
        {
          "output_type": "stream",
          "name": "stderr",
          "text": [
            "100%|██████████| 1/1 [00:00<00:00, 242.63it/s]"
          ]
        },
        {
          "output_type": "stream",
          "name": "stdout",
          "text": [
            "2023-04-04 00:59:09,611 Evaluating as a multi-label problem: False\n",
            "2023-04-04 00:59:09,663 DEV : loss 0.0002670523535925895 - f1-score (micro avg)  0.6667\n",
            "2023-04-04 00:59:09,669 BAD EPOCHS (no improvement): 0\n",
            "2023-04-04 00:59:09,673 ----------------------------------------------------------------------------------------------------\n",
            "2023-04-04 00:59:09,684 epoch 78 - iter 1/1 - loss 0.00026705 - time (sec): 0.00 - samples/sec: 840.54 - lr: 0.100000\n"
          ]
        },
        {
          "output_type": "stream",
          "name": "stderr",
          "text": [
            "\n"
          ]
        },
        {
          "output_type": "stream",
          "name": "stdout",
          "text": [
            "2023-04-04 00:59:09,692 ----------------------------------------------------------------------------------------------------\n",
            "2023-04-04 00:59:09,699 EPOCH 78 done: loss 0.0003 - lr 0.100000\n"
          ]
        },
        {
          "output_type": "stream",
          "name": "stderr",
          "text": [
            "100%|██████████| 1/1 [00:00<00:00, 334.63it/s]"
          ]
        },
        {
          "output_type": "stream",
          "name": "stdout",
          "text": [
            "2023-04-04 00:59:09,720 Evaluating as a multi-label problem: False\n",
            "2023-04-04 00:59:09,759 DEV : loss 0.0002638047735672444 - f1-score (micro avg)  0.6667\n",
            "2023-04-04 00:59:09,763 BAD EPOCHS (no improvement): 0\n",
            "2023-04-04 00:59:09,765 ----------------------------------------------------------------------------------------------------\n",
            "2023-04-04 00:59:09,772 epoch 79 - iter 1/1 - loss 0.00026380 - time (sec): 0.00 - samples/sec: 1003.72 - lr: 0.100000\n",
            "2023-04-04 00:59:09,775 ----------------------------------------------------------------------------------------------------\n",
            "2023-04-04 00:59:09,779 EPOCH 79 done: loss 0.0003 - lr 0.100000\n"
          ]
        },
        {
          "output_type": "stream",
          "name": "stderr",
          "text": [
            "\n",
            "100%|██████████| 1/1 [00:00<00:00, 343.43it/s]"
          ]
        },
        {
          "output_type": "stream",
          "name": "stdout",
          "text": [
            "2023-04-04 00:59:09,793 Evaluating as a multi-label problem: False\n"
          ]
        },
        {
          "output_type": "stream",
          "name": "stderr",
          "text": [
            "\n"
          ]
        },
        {
          "output_type": "stream",
          "name": "stdout",
          "text": [
            "2023-04-04 00:59:09,820 DEV : loss 0.00026064657140523195 - f1-score (micro avg)  0.6667\n",
            "2023-04-04 00:59:09,824 BAD EPOCHS (no improvement): 0\n",
            "2023-04-04 00:59:09,830 ----------------------------------------------------------------------------------------------------\n",
            "2023-04-04 00:59:09,841 epoch 80 - iter 1/1 - loss 0.00026065 - time (sec): 0.01 - samples/sec: 616.18 - lr: 0.100000\n",
            "2023-04-04 00:59:09,846 ----------------------------------------------------------------------------------------------------\n",
            "2023-04-04 00:59:09,848 EPOCH 80 done: loss 0.0003 - lr 0.100000\n"
          ]
        },
        {
          "output_type": "stream",
          "name": "stderr",
          "text": [
            "100%|██████████| 1/1 [00:00<00:00, 317.22it/s]"
          ]
        },
        {
          "output_type": "stream",
          "name": "stdout",
          "text": [
            "2023-04-04 00:59:09,867 Evaluating as a multi-label problem: False\n"
          ]
        },
        {
          "output_type": "stream",
          "name": "stderr",
          "text": [
            "\n"
          ]
        },
        {
          "output_type": "stream",
          "name": "stdout",
          "text": [
            "2023-04-04 00:59:09,905 DEV : loss 0.00025754791568033397 - f1-score (micro avg)  0.6667\n",
            "2023-04-04 00:59:09,917 BAD EPOCHS (no improvement): 0\n",
            "2023-04-04 00:59:09,922 ----------------------------------------------------------------------------------------------------\n",
            "2023-04-04 00:59:09,937 epoch 81 - iter 1/1 - loss 0.00025755 - time (sec): 0.01 - samples/sec: 342.98 - lr: 0.100000\n",
            "2023-04-04 00:59:09,941 ----------------------------------------------------------------------------------------------------\n",
            "2023-04-04 00:59:09,946 EPOCH 81 done: loss 0.0003 - lr 0.100000\n"
          ]
        },
        {
          "output_type": "stream",
          "name": "stderr",
          "text": [
            "100%|██████████| 1/1 [00:00<00:00, 93.82it/s]\n"
          ]
        },
        {
          "output_type": "stream",
          "name": "stdout",
          "text": [
            "2023-04-04 00:59:10,036 Evaluating as a multi-label problem: False\n",
            "2023-04-04 00:59:10,072 DEV : loss 0.00025453869602642953 - f1-score (micro avg)  0.6667\n",
            "2023-04-04 00:59:10,081 BAD EPOCHS (no improvement): 0\n",
            "2023-04-04 00:59:10,085 ----------------------------------------------------------------------------------------------------\n",
            "2023-04-04 00:59:10,097 epoch 82 - iter 1/1 - loss 0.00025454 - time (sec): 0.01 - samples/sec: 637.58 - lr: 0.100000\n",
            "2023-04-04 00:59:10,102 ----------------------------------------------------------------------------------------------------\n",
            "2023-04-04 00:59:10,107 EPOCH 82 done: loss 0.0003 - lr 0.100000\n"
          ]
        },
        {
          "output_type": "stream",
          "name": "stderr",
          "text": [
            "100%|██████████| 1/1 [00:00<00:00, 332.80it/s]"
          ]
        },
        {
          "output_type": "stream",
          "name": "stdout",
          "text": [
            "2023-04-04 00:59:10,127 Evaluating as a multi-label problem: False\n"
          ]
        },
        {
          "output_type": "stream",
          "name": "stderr",
          "text": [
            "\n"
          ]
        },
        {
          "output_type": "stream",
          "name": "stdout",
          "text": [
            "2023-04-04 00:59:10,167 DEV : loss 0.0002515592204872519 - f1-score (micro avg)  0.6667\n",
            "2023-04-04 00:59:10,173 BAD EPOCHS (no improvement): 0\n",
            "2023-04-04 00:59:10,175 ----------------------------------------------------------------------------------------------------\n",
            "2023-04-04 00:59:10,185 epoch 83 - iter 1/1 - loss 0.00025156 - time (sec): 0.01 - samples/sec: 709.04 - lr: 0.100000\n",
            "2023-04-04 00:59:10,190 ----------------------------------------------------------------------------------------------------\n",
            "2023-04-04 00:59:10,193 EPOCH 83 done: loss 0.0003 - lr 0.100000\n"
          ]
        },
        {
          "output_type": "stream",
          "name": "stderr",
          "text": [
            "100%|██████████| 1/1 [00:00<00:00, 252.68it/s]"
          ]
        },
        {
          "output_type": "stream",
          "name": "stdout",
          "text": [
            "2023-04-04 00:59:10,212 Evaluating as a multi-label problem: False\n",
            "2023-04-04 00:59:10,247 DEV : loss 0.00024866912281140685 - f1-score (micro avg)  0.6667\n",
            "2023-04-04 00:59:10,253 BAD EPOCHS (no improvement): 0\n",
            "2023-04-04 00:59:10,255 ----------------------------------------------------------------------------------------------------\n",
            "2023-04-04 00:59:10,265 epoch 84 - iter 1/1 - loss 0.00024867 - time (sec): 0.01 - samples/sec: 642.36 - lr: 0.100000\n",
            "2023-04-04 00:59:10,270 ----------------------------------------------------------------------------------------------------\n",
            "2023-04-04 00:59:10,275 EPOCH 84 done: loss 0.0002 - lr 0.100000\n"
          ]
        },
        {
          "output_type": "stream",
          "name": "stderr",
          "text": [
            "\n",
            "100%|██████████| 1/1 [00:00<00:00, 131.70it/s]"
          ]
        },
        {
          "output_type": "stream",
          "name": "stdout",
          "text": [
            "2023-04-04 00:59:10,295 Evaluating as a multi-label problem: False\n"
          ]
        },
        {
          "output_type": "stream",
          "name": "stderr",
          "text": [
            "\n"
          ]
        },
        {
          "output_type": "stream",
          "name": "stdout",
          "text": [
            "2023-04-04 00:59:10,329 DEV : loss 0.0002458386297803372 - f1-score (micro avg)  0.6667\n",
            "2023-04-04 00:59:10,334 BAD EPOCHS (no improvement): 0\n",
            "2023-04-04 00:59:10,336 ----------------------------------------------------------------------------------------------------\n",
            "2023-04-04 00:59:10,344 epoch 85 - iter 1/1 - loss 0.00024584 - time (sec): 0.00 - samples/sec: 812.57 - lr: 0.100000\n",
            "2023-04-04 00:59:10,348 ----------------------------------------------------------------------------------------------------\n",
            "2023-04-04 00:59:10,351 EPOCH 85 done: loss 0.0002 - lr 0.100000\n"
          ]
        },
        {
          "output_type": "stream",
          "name": "stderr",
          "text": [
            "100%|██████████| 1/1 [00:00<00:00, 301.84it/s]"
          ]
        },
        {
          "output_type": "stream",
          "name": "stdout",
          "text": [
            "2023-04-04 00:59:10,363 Evaluating as a multi-label problem: False\n",
            "2023-04-04 00:59:10,393 DEV : loss 0.00024309747095685452 - f1-score (micro avg)  0.6667\n",
            "2023-04-04 00:59:10,399 BAD EPOCHS (no improvement): 0\n"
          ]
        },
        {
          "output_type": "stream",
          "name": "stderr",
          "text": [
            "\n"
          ]
        },
        {
          "output_type": "stream",
          "name": "stdout",
          "text": [
            "2023-04-04 00:59:10,402 ----------------------------------------------------------------------------------------------------\n",
            "2023-04-04 00:59:10,412 epoch 86 - iter 1/1 - loss 0.00024310 - time (sec): 0.01 - samples/sec: 543.57 - lr: 0.100000\n",
            "2023-04-04 00:59:10,415 ----------------------------------------------------------------------------------------------------\n",
            "2023-04-04 00:59:10,418 EPOCH 86 done: loss 0.0002 - lr 0.100000\n"
          ]
        },
        {
          "output_type": "stream",
          "name": "stderr",
          "text": [
            "100%|██████████| 1/1 [00:00<00:00, 166.71it/s]"
          ]
        },
        {
          "output_type": "stream",
          "name": "stdout",
          "text": [
            "2023-04-04 00:59:10,432 Evaluating as a multi-label problem: False\n",
            "2023-04-04 00:59:10,464 DEV : loss 0.00024038612900767475 - f1-score (micro avg)  0.6667\n",
            "2023-04-04 00:59:10,467 BAD EPOCHS (no improvement): 0\n",
            "2023-04-04 00:59:10,469 ----------------------------------------------------------------------------------------------------\n",
            "2023-04-04 00:59:10,479 epoch 87 - iter 1/1 - loss 0.00024039 - time (sec): 0.00 - samples/sec: 808.07 - lr: 0.100000\n"
          ]
        },
        {
          "output_type": "stream",
          "name": "stderr",
          "text": [
            "\n"
          ]
        },
        {
          "output_type": "stream",
          "name": "stdout",
          "text": [
            "2023-04-04 00:59:10,482 ----------------------------------------------------------------------------------------------------\n",
            "2023-04-04 00:59:10,486 EPOCH 87 done: loss 0.0002 - lr 0.100000\n"
          ]
        },
        {
          "output_type": "stream",
          "name": "stderr",
          "text": [
            "100%|██████████| 1/1 [00:00<00:00, 210.89it/s]"
          ]
        },
        {
          "output_type": "stream",
          "name": "stdout",
          "text": [
            "2023-04-04 00:59:10,503 Evaluating as a multi-label problem: False\n",
            "2023-04-04 00:59:10,536 DEV : loss 0.00023776416492182761 - f1-score (micro avg)  0.6667\n",
            "2023-04-04 00:59:10,539 BAD EPOCHS (no improvement): 0\n",
            "2023-04-04 00:59:10,542 ----------------------------------------------------------------------------------------------------\n",
            "2023-04-04 00:59:10,549 epoch 88 - iter 1/1 - loss 0.00023776 - time (sec): 0.00 - samples/sec: 846.82 - lr: 0.100000\n",
            "2023-04-04 00:59:10,552 ----------------------------------------------------------------------------------------------------\n"
          ]
        },
        {
          "output_type": "stream",
          "name": "stderr",
          "text": [
            "\n"
          ]
        },
        {
          "output_type": "stream",
          "name": "stdout",
          "text": [
            "2023-04-04 00:59:10,557 EPOCH 88 done: loss 0.0002 - lr 0.100000\n"
          ]
        },
        {
          "output_type": "stream",
          "name": "stderr",
          "text": [
            "100%|██████████| 1/1 [00:00<00:00, 283.86it/s]"
          ]
        },
        {
          "output_type": "stream",
          "name": "stdout",
          "text": [
            "2023-04-04 00:59:10,568 Evaluating as a multi-label problem: False\n",
            "2023-04-04 00:59:10,602 DEV : loss 0.0002351719740545377 - f1-score (micro avg)  0.6667\n",
            "2023-04-04 00:59:10,605 BAD EPOCHS (no improvement): 0\n",
            "2023-04-04 00:59:10,608 ----------------------------------------------------------------------------------------------------\n",
            "2023-04-04 00:59:10,615 epoch 89 - iter 1/1 - loss 0.00023517 - time (sec): 0.00 - samples/sec: 910.02 - lr: 0.100000\n",
            "2023-04-04 00:59:10,620 ----------------------------------------------------------------------------------------------------\n"
          ]
        },
        {
          "output_type": "stream",
          "name": "stderr",
          "text": [
            "\n"
          ]
        },
        {
          "output_type": "stream",
          "name": "stdout",
          "text": [
            "2023-04-04 00:59:10,622 EPOCH 89 done: loss 0.0002 - lr 0.100000\n"
          ]
        },
        {
          "output_type": "stream",
          "name": "stderr",
          "text": [
            "100%|██████████| 1/1 [00:00<00:00, 336.95it/s]"
          ]
        },
        {
          "output_type": "stream",
          "name": "stdout",
          "text": [
            "2023-04-04 00:59:10,635 Evaluating as a multi-label problem: False\n",
            "2023-04-04 00:59:10,652 DEV : loss 0.00023263937328010798 - f1-score (micro avg)  0.6667\n",
            "2023-04-04 00:59:10,657 BAD EPOCHS (no improvement): 0\n",
            "2023-04-04 00:59:10,660 ----------------------------------------------------------------------------------------------------\n",
            "2023-04-04 00:59:10,669 epoch 90 - iter 1/1 - loss 0.00023264 - time (sec): 0.01 - samples/sec: 612.69 - lr: 0.100000\n",
            "2023-04-04 00:59:10,672 ----------------------------------------------------------------------------------------------------\n",
            "2023-04-04 00:59:10,675 EPOCH 90 done: loss 0.0002 - lr 0.100000\n"
          ]
        },
        {
          "output_type": "stream",
          "name": "stderr",
          "text": [
            "\n",
            "100%|██████████| 1/1 [00:00<00:00, 264.19it/s]"
          ]
        },
        {
          "output_type": "stream",
          "name": "stdout",
          "text": [
            "2023-04-04 00:59:10,691 Evaluating as a multi-label problem: False\n"
          ]
        },
        {
          "output_type": "stream",
          "name": "stderr",
          "text": [
            "\n"
          ]
        },
        {
          "output_type": "stream",
          "name": "stdout",
          "text": [
            "2023-04-04 00:59:10,716 DEV : loss 0.0002301663625985384 - f1-score (micro avg)  0.6667\n",
            "2023-04-04 00:59:10,720 BAD EPOCHS (no improvement): 0\n",
            "2023-04-04 00:59:10,723 ----------------------------------------------------------------------------------------------------\n",
            "2023-04-04 00:59:10,729 epoch 91 - iter 1/1 - loss 0.00023017 - time (sec): 0.00 - samples/sec: 1060.98 - lr: 0.100000\n",
            "2023-04-04 00:59:10,732 ----------------------------------------------------------------------------------------------------\n",
            "2023-04-04 00:59:10,734 EPOCH 91 done: loss 0.0002 - lr 0.100000\n"
          ]
        },
        {
          "output_type": "stream",
          "name": "stderr",
          "text": [
            "100%|██████████| 1/1 [00:00<00:00, 380.37it/s]"
          ]
        },
        {
          "output_type": "stream",
          "name": "stdout",
          "text": [
            "2023-04-04 00:59:10,746 Evaluating as a multi-label problem: False\n"
          ]
        },
        {
          "output_type": "stream",
          "name": "stderr",
          "text": [
            "\n"
          ]
        },
        {
          "output_type": "stream",
          "name": "stdout",
          "text": [
            "2023-04-04 00:59:10,772 DEV : loss 0.00022775294200982898 - f1-score (micro avg)  0.6667\n",
            "2023-04-04 00:59:10,776 BAD EPOCHS (no improvement): 0\n",
            "2023-04-04 00:59:10,778 ----------------------------------------------------------------------------------------------------\n",
            "2023-04-04 00:59:10,785 epoch 92 - iter 1/1 - loss 0.00022775 - time (sec): 0.00 - samples/sec: 1069.43 - lr: 0.100000\n",
            "2023-04-04 00:59:10,788 ----------------------------------------------------------------------------------------------------\n",
            "2023-04-04 00:59:10,790 EPOCH 92 done: loss 0.0002 - lr 0.100000\n"
          ]
        },
        {
          "output_type": "stream",
          "name": "stderr",
          "text": [
            "100%|██████████| 1/1 [00:00<00:00, 256.91it/s]"
          ]
        },
        {
          "output_type": "stream",
          "name": "stdout",
          "text": [
            "2023-04-04 00:59:10,806 Evaluating as a multi-label problem: False\n"
          ]
        },
        {
          "output_type": "stream",
          "name": "stderr",
          "text": [
            "\n"
          ]
        },
        {
          "output_type": "stream",
          "name": "stdout",
          "text": [
            "2023-04-04 00:59:10,837 DEV : loss 0.0002253692946396768 - f1-score (micro avg)  0.6667\n",
            "2023-04-04 00:59:10,842 BAD EPOCHS (no improvement): 0\n",
            "2023-04-04 00:59:10,845 ----------------------------------------------------------------------------------------------------\n",
            "2023-04-04 00:59:10,853 epoch 93 - iter 1/1 - loss 0.00022537 - time (sec): 0.01 - samples/sec: 680.09 - lr: 0.100000\n",
            "2023-04-04 00:59:10,857 ----------------------------------------------------------------------------------------------------\n",
            "2023-04-04 00:59:10,859 EPOCH 93 done: loss 0.0002 - lr 0.100000\n"
          ]
        },
        {
          "output_type": "stream",
          "name": "stderr",
          "text": [
            "100%|██████████| 1/1 [00:00<00:00, 281.36it/s]"
          ]
        },
        {
          "output_type": "stream",
          "name": "stdout",
          "text": [
            "2023-04-04 00:59:10,872 Evaluating as a multi-label problem: False\n"
          ]
        },
        {
          "output_type": "stream",
          "name": "stderr",
          "text": [
            "\n"
          ]
        },
        {
          "output_type": "stream",
          "name": "stdout",
          "text": [
            "2023-04-04 00:59:10,905 DEV : loss 0.00022304525191430002 - f1-score (micro avg)  0.6667\n",
            "2023-04-04 00:59:10,911 BAD EPOCHS (no improvement): 0\n",
            "2023-04-04 00:59:10,913 ----------------------------------------------------------------------------------------------------\n",
            "2023-04-04 00:59:10,923 epoch 94 - iter 1/1 - loss 0.00022305 - time (sec): 0.01 - samples/sec: 634.97 - lr: 0.100000\n",
            "2023-04-04 00:59:10,927 ----------------------------------------------------------------------------------------------------\n",
            "2023-04-04 00:59:10,930 EPOCH 94 done: loss 0.0002 - lr 0.100000\n"
          ]
        },
        {
          "output_type": "stream",
          "name": "stderr",
          "text": [
            "100%|██████████| 1/1 [00:00<00:00, 229.82it/s]\n"
          ]
        },
        {
          "output_type": "stream",
          "name": "stdout",
          "text": [
            "2023-04-04 00:59:10,948 Evaluating as a multi-label problem: False\n",
            "2023-04-04 00:59:10,971 DEV : loss 0.00022078077017795295 - f1-score (micro avg)  0.6667\n",
            "2023-04-04 00:59:10,975 BAD EPOCHS (no improvement): 0\n",
            "2023-04-04 00:59:10,979 ----------------------------------------------------------------------------------------------------\n",
            "2023-04-04 00:59:10,986 epoch 95 - iter 1/1 - loss 0.00022078 - time (sec): 0.00 - samples/sec: 820.48 - lr: 0.100000\n",
            "2023-04-04 00:59:10,988 ----------------------------------------------------------------------------------------------------\n",
            "2023-04-04 00:59:10,992 EPOCH 95 done: loss 0.0002 - lr 0.100000\n"
          ]
        },
        {
          "output_type": "stream",
          "name": "stderr",
          "text": [
            "100%|██████████| 1/1 [00:00<00:00, 316.41it/s]"
          ]
        },
        {
          "output_type": "stream",
          "name": "stdout",
          "text": [
            "2023-04-04 00:59:11,003 Evaluating as a multi-label problem: False\n"
          ]
        },
        {
          "output_type": "stream",
          "name": "stderr",
          "text": [
            "\n"
          ]
        },
        {
          "output_type": "stream",
          "name": "stdout",
          "text": [
            "2023-04-04 00:59:11,036 DEV : loss 0.0002185461053159088 - f1-score (micro avg)  0.6667\n",
            "2023-04-04 00:59:11,042 BAD EPOCHS (no improvement): 0\n",
            "2023-04-04 00:59:11,044 ----------------------------------------------------------------------------------------------------\n",
            "2023-04-04 00:59:11,054 epoch 96 - iter 1/1 - loss 0.00021855 - time (sec): 0.01 - samples/sec: 530.25 - lr: 0.100000\n",
            "2023-04-04 00:59:11,057 ----------------------------------------------------------------------------------------------------\n",
            "2023-04-04 00:59:11,059 EPOCH 96 done: loss 0.0002 - lr 0.100000\n"
          ]
        },
        {
          "output_type": "stream",
          "name": "stderr",
          "text": [
            "100%|██████████| 1/1 [00:00<00:00, 298.00it/s]"
          ]
        },
        {
          "output_type": "stream",
          "name": "stdout",
          "text": [
            "2023-04-04 00:59:11,070 Evaluating as a multi-label problem: False\n"
          ]
        },
        {
          "output_type": "stream",
          "name": "stderr",
          "text": [
            "\n"
          ]
        },
        {
          "output_type": "stream",
          "name": "stdout",
          "text": [
            "2023-04-04 00:59:11,101 DEV : loss 0.00021634121367242187 - f1-score (micro avg)  0.6667\n",
            "2023-04-04 00:59:11,105 BAD EPOCHS (no improvement): 0\n",
            "2023-04-04 00:59:11,108 ----------------------------------------------------------------------------------------------------\n",
            "2023-04-04 00:59:11,119 epoch 97 - iter 1/1 - loss 0.00021634 - time (sec): 0.01 - samples/sec: 529.75 - lr: 0.100000\n",
            "2023-04-04 00:59:11,121 ----------------------------------------------------------------------------------------------------\n",
            "2023-04-04 00:59:11,124 EPOCH 97 done: loss 0.0002 - lr 0.100000\n"
          ]
        },
        {
          "output_type": "stream",
          "name": "stderr",
          "text": [
            "100%|██████████| 1/1 [00:00<00:00, 246.64it/s]"
          ]
        },
        {
          "output_type": "stream",
          "name": "stdout",
          "text": [
            "2023-04-04 00:59:11,137 Evaluating as a multi-label problem: False\n"
          ]
        },
        {
          "output_type": "stream",
          "name": "stderr",
          "text": [
            "\n"
          ]
        },
        {
          "output_type": "stream",
          "name": "stdout",
          "text": [
            "2023-04-04 00:59:11,174 DEV : loss 0.00021425550221465528 - f1-score (micro avg)  0.6667\n",
            "2023-04-04 00:59:11,177 BAD EPOCHS (no improvement): 0\n",
            "2023-04-04 00:59:11,181 ----------------------------------------------------------------------------------------------------\n",
            "2023-04-04 00:59:11,188 epoch 98 - iter 1/1 - loss 0.00021426 - time (sec): 0.00 - samples/sec: 812.77 - lr: 0.100000\n",
            "2023-04-04 00:59:11,191 ----------------------------------------------------------------------------------------------------\n",
            "2023-04-04 00:59:11,194 EPOCH 98 done: loss 0.0002 - lr 0.100000\n"
          ]
        },
        {
          "output_type": "stream",
          "name": "stderr",
          "text": [
            "100%|██████████| 1/1 [00:00<00:00, 206.73it/s]"
          ]
        },
        {
          "output_type": "stream",
          "name": "stdout",
          "text": [
            "2023-04-04 00:59:11,209 Evaluating as a multi-label problem: False\n",
            "2023-04-04 00:59:11,235 DEV : loss 0.00021211020066402853 - f1-score (micro avg)  0.6667\n",
            "2023-04-04 00:59:11,238 BAD EPOCHS (no improvement): 0\n",
            "2023-04-04 00:59:11,243 ----------------------------------------------------------------------------------------------------\n",
            "2023-04-04 00:59:11,249 epoch 99 - iter 1/1 - loss 0.00021211 - time (sec): 0.00 - samples/sec: 1060.57 - lr: 0.100000\n",
            "2023-04-04 00:59:11,256 ----------------------------------------------------------------------------------------------------\n",
            "2023-04-04 00:59:11,258 EPOCH 99 done: loss 0.0002 - lr 0.100000\n"
          ]
        },
        {
          "output_type": "stream",
          "name": "stderr",
          "text": [
            "\n",
            "100%|██████████| 1/1 [00:00<00:00, 274.30it/s]"
          ]
        },
        {
          "output_type": "stream",
          "name": "stdout",
          "text": [
            "2023-04-04 00:59:11,272 Evaluating as a multi-label problem: False\n",
            "2023-04-04 00:59:11,302 DEV : loss 0.0002100840792991221 - f1-score (micro avg)  0.6667\n",
            "2023-04-04 00:59:11,305 BAD EPOCHS (no improvement): 0\n",
            "2023-04-04 00:59:11,308 ----------------------------------------------------------------------------------------------------\n",
            "2023-04-04 00:59:11,318 epoch 100 - iter 1/1 - loss 0.00021008 - time (sec): 0.01 - samples/sec: 749.52 - lr: 0.100000\n",
            "2023-04-04 00:59:11,322 ----------------------------------------------------------------------------------------------------\n",
            "2023-04-04 00:59:11,324 EPOCH 100 done: loss 0.0002 - lr 0.100000\n"
          ]
        },
        {
          "output_type": "stream",
          "name": "stderr",
          "text": [
            "\n",
            "100%|██████████| 1/1 [00:00<00:00, 325.54it/s]"
          ]
        },
        {
          "output_type": "stream",
          "name": "stdout",
          "text": [
            "2023-04-04 00:59:11,339 Evaluating as a multi-label problem: False\n",
            "2023-04-04 00:59:11,365 DEV : loss 0.00020805794338230044 - f1-score (micro avg)  0.6667\n",
            "2023-04-04 00:59:11,369 BAD EPOCHS (no improvement): 0\n",
            "2023-04-04 00:59:11,371 ----------------------------------------------------------------------------------------------------\n",
            "2023-04-04 00:59:11,377 epoch 101 - iter 1/1 - loss 0.00020806 - time (sec): 0.00 - samples/sec: 1023.50 - lr: 0.100000\n",
            "2023-04-04 00:59:11,380 ----------------------------------------------------------------------------------------------------\n",
            "2023-04-04 00:59:11,382 EPOCH 101 done: loss 0.0002 - lr 0.100000\n"
          ]
        },
        {
          "output_type": "stream",
          "name": "stderr",
          "text": [
            "\n",
            "100%|██████████| 1/1 [00:00<00:00, 169.43it/s]"
          ]
        },
        {
          "output_type": "stream",
          "name": "stdout",
          "text": [
            "2023-04-04 00:59:11,396 Evaluating as a multi-label problem: False\n"
          ]
        },
        {
          "output_type": "stream",
          "name": "stderr",
          "text": [
            "\n"
          ]
        },
        {
          "output_type": "stream",
          "name": "stdout",
          "text": [
            "2023-04-04 00:59:11,424 DEV : loss 0.00020609139755833894 - f1-score (micro avg)  0.6667\n",
            "2023-04-04 00:59:11,428 BAD EPOCHS (no improvement): 0\n",
            "2023-04-04 00:59:11,432 ----------------------------------------------------------------------------------------------------\n",
            "2023-04-04 00:59:11,438 epoch 102 - iter 1/1 - loss 0.00020609 - time (sec): 0.00 - samples/sec: 1029.53 - lr: 0.100000\n",
            "2023-04-04 00:59:11,443 ----------------------------------------------------------------------------------------------------\n",
            "2023-04-04 00:59:11,445 EPOCH 102 done: loss 0.0002 - lr 0.100000\n"
          ]
        },
        {
          "output_type": "stream",
          "name": "stderr",
          "text": [
            "100%|██████████| 1/1 [00:00<00:00, 271.67it/s]"
          ]
        },
        {
          "output_type": "stream",
          "name": "stdout",
          "text": [
            "2023-04-04 00:59:11,459 Evaluating as a multi-label problem: False\n"
          ]
        },
        {
          "output_type": "stream",
          "name": "stderr",
          "text": [
            "\n"
          ]
        },
        {
          "output_type": "stream",
          "name": "stdout",
          "text": [
            "2023-04-04 00:59:11,489 DEV : loss 0.00020415466860868037 - f1-score (micro avg)  0.6667\n",
            "2023-04-04 00:59:11,495 BAD EPOCHS (no improvement): 0\n",
            "2023-04-04 00:59:11,497 ----------------------------------------------------------------------------------------------------\n",
            "2023-04-04 00:59:11,505 epoch 103 - iter 1/1 - loss 0.00020415 - time (sec): 0.01 - samples/sec: 693.73 - lr: 0.100000\n",
            "2023-04-04 00:59:11,508 ----------------------------------------------------------------------------------------------------\n",
            "2023-04-04 00:59:11,510 EPOCH 103 done: loss 0.0002 - lr 0.100000\n"
          ]
        },
        {
          "output_type": "stream",
          "name": "stderr",
          "text": [
            "100%|██████████| 1/1 [00:00<00:00, 335.92it/s]"
          ]
        },
        {
          "output_type": "stream",
          "name": "stdout",
          "text": [
            "2023-04-04 00:59:11,525 Evaluating as a multi-label problem: False\n"
          ]
        },
        {
          "output_type": "stream",
          "name": "stderr",
          "text": [
            "\n"
          ]
        },
        {
          "output_type": "stream",
          "name": "stdout",
          "text": [
            "2023-04-04 00:59:11,557 DEV : loss 0.0002022476983256638 - f1-score (micro avg)  0.6667\n",
            "2023-04-04 00:59:11,560 BAD EPOCHS (no improvement): 0\n",
            "2023-04-04 00:59:11,563 ----------------------------------------------------------------------------------------------------\n",
            "2023-04-04 00:59:11,573 epoch 104 - iter 1/1 - loss 0.00020225 - time (sec): 0.01 - samples/sec: 500.71 - lr: 0.100000\n",
            "2023-04-04 00:59:11,577 ----------------------------------------------------------------------------------------------------\n",
            "2023-04-04 00:59:11,580 EPOCH 104 done: loss 0.0002 - lr 0.100000\n"
          ]
        },
        {
          "output_type": "stream",
          "name": "stderr",
          "text": [
            "100%|██████████| 1/1 [00:00<00:00, 192.67it/s]"
          ]
        },
        {
          "output_type": "stream",
          "name": "stdout",
          "text": [
            "2023-04-04 00:59:11,600 Evaluating as a multi-label problem: False\n",
            "2023-04-04 00:59:11,624 DEV : loss 0.00020031095482409 - f1-score (micro avg)  0.6667\n",
            "2023-04-04 00:59:11,629 BAD EPOCHS (no improvement): 0\n",
            "2023-04-04 00:59:11,632 ----------------------------------------------------------------------------------------------------\n",
            "2023-04-04 00:59:11,639 epoch 105 - iter 1/1 - loss 0.00020031 - time (sec): 0.01 - samples/sec: 731.35 - lr: 0.100000\n",
            "2023-04-04 00:59:11,643 ----------------------------------------------------------------------------------------------------\n",
            "2023-04-04 00:59:11,645 EPOCH 105 done: loss 0.0002 - lr 0.100000\n"
          ]
        },
        {
          "output_type": "stream",
          "name": "stderr",
          "text": [
            "\n",
            "100%|██████████| 1/1 [00:00<00:00, 288.96it/s]"
          ]
        },
        {
          "output_type": "stream",
          "name": "stdout",
          "text": [
            "2023-04-04 00:59:11,658 Evaluating as a multi-label problem: False\n"
          ]
        },
        {
          "output_type": "stream",
          "name": "stderr",
          "text": [
            "\n"
          ]
        },
        {
          "output_type": "stream",
          "name": "stdout",
          "text": [
            "2023-04-04 00:59:11,690 DEV : loss 0.00019852316472679377 - f1-score (micro avg)  0.6667\n",
            "2023-04-04 00:59:11,694 BAD EPOCHS (no improvement): 0\n",
            "2023-04-04 00:59:11,697 ----------------------------------------------------------------------------------------------------\n",
            "2023-04-04 00:59:11,704 epoch 106 - iter 1/1 - loss 0.00019852 - time (sec): 0.00 - samples/sec: 944.93 - lr: 0.100000\n",
            "2023-04-04 00:59:11,707 ----------------------------------------------------------------------------------------------------\n",
            "2023-04-04 00:59:11,709 EPOCH 106 done: loss 0.0002 - lr 0.100000\n"
          ]
        },
        {
          "output_type": "stream",
          "name": "stderr",
          "text": [
            "100%|██████████| 1/1 [00:00<00:00, 263.84it/s]"
          ]
        },
        {
          "output_type": "stream",
          "name": "stdout",
          "text": [
            "2023-04-04 00:59:11,723 Evaluating as a multi-label problem: False\n"
          ]
        },
        {
          "output_type": "stream",
          "name": "stderr",
          "text": [
            "\n"
          ]
        },
        {
          "output_type": "stream",
          "name": "stdout",
          "text": [
            "2023-04-04 00:59:11,752 DEV : loss 0.00019670558685902506 - f1-score (micro avg)  0.6667\n",
            "2023-04-04 00:59:11,756 BAD EPOCHS (no improvement): 0\n",
            "2023-04-04 00:59:11,759 ----------------------------------------------------------------------------------------------------\n",
            "2023-04-04 00:59:11,765 epoch 107 - iter 1/1 - loss 0.00019671 - time (sec): 0.00 - samples/sec: 943.07 - lr: 0.100000\n",
            "2023-04-04 00:59:11,769 ----------------------------------------------------------------------------------------------------\n",
            "2023-04-04 00:59:11,771 EPOCH 107 done: loss 0.0002 - lr 0.100000\n"
          ]
        },
        {
          "output_type": "stream",
          "name": "stderr",
          "text": [
            "100%|██████████| 1/1 [00:00<00:00, 297.87it/s]"
          ]
        },
        {
          "output_type": "stream",
          "name": "stdout",
          "text": [
            "2023-04-04 00:59:11,789 Evaluating as a multi-label problem: False\n"
          ]
        },
        {
          "output_type": "stream",
          "name": "stderr",
          "text": [
            "\n"
          ]
        },
        {
          "output_type": "stream",
          "name": "stdout",
          "text": [
            "2023-04-04 00:59:11,815 DEV : loss 0.00019497740140650421 - f1-score (micro avg)  0.6667\n",
            "2023-04-04 00:59:11,819 BAD EPOCHS (no improvement): 0\n",
            "2023-04-04 00:59:11,821 ----------------------------------------------------------------------------------------------------\n",
            "2023-04-04 00:59:11,829 epoch 108 - iter 1/1 - loss 0.00019498 - time (sec): 0.00 - samples/sec: 1058.37 - lr: 0.100000\n",
            "2023-04-04 00:59:11,831 ----------------------------------------------------------------------------------------------------\n",
            "2023-04-04 00:59:11,833 EPOCH 108 done: loss 0.0002 - lr 0.100000\n"
          ]
        },
        {
          "output_type": "stream",
          "name": "stderr",
          "text": [
            "100%|██████████| 1/1 [00:00<00:00, 392.76it/s]"
          ]
        },
        {
          "output_type": "stream",
          "name": "stdout",
          "text": [
            "2023-04-04 00:59:11,845 Evaluating as a multi-label problem: False\n"
          ]
        },
        {
          "output_type": "stream",
          "name": "stderr",
          "text": [
            "\n"
          ]
        },
        {
          "output_type": "stream",
          "name": "stdout",
          "text": [
            "2023-04-04 00:59:11,869 DEV : loss 0.00019318959675729275 - f1-score (micro avg)  0.6667\n",
            "2023-04-04 00:59:11,874 BAD EPOCHS (no improvement): 0\n",
            "2023-04-04 00:59:11,876 ----------------------------------------------------------------------------------------------------\n",
            "2023-04-04 00:59:11,885 epoch 109 - iter 1/1 - loss 0.00019319 - time (sec): 0.01 - samples/sec: 597.54 - lr: 0.100000\n",
            "2023-04-04 00:59:11,888 ----------------------------------------------------------------------------------------------------\n",
            "2023-04-04 00:59:11,891 EPOCH 109 done: loss 0.0002 - lr 0.100000\n"
          ]
        },
        {
          "output_type": "stream",
          "name": "stderr",
          "text": [
            "100%|██████████| 1/1 [00:00<00:00, 165.70it/s]"
          ]
        },
        {
          "output_type": "stream",
          "name": "stdout",
          "text": [
            "2023-04-04 00:59:11,905 Evaluating as a multi-label problem: False\n"
          ]
        },
        {
          "output_type": "stream",
          "name": "stderr",
          "text": [
            "\n"
          ]
        },
        {
          "output_type": "stream",
          "name": "stdout",
          "text": [
            "2023-04-04 00:59:11,936 DEV : loss 0.00019149118452332914 - f1-score (micro avg)  0.6667\n",
            "2023-04-04 00:59:11,942 BAD EPOCHS (no improvement): 0\n",
            "2023-04-04 00:59:11,945 ----------------------------------------------------------------------------------------------------\n",
            "2023-04-04 00:59:11,953 epoch 110 - iter 1/1 - loss 0.00019149 - time (sec): 0.01 - samples/sec: 702.39 - lr: 0.100000\n",
            "2023-04-04 00:59:11,956 ----------------------------------------------------------------------------------------------------\n",
            "2023-04-04 00:59:11,958 EPOCH 110 done: loss 0.0002 - lr 0.100000\n"
          ]
        },
        {
          "output_type": "stream",
          "name": "stderr",
          "text": [
            "100%|██████████| 1/1 [00:00<00:00, 280.91it/s]"
          ]
        },
        {
          "output_type": "stream",
          "name": "stdout",
          "text": [
            "2023-04-04 00:59:11,973 Evaluating as a multi-label problem: False\n"
          ]
        },
        {
          "output_type": "stream",
          "name": "stderr",
          "text": [
            "\n"
          ]
        },
        {
          "output_type": "stream",
          "name": "stdout",
          "text": [
            "2023-04-04 00:59:12,000 DEV : loss 0.00018982258916366845 - f1-score (micro avg)  0.6667\n",
            "2023-04-04 00:59:12,005 BAD EPOCHS (no improvement): 0\n",
            "2023-04-04 00:59:12,010 ----------------------------------------------------------------------------------------------------\n",
            "2023-04-04 00:59:12,018 epoch 111 - iter 1/1 - loss 0.00018982 - time (sec): 0.01 - samples/sec: 624.57 - lr: 0.100000\n",
            "2023-04-04 00:59:12,021 ----------------------------------------------------------------------------------------------------\n",
            "2023-04-04 00:59:12,023 EPOCH 111 done: loss 0.0002 - lr 0.100000\n"
          ]
        },
        {
          "output_type": "stream",
          "name": "stderr",
          "text": [
            "100%|██████████| 1/1 [00:00<00:00, 367.31it/s]"
          ]
        },
        {
          "output_type": "stream",
          "name": "stdout",
          "text": [
            "2023-04-04 00:59:12,038 Evaluating as a multi-label problem: False\n"
          ]
        },
        {
          "output_type": "stream",
          "name": "stderr",
          "text": [
            "\n"
          ]
        },
        {
          "output_type": "stream",
          "name": "stdout",
          "text": [
            "2023-04-04 00:59:12,065 DEV : loss 0.00018818378157448024 - f1-score (micro avg)  0.6667\n",
            "2023-04-04 00:59:12,069 BAD EPOCHS (no improvement): 0\n",
            "2023-04-04 00:59:12,072 ----------------------------------------------------------------------------------------------------\n",
            "2023-04-04 00:59:12,079 epoch 112 - iter 1/1 - loss 0.00018818 - time (sec): 0.00 - samples/sec: 1042.78 - lr: 0.100000\n",
            "2023-04-04 00:59:12,084 ----------------------------------------------------------------------------------------------------\n",
            "2023-04-04 00:59:12,087 EPOCH 112 done: loss 0.0002 - lr 0.100000\n"
          ]
        },
        {
          "output_type": "stream",
          "name": "stderr",
          "text": [
            "100%|██████████| 1/1 [00:00<00:00, 207.56it/s]"
          ]
        },
        {
          "output_type": "stream",
          "name": "stdout",
          "text": [
            "2023-04-04 00:59:12,100 Evaluating as a multi-label problem: False\n"
          ]
        },
        {
          "output_type": "stream",
          "name": "stderr",
          "text": [
            "\n"
          ]
        },
        {
          "output_type": "stream",
          "name": "stdout",
          "text": [
            "2023-04-04 00:59:12,130 DEV : loss 0.00018657476175576448 - f1-score (micro avg)  0.6667\n",
            "2023-04-04 00:59:12,134 BAD EPOCHS (no improvement): 0\n",
            "2023-04-04 00:59:12,136 ----------------------------------------------------------------------------------------------------\n",
            "2023-04-04 00:59:12,142 epoch 113 - iter 1/1 - loss 0.00018657 - time (sec): 0.00 - samples/sec: 1034.23 - lr: 0.100000\n",
            "2023-04-04 00:59:12,147 ----------------------------------------------------------------------------------------------------\n",
            "2023-04-04 00:59:12,150 EPOCH 113 done: loss 0.0002 - lr 0.100000\n"
          ]
        },
        {
          "output_type": "stream",
          "name": "stderr",
          "text": [
            "100%|██████████| 1/1 [00:00<00:00, 370.55it/s]"
          ]
        },
        {
          "output_type": "stream",
          "name": "stdout",
          "text": [
            "2023-04-04 00:59:12,162 Evaluating as a multi-label problem: False\n"
          ]
        },
        {
          "output_type": "stream",
          "name": "stderr",
          "text": [
            "\n"
          ]
        },
        {
          "output_type": "stream",
          "name": "stdout",
          "text": [
            "2023-04-04 00:59:12,190 DEV : loss 0.0001849657273851335 - f1-score (micro avg)  0.6667\n",
            "2023-04-04 00:59:12,194 BAD EPOCHS (no improvement): 0\n",
            "2023-04-04 00:59:12,197 ----------------------------------------------------------------------------------------------------\n",
            "2023-04-04 00:59:12,202 epoch 114 - iter 1/1 - loss 0.00018497 - time (sec): 0.00 - samples/sec: 1114.99 - lr: 0.100000\n",
            "2023-04-04 00:59:12,205 ----------------------------------------------------------------------------------------------------\n",
            "2023-04-04 00:59:12,207 EPOCH 114 done: loss 0.0002 - lr 0.100000\n"
          ]
        },
        {
          "output_type": "stream",
          "name": "stderr",
          "text": [
            "100%|██████████| 1/1 [00:00<00:00, 337.57it/s]"
          ]
        },
        {
          "output_type": "stream",
          "name": "stdout",
          "text": [
            "2023-04-04 00:59:12,217 Evaluating as a multi-label problem: False\n"
          ]
        },
        {
          "output_type": "stream",
          "name": "stderr",
          "text": [
            "\n"
          ]
        },
        {
          "output_type": "stream",
          "name": "stdout",
          "text": [
            "2023-04-04 00:59:12,245 DEV : loss 0.00018341629765927792 - f1-score (micro avg)  0.6667\n",
            "2023-04-04 00:59:12,248 BAD EPOCHS (no improvement): 0\n",
            "2023-04-04 00:59:12,251 ----------------------------------------------------------------------------------------------------\n",
            "2023-04-04 00:59:12,256 epoch 115 - iter 1/1 - loss 0.00018342 - time (sec): 0.00 - samples/sec: 1057.43 - lr: 0.100000\n",
            "2023-04-04 00:59:12,259 ----------------------------------------------------------------------------------------------------\n",
            "2023-04-04 00:59:12,261 EPOCH 115 done: loss 0.0002 - lr 0.100000\n"
          ]
        },
        {
          "output_type": "stream",
          "name": "stderr",
          "text": [
            "100%|██████████| 1/1 [00:00<00:00, 342.76it/s]"
          ]
        },
        {
          "output_type": "stream",
          "name": "stdout",
          "text": [
            "2023-04-04 00:59:12,274 Evaluating as a multi-label problem: False\n"
          ]
        },
        {
          "output_type": "stream",
          "name": "stderr",
          "text": [
            "\n"
          ]
        },
        {
          "output_type": "stream",
          "name": "stdout",
          "text": [
            "2023-04-04 00:59:12,300 DEV : loss 0.00018186686793342233 - f1-score (micro avg)  0.6667\n",
            "2023-04-04 00:59:12,304 BAD EPOCHS (no improvement): 0\n",
            "2023-04-04 00:59:12,308 ----------------------------------------------------------------------------------------------------\n",
            "2023-04-04 00:59:12,314 epoch 116 - iter 1/1 - loss 0.00018187 - time (sec): 0.00 - samples/sec: 1050.09 - lr: 0.100000\n",
            "2023-04-04 00:59:12,320 ----------------------------------------------------------------------------------------------------\n",
            "2023-04-04 00:59:12,322 EPOCH 116 done: loss 0.0002 - lr 0.100000\n"
          ]
        },
        {
          "output_type": "stream",
          "name": "stderr",
          "text": [
            "100%|██████████| 1/1 [00:00<00:00, 196.88it/s]"
          ]
        },
        {
          "output_type": "stream",
          "name": "stdout",
          "text": [
            "2023-04-04 00:59:12,336 Evaluating as a multi-label problem: False\n"
          ]
        },
        {
          "output_type": "stream",
          "name": "stderr",
          "text": [
            "\n"
          ]
        },
        {
          "output_type": "stream",
          "name": "stdout",
          "text": [
            "2023-04-04 00:59:12,370 DEV : loss 0.00018034724052995443 - f1-score (micro avg)  0.6667\n",
            "2023-04-04 00:59:12,373 BAD EPOCHS (no improvement): 0\n",
            "2023-04-04 00:59:12,376 ----------------------------------------------------------------------------------------------------\n",
            "2023-04-04 00:59:12,381 epoch 117 - iter 1/1 - loss 0.00018035 - time (sec): 0.00 - samples/sec: 1107.41 - lr: 0.100000\n",
            "2023-04-04 00:59:12,383 ----------------------------------------------------------------------------------------------------\n",
            "2023-04-04 00:59:12,385 EPOCH 117 done: loss 0.0002 - lr 0.100000\n"
          ]
        },
        {
          "output_type": "stream",
          "name": "stderr",
          "text": [
            "100%|██████████| 1/1 [00:00<00:00, 237.41it/s]"
          ]
        },
        {
          "output_type": "stream",
          "name": "stdout",
          "text": [
            "2023-04-04 00:59:12,399 Evaluating as a multi-label problem: False\n"
          ]
        },
        {
          "output_type": "stream",
          "name": "stderr",
          "text": [
            "\n"
          ]
        },
        {
          "output_type": "stream",
          "name": "stdout",
          "text": [
            "2023-04-04 00:59:12,431 DEV : loss 0.00017882758402265608 - f1-score (micro avg)  0.6667\n",
            "2023-04-04 00:59:12,435 BAD EPOCHS (no improvement): 0\n",
            "2023-04-04 00:59:12,439 ----------------------------------------------------------------------------------------------------\n",
            "2023-04-04 00:59:12,447 epoch 118 - iter 1/1 - loss 0.00017883 - time (sec): 0.01 - samples/sec: 763.64 - lr: 0.100000\n",
            "2023-04-04 00:59:12,450 ----------------------------------------------------------------------------------------------------\n",
            "2023-04-04 00:59:12,453 EPOCH 118 done: loss 0.0002 - lr 0.100000\n"
          ]
        },
        {
          "output_type": "stream",
          "name": "stderr",
          "text": [
            "100%|██████████| 1/1 [00:00<00:00, 203.90it/s]"
          ]
        },
        {
          "output_type": "stream",
          "name": "stdout",
          "text": [
            "2023-04-04 00:59:12,467 Evaluating as a multi-label problem: False\n"
          ]
        },
        {
          "output_type": "stream",
          "name": "stderr",
          "text": [
            "\n"
          ]
        },
        {
          "output_type": "stream",
          "name": "stdout",
          "text": [
            "2023-04-04 00:59:12,500 DEV : loss 0.0001773973199306056 - f1-score (micro avg)  0.6667\n",
            "2023-04-04 00:59:12,504 BAD EPOCHS (no improvement): 0\n",
            "2023-04-04 00:59:12,506 ----------------------------------------------------------------------------------------------------\n",
            "2023-04-04 00:59:12,516 epoch 119 - iter 1/1 - loss 0.00017740 - time (sec): 0.01 - samples/sec: 556.83 - lr: 0.100000\n",
            "2023-04-04 00:59:12,521 ----------------------------------------------------------------------------------------------------\n",
            "2023-04-04 00:59:12,524 EPOCH 119 done: loss 0.0002 - lr 0.100000\n"
          ]
        },
        {
          "output_type": "stream",
          "name": "stderr",
          "text": [
            "100%|██████████| 1/1 [00:00<00:00, 160.84it/s]"
          ]
        },
        {
          "output_type": "stream",
          "name": "stdout",
          "text": [
            "2023-04-04 00:59:12,539 Evaluating as a multi-label problem: False\n",
            "2023-04-04 00:59:12,564 DEV : loss 0.00017593728261999786 - f1-score (micro avg)  0.6667\n",
            "2023-04-04 00:59:12,568 BAD EPOCHS (no improvement): 0\n",
            "2023-04-04 00:59:12,570 ----------------------------------------------------------------------------------------------------\n",
            "2023-04-04 00:59:12,576 epoch 120 - iter 1/1 - loss 0.00017594 - time (sec): 0.00 - samples/sec: 1045.77 - lr: 0.100000\n",
            "2023-04-04 00:59:12,580 ----------------------------------------------------------------------------------------------------\n",
            "2023-04-04 00:59:12,583 EPOCH 120 done: loss 0.0002 - lr 0.100000\n"
          ]
        },
        {
          "output_type": "stream",
          "name": "stderr",
          "text": [
            "\n",
            "100%|██████████| 1/1 [00:00<00:00, 215.96it/s]"
          ]
        },
        {
          "output_type": "stream",
          "name": "stdout",
          "text": [
            "2023-04-04 00:59:12,599 Evaluating as a multi-label problem: False\n"
          ]
        },
        {
          "output_type": "stream",
          "name": "stderr",
          "text": [
            "\n"
          ]
        },
        {
          "output_type": "stream",
          "name": "stdout",
          "text": [
            "2023-04-04 00:59:12,629 DEV : loss 0.00017453680629841983 - f1-score (micro avg)  0.6667\n",
            "2023-04-04 00:59:12,632 BAD EPOCHS (no improvement): 0\n",
            "2023-04-04 00:59:12,635 ----------------------------------------------------------------------------------------------------\n",
            "2023-04-04 00:59:12,643 epoch 121 - iter 1/1 - loss 0.00017454 - time (sec): 0.01 - samples/sec: 796.37 - lr: 0.100000\n",
            "2023-04-04 00:59:12,646 ----------------------------------------------------------------------------------------------------\n",
            "2023-04-04 00:59:12,648 EPOCH 121 done: loss 0.0002 - lr 0.100000\n"
          ]
        },
        {
          "output_type": "stream",
          "name": "stderr",
          "text": [
            "100%|██████████| 1/1 [00:00<00:00, 347.50it/s]"
          ]
        },
        {
          "output_type": "stream",
          "name": "stdout",
          "text": [
            "2023-04-04 00:59:12,664 Evaluating as a multi-label problem: False\n"
          ]
        },
        {
          "output_type": "stream",
          "name": "stderr",
          "text": [
            "\n"
          ]
        },
        {
          "output_type": "stream",
          "name": "stdout",
          "text": [
            "2023-04-04 00:59:12,690 DEV : loss 0.00017313635908067226 - f1-score (micro avg)  0.6667\n",
            "2023-04-04 00:59:12,695 BAD EPOCHS (no improvement): 0\n",
            "2023-04-04 00:59:12,698 ----------------------------------------------------------------------------------------------------\n",
            "2023-04-04 00:59:12,705 epoch 122 - iter 1/1 - loss 0.00017314 - time (sec): 0.01 - samples/sec: 685.46 - lr: 0.100000\n",
            "2023-04-04 00:59:12,708 ----------------------------------------------------------------------------------------------------\n",
            "2023-04-04 00:59:12,711 EPOCH 122 done: loss 0.0002 - lr 0.100000\n"
          ]
        },
        {
          "output_type": "stream",
          "name": "stderr",
          "text": [
            "100%|██████████| 1/1 [00:00<00:00, 350.23it/s]"
          ]
        },
        {
          "output_type": "stream",
          "name": "stdout",
          "text": [
            "2023-04-04 00:59:12,722 Evaluating as a multi-label problem: False\n"
          ]
        },
        {
          "output_type": "stream",
          "name": "stderr",
          "text": [
            "\n"
          ]
        },
        {
          "output_type": "stream",
          "name": "stdout",
          "text": [
            "2023-04-04 00:59:12,748 DEV : loss 0.0001717954728519544 - f1-score (micro avg)  0.6667\n",
            "2023-04-04 00:59:12,754 BAD EPOCHS (no improvement): 0\n",
            "2023-04-04 00:59:12,756 ----------------------------------------------------------------------------------------------------\n",
            "2023-04-04 00:59:12,762 epoch 123 - iter 1/1 - loss 0.00017180 - time (sec): 0.00 - samples/sec: 1039.67 - lr: 0.100000\n",
            "2023-04-04 00:59:12,766 ----------------------------------------------------------------------------------------------------\n",
            "2023-04-04 00:59:12,768 EPOCH 123 done: loss 0.0002 - lr 0.100000\n"
          ]
        },
        {
          "output_type": "stream",
          "name": "stderr",
          "text": [
            "100%|██████████| 1/1 [00:00<00:00, 229.20it/s]"
          ]
        },
        {
          "output_type": "stream",
          "name": "stdout",
          "text": [
            "2023-04-04 00:59:12,780 Evaluating as a multi-label problem: False\n"
          ]
        },
        {
          "output_type": "stream",
          "name": "stderr",
          "text": [
            "\n"
          ]
        },
        {
          "output_type": "stream",
          "name": "stdout",
          "text": [
            "2023-04-04 00:59:12,807 DEV : loss 0.0001703950110822916 - f1-score (micro avg)  0.6667\n",
            "2023-04-04 00:59:12,813 BAD EPOCHS (no improvement): 0\n",
            "2023-04-04 00:59:12,815 ----------------------------------------------------------------------------------------------------\n",
            "2023-04-04 00:59:12,823 epoch 124 - iter 1/1 - loss 0.00017040 - time (sec): 0.00 - samples/sec: 1016.49 - lr: 0.100000\n",
            "2023-04-04 00:59:12,828 ----------------------------------------------------------------------------------------------------\n",
            "2023-04-04 00:59:12,831 EPOCH 124 done: loss 0.0002 - lr 0.100000\n"
          ]
        },
        {
          "output_type": "stream",
          "name": "stderr",
          "text": [
            "100%|██████████| 1/1 [00:00<00:00, 247.95it/s]"
          ]
        },
        {
          "output_type": "stream",
          "name": "stdout",
          "text": [
            "2023-04-04 00:59:12,843 Evaluating as a multi-label problem: False\n"
          ]
        },
        {
          "output_type": "stream",
          "name": "stderr",
          "text": [
            "\n"
          ]
        },
        {
          "output_type": "stream",
          "name": "stdout",
          "text": [
            "2023-04-04 00:59:12,874 DEV : loss 0.00016911374405026436 - f1-score (micro avg)  0.6667\n",
            "2023-04-04 00:59:12,878 BAD EPOCHS (no improvement): 0\n",
            "2023-04-04 00:59:12,883 ----------------------------------------------------------------------------------------------------\n",
            "2023-04-04 00:59:12,889 epoch 125 - iter 1/1 - loss 0.00016911 - time (sec): 0.00 - samples/sec: 968.21 - lr: 0.100000\n",
            "2023-04-04 00:59:12,894 ----------------------------------------------------------------------------------------------------\n",
            "2023-04-04 00:59:12,896 EPOCH 125 done: loss 0.0002 - lr 0.100000\n"
          ]
        },
        {
          "output_type": "stream",
          "name": "stderr",
          "text": [
            "100%|██████████| 1/1 [00:00<00:00, 190.27it/s]"
          ]
        },
        {
          "output_type": "stream",
          "name": "stdout",
          "text": [
            "2023-04-04 00:59:12,910 Evaluating as a multi-label problem: False\n"
          ]
        },
        {
          "output_type": "stream",
          "name": "stderr",
          "text": [
            "\n"
          ]
        },
        {
          "output_type": "stream",
          "name": "stdout",
          "text": [
            "2023-04-04 00:59:12,939 DEV : loss 0.0001677728578215465 - f1-score (micro avg)  0.6667\n",
            "2023-04-04 00:59:12,943 BAD EPOCHS (no improvement): 0\n",
            "2023-04-04 00:59:12,947 ----------------------------------------------------------------------------------------------------\n",
            "2023-04-04 00:59:12,953 epoch 126 - iter 1/1 - loss 0.00016777 - time (sec): 0.00 - samples/sec: 1004.14 - lr: 0.100000\n",
            "2023-04-04 00:59:12,956 ----------------------------------------------------------------------------------------------------\n",
            "2023-04-04 00:59:12,958 EPOCH 126 done: loss 0.0002 - lr 0.100000\n"
          ]
        },
        {
          "output_type": "stream",
          "name": "stderr",
          "text": [
            "100%|██████████| 1/1 [00:00<00:00, 292.20it/s]"
          ]
        },
        {
          "output_type": "stream",
          "name": "stdout",
          "text": [
            "2023-04-04 00:59:12,970 Evaluating as a multi-label problem: False\n"
          ]
        },
        {
          "output_type": "stream",
          "name": "stderr",
          "text": [
            "\n"
          ]
        },
        {
          "output_type": "stream",
          "name": "stdout",
          "text": [
            "2023-04-04 00:59:12,990 DEV : loss 0.00016649157623760402 - f1-score (micro avg)  0.6667\n",
            "2023-04-04 00:59:12,997 BAD EPOCHS (no improvement): 0\n",
            "2023-04-04 00:59:12,999 ----------------------------------------------------------------------------------------------------\n",
            "2023-04-04 00:59:13,007 epoch 127 - iter 1/1 - loss 0.00016649 - time (sec): 0.00 - samples/sec: 848.32 - lr: 0.100000\n",
            "2023-04-04 00:59:13,010 ----------------------------------------------------------------------------------------------------\n",
            "2023-04-04 00:59:13,012 EPOCH 127 done: loss 0.0002 - lr 0.100000\n"
          ]
        },
        {
          "output_type": "stream",
          "name": "stderr",
          "text": [
            "100%|██████████| 1/1 [00:00<00:00, 260.35it/s]"
          ]
        },
        {
          "output_type": "stream",
          "name": "stdout",
          "text": [
            "2023-04-04 00:59:13,023 Evaluating as a multi-label problem: False\n"
          ]
        },
        {
          "output_type": "stream",
          "name": "stderr",
          "text": [
            "\n"
          ]
        },
        {
          "output_type": "stream",
          "name": "stdout",
          "text": [
            "2023-04-04 00:59:13,043 DEV : loss 0.00016524008242413402 - f1-score (micro avg)  0.6667\n",
            "2023-04-04 00:59:13,046 BAD EPOCHS (no improvement): 0\n",
            "2023-04-04 00:59:13,049 ----------------------------------------------------------------------------------------------------\n",
            "2023-04-04 00:59:13,055 epoch 128 - iter 1/1 - loss 0.00016524 - time (sec): 0.01 - samples/sec: 789.63 - lr: 0.100000\n",
            "2023-04-04 00:59:13,058 ----------------------------------------------------------------------------------------------------\n",
            "2023-04-04 00:59:13,061 EPOCH 128 done: loss 0.0002 - lr 0.100000\n"
          ]
        },
        {
          "output_type": "stream",
          "name": "stderr",
          "text": [
            "100%|██████████| 1/1 [00:00<00:00, 292.84it/s]"
          ]
        },
        {
          "output_type": "stream",
          "name": "stdout",
          "text": [
            "2023-04-04 00:59:13,071 Evaluating as a multi-label problem: False\n",
            "2023-04-04 00:59:13,091 DEV : loss 0.00016398860316257924 - f1-score (micro avg)  0.6667\n",
            "2023-04-04 00:59:13,094 BAD EPOCHS (no improvement): 0\n",
            "2023-04-04 00:59:13,096 ----------------------------------------------------------------------------------------------------\n"
          ]
        },
        {
          "output_type": "stream",
          "name": "stderr",
          "text": [
            "\n"
          ]
        },
        {
          "output_type": "stream",
          "name": "stdout",
          "text": [
            "2023-04-04 00:59:13,103 epoch 129 - iter 1/1 - loss 0.00016399 - time (sec): 0.01 - samples/sec: 737.33 - lr: 0.100000\n",
            "2023-04-04 00:59:13,106 ----------------------------------------------------------------------------------------------------\n",
            "2023-04-04 00:59:13,108 EPOCH 129 done: loss 0.0002 - lr 0.100000\n"
          ]
        },
        {
          "output_type": "stream",
          "name": "stderr",
          "text": [
            "100%|██████████| 1/1 [00:00<00:00, 358.06it/s]"
          ]
        },
        {
          "output_type": "stream",
          "name": "stdout",
          "text": [
            "2023-04-04 00:59:13,117 Evaluating as a multi-label problem: False\n",
            "2023-04-04 00:59:13,143 DEV : loss 0.0001627668971195817 - f1-score (micro avg)  0.6667\n",
            "2023-04-04 00:59:13,148 BAD EPOCHS (no improvement): 0\n",
            "2023-04-04 00:59:13,151 ----------------------------------------------------------------------------------------------------\n",
            "2023-04-04 00:59:13,157 epoch 130 - iter 1/1 - loss 0.00016277 - time (sec): 0.00 - samples/sec: 1041.67 - lr: 0.100000\n",
            "2023-04-04 00:59:13,159 ----------------------------------------------------------------------------------------------------\n",
            "2023-04-04 00:59:13,161 EPOCH 130 done: loss 0.0002 - lr 0.100000\n"
          ]
        },
        {
          "output_type": "stream",
          "name": "stderr",
          "text": [
            "\n",
            "100%|██████████| 1/1 [00:00<00:00, 395.69it/s]"
          ]
        },
        {
          "output_type": "stream",
          "name": "stdout",
          "text": [
            "2023-04-04 00:59:13,172 Evaluating as a multi-label problem: False\n",
            "2023-04-04 00:59:13,193 DEV : loss 0.00016154522018041462 - f1-score (micro avg)  0.6667\n",
            "2023-04-04 00:59:13,196 BAD EPOCHS (no improvement): 0\n",
            "2023-04-04 00:59:13,198 ----------------------------------------------------------------------------------------------------\n",
            "2023-04-04 00:59:13,204 epoch 131 - iter 1/1 - loss 0.00016155 - time (sec): 0.00 - samples/sec: 1111.00 - lr: 0.100000\n",
            "2023-04-04 00:59:13,206 ----------------------------------------------------------------------------------------------------\n",
            "2023-04-04 00:59:13,208 EPOCH 131 done: loss 0.0002 - lr 0.100000\n"
          ]
        },
        {
          "output_type": "stream",
          "name": "stderr",
          "text": [
            "\n",
            "100%|██████████| 1/1 [00:00<00:00, 322.32it/s]"
          ]
        },
        {
          "output_type": "stream",
          "name": "stdout",
          "text": [
            "2023-04-04 00:59:13,219 Evaluating as a multi-label problem: False\n"
          ]
        },
        {
          "output_type": "stream",
          "name": "stderr",
          "text": [
            "\n"
          ]
        },
        {
          "output_type": "stream",
          "name": "stdout",
          "text": [
            "2023-04-04 00:59:13,239 DEV : loss 0.00016032351413741708 - f1-score (micro avg)  0.6667\n",
            "2023-04-04 00:59:13,242 BAD EPOCHS (no improvement): 0\n",
            "2023-04-04 00:59:13,245 ----------------------------------------------------------------------------------------------------\n",
            "2023-04-04 00:59:13,251 epoch 132 - iter 1/1 - loss 0.00016032 - time (sec): 0.00 - samples/sec: 985.16 - lr: 0.100000\n",
            "2023-04-04 00:59:13,253 ----------------------------------------------------------------------------------------------------\n",
            "2023-04-04 00:59:13,255 EPOCH 132 done: loss 0.0002 - lr 0.100000\n"
          ]
        },
        {
          "output_type": "stream",
          "name": "stderr",
          "text": [
            "100%|██████████| 1/1 [00:00<00:00, 211.37it/s]\n"
          ]
        },
        {
          "output_type": "stream",
          "name": "stdout",
          "text": [
            "2023-04-04 00:59:13,273 Evaluating as a multi-label problem: False\n",
            "2023-04-04 00:59:13,306 DEV : loss 0.00015916141273919493 - f1-score (micro avg)  0.6667\n",
            "2023-04-04 00:59:13,313 BAD EPOCHS (no improvement): 0\n",
            "2023-04-04 00:59:13,315 ----------------------------------------------------------------------------------------------------\n",
            "2023-04-04 00:59:13,325 epoch 133 - iter 1/1 - loss 0.00015916 - time (sec): 0.00 - samples/sec: 999.95 - lr: 0.100000\n",
            "2023-04-04 00:59:13,328 ----------------------------------------------------------------------------------------------------\n",
            "2023-04-04 00:59:13,330 EPOCH 133 done: loss 0.0002 - lr 0.100000\n"
          ]
        },
        {
          "output_type": "stream",
          "name": "stderr",
          "text": [
            "100%|██████████| 1/1 [00:00<00:00, 355.99it/s]"
          ]
        },
        {
          "output_type": "stream",
          "name": "stdout",
          "text": [
            "2023-04-04 00:59:13,340 Evaluating as a multi-label problem: False\n",
            "2023-04-04 00:59:13,359 DEV : loss 0.00015796950901858509 - f1-score (micro avg)  0.6667\n",
            "2023-04-04 00:59:13,362 BAD EPOCHS (no improvement): 0\n",
            "2023-04-04 00:59:13,364 ----------------------------------------------------------------------------------------------------\n"
          ]
        },
        {
          "output_type": "stream",
          "name": "stderr",
          "text": [
            "\n"
          ]
        },
        {
          "output_type": "stream",
          "name": "stdout",
          "text": [
            "2023-04-04 00:59:13,371 epoch 134 - iter 1/1 - loss 0.00015797 - time (sec): 0.00 - samples/sec: 1039.09 - lr: 0.100000\n",
            "2023-04-04 00:59:13,373 ----------------------------------------------------------------------------------------------------\n",
            "2023-04-04 00:59:13,375 EPOCH 134 done: loss 0.0002 - lr 0.100000\n"
          ]
        },
        {
          "output_type": "stream",
          "name": "stderr",
          "text": [
            "100%|██████████| 1/1 [00:00<00:00, 303.12it/s]"
          ]
        },
        {
          "output_type": "stream",
          "name": "stdout",
          "text": [
            "2023-04-04 00:59:13,386 Evaluating as a multi-label problem: False\n",
            "2023-04-04 00:59:13,404 DEV : loss 0.0001568669977132231 - f1-score (micro avg)  0.6667\n",
            "2023-04-04 00:59:13,407 BAD EPOCHS (no improvement): 0\n",
            "2023-04-04 00:59:13,409 ----------------------------------------------------------------------------------------------------\n"
          ]
        },
        {
          "output_type": "stream",
          "name": "stderr",
          "text": [
            "\n"
          ]
        },
        {
          "output_type": "stream",
          "name": "stdout",
          "text": [
            "2023-04-04 00:59:13,416 epoch 135 - iter 1/1 - loss 0.00015687 - time (sec): 0.00 - samples/sec: 866.95 - lr: 0.100000\n",
            "2023-04-04 00:59:13,419 ----------------------------------------------------------------------------------------------------\n",
            "2023-04-04 00:59:13,420 EPOCH 135 done: loss 0.0002 - lr 0.100000\n"
          ]
        },
        {
          "output_type": "stream",
          "name": "stderr",
          "text": [
            "100%|██████████| 1/1 [00:00<00:00, 331.75it/s]"
          ]
        },
        {
          "output_type": "stream",
          "name": "stdout",
          "text": [
            "2023-04-04 00:59:13,431 Evaluating as a multi-label problem: False\n",
            "2023-04-04 00:59:13,452 DEV : loss 0.0001557644864078611 - f1-score (micro avg)  0.6667\n",
            "2023-04-04 00:59:13,455 BAD EPOCHS (no improvement): 0\n"
          ]
        },
        {
          "output_type": "stream",
          "name": "stderr",
          "text": [
            "\n"
          ]
        },
        {
          "output_type": "stream",
          "name": "stdout",
          "text": [
            "2023-04-04 00:59:13,465 ----------------------------------------------------------------------------------------------------\n",
            "2023-04-04 00:59:13,471 epoch 136 - iter 1/1 - loss 0.00015576 - time (sec): 0.00 - samples/sec: 1071.68 - lr: 0.100000\n",
            "2023-04-04 00:59:13,476 ----------------------------------------------------------------------------------------------------\n",
            "2023-04-04 00:59:13,478 EPOCH 136 done: loss 0.0002 - lr 0.100000\n"
          ]
        },
        {
          "output_type": "stream",
          "name": "stderr",
          "text": [
            "100%|██████████| 1/1 [00:00<00:00, 180.56it/s]"
          ]
        },
        {
          "output_type": "stream",
          "name": "stdout",
          "text": [
            "2023-04-04 00:59:13,494 Evaluating as a multi-label problem: False\n",
            "2023-04-04 00:59:13,513 DEV : loss 0.00015463217278011143 - f1-score (micro avg)  0.6667\n",
            "2023-04-04 00:59:13,516 BAD EPOCHS (no improvement): 0\n",
            "2023-04-04 00:59:13,518 ----------------------------------------------------------------------------------------------------\n",
            "2023-04-04 00:59:13,523 epoch 137 - iter 1/1 - loss 0.00015463 - time (sec): 0.00 - samples/sec: 1070.93 - lr: 0.100000\n",
            "2023-04-04 00:59:13,526 ----------------------------------------------------------------------------------------------------\n",
            "2023-04-04 00:59:13,528 EPOCH 137 done: loss 0.0002 - lr 0.100000\n"
          ]
        },
        {
          "output_type": "stream",
          "name": "stderr",
          "text": [
            "\n",
            "100%|██████████| 1/1 [00:00<00:00, 378.07it/s]"
          ]
        },
        {
          "output_type": "stream",
          "name": "stdout",
          "text": [
            "2023-04-04 00:59:13,539 Evaluating as a multi-label problem: False\n"
          ]
        },
        {
          "output_type": "stream",
          "name": "stderr",
          "text": [
            "\n"
          ]
        },
        {
          "output_type": "stream",
          "name": "stdout",
          "text": [
            "2023-04-04 00:59:13,557 DEV : loss 0.00015352966147474945 - f1-score (micro avg)  0.6667\n",
            "2023-04-04 00:59:13,560 BAD EPOCHS (no improvement): 0\n",
            "2023-04-04 00:59:13,562 ----------------------------------------------------------------------------------------------------\n",
            "2023-04-04 00:59:13,568 epoch 138 - iter 1/1 - loss 0.00015353 - time (sec): 0.00 - samples/sec: 1050.02 - lr: 0.100000\n",
            "2023-04-04 00:59:13,571 ----------------------------------------------------------------------------------------------------\n",
            "2023-04-04 00:59:13,573 EPOCH 138 done: loss 0.0002 - lr 0.100000\n"
          ]
        },
        {
          "output_type": "stream",
          "name": "stderr",
          "text": [
            "100%|██████████| 1/1 [00:00<00:00, 252.21it/s]"
          ]
        },
        {
          "output_type": "stream",
          "name": "stdout",
          "text": [
            "2023-04-04 00:59:13,586 Evaluating as a multi-label problem: False\n"
          ]
        },
        {
          "output_type": "stream",
          "name": "stderr",
          "text": [
            "\n"
          ]
        },
        {
          "output_type": "stream",
          "name": "stdout",
          "text": [
            "2023-04-04 00:59:13,608 DEV : loss 0.00015248674026224762 - f1-score (micro avg)  0.6667\n",
            "2023-04-04 00:59:13,611 BAD EPOCHS (no improvement): 0\n",
            "2023-04-04 00:59:13,613 ----------------------------------------------------------------------------------------------------\n",
            "2023-04-04 00:59:13,619 epoch 139 - iter 1/1 - loss 0.00015249 - time (sec): 0.00 - samples/sec: 1064.61 - lr: 0.100000\n",
            "2023-04-04 00:59:13,624 ----------------------------------------------------------------------------------------------------\n",
            "2023-04-04 00:59:13,626 EPOCH 139 done: loss 0.0002 - lr 0.100000\n"
          ]
        },
        {
          "output_type": "stream",
          "name": "stderr",
          "text": [
            "100%|██████████| 1/1 [00:00<00:00, 157.21it/s]"
          ]
        },
        {
          "output_type": "stream",
          "name": "stdout",
          "text": [
            "2023-04-04 00:59:13,645 Evaluating as a multi-label problem: False\n",
            "2023-04-04 00:59:13,669 DEV : loss 0.00015138422895688564 - f1-score (micro avg)  0.6667\n",
            "2023-04-04 00:59:13,672 BAD EPOCHS (no improvement): 0\n",
            "2023-04-04 00:59:13,674 ----------------------------------------------------------------------------------------------------\n",
            "2023-04-04 00:59:13,681 epoch 140 - iter 1/1 - loss 0.00015138 - time (sec): 0.00 - samples/sec: 990.92 - lr: 0.100000\n",
            "2023-04-04 00:59:13,683 ----------------------------------------------------------------------------------------------------\n"
          ]
        },
        {
          "output_type": "stream",
          "name": "stderr",
          "text": [
            "\n"
          ]
        },
        {
          "output_type": "stream",
          "name": "stdout",
          "text": [
            "2023-04-04 00:59:13,686 EPOCH 140 done: loss 0.0002 - lr 0.100000\n"
          ]
        },
        {
          "output_type": "stream",
          "name": "stderr",
          "text": [
            "100%|██████████| 1/1 [00:00<00:00, 298.87it/s]"
          ]
        },
        {
          "output_type": "stream",
          "name": "stdout",
          "text": [
            "2023-04-04 00:59:13,697 Evaluating as a multi-label problem: False\n",
            "2023-04-04 00:59:13,717 DEV : loss 0.0001503413077443838 - f1-score (micro avg)  0.6667\n",
            "2023-04-04 00:59:13,720 BAD EPOCHS (no improvement): 0\n",
            "2023-04-04 00:59:13,723 ----------------------------------------------------------------------------------------------------\n",
            "2023-04-04 00:59:13,728 epoch 141 - iter 1/1 - loss 0.00015034 - time (sec): 0.00 - samples/sec: 1091.56 - lr: 0.100000\n",
            "2023-04-04 00:59:13,730 ----------------------------------------------------------------------------------------------------\n"
          ]
        },
        {
          "output_type": "stream",
          "name": "stderr",
          "text": [
            "\n"
          ]
        },
        {
          "output_type": "stream",
          "name": "stdout",
          "text": [
            "2023-04-04 00:59:13,732 EPOCH 141 done: loss 0.0002 - lr 0.100000\n"
          ]
        },
        {
          "output_type": "stream",
          "name": "stderr",
          "text": [
            "100%|██████████| 1/1 [00:00<00:00, 308.72it/s]"
          ]
        },
        {
          "output_type": "stream",
          "name": "stdout",
          "text": [
            "2023-04-04 00:59:13,743 Evaluating as a multi-label problem: False\n",
            "2023-04-04 00:59:13,762 DEV : loss 0.00014929837197996676 - f1-score (micro avg)  0.6667\n",
            "2023-04-04 00:59:13,766 BAD EPOCHS (no improvement): 0\n",
            "2023-04-04 00:59:13,768 ----------------------------------------------------------------------------------------------------\n"
          ]
        },
        {
          "output_type": "stream",
          "name": "stderr",
          "text": [
            "\n"
          ]
        },
        {
          "output_type": "stream",
          "name": "stdout",
          "text": [
            "2023-04-04 00:59:13,778 epoch 142 - iter 1/1 - loss 0.00014930 - time (sec): 0.01 - samples/sec: 570.65 - lr: 0.100000\n",
            "2023-04-04 00:59:13,782 ----------------------------------------------------------------------------------------------------\n",
            "2023-04-04 00:59:13,784 EPOCH 142 done: loss 0.0001 - lr 0.100000\n"
          ]
        },
        {
          "output_type": "stream",
          "name": "stderr",
          "text": [
            "100%|██████████| 1/1 [00:00<00:00, 295.14it/s]"
          ]
        },
        {
          "output_type": "stream",
          "name": "stdout",
          "text": [
            "2023-04-04 00:59:13,794 Evaluating as a multi-label problem: False\n",
            "2023-04-04 00:59:13,815 DEV : loss 0.00014828526764176786 - f1-score (micro avg)  0.6667\n",
            "2023-04-04 00:59:13,818 BAD EPOCHS (no improvement): 0\n",
            "2023-04-04 00:59:13,821 ----------------------------------------------------------------------------------------------------\n",
            "2023-04-04 00:59:13,827 epoch 143 - iter 1/1 - loss 0.00014829 - time (sec): 0.00 - samples/sec: 1018.41 - lr: 0.100000\n",
            "2023-04-04 00:59:13,829 ----------------------------------------------------------------------------------------------------\n",
            "2023-04-04 00:59:13,832 EPOCH 143 done: loss 0.0001 - lr 0.100000\n"
          ]
        },
        {
          "output_type": "stream",
          "name": "stderr",
          "text": [
            "\n",
            "100%|██████████| 1/1 [00:00<00:00, 308.31it/s]"
          ]
        },
        {
          "output_type": "stream",
          "name": "stdout",
          "text": [
            "2023-04-04 00:59:13,843 Evaluating as a multi-label problem: False\n"
          ]
        },
        {
          "output_type": "stream",
          "name": "stderr",
          "text": [
            "\n"
          ]
        },
        {
          "output_type": "stream",
          "name": "stdout",
          "text": [
            "2023-04-04 00:59:13,863 DEV : loss 0.0001472721341997385 - f1-score (micro avg)  0.6667\n",
            "2023-04-04 00:59:13,866 BAD EPOCHS (no improvement): 0\n",
            "2023-04-04 00:59:13,868 ----------------------------------------------------------------------------------------------------\n",
            "2023-04-04 00:59:13,875 epoch 144 - iter 1/1 - loss 0.00014727 - time (sec): 0.00 - samples/sec: 990.22 - lr: 0.100000\n",
            "2023-04-04 00:59:13,878 ----------------------------------------------------------------------------------------------------\n",
            "2023-04-04 00:59:13,880 EPOCH 144 done: loss 0.0001 - lr 0.100000\n"
          ]
        },
        {
          "output_type": "stream",
          "name": "stderr",
          "text": [
            "100%|██████████| 1/1 [00:00<00:00, 348.08it/s]"
          ]
        },
        {
          "output_type": "stream",
          "name": "stdout",
          "text": [
            "2023-04-04 00:59:13,892 Evaluating as a multi-label problem: False\n"
          ]
        },
        {
          "output_type": "stream",
          "name": "stderr",
          "text": [
            "\n"
          ]
        },
        {
          "output_type": "stream",
          "name": "stdout",
          "text": [
            "2023-04-04 00:59:13,915 DEV : loss 0.00014628880308009684 - f1-score (micro avg)  0.6667\n",
            "2023-04-04 00:59:13,918 BAD EPOCHS (no improvement): 0\n",
            "2023-04-04 00:59:13,920 ----------------------------------------------------------------------------------------------------\n",
            "2023-04-04 00:59:13,927 epoch 145 - iter 1/1 - loss 0.00014629 - time (sec): 0.00 - samples/sec: 1011.41 - lr: 0.100000\n",
            "2023-04-04 00:59:13,933 ----------------------------------------------------------------------------------------------------\n",
            "2023-04-04 00:59:13,936 EPOCH 145 done: loss 0.0001 - lr 0.100000\n"
          ]
        },
        {
          "output_type": "stream",
          "name": "stderr",
          "text": [
            "100%|██████████| 1/1 [00:00<00:00, 338.47it/s]"
          ]
        },
        {
          "output_type": "stream",
          "name": "stdout",
          "text": [
            "2023-04-04 00:59:13,952 Evaluating as a multi-label problem: False\n",
            "2023-04-04 00:59:13,987 DEV : loss 0.00014530547196045518 - f1-score (micro avg)  0.6667\n"
          ]
        },
        {
          "output_type": "stream",
          "name": "stderr",
          "text": [
            "\n"
          ]
        },
        {
          "output_type": "stream",
          "name": "stdout",
          "text": [
            "2023-04-04 00:59:13,991 BAD EPOCHS (no improvement): 0\n",
            "2023-04-04 00:59:13,993 ----------------------------------------------------------------------------------------------------\n",
            "2023-04-04 00:59:14,000 epoch 146 - iter 1/1 - loss 0.00014531 - time (sec): 0.00 - samples/sec: 1019.83 - lr: 0.100000\n",
            "2023-04-04 00:59:14,002 ----------------------------------------------------------------------------------------------------\n",
            "2023-04-04 00:59:14,005 EPOCH 146 done: loss 0.0001 - lr 0.100000\n"
          ]
        },
        {
          "output_type": "stream",
          "name": "stderr",
          "text": [
            "100%|██████████| 1/1 [00:00<00:00, 277.51it/s]"
          ]
        },
        {
          "output_type": "stream",
          "name": "stdout",
          "text": [
            "2023-04-04 00:59:14,017 Evaluating as a multi-label problem: False\n"
          ]
        },
        {
          "output_type": "stream",
          "name": "stderr",
          "text": [
            "\n"
          ]
        },
        {
          "output_type": "stream",
          "name": "stdout",
          "text": [
            "2023-04-04 00:59:14,039 DEV : loss 0.00014435192861128598 - f1-score (micro avg)  0.6667\n",
            "2023-04-04 00:59:14,042 BAD EPOCHS (no improvement): 0\n",
            "2023-04-04 00:59:14,044 ----------------------------------------------------------------------------------------------------\n",
            "2023-04-04 00:59:14,050 epoch 147 - iter 1/1 - loss 0.00014435 - time (sec): 0.00 - samples/sec: 1073.67 - lr: 0.100000\n",
            "2023-04-04 00:59:14,052 ----------------------------------------------------------------------------------------------------\n",
            "2023-04-04 00:59:14,054 EPOCH 147 done: loss 0.0001 - lr 0.100000\n"
          ]
        },
        {
          "output_type": "stream",
          "name": "stderr",
          "text": [
            "100%|██████████| 1/1 [00:00<00:00, 222.49it/s]"
          ]
        },
        {
          "output_type": "stream",
          "name": "stdout",
          "text": [
            "2023-04-04 00:59:14,067 Evaluating as a multi-label problem: False\n"
          ]
        },
        {
          "output_type": "stream",
          "name": "stderr",
          "text": [
            "\n"
          ]
        },
        {
          "output_type": "stream",
          "name": "stdout",
          "text": [
            "2023-04-04 00:59:14,093 DEV : loss 0.00014342818758450449 - f1-score (micro avg)  0.6667\n",
            "2023-04-04 00:59:14,096 BAD EPOCHS (no improvement): 0\n",
            "2023-04-04 00:59:14,099 ----------------------------------------------------------------------------------------------------\n",
            "2023-04-04 00:59:14,105 epoch 148 - iter 1/1 - loss 0.00014343 - time (sec): 0.00 - samples/sec: 993.44 - lr: 0.100000\n",
            "2023-04-04 00:59:14,107 ----------------------------------------------------------------------------------------------------\n",
            "2023-04-04 00:59:14,110 EPOCH 148 done: loss 0.0001 - lr 0.100000\n"
          ]
        },
        {
          "output_type": "stream",
          "name": "stderr",
          "text": [
            "100%|██████████| 1/1 [00:00<00:00, 321.80it/s]"
          ]
        },
        {
          "output_type": "stream",
          "name": "stdout",
          "text": [
            "2023-04-04 00:59:14,120 Evaluating as a multi-label problem: False\n"
          ]
        },
        {
          "output_type": "stream",
          "name": "stderr",
          "text": [
            "\n"
          ]
        },
        {
          "output_type": "stream",
          "name": "stdout",
          "text": [
            "2023-04-04 00:59:14,140 DEV : loss 0.00014244485646486282 - f1-score (micro avg)  0.6667\n",
            "2023-04-04 00:59:14,144 BAD EPOCHS (no improvement): 0\n",
            "2023-04-04 00:59:14,147 ----------------------------------------------------------------------------------------------------\n",
            "2023-04-04 00:59:14,153 epoch 149 - iter 1/1 - loss 0.00014244 - time (sec): 0.00 - samples/sec: 985.27 - lr: 0.100000\n",
            "2023-04-04 00:59:14,155 ----------------------------------------------------------------------------------------------------\n",
            "2023-04-04 00:59:14,157 EPOCH 149 done: loss 0.0001 - lr 0.100000\n"
          ]
        },
        {
          "output_type": "stream",
          "name": "stderr",
          "text": [
            "100%|██████████| 1/1 [00:00<00:00, 290.20it/s]"
          ]
        },
        {
          "output_type": "stream",
          "name": "stdout",
          "text": [
            "2023-04-04 00:59:14,168 Evaluating as a multi-label problem: False\n",
            "2023-04-04 00:59:14,197 DEV : loss 0.00014152111543808132 - f1-score (micro avg)  0.6667\n",
            "2023-04-04 00:59:14,203 BAD EPOCHS (no improvement): 0\n",
            "2023-04-04 00:59:14,205 ----------------------------------------------------------------------------------------------------\n"
          ]
        },
        {
          "output_type": "stream",
          "name": "stderr",
          "text": [
            "\n"
          ]
        },
        {
          "output_type": "stream",
          "name": "stdout",
          "text": [
            "2023-04-04 00:59:14,212 epoch 150 - iter 1/1 - loss 0.00014152 - time (sec): 0.00 - samples/sec: 824.23 - lr: 0.100000\n",
            "2023-04-04 00:59:14,215 ----------------------------------------------------------------------------------------------------\n",
            "2023-04-04 00:59:14,217 EPOCH 150 done: loss 0.0001 - lr 0.100000\n"
          ]
        },
        {
          "output_type": "stream",
          "name": "stderr",
          "text": [
            "100%|██████████| 1/1 [00:00<00:00, 267.20it/s]"
          ]
        },
        {
          "output_type": "stream",
          "name": "stdout",
          "text": [
            "2023-04-04 00:59:14,228 Evaluating as a multi-label problem: False\n",
            "2023-04-04 00:59:14,248 DEV : loss 0.00014056757208891213 - f1-score (micro avg)  0.6667\n",
            "2023-04-04 00:59:14,252 BAD EPOCHS (no improvement): 0\n"
          ]
        },
        {
          "output_type": "stream",
          "name": "stderr",
          "text": [
            "\n"
          ]
        },
        {
          "output_type": "stream",
          "name": "stdout",
          "text": [
            "2023-04-04 00:59:15,021 ----------------------------------------------------------------------------------------------------\n",
            "2023-04-04 00:59:15,025 Exiting from training early.\n",
            "2023-04-04 00:59:15,027 Saving model ...\n",
            "2023-04-04 00:59:17,268 Done.\n",
            "2023-04-04 00:59:17,317 ----------------------------------------------------------------------------------------------------\n"
          ]
        },
        {
          "output_type": "stream",
          "name": "stderr",
          "text": [
            "100%|██████████| 1/1 [00:01<00:00,  1.25s/it]"
          ]
        },
        {
          "output_type": "stream",
          "name": "stdout",
          "text": [
            "2023-04-04 00:59:21,622 Evaluating as a multi-label problem: False\n",
            "2023-04-04 00:59:21,648 0.5\t1.0\t0.6667\t0.5\n",
            "2023-04-04 00:59:21,650 \n",
            "Results:\n",
            "- F-score (micro) 0.6667\n",
            "- F-score (macro) 0.5\n",
            "- Accuracy 0.5\n",
            "\n",
            "By class:\n",
            "              precision    recall  f1-score   support\n",
            "\n",
            "       HOBBY     1.0000    1.0000    1.0000         2\n",
            "       <unk>     0.0000    0.0000    0.0000         0\n",
            "\n",
            "   micro avg     0.5000    1.0000    0.6667         2\n",
            "   macro avg     0.5000    0.5000    0.5000         2\n",
            "weighted avg     1.0000    1.0000    1.0000         2\n",
            "\n",
            "2023-04-04 00:59:21,653 ----------------------------------------------------------------------------------------------------\n"
          ]
        },
        {
          "output_type": "stream",
          "name": "stderr",
          "text": [
            "\n"
          ]
        },
        {
          "output_type": "execute_result",
          "data": {
            "text/plain": [
              "{'test_score': 0.6666666666666666,\n",
              " 'dev_score_history': [0.6666666666666666,\n",
              "  0.6666666666666666,\n",
              "  0.6666666666666666,\n",
              "  0.6666666666666666,\n",
              "  0.6666666666666666,\n",
              "  0.6666666666666666,\n",
              "  0.6666666666666666,\n",
              "  0.6666666666666666,\n",
              "  0.6666666666666666,\n",
              "  0.6666666666666666,\n",
              "  0.6666666666666666,\n",
              "  0.6666666666666666,\n",
              "  0.6666666666666666,\n",
              "  0.6666666666666666,\n",
              "  0.6666666666666666,\n",
              "  0.6666666666666666,\n",
              "  0.6666666666666666,\n",
              "  0.6666666666666666,\n",
              "  0.6666666666666666,\n",
              "  0.6666666666666666,\n",
              "  0.6666666666666666,\n",
              "  0.6666666666666666,\n",
              "  0.6666666666666666,\n",
              "  0.6666666666666666,\n",
              "  0.6666666666666666,\n",
              "  0.6666666666666666,\n",
              "  0.6666666666666666,\n",
              "  0.6666666666666666,\n",
              "  0.6666666666666666,\n",
              "  0.6666666666666666,\n",
              "  0.6666666666666666,\n",
              "  0.6666666666666666,\n",
              "  0.6666666666666666,\n",
              "  0.6666666666666666,\n",
              "  0.6666666666666666,\n",
              "  0.6666666666666666,\n",
              "  0.6666666666666666,\n",
              "  0.6666666666666666,\n",
              "  0.6666666666666666,\n",
              "  0.6666666666666666,\n",
              "  0.6666666666666666,\n",
              "  0.6666666666666666,\n",
              "  0.6666666666666666,\n",
              "  0.6666666666666666,\n",
              "  0.6666666666666666,\n",
              "  0.6666666666666666,\n",
              "  0.6666666666666666,\n",
              "  0.6666666666666666,\n",
              "  0.6666666666666666,\n",
              "  0.6666666666666666,\n",
              "  0.6666666666666666,\n",
              "  0.6666666666666666,\n",
              "  0.6666666666666666,\n",
              "  0.6666666666666666,\n",
              "  0.6666666666666666,\n",
              "  0.6666666666666666,\n",
              "  0.6666666666666666,\n",
              "  0.6666666666666666,\n",
              "  0.6666666666666666,\n",
              "  0.6666666666666666,\n",
              "  0.6666666666666666,\n",
              "  0.6666666666666666,\n",
              "  0.6666666666666666,\n",
              "  0.6666666666666666,\n",
              "  0.6666666666666666,\n",
              "  0.6666666666666666,\n",
              "  0.6666666666666666,\n",
              "  0.6666666666666666,\n",
              "  0.6666666666666666,\n",
              "  0.6666666666666666,\n",
              "  0.6666666666666666,\n",
              "  0.6666666666666666,\n",
              "  0.6666666666666666,\n",
              "  0.6666666666666666,\n",
              "  0.6666666666666666,\n",
              "  0.6666666666666666,\n",
              "  0.6666666666666666,\n",
              "  0.6666666666666666,\n",
              "  0.6666666666666666,\n",
              "  0.6666666666666666,\n",
              "  0.6666666666666666,\n",
              "  0.6666666666666666,\n",
              "  0.6666666666666666,\n",
              "  0.6666666666666666,\n",
              "  0.6666666666666666,\n",
              "  0.6666666666666666,\n",
              "  0.6666666666666666,\n",
              "  0.6666666666666666,\n",
              "  0.6666666666666666,\n",
              "  0.6666666666666666,\n",
              "  0.6666666666666666,\n",
              "  0.6666666666666666,\n",
              "  0.6666666666666666,\n",
              "  0.6666666666666666,\n",
              "  0.6666666666666666,\n",
              "  0.6666666666666666,\n",
              "  0.6666666666666666,\n",
              "  0.6666666666666666,\n",
              "  0.6666666666666666,\n",
              "  0.6666666666666666,\n",
              "  0.6666666666666666,\n",
              "  0.6666666666666666,\n",
              "  0.6666666666666666,\n",
              "  0.6666666666666666,\n",
              "  0.6666666666666666,\n",
              "  0.6666666666666666,\n",
              "  0.6666666666666666,\n",
              "  0.6666666666666666,\n",
              "  0.6666666666666666,\n",
              "  0.6666666666666666,\n",
              "  0.6666666666666666,\n",
              "  0.6666666666666666,\n",
              "  0.6666666666666666,\n",
              "  0.6666666666666666,\n",
              "  0.6666666666666666,\n",
              "  0.6666666666666666,\n",
              "  0.6666666666666666,\n",
              "  0.6666666666666666,\n",
              "  0.6666666666666666,\n",
              "  0.6666666666666666,\n",
              "  0.6666666666666666,\n",
              "  0.6666666666666666,\n",
              "  0.6666666666666666,\n",
              "  0.6666666666666666,\n",
              "  0.6666666666666666,\n",
              "  0.6666666666666666,\n",
              "  0.6666666666666666,\n",
              "  0.6666666666666666,\n",
              "  0.6666666666666666,\n",
              "  0.6666666666666666,\n",
              "  0.6666666666666666,\n",
              "  0.6666666666666666,\n",
              "  0.6666666666666666,\n",
              "  0.6666666666666666,\n",
              "  0.6666666666666666,\n",
              "  0.6666666666666666,\n",
              "  0.6666666666666666,\n",
              "  0.6666666666666666,\n",
              "  0.6666666666666666,\n",
              "  0.6666666666666666,\n",
              "  0.6666666666666666,\n",
              "  0.6666666666666666,\n",
              "  0.6666666666666666,\n",
              "  0.6666666666666666,\n",
              "  0.6666666666666666,\n",
              "  0.6666666666666666,\n",
              "  0.6666666666666666,\n",
              "  0.6666666666666666,\n",
              "  0.6666666666666666,\n",
              "  0.6666666666666666],\n",
              " 'train_loss_history': [0.7856215238571167,\n",
              "  0.005888152867555618,\n",
              "  0.004446858074516058,\n",
              "  0.0036072288639843464,\n",
              "  0.0030474443919956684,\n",
              "  0.002644272055476904,\n",
              "  0.0023387058172374964,\n",
              "  0.002098431810736656,\n",
              "  0.0019041986670345068,\n",
              "  0.0017436898779124022,\n",
              "  0.001608771039173007,\n",
              "  0.0014935912331566215,\n",
              "  0.0013941106153652072,\n",
              "  0.0013072686269879341,\n",
              "  0.00123083614744246,\n",
              "  0.0011629704385995865,\n",
              "  0.0011022741673514247,\n",
              "  0.0010477068135514855,\n",
              "  0.0009983761701732874,\n",
              "  0.0009535090066492558,\n",
              "  0.0009125996730290353,\n",
              "  0.0008750235429033637,\n",
              "  0.0008405129192396998,\n",
              "  0.0008085917215794325,\n",
              "  0.0007790816016495228,\n",
              "  0.0007516252808272839,\n",
              "  0.0007261039572767913,\n",
              "  0.0007022497593425214,\n",
              "  0.0006799435359425843,\n",
              "  0.0006590068223886192,\n",
              "  0.000639350269921124,\n",
              "  0.0006207952974364161,\n",
              "  0.0006033420795574784,\n",
              "  0.0005868416046723723,\n",
              "  0.0005712045822292566,\n",
              "  0.0005564013263210654,\n",
              "  0.0005423424881882966,\n",
              "  0.0005289983237162232,\n",
              "  0.0005162794841453433,\n",
              "  0.0005041860276833177,\n",
              "  0.0004926286055706441,\n",
              "  0.00048157741548493505,\n",
              "  0.00047106225974857807,\n",
              "  0.00046096404548734426,\n",
              "  0.0004513125750236213,\n",
              "  0.0004420184704940766,\n",
              "  0.0004331413365434855,\n",
              "  0.00042462156852707267,\n",
              "  0.00041639962000772357,\n",
              "  0.0004085351247340441,\n",
              "  0.0004009386175312102,\n",
              "  0.0003936102439183742,\n",
              "  0.0003865796606987715,\n",
              "  0.0003797575773205608,\n",
              "  0.0003731737961061299,\n",
              "  0.00036682828795164824,\n",
              "  0.00036072105285711586,\n",
              "  0.0003547627420630306,\n",
              "  0.00034901296021416783,\n",
              "  0.00034350145142525434,\n",
              "  0.0003380793204996735,\n",
              "  0.0003328656603116542,\n",
              "  0.00032783078495413065,\n",
              "  0.0003229448338970542,\n",
              "  0.0003181779757142067,\n",
              "  0.0003135302977170795,\n",
              "  0.0003090911777690053,\n",
              "  0.00030471160425804555,\n",
              "  0.00030051072826609015,\n",
              "  0.0002963694860227406,\n",
              "  0.00029234736575745046,\n",
              "  0.0002884741988964379,\n",
              "  0.000284630834357813,\n",
              "  0.0002809363941196352,\n",
              "  0.0002773313317447901,\n",
              "  0.0002738454204518348,\n",
              "  0.0002704191138036549,\n",
              "  0.0002670523535925895,\n",
              "  0.0002638047735672444,\n",
              "  0.00026064657140523195,\n",
              "  0.00025754794478416443,\n",
              "  0.00025453869602642953,\n",
              "  0.0002515592204872519,\n",
              "  0.00024866912281140685,\n",
              "  0.00024583860067650676,\n",
              "  0.00024309748550876975,\n",
              "  0.00024038612900767475,\n",
              "  0.00023776415036991239,\n",
              "  0.0002351719740545377,\n",
              "  0.00023263937328010798,\n",
              "  0.0002301663625985384,\n",
              "  0.00022775294200982898,\n",
              "  0.0002253692946396768,\n",
              "  0.00022304525191430002,\n",
              "  0.00022078078472986817,\n",
              "  0.0002185461053159088,\n",
              "  0.00021634121367242187,\n",
              "  0.00021425550221465528,\n",
              "  0.00021211020066402853,\n",
              "  0.0002100840792991221,\n",
              "  0.00020805794338230044,\n",
              "  0.00020609141211025417,\n",
              "  0.00020415465405676514,\n",
              "  0.0002022476983256638,\n",
              "  0.00020031095482409,\n",
              "  0.00019852316472679377,\n",
              "  0.00019670557230710983,\n",
              "  0.00019497740140650421,\n",
              "  0.00019318959675729275,\n",
              "  0.00019149119907524437,\n",
              "  0.00018982260371558368,\n",
              "  0.00018818378157448024,\n",
              "  0.00018657476175576448,\n",
              "  0.0001849657273851335,\n",
              "  0.00018341629765927792,\n",
              "  0.00018186686793342233,\n",
              "  0.0001803472259780392,\n",
              "  0.00017882758402265608,\n",
              "  0.00017739733448252082,\n",
              "  0.00017593728261999786,\n",
              "  0.00017453680629841983,\n",
              "  0.00017313634452875704,\n",
              "  0.0001717954728519544,\n",
              "  0.0001703950110822916,\n",
              "  0.00016911374405026436,\n",
              "  0.0001677728578215465,\n",
              "  0.00016649157623760402,\n",
              "  0.00016524008242413402,\n",
              "  0.00016398860316257924,\n",
              "  0.00016276691167149693,\n",
              "  0.00016154522018041462,\n",
              "  0.00016032351413741708,\n",
              "  0.00015916141273919493,\n",
              "  0.00015796950901858509,\n",
              "  0.0001568669977132231,\n",
              "  0.0001557644864078611,\n",
              "  0.00015463217278011143,\n",
              "  0.00015352966147474945,\n",
              "  0.00015248674026224762,\n",
              "  0.00015138422895688564,\n",
              "  0.0001503413077443838,\n",
              "  0.00014929837197996676,\n",
              "  0.00014828526764176786,\n",
              "  0.0001472721341997385,\n",
              "  0.00014628880308009684,\n",
              "  0.00014530547196045518,\n",
              "  0.00014435192861128598,\n",
              "  0.00014342818758450449,\n",
              "  0.00014244485646486282,\n",
              "  0.00014152112998999655],\n",
              " 'dev_loss_history': [0.005888152867555618,\n",
              "  0.004446858074516058,\n",
              "  0.0036072288639843464,\n",
              "  0.003047444624826312,\n",
              "  0.0026442722883075476,\n",
              "  0.0023387058172374964,\n",
              "  0.002098431810736656,\n",
              "  0.0019041986670345068,\n",
              "  0.0017436898779124022,\n",
              "  0.0016087711555883288,\n",
              "  0.0014935912331566215,\n",
              "  0.0013941106153652072,\n",
              "  0.0013072686269879341,\n",
              "  0.00123083614744246,\n",
              "  0.0011629704385995865,\n",
              "  0.0011022741673514247,\n",
              "  0.0010477068135514855,\n",
              "  0.0009983761701732874,\n",
              "  0.0009535090066492558,\n",
              "  0.0009125996730290353,\n",
              "  0.0008750235429033637,\n",
              "  0.0008405129192396998,\n",
              "  0.0008085917215794325,\n",
              "  0.0007790816598571837,\n",
              "  0.0007516253972426057,\n",
              "  0.0007261039572767913,\n",
              "  0.0007022497011348605,\n",
              "  0.0006799435359425843,\n",
              "  0.0006590067641809583,\n",
              "  0.000639350269921124,\n",
              "  0.0006207952974364161,\n",
              "  0.0006033420795574784,\n",
              "  0.0005868416046723723,\n",
              "  0.0005712045822292566,\n",
              "  0.0005564013263210654,\n",
              "  0.0005423424881882966,\n",
              "  0.0005289983237162232,\n",
              "  0.0005162794841453433,\n",
              "  0.0005041860276833177,\n",
              "  0.0004926285473629832,\n",
              "  0.00048157741548493505,\n",
              "  0.00047106225974857807,\n",
              "  0.00046096404548734426,\n",
              "  0.0004513125750236213,\n",
              "  0.00044201844139024615,\n",
              "  0.0004331413365434855,\n",
              "  0.00042462156852707267,\n",
              "  0.00041639962000772357,\n",
              "  0.0004085350956302136,\n",
              "  0.0004009386757388711,\n",
              "  0.0003936102439183742,\n",
              "  0.0003865796606987715,\n",
              "  0.0003797575773205608,\n",
              "  0.0003731737961061299,\n",
              "  0.00036682828795164824,\n",
              "  0.0003607210237532854,\n",
              "  0.0003547627420630306,\n",
              "  0.00034901296021416783,\n",
              "  0.00034350145142525434,\n",
              "  0.0003380793204996735,\n",
              "  0.0003328656603116542,\n",
              "  0.00032783078495413065,\n",
              "  0.00032294480479322374,\n",
              "  0.0003181779757142067,\n",
              "  0.00031353032682091,\n",
              "  0.0003090911777690053,\n",
              "  0.0003047115751542151,\n",
              "  0.0003005107573699206,\n",
              "  0.0002963694860227406,\n",
              "  0.00029234736575745046,\n",
              "  0.0002884741988964379,\n",
              "  0.000284630834357813,\n",
              "  0.00028093636501580477,\n",
              "  0.0002773313317447901,\n",
              "  0.0002738454204518348,\n",
              "  0.0002704191138036549,\n",
              "  0.0002670523535925895,\n",
              "  0.0002638047735672444,\n",
              "  0.00026064657140523195,\n",
              "  0.00025754791568033397,\n",
              "  0.00025453869602642953,\n",
              "  0.0002515592204872519,\n",
              "  0.00024866912281140685,\n",
              "  0.0002458386297803372,\n",
              "  0.00024309747095685452,\n",
              "  0.00024038612900767475,\n",
              "  0.00023776416492182761,\n",
              "  0.0002351719740545377,\n",
              "  0.00023263937328010798,\n",
              "  0.0002301663625985384,\n",
              "  0.00022775294200982898,\n",
              "  0.0002253692946396768,\n",
              "  0.00022304525191430002,\n",
              "  0.00022078077017795295,\n",
              "  0.0002185461053159088,\n",
              "  0.00021634121367242187,\n",
              "  0.00021425550221465528,\n",
              "  0.00021211020066402853,\n",
              "  0.0002100840792991221,\n",
              "  0.00020805794338230044,\n",
              "  0.00020609139755833894,\n",
              "  0.00020415466860868037,\n",
              "  0.0002022476983256638,\n",
              "  0.00020031095482409,\n",
              "  0.00019852316472679377,\n",
              "  0.00019670558685902506,\n",
              "  0.00019497740140650421,\n",
              "  0.00019318959675729275,\n",
              "  0.00019149118452332914,\n",
              "  0.00018982258916366845,\n",
              "  0.00018818378157448024,\n",
              "  0.00018657476175576448,\n",
              "  0.0001849657273851335,\n",
              "  0.00018341629765927792,\n",
              "  0.00018186686793342233,\n",
              "  0.00018034724052995443,\n",
              "  0.00017882758402265608,\n",
              "  0.0001773973199306056,\n",
              "  0.00017593728261999786,\n",
              "  0.00017453680629841983,\n",
              "  0.00017313635908067226,\n",
              "  0.0001717954728519544,\n",
              "  0.0001703950110822916,\n",
              "  0.00016911374405026436,\n",
              "  0.0001677728578215465,\n",
              "  0.00016649157623760402,\n",
              "  0.00016524008242413402,\n",
              "  0.00016398860316257924,\n",
              "  0.0001627668971195817,\n",
              "  0.00016154522018041462,\n",
              "  0.00016032351413741708,\n",
              "  0.00015916141273919493,\n",
              "  0.00015796950901858509,\n",
              "  0.0001568669977132231,\n",
              "  0.0001557644864078611,\n",
              "  0.00015463217278011143,\n",
              "  0.00015352966147474945,\n",
              "  0.00015248674026224762,\n",
              "  0.00015138422895688564,\n",
              "  0.0001503413077443838,\n",
              "  0.00014929837197996676,\n",
              "  0.00014828526764176786,\n",
              "  0.0001472721341997385,\n",
              "  0.00014628880308009684,\n",
              "  0.00014530547196045518,\n",
              "  0.00014435192861128598,\n",
              "  0.00014342818758450449,\n",
              "  0.00014244485646486282,\n",
              "  0.00014152111543808132,\n",
              "  0.00014056757208891213]}"
            ]
          },
          "metadata": {},
          "execution_count": 4
        }
      ],
      "source": [
        "from flair.datasets import RE_ENGLISH_CONLL04\n",
        "from flair.embeddings import WordEmbeddings, StackedEmbeddings, FlairEmbeddings\n",
        "from flair. models import RelationExtractor\n",
        "from flair.trainers import ModelTrainer\n",
        "\n",
        "data_path = \"/content/data\"\n",
        "# load corpus\n",
        "corpus = RE_ENGLISH_CONLL04(data_path)\n",
        "print(corpus)\n",
        "# prepare label dictionary\n",
        "label_dict = corpus.make_label_dictionary(\"relation\")\n",
        "print(label_dict)\n",
        "\n",
        "# initialize embeddings\n",
        "# if you have other embeddings, you can add below list also or replce\n",
        "embedding_types = [\n",
        "    # comment in these lines to use flair embeddings\n",
        "    WordEmbeddings(\"glove\"),\n",
        "    FlairEmbeddings('news-forward'),\n",
        "    FlairEmbeddings('news-backward'),\n",
        "]\n",
        "\n",
        "embeddings = StackedEmbeddings(embeddings=embedding_types)\n",
        "\n",
        "extractor = RelationExtractor(embeddings=embeddings, \n",
        "                                entity_label_type=\"ner\", \n",
        "                                label_dictionary=label_dict, \n",
        "                                label_type=\"relation\")\n",
        "\n",
        "trainer = ModelTrainer(extractor, corpus)\n",
        "\n",
        "# start training\n",
        "trainer.train(\"log_path\",\n",
        "            learning_rate=0.1,\n",
        "            mini_batch_size=32,\n",
        "            max_epochs=150)"
      ],
      "id": "3ZIfF7NejR-8"
    },
    {
      "cell_type": "code",
      "source": [],
      "metadata": {
        "id": "kORSOZQAsgQ9"
      },
      "id": "kORSOZQAsgQ9",
      "execution_count": null,
      "outputs": []
    }
  ],
  "metadata": {
    "colab": {
      "provenance": []
    },
    "kernelspec": {
      "display_name": "Python 3 (ipykernel)",
      "language": "python",
      "name": "python3"
    },
    "language_info": {
      "codemirror_mode": {
        "name": "ipython",
        "version": 3
      },
      "file_extension": ".py",
      "mimetype": "text/x-python",
      "name": "python",
      "nbconvert_exporter": "python",
      "pygments_lexer": "ipython3",
      "version": "3.11.0"
    }
  },
  "nbformat": 4,
  "nbformat_minor": 5
}