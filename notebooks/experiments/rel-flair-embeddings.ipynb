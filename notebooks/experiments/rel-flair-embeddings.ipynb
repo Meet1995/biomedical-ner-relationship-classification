{
  "nbformat": 4,
  "nbformat_minor": 0,
  "metadata": {
    "colab": {
      "provenance": []
    },
    "kernelspec": {
      "name": "python3",
      "display_name": "Python 3"
    },
    "language_info": {
      "name": "python"
    },
    "gpuClass": "standard",
    "accelerator": "GPU"
  },
  "cells": [
    {
      "cell_type": "code",
      "source": [
        "from google.colab import drive\n",
        "drive.mount('/content/drive')"
      ],
      "metadata": {
        "id": "4r5-KYltiNby",
        "colab": {
          "base_uri": "https://localhost:8080/"
        },
        "outputId": "f9fa6574-f7c5-4928-e280-5ff3c2723cfe"
      },
      "execution_count": 1,
      "outputs": [
        {
          "output_type": "stream",
          "name": "stdout",
          "text": [
            "Mounted at /content/drive\n"
          ]
        }
      ]
    },
    {
      "cell_type": "code",
      "source": [
        "%%capture\n",
        "!pip install \"flair\" -q\n",
        "!pip install \"scispacy\" -q\n",
        "!pip install https://s3-us-west-2.amazonaws.com/ai2-s2-scispacy/releases/v0.5.1/en_core_sci_sm-0.5.1.tar.gz -q"
      ],
      "metadata": {
        "id": "RHaKJyT29SBx"
      },
      "execution_count": 2,
      "outputs": []
    },
    {
      "cell_type": "code",
      "source": [
        "import flair\n",
        "from flair.data import Sentence\n",
        "from flair.datasets import DataLoader\n",
        "from flair.datasets import ColumnCorpus\n",
        "from flair.embeddings import (\n",
        "    WordEmbeddings, FlairEmbeddings, StackedEmbeddings, TransformerWordEmbeddings\n",
        ")\n",
        "from flair.models import RelationExtractor, SequenceTagger\n",
        "from flair.trainers import ModelTrainer\n",
        "flair.__version__"
      ],
      "metadata": {
        "id": "H7k5xilpsMSh",
        "colab": {
          "base_uri": "https://localhost:8080/",
          "height": 35
        },
        "outputId": "9b51ff3f-7efd-4129-fb18-255e4b5260b0"
      },
      "execution_count": 16,
      "outputs": [
        {
          "output_type": "execute_result",
          "data": {
            "text/plain": [
              "'0.12.2'"
            ],
            "application/vnd.google.colaboratory.intrinsic+json": {
              "type": "string"
            }
          },
          "metadata": {},
          "execution_count": 16
        }
      ]
    },
    {
      "cell_type": "code",
      "source": [
        "DATA_PATH = \"/content/drive/Shareddrives/CIS522-Project/data/\"\n",
        "MODEL_PATH = \"/content/drive/Shareddrives/CIS522-Project/models\""
      ],
      "metadata": {
        "id": "qBDCigAEcMgZ"
      },
      "execution_count": 6,
      "outputs": []
    },
    {
      "cell_type": "code",
      "source": [
        "corpus = ColumnCorpus(\n",
        "    DATA_PATH, {1: 'text', 2: 'ner'},\n",
        "    train_file='flair_rel_train.txt', test_file='flair_rel_test.txt',\n",
        "    comment_symbol=\"# \"\n",
        ")"
      ],
      "metadata": {
        "colab": {
          "base_uri": "https://localhost:8080/"
        },
        "id": "Z4Rv3ultxd2b",
        "outputId": "0eaa5ef4-bafe-4e58-c05b-76630adf7c8d"
      },
      "execution_count": 13,
      "outputs": [
        {
          "output_type": "stream",
          "name": "stdout",
          "text": [
            "2023-04-09 23:46:43,210 Reading data from /content/drive/Shareddrives/CIS522-Project/data\n",
            "2023-04-09 23:46:43,213 Train: /content/drive/Shareddrives/CIS522-Project/data/flair_rel_train.txt\n",
            "2023-04-09 23:46:43,221 Dev: None\n",
            "2023-04-09 23:46:43,223 Test: /content/drive/Shareddrives/CIS522-Project/data/flair_rel_test.txt\n"
          ]
        }
      ]
    },
    {
      "cell_type": "code",
      "source": [
        "corpus.train[0]"
      ],
      "metadata": {
        "colab": {
          "base_uri": "https://localhost:8080/"
        },
        "id": "RFU80TGsdmNk",
        "outputId": "87b4ccfd-d708-443f-b095-f363a2dc9488"
      },
      "execution_count": 6,
      "outputs": [
        {
          "output_type": "execute_result",
          "data": {
            "text/plain": [
              "Sentence[29]: \"He also may have recurrent seizures which should be treated with ativan IV or IM and do not neccessarily indicate patient needs to return to hospital unless they continue\" → [\"recurrent seizures\"/Reason, \"recurrent seizures -> ativan\"/Reason-Drug, \"ativan\"/Drug, \"IV\"/Route, \"IM\"/Route]"
            ]
          },
          "metadata": {},
          "execution_count": 6
        }
      ]
    },
    {
      "cell_type": "code",
      "source": [
        "corpus.test[0]"
      ],
      "metadata": {
        "colab": {
          "base_uri": "https://localhost:8080/"
        },
        "id": "ty5MnsMGdzdE",
        "outputId": "79139b78-c917-4a94-df41-9f69eff4b9f3"
      },
      "execution_count": 7,
      "outputs": [
        {
          "output_type": "execute_result",
          "data": {
            "text/plain": [
              "Sentence[14]: \"MEDICATIONS : Lipitor , Tylenol with Codeine , Dilantin , previously on Decadron q.i.d\" → [\"Lipitor\"/Drug, \"Tylenol with Codeine\"/Drug, \"Dilantin\"/Drug, \"Decadron\"/Drug, \"q.i.d -> Decadron\"/Frequency-Drug, \"q.i.d\"/Frequency]"
            ]
          },
          "metadata": {},
          "execution_count": 7
        }
      ]
    },
    {
      "cell_type": "code",
      "source": [
        "label_dictionary = corpus.make_label_dictionary(label_type=\"relation\", add_unk=False)\n",
        "label_dictionary.add_item('O') # important to capture invalid relations\n",
        "print(label_dictionary.get_items())"
      ],
      "metadata": {
        "id": "bX6u5WSxf3rR",
        "colab": {
          "base_uri": "https://localhost:8080/"
        },
        "outputId": "094404bc-1216-435f-afa5-90752f7f5264"
      },
      "execution_count": 4,
      "outputs": [
        {
          "output_type": "stream",
          "name": "stdout",
          "text": [
            "2023-04-09 20:00:26,870 Computing label dictionary. Progress:\n"
          ]
        },
        {
          "output_type": "stream",
          "name": "stderr",
          "text": [
            "32711it [00:00, 47668.19it/s]"
          ]
        },
        {
          "output_type": "stream",
          "name": "stdout",
          "text": [
            "2023-04-09 20:00:27,566 Dictionary created for label 'relation' with 8 values: Strength-Drug (seen 6031 times), Form-Drug (seen 5978 times), Frequency-Drug (seen 5635 times), Route-Drug (seen 5001 times), Reason-Drug (seen 4689 times), Dosage-Drug (seen 3806 times), ADE-Drug (seen 991 times), Duration-Drug (seen 580 times)\n",
            "['Strength-Drug', 'Form-Drug', 'Frequency-Drug', 'Route-Drug', 'Reason-Drug', 'Dosage-Drug', 'ADE-Drug', 'Duration-Drug', 'O']\n"
          ]
        },
        {
          "output_type": "stream",
          "name": "stderr",
          "text": [
            "\n"
          ]
        }
      ]
    },
    {
      "cell_type": "code",
      "source": [
        "weight_dict = {\n",
        "    'Strength-Drug': 6021/6021,\n",
        "    'Form-Drug': 6021/6005,\n",
        "    'Frequency-Drug': 6021/5696,\n",
        "    'Route-Drug': 6021/4934,\n",
        "    'Reason-Drug': 6021/4669,\n",
        "    'Dosage-Drug': 6021/3811,\n",
        "    'ADE-Drug': 6021/996,\n",
        "    'Duration-Drug': 6021/579,\n",
        "}\n",
        "weight_dict"
      ],
      "metadata": {
        "colab": {
          "base_uri": "https://localhost:8080/"
        },
        "id": "IZ7XuoknuqjW",
        "outputId": "84b31ed6-27da-4e29-c6f9-0fb34bd85529"
      },
      "execution_count": 6,
      "outputs": [
        {
          "output_type": "execute_result",
          "data": {
            "text/plain": [
              "{'Strength-Drug': 1.0,\n",
              " 'Form-Drug': 1.0026644462947543,\n",
              " 'Frequency-Drug': 1.057057584269663,\n",
              " 'Route-Drug': 1.220308066477503,\n",
              " 'Reason-Drug': 1.2895695009638037,\n",
              " 'Dosage-Drug': 1.5799002886381528,\n",
              " 'ADE-Drug': 6.045180722891566,\n",
              " 'Duration-Drug': 10.398963730569948}"
            ]
          },
          "metadata": {},
          "execution_count": 6
        }
      ]
    },
    {
      "cell_type": "code",
      "source": [
        "# embedding_types = [\n",
        "#     # word embeddings trained on PubMed and PMC\n",
        "#     # WordEmbeddings(\"pubmed\"),\n",
        "#     # flair embeddings trained on PubMed and PMC\n",
        "#     FlairEmbeddings(\"pubmed-forward\", fine_tune=True),\n",
        "#     FlairEmbeddings(\"pubmed-backward\", fine_tune=True),\n",
        "# ]\n",
        "\n",
        "# tf_embeddings = TransformerWordEmbeddings(\n",
        "#     model='emilyalsentzer/Bio_ClinicalBERT',\n",
        "#     layers=\"-1\",\n",
        "#     subtoken_pooling=\"mean\",\n",
        "#     fine_tune=True,\n",
        "#     use_context=True,\n",
        "#     model_max_length=256 # required to fix a weird tensor size mismatch error \n",
        "# )\n",
        "\n",
        "# embedding_types = [\n",
        "#     # word embeddings trained on PubMed and PMC\n",
        "#     # WordEmbeddings(\"pubmed\"),\n",
        "#     tf_embeddings\n",
        "# ]\n",
        "\n",
        "# embeddings = StackedEmbeddings(embeddings=embedding_types)\n",
        "\n",
        "# rel_extractor = RelationExtractor(\n",
        "#     embeddings=embeddings,\n",
        "#     label_type=\"relation\",\n",
        "#     entity_label_type='ner',\n",
        "#     pooling_operation=\"first_last\",\n",
        "#     label_dictionary=label_dictionary,\n",
        "#     loss_weights=weight_dict,\n",
        "#     entity_pair_filters=[\n",
        "#         ('Strength', 'Drug'),\n",
        "#         ('Form', 'Drug'),\n",
        "#         ('Frequency', 'Drug'),\n",
        "#         ('Route', 'Drug'),\n",
        "#         ('Reason', 'Drug'),\n",
        "#         ('Dosage', 'Drug'),\n",
        "#         ('ADE', 'Drug'),\n",
        "#         ('Duration', 'Drug')\n",
        "#     ]\n",
        "# )\n",
        "\n",
        "rel_extractor = RelationExtractor.load(f\"{MODEL_PATH}/extractors/flair-embedding-rel/best-model.pt\")"
      ],
      "metadata": {
        "id": "TQOawXo4kZif"
      },
      "execution_count": 7,
      "outputs": []
    },
    {
      "cell_type": "code",
      "source": [
        "trainer = ModelTrainer(rel_extractor, corpus)\n",
        "\n",
        "trainer.train(\n",
        "    base_path=f\"{MODEL_PATH}/extractors/flair-embedding-rel\",\n",
        "    train_with_dev=False,\n",
        "    max_epochs=5,\n",
        "    learning_rate=0.1,\n",
        "    mini_batch_size=8,\n",
        "    embeddings_storage_mode='none'\n",
        ")"
      ],
      "metadata": {
        "id": "cKEo7wqaNbZd"
      },
      "execution_count": 15,
      "outputs": []
    },
    {
      "cell_type": "code",
      "source": [
        "# run evaluation procedure\n",
        "result, score = rel_extractor.evaluate(\n",
        "    corpus.test, gold_label_type='relation', mini_batch_size=1\n",
        ")\n",
        "print(result.detailed_results)"
      ],
      "metadata": {
        "id": "rmOIYP99aQW3"
      },
      "execution_count": 25,
      "outputs": []
    },
    {
      "cell_type": "code",
      "source": [
        "tagger = SequenceTagger.load(f\"{MODEL_PATH}/taggers/lstm-crf-augmented/final-model.pt\")"
      ],
      "metadata": {
        "colab": {
          "base_uri": "https://localhost:8080/"
        },
        "id": "chwGAv0dYm_l",
        "outputId": "41035312-f89f-4df9-d833-b58dddf03ed5"
      },
      "execution_count": 11,
      "outputs": [
        {
          "output_type": "stream",
          "name": "stdout",
          "text": [
            "2023-04-09 23:44:38,641 SequenceTagger predicts: Dictionary with 39 tags: O, S-Drug, B-Drug, E-Drug, I-Drug, S-Strength, B-Strength, E-Strength, I-Strength, S-Form, B-Form, E-Form, I-Form, S-Frequency, B-Frequency, E-Frequency, I-Frequency, S-Route, B-Route, E-Route, I-Route, S-Dosage, B-Dosage, E-Dosage, I-Dosage, S-Reason, B-Reason, E-Reason, I-Reason, S-Duration, B-Duration, E-Duration, I-Duration, S-ADE, B-ADE, E-ADE, I-ADE, <START>, <STOP>\n"
          ]
        }
      ]
    },
    {
      "cell_type": "code",
      "source": [
        "# create example sentence\n",
        "sentence = Sentence(\"Patients on 40 mg of Topelfate and Topoxy twice a day generally suffer from headache\")\n",
        "\n",
        "# predict tags and print\n",
        "tagger.predict(sentence)\n",
        "rel_extractor.predict(sentence)\n",
        "\n",
        "print(sentence.to_tagged_string())"
      ],
      "metadata": {
        "id": "gAdjLrSRN-N1",
        "colab": {
          "base_uri": "https://localhost:8080/"
        },
        "outputId": "5ecb6334-14bd-4ade-8d46-4578ea324d42"
      },
      "execution_count": 12,
      "outputs": [
        {
          "output_type": "stream",
          "name": "stdout",
          "text": [
            "Sentence[15]: \"Patients on 40 mg of Topelfate and Topoxy twice a day generally suffer from headache\" → [\"40 mg\"/Strength, \"Topelfate\"/Drug, \"headache -> Topelfate\"/ADE-Drug, \"Topoxy\"/Drug, \"headache -> Topoxy\"/ADE-Drug, \"twice a day\"/Frequency, \"headache\"/ADE]\n"
          ]
        }
      ]
    },
    {
      "cell_type": "code",
      "source": [],
      "metadata": {
        "id": "SK2sofWTwtg3"
      },
      "execution_count": null,
      "outputs": []
    }
  ]
}