{
 "cells": [
  {
   "cell_type": "code",
   "execution_count": 2,
   "id": "3f19a621",
   "metadata": {},
   "outputs": [],
   "source": [
    "import pandas as pd\n",
    "from tqdm import tqdm"
   ]
  },
  {
   "cell_type": "code",
   "execution_count": 3,
   "id": "8134e66a",
   "metadata": {},
   "outputs": [],
   "source": [
    "DATA_PATH = \"../../data/parsed_data\"\n",
    "\n",
    "ner_train_path = f\"{DATA_PATH}/ner_train.parquet\"\n",
    "rel_train_path = f\"{DATA_PATH}/rel_train.parquet\"\n",
    "\n",
    "ner_test_path = f\"{DATA_PATH}/ner_test.parquet\"\n",
    "rel_test_path = f\"{DATA_PATH}/rel_test.parquet\""
   ]
  },
  {
   "cell_type": "code",
   "execution_count": 9,
   "id": "e0923c78",
   "metadata": {},
   "outputs": [],
   "source": [
    "class FlairDataWriter:\n",
    "    def __init__(self, ner_data_path, output_path, rel_data_path=None):\n",
    "        self.ner_data = pd.read_parquet(ner_data_path)\n",
    "        self.output_path = output_path\n",
    "        self.rel_data = None\n",
    "        if rel_data_path:\n",
    "            self.rel_data = pd.read_parquet(rel_data_path)\n",
    "            self.rel_data['UUID'] = range(self.rel_data.shape[0])\n",
    "\n",
    "    def __collapse(self, df):\n",
    "        token_str = \"|\".join(df['token'].to_list())\n",
    "        tag_str = \"|\".join(df['tag'].to_list())\n",
    "        return pd.DataFrame([[token_str, tag_str]], columns=['text', 'tags'])\n",
    "\n",
    "    def save_rel_data(self, name):\n",
    "        assert self.rel_data is not None, \"Provide Relations Data!\"\n",
    "        ner_collapsed = self.ner_data[self.ner_data['contains_rel']==1].groupby(\n",
    "            ['uid', 'sid']\n",
    "        ).apply(self.__collapse).droplevel(2).reset_index()\n",
    "        \n",
    "        merged_data = pd.merge(\n",
    "            self.rel_data, ner_collapsed, on=['uid', 'text'], how='left'\n",
    "        ).drop(columns=['sid_x', 'sid_y'])\n",
    "\n",
    "        assert merged_data.isnull().sum().sum() == 0\n",
    "        assert merged_data.shape[0] == self.rel_data.shape[0]\n",
    "\n",
    "        with open(f\"{self.output_path}/{name}.txt\", \"w\") as file:\n",
    "            file.write(\"# global.columns = id form tag\\n\")\n",
    "            for idx, row in tqdm(merged_data.iterrows(), total=merged_data.shape[0]):\n",
    "                words = row[\"text\"].split(\"|\")\n",
    "                tags = row[\"tags\"].split(\"|\")\n",
    "                sent = \" \".join(words)\n",
    "                file.write(f\"# text = {sent}\\n\")\n",
    "                file.write(f\"# sentence_id = {row['UUID']}\\n\")\n",
    "                a1 = row[\"arg1\"].split(\":\")\n",
    "                a2 = row[\"arg2\"].split(\":\")\n",
    "                file.write(f'# relations = {a1[0]};{int(a1[1])-1};{a2[0]};{int(a2[1])-1};{row[\"label\"]}\\n')\n",
    "                for i, (word, tag) in enumerate(zip(words, tags)):\n",
    "                    file.write(f\"{i} {word} {tag}\\n\")\n",
    "                file.write(\"\\n\")\n",
    "\n",
    "    def save_ner_data(self, name):\n",
    "        with open(f\"{self.output_path}/{name}.txt\", \"w\") as file:\n",
    "            curr_sid = 0\n",
    "            for idx, row in tqdm(self.ner_data.iterrows(), total=self.ner_data.shape[0]):\n",
    "                if row[\"sid\"] != curr_sid:\n",
    "                    curr_sid = row[\"sid\"]\n",
    "                    file.write(\"\\n\")\n",
    "                file.write(row[\"token\"] + \" \" + row[\"tag\"] + \"\\n\")"
   ]
  },
  {
   "cell_type": "code",
   "execution_count": 24,
   "id": "a05354e7",
   "metadata": {},
   "outputs": [],
   "source": [
    "flair_train_writer = FlairDataWriter(ner_train_path, DATA_PATH, rel_train_path)"
   ]
  },
  {
   "cell_type": "code",
   "execution_count": 21,
   "id": "afc3278c",
   "metadata": {},
   "outputs": [
    {
     "name": "stderr",
     "output_type": "stream",
     "text": [
      "100%|██████████| 1435233/1435233 [01:47<00:00, 13312.49it/s]\n"
     ]
    }
   ],
   "source": [
    "flair_train_writer.save_ner_data('flair_ner_train')"
   ]
  },
  {
   "cell_type": "code",
   "execution_count": 25,
   "id": "2bd05baf",
   "metadata": {},
   "outputs": [
    {
     "name": "stderr",
     "output_type": "stream",
     "text": [
      "100%|██████████| 36346/36346 [00:05<00:00, 6306.49it/s]\n"
     ]
    }
   ],
   "source": [
    "flair_train_writer.save_rel_data('flair_rel_train')"
   ]
  },
  {
   "cell_type": "code",
   "execution_count": 10,
   "id": "68a455dd",
   "metadata": {},
   "outputs": [],
   "source": [
    "flair_test_writer = FlairDataWriter(ner_test_path, DATA_PATH, rel_test_path)"
   ]
  },
  {
   "cell_type": "code",
   "execution_count": 7,
   "id": "87b79815",
   "metadata": {},
   "outputs": [
    {
     "name": "stderr",
     "output_type": "stream",
     "text": [
      "100%|██████████| 931604/931604 [01:11<00:00, 13047.09it/s]\n"
     ]
    }
   ],
   "source": [
    "flair_test_writer.save_ner_data('flair_ner_test')"
   ]
  },
  {
   "cell_type": "code",
   "execution_count": 12,
   "id": "224fb504",
   "metadata": {},
   "outputs": [
    {
     "name": "stderr",
     "output_type": "stream",
     "text": [
      "100%|██████████| 23462/23462 [00:03<00:00, 6450.52it/s]\n"
     ]
    }
   ],
   "source": [
    "flair_test_writer.save_rel_data('flair_rel_test')"
   ]
  },
  {
   "cell_type": "code",
   "execution_count": null,
   "id": "d8a42bb9",
   "metadata": {},
   "outputs": [],
   "source": []
  }
 ],
 "metadata": {
  "kernelspec": {
   "display_name": "Python 3 (ipykernel)",
   "language": "python",
   "name": "python3"
  },
  "language_info": {
   "codemirror_mode": {
    "name": "ipython",
    "version": 3
   },
   "file_extension": ".py",
   "mimetype": "text/x-python",
   "name": "python",
   "nbconvert_exporter": "python",
   "pygments_lexer": "ipython3",
   "version": "3.10.8"
  }
 },
 "nbformat": 4,
 "nbformat_minor": 5
}
