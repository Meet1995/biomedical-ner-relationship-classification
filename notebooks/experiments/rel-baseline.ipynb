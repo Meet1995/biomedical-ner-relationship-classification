{
  "cells": [
    {
      "cell_type": "code",
      "execution_count": 4,
      "metadata": {
        "colab": {
          "base_uri": "https://localhost:8080/"
        },
        "id": "j6zt5agbRwR6",
        "outputId": "fcc8d880-b1ed-47b0-9f45-0daf24d5f355"
      },
      "outputs": [
        {
          "name": "stdout",
          "output_type": "stream",
          "text": [
            "Mounted at /content/drive\n"
          ]
        }
      ],
      "source": [
        "from google.colab import drive\n",
        "drive.mount('/content/drive')"
      ]
    },
    {
      "cell_type": "code",
      "execution_count": 1,
      "metadata": {
        "id": "CSmHcFa_OdrL"
      },
      "outputs": [],
      "source": [
        "import pandas as pd\n",
        "from sklearn import metrics\n",
        "from sklearn.linear_model import LogisticRegression\n",
        "from sklearn.feature_extraction.text import TfidfVectorizer"
      ]
    },
    {
      "cell_type": "code",
      "execution_count": 2,
      "metadata": {
        "id": "i67Xk2HJOdrO"
      },
      "outputs": [],
      "source": [
        "DATA_PATH = \"../../data/parsed_data\""
      ]
    },
    {
      "cell_type": "code",
      "execution_count": 3,
      "metadata": {
        "id": "-KLm1Xl2OdrR"
      },
      "outputs": [],
      "source": [
        "rel_train = pd.read_parquet(\n",
        "    f\"{DATA_PATH}/rel_train_baseline.parquet\"\n",
        ")\n",
        "rel_test = pd.read_parquet(\n",
        "    f\"{DATA_PATH}/rel_test_baseline.parquet\"\n",
        ")"
      ]
    },
    {
      "cell_type": "code",
      "execution_count": 4,
      "metadata": {
        "colab": {
          "base_uri": "https://localhost:8080/",
          "height": 206
        },
        "id": "Uj6-R9zUSltq",
        "outputId": "a82e041d-2d18-4d03-eead-ff5027ced3e5"
      },
      "outputs": [
        {
          "data": {
            "text/html": [
              "<div>\n",
              "<style scoped>\n",
              "    .dataframe tbody tr th:only-of-type {\n",
              "        vertical-align: middle;\n",
              "    }\n",
              "\n",
              "    .dataframe tbody tr th {\n",
              "        vertical-align: top;\n",
              "    }\n",
              "\n",
              "    .dataframe thead th {\n",
              "        text-align: right;\n",
              "    }\n",
              "</style>\n",
              "<table border=\"1\" class=\"dataframe\">\n",
              "  <thead>\n",
              "    <tr style=\"text-align: right;\">\n",
              "      <th></th>\n",
              "      <th>text</th>\n",
              "      <th>arg1</th>\n",
              "      <th>arg2</th>\n",
              "      <th>label</th>\n",
              "      <th>sid</th>\n",
              "      <th>uid</th>\n",
              "      <th>sdp</th>\n",
              "    </tr>\n",
              "  </thead>\n",
              "  <tbody>\n",
              "    <tr>\n",
              "      <th>0</th>\n",
              "      <td>He|also|may|have|recurrent|seizures|which|shou...</td>\n",
              "      <td>4:6</td>\n",
              "      <td>11:12</td>\n",
              "      <td>Reason-Drug</td>\n",
              "      <td>0</td>\n",
              "      <td>100035</td>\n",
              "      <td>recurrent seizures treated with ativan</td>\n",
              "    </tr>\n",
              "    <tr>\n",
              "      <th>0</th>\n",
              "      <td>He|also|may|have|recurrent|seizures|which|shou...</td>\n",
              "      <td>14:15</td>\n",
              "      <td>11:12</td>\n",
              "      <td>Route-Drug</td>\n",
              "      <td>1</td>\n",
              "      <td>100035</td>\n",
              "      <td>IM IV ativan</td>\n",
              "    </tr>\n",
              "    <tr>\n",
              "      <th>0</th>\n",
              "      <td>-patient|will|be|on|Topiramate|25mg|PO|BID|unt...</td>\n",
              "      <td>5:6</td>\n",
              "      <td>4:5</td>\n",
              "      <td>Strength-Drug</td>\n",
              "      <td>2</td>\n",
              "      <td>100035</td>\n",
              "      <td>-patient will be on Topiramate 25mg</td>\n",
              "    </tr>\n",
              "    <tr>\n",
              "      <th>0</th>\n",
              "      <td>-patient|will|be|on|Topiramate|25mg|PO|BID|unt...</td>\n",
              "      <td>6:7</td>\n",
              "      <td>4:5</td>\n",
              "      <td>Route-Drug</td>\n",
              "      <td>3</td>\n",
              "      <td>100035</td>\n",
              "      <td>PO mg be on Topiramate</td>\n",
              "    </tr>\n",
              "    <tr>\n",
              "      <th>0</th>\n",
              "      <td>-patient|will|be|on|Topiramate|25mg|PO|BID|unt...</td>\n",
              "      <td>7:8</td>\n",
              "      <td>4:5</td>\n",
              "      <td>Frequency-Drug</td>\n",
              "      <td>4</td>\n",
              "      <td>100035</td>\n",
              "      <td>BID Topiramate</td>\n",
              "    </tr>\n",
              "  </tbody>\n",
              "</table>\n",
              "</div>"
            ],
            "text/plain": [
              "                                                text   arg1   arg2  \\\n",
              "0  He|also|may|have|recurrent|seizures|which|shou...    4:6  11:12   \n",
              "0  He|also|may|have|recurrent|seizures|which|shou...  14:15  11:12   \n",
              "0  -patient|will|be|on|Topiramate|25mg|PO|BID|unt...    5:6    4:5   \n",
              "0  -patient|will|be|on|Topiramate|25mg|PO|BID|unt...    6:7    4:5   \n",
              "0  -patient|will|be|on|Topiramate|25mg|PO|BID|unt...    7:8    4:5   \n",
              "\n",
              "            label  sid     uid                                     sdp  \n",
              "0     Reason-Drug    0  100035  recurrent seizures treated with ativan  \n",
              "0      Route-Drug    1  100035                            IM IV ativan  \n",
              "0   Strength-Drug    2  100035     -patient will be on Topiramate 25mg  \n",
              "0      Route-Drug    3  100035                  PO mg be on Topiramate  \n",
              "0  Frequency-Drug    4  100035                          BID Topiramate  "
            ]
          },
          "execution_count": 4,
          "metadata": {},
          "output_type": "execute_result"
        }
      ],
      "source": [
        "rel_train.head()"
      ]
    },
    {
      "cell_type": "code",
      "execution_count": 5,
      "metadata": {
        "id": "HOpA9koEOdrR"
      },
      "outputs": [],
      "source": [
        "tfidf = TfidfVectorizer()"
      ]
    },
    {
      "cell_type": "code",
      "execution_count": 6,
      "metadata": {
        "colab": {
          "base_uri": "https://localhost:8080/"
        },
        "id": "HU7jxRHJOdrT",
        "outputId": "3c54dfe6-3b45-4582-a94f-66fe7d2db676"
      },
      "outputs": [
        {
          "name": "stdout",
          "output_type": "stream",
          "text": [
            "TFIDF vocab size: 5699\n"
          ]
        }
      ],
      "source": [
        "X_train = tfidf.fit_transform(rel_train['sdp'].tolist())\n",
        "print(f\"TFIDF vocab size: {tfidf.idf_.shape[0]}\")\n",
        "y_train = rel_train['label']\n",
        "# del rel_train\n",
        "\n",
        "X_test = tfidf.transform(rel_test['sdp'].tolist())\n",
        "y_test = rel_test['label']\n",
        "# del rel_test"
      ]
    },
    {
      "cell_type": "code",
      "execution_count": 7,
      "metadata": {},
      "outputs": [
        {
          "data": {
            "text/plain": [
              "Strength-Drug     0.184394\n",
              "Form-Drug         0.183074\n",
              "Frequency-Drug    0.173609\n",
              "Route-Drug        0.152369\n",
              "Reason-Drug       0.142161\n",
              "Dosage-Drug       0.116244\n",
              "ADE-Drug          0.030457\n",
              "Duration-Drug     0.017691\n",
              "Name: label, dtype: Float64"
            ]
          },
          "execution_count": 7,
          "metadata": {},
          "output_type": "execute_result"
        }
      ],
      "source": [
        "rel_train['label'].value_counts(normalize=True)"
      ]
    },
    {
      "cell_type": "code",
      "execution_count": 34,
      "metadata": {
        "colab": {
          "base_uri": "https://localhost:8080/"
        },
        "id": "v2S3huDvSyof",
        "outputId": "667a36a5-c0b4-43e4-dd3e-a825909c0585"
      },
      "outputs": [
        {
          "data": {
            "text/plain": [
              "Strength-Drug     0.184394\n",
              "Form-Drug         0.183074\n",
              "Frequency-Drug    0.173609\n",
              "Route-Drug        0.152369\n",
              "Reason-Drug       0.142161\n",
              "Dosage-Drug       0.116244\n",
              "ADE-Drug          0.030457\n",
              "Duration-Drug     0.017691\n",
              "Name: label, dtype: Float64"
            ]
          },
          "execution_count": 34,
          "metadata": {},
          "output_type": "execute_result"
        }
      ],
      "source": [
        "rel_train['label'].value_counts(normalize=True)"
      ]
    },
    {
      "cell_type": "code",
      "execution_count": 36,
      "metadata": {
        "id": "6oQ1ib0eOdrU"
      },
      "outputs": [],
      "source": [
        "logreg = LogisticRegression(\n",
        "    class_weight='balanced', penalty=None, max_iter=1000, n_jobs=-1\n",
        ").fit(X_train, y_train)"
      ]
    },
    {
      "cell_type": "code",
      "execution_count": 37,
      "metadata": {
        "colab": {
          "base_uri": "https://localhost:8080/"
        },
        "id": "EHwouNQ_Wena",
        "outputId": "61545534-cdeb-4339-ff88-f52d05315d09"
      },
      "outputs": [
        {
          "name": "stdout",
          "output_type": "stream",
          "text": [
            "                precision    recall  f1-score   support\n",
            "\n",
            "      ADE-Drug       0.62      0.53      0.57       733\n",
            "   Dosage-Drug       0.75      0.83      0.79      2695\n",
            " Duration-Drug       0.48      0.54      0.51       426\n",
            "     Form-Drug       0.92      0.90      0.91      4374\n",
            "Frequency-Drug       0.87      0.87      0.87      4034\n",
            "   Reason-Drug       0.84      0.77      0.80      3410\n",
            "    Route-Drug       0.90      0.89      0.90      3546\n",
            " Strength-Drug       0.85      0.89      0.87      4244\n",
            "\n",
            "      accuracy                           0.85     23462\n",
            "     macro avg       0.78      0.78      0.78     23462\n",
            "  weighted avg       0.85      0.85      0.85     23462\n",
            "\n"
          ]
        }
      ],
      "source": [
        "print(metrics.classification_report(y_test, logreg.predict(X_test)))"
      ]
    },
    {
      "cell_type": "code",
      "execution_count": null,
      "metadata": {
        "id": "KqdliZHPOdrW"
      },
      "outputs": [],
      "source": []
    }
  ],
  "metadata": {
    "colab": {
      "provenance": []
    },
    "kernelspec": {
      "display_name": "myenv",
      "language": "python",
      "name": "python3"
    },
    "language_info": {
      "codemirror_mode": {
        "name": "ipython",
        "version": 3
      },
      "file_extension": ".py",
      "mimetype": "text/x-python",
      "name": "python",
      "nbconvert_exporter": "python",
      "pygments_lexer": "ipython3",
      "version": "3.10.8"
    },
    "orig_nbformat": 4
  },
  "nbformat": 4,
  "nbformat_minor": 0
}
