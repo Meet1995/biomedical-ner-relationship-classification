{
 "cells": [
  {
   "cell_type": "code",
   "execution_count": null,
   "metadata": {},
   "outputs": [],
   "source": [
    "!pip install spacy\n",
    "!pip install scispacy\n",
    "!pip install https://s3-us-west-2.amazonaws.com/ai2-s2-scispacy/releases/v0.5.1/en_core_sci_lg-0.5.1.tar.gz"
   ]
  },
  {
   "cell_type": "code",
   "execution_count": 68,
   "metadata": {},
   "outputs": [],
   "source": [
    "from collections import defaultdict\n",
    "import os\n",
    "from pprint import pprint\n",
    "import spacy\n",
    "import scispacy\n",
    "from scispacy.abbreviation import AbbreviationDetector\n",
    "from scispacy.linking import EntityLinker"
   ]
  },
  {
   "cell_type": "code",
   "execution_count": 90,
   "metadata": {},
   "outputs": [],
   "source": [
    "def get_tag_counts(dir_path):\n",
    "    filenames = [filename for filename in os.listdir(dir_path) if filename.endswith(\".ann\")]\n",
    "\n",
    "    entity_tags = defaultdict(set)\n",
    "    entity_tag_counts = defaultdict(int)\n",
    "    entity_tag_unique_counts = defaultdict(int)\n",
    "    relationship_tag_counts = defaultdict(int)\n",
    "\n",
    "    for filename in filenames:\n",
    "        with open(dir_path + filename) as f:\n",
    "            text = f.read()\n",
    "\n",
    "        lines = [line.split(\"\\t\") for line in text.split(\"\\n\")[:-1]]\n",
    "\n",
    "        for line in lines:\n",
    "            tag = line[1].split(\" \")[0]\n",
    "\n",
    "            if line[0].startswith(\"T\"):    \n",
    "                entity_tag_counts[tag] += 1\n",
    "                if line[2] not in entity_tags[tag]:\n",
    "                    entity_tags[tag].add(line[2])\n",
    "                    entity_tag_unique_counts[tag] += 1\n",
    "            elif line[0].startswith(\"R\"):\n",
    "                relationship_tag_counts[tag] += 1\n",
    "    \n",
    "    return entity_tag_counts, entity_tag_unique_counts, relationship_tag_counts"
   ]
  },
  {
   "cell_type": "code",
   "execution_count": 91,
   "metadata": {},
   "outputs": [
    {
     "name": "stdout",
     "output_type": "stream",
     "text": [
      "entity_tag_counts\n",
      "defaultdict(<class 'int'>,\n",
      "            {'ADE': 959,\n",
      "             'Dosage': 4221,\n",
      "             'Drug': 16225,\n",
      "             'Duration': 592,\n",
      "             'Form': 6651,\n",
      "             'Frequency': 6281,\n",
      "             'Reason': 3855,\n",
      "             'Route': 5476,\n",
      "             'Strength': 6691})\n",
      "entity_tag_unique_counts\n",
      "defaultdict(<class 'int'>,\n",
      "            {'ADE': 852,\n",
      "             'Dosage': 1804,\n",
      "             'Drug': 11687,\n",
      "             'Duration': 464,\n",
      "             'Form': 2342,\n",
      "             'Frequency': 3488,\n",
      "             'Reason': 3310,\n",
      "             'Route': 1467,\n",
      "             'Strength': 4847})\n",
      "relationship_tag_counts\n",
      "defaultdict(<class 'int'>,\n",
      "            {'ADE-Drug': 1107,\n",
      "             'Dosage-Drug': 4225,\n",
      "             'Duration-Drug': 643,\n",
      "             'Form-Drug': 6654,\n",
      "             'Frequency-Drug': 6310,\n",
      "             'Reason-Drug': 5169,\n",
      "             'Route-Drug': 5538,\n",
      "             'Strength-Drug': 6702})\n"
     ]
    }
   ],
   "source": [
    "entity_tag_counts, entity_tag_unique_counts, relationship_tag_counts = get_counts_for_dir(\"../../data/training_20180910/\")\n",
    "\n",
    "print(\"entity_tag_counts\")\n",
    "pprint(entity_tag_counts)\n",
    "print(\"entity_tag_unique_counts\")\n",
    "pprint(entity_tag_unique_counts)\n",
    "print(\"relationship_tag_counts\")\n",
    "pprint(relationship_tag_counts)"
   ]
  },
  {
   "cell_type": "code",
   "execution_count": 92,
   "metadata": {},
   "outputs": [
    {
     "name": "stdout",
     "output_type": "stream",
     "text": [
      "entity_tag_counts\n",
      "defaultdict(<class 'int'>,\n",
      "            {'ADE': 625,\n",
      "             'Dosage': 2681,\n",
      "             'Drug': 10575,\n",
      "             'Duration': 378,\n",
      "             'Form': 4359,\n",
      "             'Frequency': 4012,\n",
      "             'Reason': 2545,\n",
      "             'Route': 3513,\n",
      "             'Strength': 4230})\n",
      "entity_tag_unique_counts\n",
      "defaultdict(<class 'int'>,\n",
      "            {'ADE': 539,\n",
      "             'Dosage': 1165,\n",
      "             'Drug': 7720,\n",
      "             'Duration': 322,\n",
      "             'Form': 1600,\n",
      "             'Frequency': 2303,\n",
      "             'Reason': 2198,\n",
      "             'Route': 993,\n",
      "             'Strength': 3150})\n",
      "relationship_tag_counts\n",
      "defaultdict(<class 'int'>,\n",
      "            {'ADE-Drug': 733,\n",
      "             'Dosage-Drug': 2695,\n",
      "             'Duration-Drug': 426,\n",
      "             'Form-Drug': 4374,\n",
      "             'Frequency-Drug': 4034,\n",
      "             'Reason-Drug': 3410,\n",
      "             'Route-Drug': 3546,\n",
      "             'Strength-Drug': 4244})\n"
     ]
    }
   ],
   "source": [
    "entity_tag_counts, entity_tag_unique_counts, relationship_tag_counts = get_counts_for_dir(\"../../data/test/\")\n",
    "\n",
    "print(\"entity_tag_counts\")\n",
    "pprint(entity_tag_counts)\n",
    "print(\"entity_tag_unique_counts\")\n",
    "pprint(entity_tag_unique_counts)\n",
    "print(\"relationship_tag_counts\")\n",
    "pprint(relationship_tag_counts)"
   ]
  },
  {
   "cell_type": "code",
   "execution_count": null,
   "metadata": {},
   "outputs": [],
   "source": [
    "nlp = spacy.load(\"en_core_sci_lg\")\n",
    "nlp.add_pipe(\"abbreviation_detector\")\n",
    "nlp.add_pipe(\"scispacy_linker\", config={\"resolve_abbreviations\": True, \"linker_name\": \"umls\"})\n",
    "linker = nlp.get_pipe(\"scispacy_linker\")"
   ]
  },
  {
   "cell_type": "code",
   "execution_count": 83,
   "metadata": {},
   "outputs": [
    {
     "name": "stdout",
     "output_type": "stream",
     "text": [
      "Completed for 10 files...\n",
      "Completed for 20 files...\n",
      "Completed for 30 files...\n",
      "Completed for 40 files...\n",
      "Completed for 50 files...\n",
      "Completed for 60 files...\n",
      "Completed for 70 files...\n",
      "Completed for 80 files...\n",
      "Completed for 90 files...\n",
      "Completed for 100 files...\n",
      "Completed for 110 files...\n",
      "Completed for 120 files...\n",
      "Completed for 130 files...\n",
      "Completed for 140 files...\n",
      "Completed for 150 files...\n",
      "Completed for 160 files...\n",
      "Completed for 170 files...\n",
      "Completed for 180 files...\n",
      "Completed for 190 files...\n",
      "Completed for 200 files...\n",
      "Completed for 210 files...\n",
      "Completed for 220 files...\n",
      "Completed for 230 files...\n",
      "Completed for 240 files...\n",
      "Completed for 250 files...\n",
      "Completed for 260 files...\n",
      "Completed for 270 files...\n",
      "Completed for 280 files...\n",
      "Completed for 290 files...\n",
      "Completed for 300 files...\n",
      "drug_entity_counts\n",
      "defaultdict(<class 'int'>, {1: 14908, 2: 712, 0: 568, 4: 4, 3: 33})\n",
      "ade_entity_counts\n",
      "defaultdict(<class 'int'>, {2: 127, 1: 801, 3: 17, 0: 13, 4: 1})\n"
     ]
    }
   ],
   "source": [
    "dir_path = \"../../data/training_20180910/\"\n",
    "filenames = [filename for filename in os.listdir(dir_path) if filename.endswith(\".ann\")]\n",
    "\n",
    "drug_entity_counts = defaultdict(int)\n",
    "ade_entity_counts = defaultdict(int)    \n",
    "\n",
    "for i, filename in enumerate(filenames):\n",
    "    with open(dir_path + filename) as f:\n",
    "        text = f.read() \n",
    "\n",
    "    lines = [line.split(\"\\t\") for line in text.split(\"\\n\")[:-1]]\n",
    "\n",
    "    for line in lines:\n",
    "        if line[0].startswith(\"T\"):\n",
    "            if line[1].split(\" \")[0] == \"Drug\":\n",
    "                doc = nlp(line[2])\n",
    "                drug_entity_counts[len(doc.ents)] += 1\n",
    "            elif line[1].split(\" \")[0] == \"ADE\":\n",
    "                doc = nlp(line[2])\n",
    "                ade_entity_counts[len(doc.ents)] += 1\n",
    "\n",
    "    if (i + 1) % 10 == 0:\n",
    "        print(f\"Completed for {i + 1} files...\")\n",
    "\n",
    "print(\"drug_entity_counts\")\n",
    "print(drug_entity_counts)\n",
    "print(\"ade_entity_counts\")\n",
    "print(ade_entity_counts)"
   ]
  },
  {
   "cell_type": "code",
   "execution_count": 93,
   "metadata": {},
   "outputs": [
    {
     "name": "stderr",
     "output_type": "stream",
     "text": [
      "/Users/rohan/Projects/biomedical-ner-relationship-classification/venv/lib/python3.8/site-packages/scispacy/abbreviation.py:230: UserWarning: [W036] The component 'matcher' does not have any patterns defined.\n",
      "  global_matches = self.global_matcher(doc)\n"
     ]
    },
    {
     "name": "stdout",
     "output_type": "stream",
     "text": [
      "Completed for 10 files...\n",
      "Completed for 20 files...\n",
      "Completed for 30 files...\n",
      "Completed for 40 files...\n",
      "Completed for 50 files...\n",
      "Completed for 60 files...\n",
      "Completed for 70 files...\n",
      "Completed for 80 files...\n",
      "Completed for 90 files...\n",
      "Completed for 100 files...\n",
      "Completed for 110 files...\n",
      "Completed for 120 files...\n",
      "Completed for 130 files...\n",
      "Completed for 140 files...\n",
      "Completed for 150 files...\n",
      "Completed for 160 files...\n",
      "Completed for 170 files...\n",
      "Completed for 180 files...\n",
      "Completed for 190 files...\n",
      "Completed for 200 files...\n",
      "drug_entity_counts\n",
      "defaultdict(<class 'int'>, {1: 9728, 2: 455, 0: 368, 3: 20, 4: 4})\n",
      "ade_entity_counts\n",
      "defaultdict(<class 'int'>, {1: 510, 2: 88, 3: 12, 0: 12, 4: 2, 6: 1})\n"
     ]
    }
   ],
   "source": [
    "dir_path = \"../../data/test/\"\n",
    "filenames = [filename for filename in os.listdir(dir_path) if filename.endswith(\".ann\")]\n",
    "\n",
    "drug_entity_counts = defaultdict(int)\n",
    "ade_entity_counts = defaultdict(int)    \n",
    "\n",
    "for i, filename in enumerate(filenames):\n",
    "    with open(dir_path + filename) as f:\n",
    "        text = f.read() \n",
    "\n",
    "    lines = [line.split(\"\\t\") for line in text.split(\"\\n\")[:-1]]\n",
    "\n",
    "    for line in lines:\n",
    "        if line[0].startswith(\"T\"):\n",
    "            if line[1].split(\" \")[0] == \"Drug\":\n",
    "                doc = nlp(line[2])\n",
    "                drug_entity_counts[len(doc.ents)] += 1\n",
    "            elif line[1].split(\" \")[0] == \"ADE\":\n",
    "                doc = nlp(line[2])\n",
    "                ade_entity_counts[len(doc.ents)] += 1\n",
    "\n",
    "    if (i + 1) % 10 == 0:\n",
    "        print(f\"Completed for {i + 1} files...\")\n",
    "\n",
    "print(\"drug_entity_counts\")\n",
    "print(drug_entity_counts)\n",
    "print(\"ade_entity_counts\")\n",
    "print(ade_entity_counts)"
   ]
  },
  {
   "cell_type": "code",
   "execution_count": 120,
   "metadata": {},
   "outputs": [
    {
     "name": "stdout",
     "output_type": "stream",
     "text": [
      "vancomycin\n",
      "Vancomicina\n",
      "(1S,2R,18R,22S,25R,28R,40S)-22-(2-amino-2-oxoethyl)-48-[2-O-(3-amino-2,3,6-trideoxy-3-methyl-α-L-lyxo-hexopyranosyl)-β-D-glucopyranosyloxy]-5,15-dichloro-2,18,32,35,37-pentahydroxy-19-[(N-methyl-D-leucyl)amino]-20,23,26,42,44-pentaoxo-7,13-dioxa-21,24,27,41,43-pentaazaoctacyclo[26.14.2.23,6.214,17.18,12.129,33.010,25.034,39]pentaconta-3,5,8(48),9,11,14,16,29(45),30,32,34,36,38,46,49-pentadecaene-40-carboxylic acid\n",
      "Vancomycin (substance)\n",
      "Vancomycine\n",
      "(2.2Sp,3.5Sa,2.6Sp)-O4.2,C3.4:C5.4,O4.6:C3.5,C2.7-tricyclo[N-methyl-D-leucyl-3-chloro-(R)-β-hydroxy-D-tyrosyl-L-asparaginyl-D-2-(4-{[2-O-(3-amino-2,3,6-trideoxy-3-C-methyl-α-L-lyxo-hexopyranosyl)-β-D-glucopyranosyl]oxy}phenyl)glycyl-D-2-(4-hydroxyphenyl)glycyl-3-chloro-(R)-β-hydroxy-L-tyrosyl-L-2-(3,5-dihydroxyphenyl)glycine]\n",
      "vancomycin\n",
      "Vancomycin\n",
      "Product containing vancomycin (medicinal product)\n",
      "Vancomycinum\n",
      "Vancomycin-containing product\n",
      "VANCOMYCIN\n",
      "VANCO\n",
      "\n",
      "vancomycin biosynthetic process\n",
      "vancomycin biosynthesis\n",
      "vancomycin formation\n",
      "vancomycin anabolism\n",
      "vancomycin synthesis\n",
      "\n",
      "vancomycin hydrochloride\n",
      "Hydrochloride, Vancomycin\n",
      "Vancomycin hydrochloride (substance)\n",
      "vancomycin hydrochloride\n",
      "VANCOMYCIN HYDROCHLORIDE\n",
      "Vancomycin hydrochloride\n",
      "Vancomycin Hydrochloride\n",
      "vancomycin hcl\n",
      "\n",
      "Vancomycin Resistance\n",
      "resistance vancomycin\n",
      "vancomycin resistance\n",
      "Vancomycin resistance\n",
      "\n"
     ]
    },
    {
     "name": "stderr",
     "output_type": "stream",
     "text": [
      "/Users/rohan/Projects/biomedical-ner-relationship-classification/venv/lib/python3.8/site-packages/scispacy/abbreviation.py:230: UserWarning: [W036] The component 'matcher' does not have any patterns defined.\n",
      "  global_matches = self.global_matcher(doc)\n"
     ]
    }
   ],
   "source": [
    "with open(\"../../data/training_20180910/100035.txt\", mode=\"r\") as f:\n",
    "    text = f.read()\n",
    "\n",
    "start = 11014\n",
    "end =  11024\n",
    "entity = text[start:end]\n",
    "\n",
    "doc = nlp(entity)\n",
    "\n",
    "if len(doc.ents) == 1 and doc.ents[0].text == entity:\n",
    "    for kb_ents in doc.ents[0]._.kb_ents:\n",
    "        print(linker.kb.cui_to_entity[kb_ents[0]].canonical_name)\n",
    "        for alias in set(linker.kb.cui_to_entity[kb_ents[0]].aliases):\n",
    "            print(alias)\n",
    "        print(\"\")"
   ]
  },
  {
   "cell_type": "code",
   "execution_count": null,
   "metadata": {},
   "outputs": [],
   "source": []
  }
 ],
 "metadata": {
  "kernelspec": {
   "display_name": "venv",
   "language": "python",
   "name": "python3"
  },
  "language_info": {
   "codemirror_mode": {
    "name": "ipython",
    "version": 3
   },
   "file_extension": ".py",
   "mimetype": "text/x-python",
   "name": "python",
   "nbconvert_exporter": "python",
   "pygments_lexer": "ipython3",
   "version": "3.8.16"
  },
  "orig_nbformat": 4
 },
 "nbformat": 4,
 "nbformat_minor": 2
}
