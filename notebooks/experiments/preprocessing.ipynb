{
 "cells": [
  {
   "cell_type": "code",
   "execution_count": 158,
   "metadata": {},
   "outputs": [],
   "source": [
    "from collections import defaultdict\n",
    "import os\n",
    "from pprint import pprint"
   ]
  },
  {
   "cell_type": "code",
   "execution_count": 159,
   "metadata": {},
   "outputs": [],
   "source": [
    "def get_counts_for_file(dir_path: str, filename: str) -> tuple[defaultdict[str, int], defaultdict[str, int], defaultdict[str, int]]:\n",
    "    with open(dir_path + filename) as f:\n",
    "        text: str = f.read()\n",
    "\n",
    "    lines: list[list[str]] = [line.split(\"\\t\") for line in text.split(\"\\n\")[:-1]]\n",
    "\n",
    "    entity_tags: defaultdict[str, set] = defaultdict(set)\n",
    "    entity_tag_counts: defaultdict[str, int] = defaultdict(int)\n",
    "    entity_tag_unique_counts: defaultdict[str, int] = defaultdict(int)\n",
    "    relationship_tag_counts: defaultdict[str, int] = defaultdict(int)\n",
    "\n",
    "    for line in lines:\n",
    "        tag: str = line[1].split(\" \")[0]\n",
    "\n",
    "        if line[0].startswith(\"T\"):    \n",
    "            entity_tag_counts[tag] += 1\n",
    "            if line[2] not in entity_tags[tag]:\n",
    "                entity_tags[tag].add(line[2])\n",
    "                entity_tag_unique_counts[tag] += 1\n",
    "        elif line[0].startswith(\"R\"):\n",
    "            relationship_tag_counts[tag] += 1\n",
    "\n",
    "    return entity_tag_counts, entity_tag_unique_counts, relationship_tag_counts"
   ]
  },
  {
   "cell_type": "code",
   "execution_count": 161,
   "metadata": {},
   "outputs": [],
   "source": [
    "def get_counts_for_dir(dir_path: str) -> tuple[defaultdict[str, float], defaultdict[str, float], defaultdict[str, float]]:\n",
    "    filenames: list[str] = [\n",
    "        filename for filename in os.listdir(dir_path) if filename.endswith(\".ann\")\n",
    "    ]\n",
    "\n",
    "    entity_tag_counts: defaultdict[str, int] = defaultdict(int)\n",
    "    entity_tag_unique_counts: defaultdict[str, int] = defaultdict(int)\n",
    "    relationship_tag_counts: defaultdict[str, int] = defaultdict(int)\n",
    "\n",
    "    for filename in filenames:\n",
    "        entity_tag_counts_, entity_tag_unique_counts_, relationship_tag_counts_ = get_counts_for_file(dir_path, filename)\n",
    "        for tag in entity_tag_counts_:\n",
    "            entity_tag_counts[tag] += entity_tag_counts_[tag]\n",
    "        for tag in entity_tag_unique_counts_:\n",
    "            entity_tag_unique_counts[tag] += entity_tag_unique_counts_[tag]\n",
    "        for tag in relationship_tag_counts_:\n",
    "            relationship_tag_counts[tag] += relationship_tag_counts_[tag]\n",
    "\n",
    "    return entity_tag_counts, entity_tag_unique_counts, relationship_tag_counts"
   ]
  },
  {
   "cell_type": "code",
   "execution_count": 162,
   "metadata": {},
   "outputs": [],
   "source": [
    "entity_tag_counts, entity_tag_unique_counts, relationship_tag_counts = get_counts_for_dir(\"data/training_20180910/\")"
   ]
  },
  {
   "cell_type": "code",
   "execution_count": 163,
   "metadata": {},
   "outputs": [
    {
     "name": "stdout",
     "output_type": "stream",
     "text": [
      "entity_tag_counts\n",
      "defaultdict(<class 'int'>,\n",
      "            {'ADE': 959,\n",
      "             'Dosage': 4221,\n",
      "             'Drug': 16225,\n",
      "             'Duration': 592,\n",
      "             'Form': 6651,\n",
      "             'Frequency': 6281,\n",
      "             'Reason': 3855,\n",
      "             'Route': 5476,\n",
      "             'Strength': 6691})\n",
      "entity_tag_unique_counts\n",
      "defaultdict(<class 'int'>,\n",
      "            {'ADE': 852,\n",
      "             'Dosage': 1804,\n",
      "             'Drug': 11687,\n",
      "             'Duration': 464,\n",
      "             'Form': 2342,\n",
      "             'Frequency': 3488,\n",
      "             'Reason': 3310,\n",
      "             'Route': 1467,\n",
      "             'Strength': 4847})\n",
      "relationship_tag_counts\n",
      "defaultdict(<class 'int'>,\n",
      "            {'ADE-Drug': 1107,\n",
      "             'Dosage-Drug': 4225,\n",
      "             'Duration-Drug': 643,\n",
      "             'Form-Drug': 6654,\n",
      "             'Frequency-Drug': 6310,\n",
      "             'Reason-Drug': 5169,\n",
      "             'Route-Drug': 5538,\n",
      "             'Strength-Drug': 6702})\n"
     ]
    }
   ],
   "source": [
    "print(\"entity_tag_counts\")\n",
    "pprint(entity_tag_counts)\n",
    "print(\"entity_tag_unique_counts\")\n",
    "pprint(entity_tag_unique_counts)\n",
    "print(\"relationship_tag_counts\")\n",
    "pprint(relationship_tag_counts)"
   ]
  },
  {
   "cell_type": "code",
   "execution_count": 164,
   "metadata": {},
   "outputs": [],
   "source": [
    "entity_tag_counts, entity_tag_unique_counts, relationship_tag_counts = get_counts_for_dir(\"data/test/\")"
   ]
  },
  {
   "cell_type": "code",
   "execution_count": 165,
   "metadata": {},
   "outputs": [
    {
     "name": "stdout",
     "output_type": "stream",
     "text": [
      "entity_tag_counts\n",
      "defaultdict(<class 'int'>,\n",
      "            {'ADE': 625,\n",
      "             'Dosage': 2681,\n",
      "             'Drug': 10575,\n",
      "             'Duration': 378,\n",
      "             'Form': 4359,\n",
      "             'Frequency': 4012,\n",
      "             'Reason': 2545,\n",
      "             'Route': 3513,\n",
      "             'Strength': 4230})\n",
      "entity_tag_unique_counts\n",
      "defaultdict(<class 'int'>,\n",
      "            {'ADE': 539,\n",
      "             'Dosage': 1165,\n",
      "             'Drug': 7720,\n",
      "             'Duration': 322,\n",
      "             'Form': 1600,\n",
      "             'Frequency': 2303,\n",
      "             'Reason': 2198,\n",
      "             'Route': 993,\n",
      "             'Strength': 3150})\n",
      "relationship_tag_counts\n",
      "defaultdict(<class 'int'>,\n",
      "            {'ADE-Drug': 733,\n",
      "             'Dosage-Drug': 2695,\n",
      "             'Duration-Drug': 426,\n",
      "             'Form-Drug': 4374,\n",
      "             'Frequency-Drug': 4034,\n",
      "             'Reason-Drug': 3410,\n",
      "             'Route-Drug': 3546,\n",
      "             'Strength-Drug': 4244})\n"
     ]
    }
   ],
   "source": [
    "print(\"entity_tag_counts\")\n",
    "pprint(entity_tag_counts)\n",
    "print(\"entity_tag_unique_counts\")\n",
    "pprint(entity_tag_unique_counts)\n",
    "print(\"relationship_tag_counts\")\n",
    "pprint(relationship_tag_counts)"
   ]
  },
  {
   "cell_type": "code",
   "execution_count": null,
   "metadata": {},
   "outputs": [],
   "source": []
  }
 ],
 "metadata": {
  "kernelspec": {
   "display_name": "venv",
   "language": "python",
   "name": "python3"
  },
  "language_info": {
   "codemirror_mode": {
    "name": "ipython",
    "version": 3
   },
   "file_extension": ".py",
   "mimetype": "text/x-python",
   "name": "python",
   "nbconvert_exporter": "python",
   "pygments_lexer": "ipython3",
   "version": "3.10.9"
  },
  "orig_nbformat": 4
 },
 "nbformat": 4,
 "nbformat_minor": 2
}
