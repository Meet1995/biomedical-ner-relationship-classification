{
 "cells": [
  {
   "cell_type": "code",
   "execution_count": 7,
   "metadata": {},
   "outputs": [],
   "source": [
    "import re\n",
    "import nltk\n",
    "import spacy\n",
    "import numpy as np\n",
    "import pandas as pd\n",
    "import networkx as nx\n",
    "\n",
    "pd.set_option(\"display.max.columns\", None)"
   ]
  },
  {
   "cell_type": "code",
   "execution_count": 2,
   "metadata": {},
   "outputs": [
    {
     "data": {
      "text/plain": [
       "'He also may have\\nrecurrent seizures which should be treated with ativan IV or IM\\nand do not neccessarily indicate patient needs to return to\\nhospital unless they continue for greater than 5 minutes or he\\nhas multiple recurrent seizures or complications such as\\naspiration.'"
      ]
     },
     "execution_count": 2,
     "metadata": {},
     "output_type": "execute_result"
    }
   ],
   "source": [
    "text = \"\"\"He also may have\n",
    "recurrent seizures which should be treated with ativan IV or IM\n",
    "and do not neccessarily indicate patient needs to return to\n",
    "hospital unless they continue for greater than 5 minutes or he\n",
    "has multiple recurrent seizures or complications such as\n",
    "aspiration.\"\"\"\n",
    "text"
   ]
  },
  {
   "cell_type": "code",
   "execution_count": 52,
   "metadata": {},
   "outputs": [],
   "source": [
    "def extract_token_feats(text, window=2):\n",
    "    token_tag_lst = nltk.pos_tag( nltk.word_tokenize(text))\n",
    "    df_feats = pd.DataFrame(token_tag_lst, columns=['token', 'pos'])\n",
    "    df_feats['pos'] = df_feats['pos'].astype('string')\n",
    "    df_feats['istitle'] = df_feats['token'].str.istitle().astype('string')\n",
    "    df_feats['isupper'] = df_feats['token'].str.isupper().astype('string')\n",
    "    df_feats['isalpha'] = df_feats['token'].str.isalpha().astype('string')\n",
    "    df_feats['isnumeric'] = df_feats['token'].str.isnumeric().astype('string')\n",
    "    df_feats['containsnumbers'] = df_feats['token'].apply(\n",
    "        lambda x: len(re.findall(r'\\d', x))>0\n",
    "        ).astype('string')\n",
    "    df_feats = df_feats.set_index('token')\n",
    "    ini_cols = df_feats.columns\n",
    "    for s in range(-window, window+1):\n",
    "        if s != 0:\n",
    "            cols = [f\"{s}_{c}\" for c in ini_cols]\n",
    "            shift_df = df_feats[ini_cols].shift(-s)\n",
    "            shift_df.columns = cols\n",
    "            df_feats = pd.concat([df_feats, shift_df], axis=1)\n",
    "    return df_feats\n",
    "\n",
    "\n",
    "def get_dependency_graph(token_lst, spacy_pipe):\n",
    "    doc = spacy_pipe(\" \".join(token_lst))\n",
    "    edges = []\n",
    "    for token in doc:\n",
    "        for child in token.children:\n",
    "            edges.append((token.text, child.text))\n",
    "    return nx.from_edgelist(edges)\n",
    "\n",
    "\n",
    "def get_sdp(text, source, target, spacy_pipe):\n",
    "    token_lst = nltk.word_tokenize(text)\n",
    "    s_idx = token_lst.index(source)\n",
    "    t_idx = token_lst.index(target)\n",
    "    selected_tokens = token_lst[: max(s_idx, t_idx) + 1]\n",
    "    g = get_dependency_graph(selected_tokens, spacy_pipe)\n",
    "    return \" \".join(nx.shortest_path(g, source=source, target=target))"
   ]
  },
  {
   "cell_type": "code",
   "execution_count": 50,
   "metadata": {},
   "outputs": [],
   "source": [
    "nlp = spacy.load('en_core_web_sm')"
   ]
  },
  {
   "cell_type": "code",
   "execution_count": 54,
   "metadata": {},
   "outputs": [
    {
     "data": {
      "text/plain": [
       "'recurrent seizures treated with ativan'"
      ]
     },
     "execution_count": 54,
     "metadata": {},
     "output_type": "execute_result"
    }
   ],
   "source": [
    "get_sdp(text, 'recurrent', 'ativan', nlp)"
   ]
  },
  {
   "cell_type": "code",
   "execution_count": null,
   "metadata": {},
   "outputs": [],
   "source": []
  }
 ],
 "metadata": {
  "kernelspec": {
   "display_name": "myenv",
   "language": "python",
   "name": "python3"
  },
  "language_info": {
   "codemirror_mode": {
    "name": "ipython",
    "version": 3
   },
   "file_extension": ".py",
   "mimetype": "text/x-python",
   "name": "python",
   "nbconvert_exporter": "python",
   "pygments_lexer": "ipython3",
   "version": "3.10.8"
  },
  "orig_nbformat": 4
 },
 "nbformat": 4,
 "nbformat_minor": 2
}
