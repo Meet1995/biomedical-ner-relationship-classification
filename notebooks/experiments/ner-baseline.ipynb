{
 "cells": [
  {
   "cell_type": "code",
   "execution_count": 1,
   "metadata": {},
   "outputs": [],
   "source": [
    "import pandas as pd\n",
    "from sklearn import metrics\n",
    "from sklearn.preprocessing import OneHotEncoder\n",
    "from sklearn.linear_model import LogisticRegression"
   ]
  },
  {
   "cell_type": "code",
   "execution_count": 2,
   "metadata": {},
   "outputs": [],
   "source": [
    "DATA_PATH = \"/content/drive/Shareddrives/CIS522-Project/data\""
   ]
  },
  {
   "cell_type": "code",
   "execution_count": 3,
   "metadata": {},
   "outputs": [],
   "source": [
    "ner_train = pd.read_parquet(f\"{DATA_PATH}/ner_train_baseline.parquet\")\n",
    "ner_test = pd.read_parquet(f\"{DATA_PATH}/ner_test_baseline.parquet\")"
   ]
  },
  {
   "cell_type": "code",
   "execution_count": 4,
   "metadata": {},
   "outputs": [],
   "source": [
    "enc = OneHotEncoder(handle_unknown='infrequent_if_exist', min_frequency=0.01)"
   ]
  },
  {
   "cell_type": "code",
   "execution_count": 5,
   "metadata": {},
   "outputs": [],
   "source": [
    "X_train = enc.fit_transform(ner_train)\n",
    "y_train = ner_train.index.get_level_values(4).tolist()\n",
    "del ner_train\n",
    "\n",
    "X_test = enc.transform(ner_test)\n",
    "y_test = ner_test.index.get_level_values(4).tolist()\n",
    "del ner_test"
   ]
  },
  {
   "cell_type": "code",
   "execution_count": 6,
   "metadata": {},
   "outputs": [],
   "source": [
    "logreg = LogisticRegression(\n",
    "    class_weight='balanced', multi_class='multinomial',\n",
    "    penalty='l1', max_iter=200, solver='saga', n_jobs=-1\n",
    ").fit(X_train, y_train)"
   ]
  },
  {
   "cell_type": "code",
   "execution_count": 10,
   "metadata": {},
   "outputs": [
    {
     "name": "stderr",
     "output_type": "stream",
     "text": [
      "c:\\Users\\Meet\\miniconda3\\envs\\myenv\\lib\\site-packages\\sklearn\\metrics\\_classification.py:1344: UndefinedMetricWarning: Precision and F-score are ill-defined and being set to 0.0 in labels with no predicted samples. Use `zero_division` parameter to control this behavior.\n",
      "  _warn_prf(average, modifier, msg_start, len(result))\n",
      "c:\\Users\\Meet\\miniconda3\\envs\\myenv\\lib\\site-packages\\sklearn\\metrics\\_classification.py:1344: UndefinedMetricWarning: Precision and F-score are ill-defined and being set to 0.0 in labels with no predicted samples. Use `zero_division` parameter to control this behavior.\n",
      "  _warn_prf(average, modifier, msg_start, len(result))\n"
     ]
    },
    {
     "name": "stdout",
     "output_type": "stream",
     "text": [
      "              precision    recall  f1-score   support\n",
      "\n",
      "       B-ADE       0.00      0.00      0.00       582\n",
      "    B-Dosage       0.96      0.89      0.92     17212\n",
      "      B-Drug       0.75      0.62      0.68     11048\n",
      "  B-Duration       0.74      0.44      0.55      1942\n",
      "      B-Form       0.75      0.78      0.76      6581\n",
      " B-Frequency       0.70      0.68      0.69     16977\n",
      "    B-Reason       0.55      0.06      0.10      3556\n",
      "     B-Route       0.74      0.54      0.63      2394\n",
      "  B-Strength       0.84      0.93      0.89     32945\n",
      "       E-ADE       0.00      0.00      0.00       582\n",
      "    E-Dosage       0.90      0.87      0.89     17212\n",
      "      E-Drug       0.74      0.66      0.70     11039\n",
      "  E-Duration       0.70      0.61      0.65      1959\n",
      "      E-Form       0.69      0.45      0.54      6593\n",
      " E-Frequency       0.70      0.64      0.67     16957\n",
      "    E-Reason       0.59      0.01      0.03      3544\n",
      "     E-Route       0.84      0.51      0.64      2394\n",
      "  E-Strength       0.82      0.93      0.87     32948\n",
      "       I-ADE       0.00      0.00      0.00       450\n",
      "    I-Dosage       0.98      0.96      0.97     31686\n",
      "      I-Drug       0.44      0.17      0.24      3632\n",
      "  I-Duration       0.70      0.63      0.67      1469\n",
      "      I-Form       0.68      0.76      0.72     17241\n",
      " I-Frequency       0.70      0.80      0.75     42387\n",
      "    I-Reason       0.00      0.00      0.00      2603\n",
      "     I-Route       0.00      0.00      0.00        86\n",
      "  I-Strength       0.70      0.64      0.67      3580\n",
      "           O       0.85      0.91      0.88    503040\n",
      "       S-ADE       0.00      0.00      0.00       881\n",
      "    S-Dosage       0.63      0.46      0.53      6482\n",
      "      S-Drug       0.80      0.58      0.67     51669\n",
      "  S-Duration       0.00      0.00      0.00       110\n",
      "      S-Form       0.87      0.80      0.84     35081\n",
      " S-Frequency       0.68      0.55      0.61     19723\n",
      "    S-Reason       0.70      0.30      0.42      6694\n",
      "     S-Route       0.83      0.79      0.81     28556\n",
      "  S-Strength       0.78      0.72      0.75     10338\n",
      "\n",
      "    accuracy                           0.83    952173\n",
      "   macro avg       0.60      0.51      0.53    952173\n",
      "weighted avg       0.82      0.83      0.82    952173\n",
      "\n"
     ]
    },
    {
     "name": "stderr",
     "output_type": "stream",
     "text": [
      "c:\\Users\\Meet\\miniconda3\\envs\\myenv\\lib\\site-packages\\sklearn\\metrics\\_classification.py:1344: UndefinedMetricWarning: Precision and F-score are ill-defined and being set to 0.0 in labels with no predicted samples. Use `zero_division` parameter to control this behavior.\n",
      "  _warn_prf(average, modifier, msg_start, len(result))\n"
     ]
    }
   ],
   "source": [
    "print(metrics.classification_report(y_test, logreg.predict(X_test)))"
   ]
  },
  {
   "cell_type": "code",
   "execution_count": null,
   "metadata": {},
   "outputs": [],
   "source": []
  }
 ],
 "metadata": {
  "kernelspec": {
   "display_name": "myenv",
   "language": "python",
   "name": "python3"
  },
  "language_info": {
   "codemirror_mode": {
    "name": "ipython",
    "version": 3
   },
   "file_extension": ".py",
   "mimetype": "text/x-python",
   "name": "python",
   "nbconvert_exporter": "python",
   "pygments_lexer": "ipython3",
   "version": "3.10.8"
  },
  "orig_nbformat": 4
 },
 "nbformat": 4,
 "nbformat_minor": 2
}
