{
  "cells": [
    {
      "cell_type": "code",
      "source": [
        "%%capture\n",
        "!pip install \"flair\" -q\n",
        "# !pip install \"scispacy\" -q\n",
        "# !pip install https://s3-us-west-2.amazonaws.com/ai2-s2-scispacy/releases/v0.5.1/en_core_sci_sm-0.5.1.tar.gz -q"
      ],
      "metadata": {
        "id": "p7s9-ovEguP8"
      },
      "id": "p7s9-ovEguP8",
      "execution_count": 1,
      "outputs": []
    },
    {
      "cell_type": "code",
      "execution_count": 12,
      "id": "cbce5941",
      "metadata": {
        "id": "cbce5941"
      },
      "outputs": [],
      "source": [
        "import pandas as pd\n",
        "from flair.data import Corpus\n",
        "from flair.datasets import ColumnCorpus\n",
        "from flair.embeddings import WordEmbeddings, StackedEmbeddings, TokenEmbeddings\n",
        "from typing import List"
      ]
    },
    {
      "cell_type": "code",
      "execution_count": 13,
      "id": "c98e6d24",
      "metadata": {
        "id": "c98e6d24"
      },
      "outputs": [],
      "source": [
        "file_path = \"/content/\"\n",
        "filename = \"flair_train.txt\"\n",
        "test_file = \"flair_test.txt\""
      ]
    },
    {
      "cell_type": "code",
      "execution_count": 14,
      "id": "818f3be8",
      "metadata": {
        "id": "818f3be8"
      },
      "outputs": [],
      "source": [
        "columns = {0:\"text\", 1:\"ner\"}"
      ]
    },
    {
      "cell_type": "code",
      "execution_count": 15,
      "id": "80f5f07c",
      "metadata": {
        "scrolled": true,
        "colab": {
          "base_uri": "https://localhost:8080/"
        },
        "id": "80f5f07c",
        "outputId": "0790d6e7-9444-41e7-b672-1d05ada48ae1"
      },
      "outputs": [
        {
          "output_type": "stream",
          "name": "stdout",
          "text": [
            "2023-04-04 00:10:48,639 Reading data from /content\n",
            "2023-04-04 00:10:48,641 Train: /content/flair_train.txt\n",
            "2023-04-04 00:10:48,645 Dev: None\n",
            "2023-04-04 00:10:48,647 Test: /content/flair_test.txt\n"
          ]
        }
      ],
      "source": [
        "corpus: Corpus = ColumnCorpus(file_path, columns,\n",
        "                              train_file=filename,\n",
        "                              test_file=test_file)"
      ]
    },
    {
      "cell_type": "code",
      "execution_count": 16,
      "id": "bac17ac1",
      "metadata": {
        "colab": {
          "base_uri": "https://localhost:8080/"
        },
        "id": "bac17ac1",
        "outputId": "5dc1d0ad-e61b-4c8a-a762-0871562b436b"
      },
      "outputs": [
        {
          "output_type": "stream",
          "name": "stdout",
          "text": [
            "36464\n"
          ]
        }
      ],
      "source": [
        "print(len(corpus.train))"
      ]
    },
    {
      "cell_type": "code",
      "execution_count": 17,
      "id": "769bc48d",
      "metadata": {
        "id": "769bc48d"
      },
      "outputs": [],
      "source": [
        "# print(corpus.train[0].to_tagged_string(\"ner\"))"
      ]
    },
    {
      "cell_type": "code",
      "execution_count": 18,
      "id": "2c0514cf",
      "metadata": {
        "colab": {
          "base_uri": "https://localhost:8080/"
        },
        "id": "2c0514cf",
        "outputId": "111c60fa-d5a4-45dd-9cae-45e4a8cbd1ad"
      },
      "outputs": [
        {
          "output_type": "stream",
          "name": "stderr",
          "text": [
            "<ipython-input-18-07532d47af76>:2: DeprecationWarning: Call to deprecated method make_tag_dictionary. (Use 'make_label_dictionary' instead.) -- Deprecated since version 0.8.\n",
            "  tag_dictionary = corpus.make_tag_dictionary(tag_type=tag_type)\n"
          ]
        }
      ],
      "source": [
        "tag_type = \"ner\"\n",
        "tag_dictionary = corpus.make_tag_dictionary(tag_type=tag_type)"
      ]
    },
    {
      "cell_type": "code",
      "execution_count": 19,
      "id": "98bc31b6",
      "metadata": {
        "id": "98bc31b6"
      },
      "outputs": [],
      "source": [
        "embedding_types : List[TokenEmbeddings] = [\n",
        "        WordEmbeddings('glove'),\n",
        "        ## other embeddings\n",
        "        ]\n",
        "embeddings : StackedEmbeddings = StackedEmbeddings(\n",
        "                                 embeddings=embedding_types)"
      ]
    },
    {
      "cell_type": "code",
      "source": [
        "from flair.models import SequenceTagger\n",
        "tagger : SequenceTagger = SequenceTagger(hidden_size=256,\n",
        "                                       embeddings=embeddings,\n",
        "                                       tag_dictionary=tag_dictionary,\n",
        "                                       tag_type=tag_type,\n",
        "                                       use_crf=True)\n",
        "print(tagger)"
      ],
      "metadata": {
        "colab": {
          "base_uri": "https://localhost:8080/"
        },
        "id": "w-bRtUSUicYq",
        "outputId": "2d7bc34b-34a3-4142-89f2-04ce45f907e0"
      },
      "id": "w-bRtUSUicYq",
      "execution_count": 20,
      "outputs": [
        {
          "output_type": "stream",
          "name": "stdout",
          "text": [
            "2023-04-04 00:11:52,786 SequenceTagger predicts: Dictionary with 3 tags: O, <START>, <STOP>\n",
            "SequenceTagger(\n",
            "  (embeddings): StackedEmbeddings(\n",
            "    (list_embedding_0): WordEmbeddings(\n",
            "      'glove'\n",
            "      (embedding): Embedding(400001, 100)\n",
            "    )\n",
            "  )\n",
            "  (word_dropout): WordDropout(p=0.05)\n",
            "  (locked_dropout): LockedDropout(p=0.5)\n",
            "  (embedding2nn): Linear(in_features=100, out_features=100, bias=True)\n",
            "  (rnn): LSTM(100, 256, batch_first=True, bidirectional=True)\n",
            "  (linear): Linear(in_features=512, out_features=3, bias=True)\n",
            "  (loss_function): ViterbiLoss()\n",
            "  (crf): CRF()\n",
            ")\n"
          ]
        }
      ]
    },
    {
      "cell_type": "code",
      "source": [
        "from flair.trainers import ModelTrainer\n",
        "trainer : ModelTrainer = ModelTrainer(tagger, corpus)\n",
        "trainer.train('resources/taggers/example-ner',\n",
        "              learning_rate=0.1,\n",
        "              mini_batch_size=32,\n",
        "              max_epochs=150)"
      ],
      "metadata": {
        "colab": {
          "base_uri": "https://localhost:8080/"
        },
        "id": "VBEZPv9EivWL",
        "outputId": "0ca9624b-f14f-4f11-a6bd-54c3f0392a33"
      },
      "id": "VBEZPv9EivWL",
      "execution_count": null,
      "outputs": [
        {
          "output_type": "stream",
          "name": "stdout",
          "text": [
            "2023-04-04 00:11:52,817 ----------------------------------------------------------------------------------------------------\n",
            "2023-04-04 00:11:52,819 Model: \"SequenceTagger(\n",
            "  (embeddings): StackedEmbeddings(\n",
            "    (list_embedding_0): WordEmbeddings(\n",
            "      'glove'\n",
            "      (embedding): Embedding(400001, 100)\n",
            "    )\n",
            "  )\n",
            "  (word_dropout): WordDropout(p=0.05)\n",
            "  (locked_dropout): LockedDropout(p=0.5)\n",
            "  (embedding2nn): Linear(in_features=100, out_features=100, bias=True)\n",
            "  (rnn): LSTM(100, 256, batch_first=True, bidirectional=True)\n",
            "  (linear): Linear(in_features=512, out_features=3, bias=True)\n",
            "  (loss_function): ViterbiLoss()\n",
            "  (crf): CRF()\n",
            ")\"\n",
            "2023-04-04 00:11:52,824 ----------------------------------------------------------------------------------------------------\n",
            "2023-04-04 00:11:52,827 Corpus: \"Corpus: 36464 train + 4052 dev + 26050 test sentences\"\n",
            "2023-04-04 00:11:52,829 ----------------------------------------------------------------------------------------------------\n",
            "2023-04-04 00:11:52,830 Parameters:\n",
            "2023-04-04 00:11:52,831  - learning_rate: \"0.100000\"\n",
            "2023-04-04 00:11:52,832  - mini_batch_size: \"32\"\n",
            "2023-04-04 00:11:52,833  - patience: \"3\"\n",
            "2023-04-04 00:11:52,834  - anneal_factor: \"0.5\"\n",
            "2023-04-04 00:11:52,835  - max_epochs: \"150\"\n",
            "2023-04-04 00:11:52,836  - shuffle: \"True\"\n",
            "2023-04-04 00:11:52,837  - train_with_dev: \"False\"\n",
            "2023-04-04 00:11:52,838  - batch_growth_annealing: \"False\"\n",
            "2023-04-04 00:11:52,839 ----------------------------------------------------------------------------------------------------\n",
            "2023-04-04 00:11:52,839 Model training base path: \"resources/taggers/example-ner\"\n",
            "2023-04-04 00:11:52,842 ----------------------------------------------------------------------------------------------------\n",
            "2023-04-04 00:11:52,843 Device: cuda:0\n",
            "2023-04-04 00:11:52,844 ----------------------------------------------------------------------------------------------------\n",
            "2023-04-04 00:11:52,845 Embeddings storage mode: cpu\n",
            "2023-04-04 00:11:52,846 ----------------------------------------------------------------------------------------------------\n",
            "2023-04-04 00:12:07,416 epoch 1 - iter 114/1140 - loss -0.00000000 - time (sec): 14.57 - samples/sec: 9255.95 - lr: 0.100000\n",
            "2023-04-04 00:12:20,283 epoch 1 - iter 228/1140 - loss -0.00000000 - time (sec): 27.44 - samples/sec: 9708.10 - lr: 0.100000\n",
            "2023-04-04 00:12:33,092 epoch 1 - iter 342/1140 - loss 0.00000000 - time (sec): 40.25 - samples/sec: 9846.10 - lr: 0.100000\n",
            "2023-04-04 00:12:46,788 epoch 1 - iter 456/1140 - loss 0.00000000 - time (sec): 53.94 - samples/sec: 9828.08 - lr: 0.100000\n",
            "2023-04-04 00:13:00,453 epoch 1 - iter 570/1140 - loss 0.00000000 - time (sec): 67.61 - samples/sec: 9839.29 - lr: 0.100000\n",
            "2023-04-04 00:13:14,212 ----------------------------------------------------------------------------------------------------\n",
            "2023-04-04 00:13:14,218 Exiting from training early.\n",
            "2023-04-04 00:13:14,222 Saving model ...\n",
            "2023-04-04 00:13:15,174 Done.\n",
            "2023-04-04 00:13:15,230 ----------------------------------------------------------------------------------------------------\n",
            "2023-04-04 00:13:15,234 Testing using last state of model ...\n"
          ]
        },
        {
          "output_type": "stream",
          "name": "stderr",
          "text": [
            " 13%|█▎        | 106/815 [00:11<01:27,  8.11it/s]"
          ]
        }
      ]
    },
    {
      "cell_type": "code",
      "source": [
        "from flair.data import Sentence\n",
        "from flair.models import SequenceTagger\n",
        "# load the trained model\n",
        "final_model = \"/content/resources/taggers/example-ner/final-model.pt\"\n",
        "model = SequenceTagger.load(final_model)\n",
        "# create example sentence\n",
        "sentence = Sentence('I have aspirin in my butt')\n",
        "# predict the tags\n",
        "model.predict(sentence)\n",
        "print(sentence.to_tagged_string())"
      ],
      "metadata": {
        "id": "kJOarZyvjJiO"
      },
      "id": "kJOarZyvjJiO",
      "execution_count": null,
      "outputs": []
    },
    {
      "cell_type": "code",
      "source": [],
      "metadata": {
        "id": "3ZIfF7NejR-8"
      },
      "id": "3ZIfF7NejR-8",
      "execution_count": null,
      "outputs": []
    }
  ],
  "metadata": {
    "kernelspec": {
      "display_name": "Python 3 (ipykernel)",
      "language": "python",
      "name": "python3"
    },
    "language_info": {
      "codemirror_mode": {
        "name": "ipython",
        "version": 3
      },
      "file_extension": ".py",
      "mimetype": "text/x-python",
      "name": "python",
      "nbconvert_exporter": "python",
      "pygments_lexer": "ipython3",
      "version": "3.11.0"
    },
    "colab": {
      "provenance": []
    },
    "accelerator": "GPU",
    "gpuClass": "standard"
  },
  "nbformat": 4,
  "nbformat_minor": 5
}