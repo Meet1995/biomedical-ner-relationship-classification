{
  "cells": [
    {
      "attachments": {},
      "cell_type": "markdown",
      "metadata": {},
      "source": [
        "### Import Packages"
      ]
    },
    {
      "cell_type": "code",
      "execution_count": null,
      "metadata": {
        "id": "CSmHcFa_OdrL"
      },
      "outputs": [],
      "source": [
        "from google.colab import drive\n",
        "drive.mount('/content/drive')\n",
        "import pandas as pd\n",
        "from sklearn import metrics\n",
        "from sklearn.linear_model import LogisticRegression\n",
        "from sklearn.feature_extraction.text import TfidfVectorizer"
      ]
    },
    {
      "attachments": {},
      "cell_type": "markdown",
      "metadata": {},
      "source": [
        "### Import Data"
      ]
    },
    {
      "cell_type": "code",
      "execution_count": null,
      "metadata": {
        "id": "i67Xk2HJOdrO"
      },
      "outputs": [],
      "source": [
        "DATA_PATH = \"/content/drive/Shareddrives/CIS522-Project/data\""
      ]
    },
    {
      "cell_type": "code",
      "execution_count": null,
      "metadata": {
        "id": "-KLm1Xl2OdrR"
      },
      "outputs": [],
      "source": [
        "rel_train = pd.read_parquet(f\"{DATA_PATH}/rel_train_baseline.parquet\")\n",
        "rel_test = pd.read_parquet(f\"{DATA_PATH}/rel_test_baseline.parquet\")"
      ]
    },
    {
      "cell_type": "code",
      "execution_count": null,
      "metadata": {
        "colab": {
          "base_uri": "https://localhost:8080/",
          "height": 206
        },
        "id": "Uj6-R9zUSltq",
        "outputId": "a82e041d-2d18-4d03-eead-ff5027ced3e5"
      },
      "outputs": [
        {
          "data": {
            "text/html": [
              "\n",
              "  <div id=\"df-be3797ff-5628-40d9-ae98-9622ca03afa6\">\n",
              "    <div class=\"colab-df-container\">\n",
              "      <div>\n",
              "<style scoped>\n",
              "    .dataframe tbody tr th:only-of-type {\n",
              "        vertical-align: middle;\n",
              "    }\n",
              "\n",
              "    .dataframe tbody tr th {\n",
              "        vertical-align: top;\n",
              "    }\n",
              "\n",
              "    .dataframe thead th {\n",
              "        text-align: right;\n",
              "    }\n",
              "</style>\n",
              "<table border=\"1\" class=\"dataframe\">\n",
              "  <thead>\n",
              "    <tr style=\"text-align: right;\">\n",
              "      <th></th>\n",
              "      <th>text</th>\n",
              "      <th>arg1</th>\n",
              "      <th>arg2</th>\n",
              "      <th>label</th>\n",
              "      <th>sid</th>\n",
              "      <th>uid</th>\n",
              "      <th>sdp</th>\n",
              "    </tr>\n",
              "  </thead>\n",
              "  <tbody>\n",
              "    <tr>\n",
              "      <th>0</th>\n",
              "      <td>He|also|may|have|recurrent|seizures|which|shou...</td>\n",
              "      <td>4:6</td>\n",
              "      <td>11:12</td>\n",
              "      <td>Reason-Drug</td>\n",
              "      <td>0</td>\n",
              "      <td>100035</td>\n",
              "      <td>recurrent seizures treated with ativan</td>\n",
              "    </tr>\n",
              "    <tr>\n",
              "      <th>0</th>\n",
              "      <td>He|also|may|have|recurrent|seizures|which|shou...</td>\n",
              "      <td>14:15</td>\n",
              "      <td>11:12</td>\n",
              "      <td>Route-Drug</td>\n",
              "      <td>1</td>\n",
              "      <td>100035</td>\n",
              "      <td>IM IV ativan</td>\n",
              "    </tr>\n",
              "    <tr>\n",
              "      <th>0</th>\n",
              "      <td>-patient|will|be|on|Topiramate|25mg|PO|BID|unt...</td>\n",
              "      <td>5:6</td>\n",
              "      <td>4:5</td>\n",
              "      <td>Strength-Drug</td>\n",
              "      <td>2</td>\n",
              "      <td>100035</td>\n",
              "      <td>-patient will be on Topiramate 25mg</td>\n",
              "    </tr>\n",
              "    <tr>\n",
              "      <th>0</th>\n",
              "      <td>-patient|will|be|on|Topiramate|25mg|PO|BID|unt...</td>\n",
              "      <td>6:7</td>\n",
              "      <td>4:5</td>\n",
              "      <td>Route-Drug</td>\n",
              "      <td>3</td>\n",
              "      <td>100035</td>\n",
              "      <td>PO mg be on Topiramate</td>\n",
              "    </tr>\n",
              "    <tr>\n",
              "      <th>0</th>\n",
              "      <td>-patient|will|be|on|Topiramate|25mg|PO|BID|unt...</td>\n",
              "      <td>7:8</td>\n",
              "      <td>4:5</td>\n",
              "      <td>Frequency-Drug</td>\n",
              "      <td>4</td>\n",
              "      <td>100035</td>\n",
              "      <td>BID Topiramate</td>\n",
              "    </tr>\n",
              "  </tbody>\n",
              "</table>\n",
              "</div>\n",
              "      <button class=\"colab-df-convert\" onclick=\"convertToInteractive('df-be3797ff-5628-40d9-ae98-9622ca03afa6')\"\n",
              "              title=\"Convert this dataframe to an interactive table.\"\n",
              "              style=\"display:none;\">\n",
              "        \n",
              "  <svg xmlns=\"http://www.w3.org/2000/svg\" height=\"24px\"viewBox=\"0 0 24 24\"\n",
              "       width=\"24px\">\n",
              "    <path d=\"M0 0h24v24H0V0z\" fill=\"none\"/>\n",
              "    <path d=\"M18.56 5.44l.94 2.06.94-2.06 2.06-.94-2.06-.94-.94-2.06-.94 2.06-2.06.94zm-11 1L8.5 8.5l.94-2.06 2.06-.94-2.06-.94L8.5 2.5l-.94 2.06-2.06.94zm10 10l.94 2.06.94-2.06 2.06-.94-2.06-.94-.94-2.06-.94 2.06-2.06.94z\"/><path d=\"M17.41 7.96l-1.37-1.37c-.4-.4-.92-.59-1.43-.59-.52 0-1.04.2-1.43.59L10.3 9.45l-7.72 7.72c-.78.78-.78 2.05 0 2.83L4 21.41c.39.39.9.59 1.41.59.51 0 1.02-.2 1.41-.59l7.78-7.78 2.81-2.81c.8-.78.8-2.07 0-2.86zM5.41 20L4 18.59l7.72-7.72 1.47 1.35L5.41 20z\"/>\n",
              "  </svg>\n",
              "      </button>\n",
              "      \n",
              "  <style>\n",
              "    .colab-df-container {\n",
              "      display:flex;\n",
              "      flex-wrap:wrap;\n",
              "      gap: 12px;\n",
              "    }\n",
              "\n",
              "    .colab-df-convert {\n",
              "      background-color: #E8F0FE;\n",
              "      border: none;\n",
              "      border-radius: 50%;\n",
              "      cursor: pointer;\n",
              "      display: none;\n",
              "      fill: #1967D2;\n",
              "      height: 32px;\n",
              "      padding: 0 0 0 0;\n",
              "      width: 32px;\n",
              "    }\n",
              "\n",
              "    .colab-df-convert:hover {\n",
              "      background-color: #E2EBFA;\n",
              "      box-shadow: 0px 1px 2px rgba(60, 64, 67, 0.3), 0px 1px 3px 1px rgba(60, 64, 67, 0.15);\n",
              "      fill: #174EA6;\n",
              "    }\n",
              "\n",
              "    [theme=dark] .colab-df-convert {\n",
              "      background-color: #3B4455;\n",
              "      fill: #D2E3FC;\n",
              "    }\n",
              "\n",
              "    [theme=dark] .colab-df-convert:hover {\n",
              "      background-color: #434B5C;\n",
              "      box-shadow: 0px 1px 3px 1px rgba(0, 0, 0, 0.15);\n",
              "      filter: drop-shadow(0px 1px 2px rgba(0, 0, 0, 0.3));\n",
              "      fill: #FFFFFF;\n",
              "    }\n",
              "  </style>\n",
              "\n",
              "      <script>\n",
              "        const buttonEl =\n",
              "          document.querySelector('#df-be3797ff-5628-40d9-ae98-9622ca03afa6 button.colab-df-convert');\n",
              "        buttonEl.style.display =\n",
              "          google.colab.kernel.accessAllowed ? 'block' : 'none';\n",
              "\n",
              "        async function convertToInteractive(key) {\n",
              "          const element = document.querySelector('#df-be3797ff-5628-40d9-ae98-9622ca03afa6');\n",
              "          const dataTable =\n",
              "            await google.colab.kernel.invokeFunction('convertToInteractive',\n",
              "                                                     [key], {});\n",
              "          if (!dataTable) return;\n",
              "\n",
              "          const docLinkHtml = 'Like what you see? Visit the ' +\n",
              "            '<a target=\"_blank\" href=https://colab.research.google.com/notebooks/data_table.ipynb>data table notebook</a>'\n",
              "            + ' to learn more about interactive tables.';\n",
              "          element.innerHTML = '';\n",
              "          dataTable['output_type'] = 'display_data';\n",
              "          await google.colab.output.renderOutput(dataTable, element);\n",
              "          const docLink = document.createElement('div');\n",
              "          docLink.innerHTML = docLinkHtml;\n",
              "          element.appendChild(docLink);\n",
              "        }\n",
              "      </script>\n",
              "    </div>\n",
              "  </div>\n",
              "  "
            ],
            "text/plain": [
              "                                                text   arg1   arg2  \\\n",
              "0  He|also|may|have|recurrent|seizures|which|shou...    4:6  11:12   \n",
              "0  He|also|may|have|recurrent|seizures|which|shou...  14:15  11:12   \n",
              "0  -patient|will|be|on|Topiramate|25mg|PO|BID|unt...    5:6    4:5   \n",
              "0  -patient|will|be|on|Topiramate|25mg|PO|BID|unt...    6:7    4:5   \n",
              "0  -patient|will|be|on|Topiramate|25mg|PO|BID|unt...    7:8    4:5   \n",
              "\n",
              "            label  sid     uid                                     sdp  \n",
              "0     Reason-Drug    0  100035  recurrent seizures treated with ativan  \n",
              "0      Route-Drug    1  100035                            IM IV ativan  \n",
              "0   Strength-Drug    2  100035     -patient will be on Topiramate 25mg  \n",
              "0      Route-Drug    3  100035                  PO mg be on Topiramate  \n",
              "0  Frequency-Drug    4  100035                          BID Topiramate  "
            ]
          },
          "execution_count": 15,
          "metadata": {},
          "output_type": "execute_result"
        }
      ],
      "source": [
        "rel_train.head()"
      ]
    },
    {
      "attachments": {},
      "cell_type": "markdown",
      "metadata": {},
      "source": [
        "### Preprocess Data"
      ]
    },
    {
      "cell_type": "code",
      "execution_count": null,
      "metadata": {
        "colab": {
          "base_uri": "https://localhost:8080/"
        },
        "id": "HU7jxRHJOdrT",
        "outputId": "3c54dfe6-3b45-4582-a94f-66fe7d2db676"
      },
      "outputs": [
        {
          "name": "stdout",
          "output_type": "stream",
          "text": [
            "TFIDF vocab size: 5699\n"
          ]
        }
      ],
      "source": [
        "tfidf = TfidfVectorizer()\n",
        "\n",
        "X_train = tfidf.fit_transform(rel_train['sdp'].tolist())\n",
        "print(f\"TFIDF vocab size: {tfidf.idf_.shape[0]}\")\n",
        "y_train = rel_train['label']\n",
        "\n",
        "X_test = tfidf.transform(rel_test['sdp'].tolist())\n",
        "y_test = rel_test['label']"
      ]
    },
    {
      "cell_type": "code",
      "execution_count": null,
      "metadata": {
        "colab": {
          "base_uri": "https://localhost:8080/"
        },
        "id": "v2S3huDvSyof",
        "outputId": "667a36a5-c0b4-43e4-dd3e-a825909c0585"
      },
      "outputs": [
        {
          "data": {
            "text/plain": [
              "Strength-Drug     0.184394\n",
              "Form-Drug         0.183074\n",
              "Frequency-Drug    0.173609\n",
              "Route-Drug        0.152369\n",
              "Reason-Drug       0.142161\n",
              "Dosage-Drug       0.116244\n",
              "ADE-Drug          0.030457\n",
              "Duration-Drug     0.017691\n",
              "Name: label, dtype: Float64"
            ]
          },
          "execution_count": 34,
          "metadata": {},
          "output_type": "execute_result"
        }
      ],
      "source": [
        "rel_train['label'].value_counts(normalize=True)"
      ]
    },
    {
      "cell_type": "code",
      "execution_count": null,
      "metadata": {
        "colab": {
          "base_uri": "https://localhost:8080/"
        },
        "id": "Z5SosE9HS5g3",
        "outputId": "c402a85e-bb6f-4105-ed71-8a0ea85312bb"
      },
      "outputs": [
        {
          "data": {
            "text/plain": [
              "Form-Drug         0.186429\n",
              "Strength-Drug     0.180888\n",
              "Frequency-Drug    0.171938\n",
              "Route-Drug        0.151138\n",
              "Reason-Drug       0.145341\n",
              "Dosage-Drug       0.114867\n",
              "ADE-Drug          0.031242\n",
              "Duration-Drug     0.018157\n",
              "Name: label, dtype: Float64"
            ]
          },
          "execution_count": 35,
          "metadata": {},
          "output_type": "execute_result"
        }
      ],
      "source": [
        "rel_test['label'].value_counts(normalize=True)"
      ]
    },
    {
      "attachments": {},
      "cell_type": "markdown",
      "metadata": {},
      "source": [
        "### Train Model"
      ]
    },
    {
      "cell_type": "code",
      "execution_count": null,
      "metadata": {
        "id": "6oQ1ib0eOdrU"
      },
      "outputs": [],
      "source": [
        "logreg = LogisticRegression(\n",
        "    class_weight='balanced', penalty=None, max_iter=1000, n_jobs=-1\n",
        ").fit(X_train, y_train)"
      ]
    },
    {
      "attachments": {},
      "cell_type": "markdown",
      "metadata": {},
      "source": [
        "### Evaluate Model"
      ]
    },
    {
      "cell_type": "code",
      "execution_count": null,
      "metadata": {
        "colab": {
          "base_uri": "https://localhost:8080/"
        },
        "id": "EHwouNQ_Wena",
        "outputId": "61545534-cdeb-4339-ff88-f52d05315d09"
      },
      "outputs": [
        {
          "name": "stdout",
          "output_type": "stream",
          "text": [
            "                precision    recall  f1-score   support\n",
            "\n",
            "      ADE-Drug       0.62      0.53      0.57       733\n",
            "   Dosage-Drug       0.75      0.83      0.79      2695\n",
            " Duration-Drug       0.48      0.54      0.51       426\n",
            "     Form-Drug       0.92      0.90      0.91      4374\n",
            "Frequency-Drug       0.87      0.87      0.87      4034\n",
            "   Reason-Drug       0.84      0.77      0.80      3410\n",
            "    Route-Drug       0.90      0.89      0.90      3546\n",
            " Strength-Drug       0.85      0.89      0.87      4244\n",
            "\n",
            "      accuracy                           0.85     23462\n",
            "     macro avg       0.78      0.78      0.78     23462\n",
            "  weighted avg       0.85      0.85      0.85     23462\n",
            "\n"
          ]
        }
      ],
      "source": [
        "print(metrics.classification_report(y_test, logreg.predict(X_test)))"
      ]
    },
    {
      "cell_type": "code",
      "execution_count": null,
      "metadata": {
        "id": "d0wgsuWfhVoc"
      },
      "outputs": [],
      "source": []
    }
  ],
  "metadata": {
    "colab": {
      "provenance": []
    },
    "kernelspec": {
      "display_name": "myenv",
      "language": "python",
      "name": "python3"
    },
    "language_info": {
      "codemirror_mode": {
        "name": "ipython",
        "version": 3
      },
      "file_extension": ".py",
      "mimetype": "text/x-python",
      "name": "python",
      "nbconvert_exporter": "python",
      "pygments_lexer": "ipython3",
      "version": "3.10.8"
    },
    "orig_nbformat": 4
  },
  "nbformat": 4,
  "nbformat_minor": 0
}
