{
  "cells": [
    {
      "attachments": {},
      "cell_type": "markdown",
      "metadata": {},
      "source": [
        "### Install & Import Packages"
      ]
    },
    {
      "cell_type": "code",
      "execution_count": null,
      "metadata": {
        "id": "RHaKJyT29SBx"
      },
      "outputs": [],
      "source": [
        "%%capture\n",
        "!pip install \"flair\" -q"
      ]
    },
    {
      "cell_type": "code",
      "execution_count": null,
      "metadata": {
        "colab": {
          "base_uri": "https://localhost:8080/",
          "height": 35
        },
        "id": "H7k5xilpsMSh",
        "outputId": "7049da39-18d9-4fc6-bb56-c560720bd2ba"
      },
      "outputs": [
        {
          "data": {
            "application/vnd.google.colaboratory.intrinsic+json": {
              "type": "string"
            },
            "text/plain": [
              "'0.12.2'"
            ]
          },
          "execution_count": 3,
          "metadata": {},
          "output_type": "execute_result"
        }
      ],
      "source": [
        "from google.colab import drive\n",
        "drive.mount('/content/drive')\n",
        "import pandas as pd\n",
        "import flair\n",
        "from flair.data import Sentence\n",
        "from flair.datasets import DataLoader\n",
        "from flair.datasets import ColumnCorpus\n",
        "from flair.embeddings import (\n",
        "    WordEmbeddings, FlairEmbeddings, StackedEmbeddings, TransformerWordEmbeddings\n",
        ")\n",
        "from flair.models import RelationExtractor, SequenceTagger\n",
        "from flair.trainers import ModelTrainer\n",
        "flair.__version__"
      ]
    },
    {
      "attachments": {},
      "cell_type": "markdown",
      "metadata": {},
      "source": [
        "### Import Data"
      ]
    },
    {
      "cell_type": "code",
      "execution_count": null,
      "metadata": {
        "id": "qBDCigAEcMgZ"
      },
      "outputs": [],
      "source": [
        "DATA_PATH = \"/content/drive/Shareddrives/CIS522-Project/data/\"\n",
        "MODEL_PATH = \"/content/drive/Shareddrives/CIS522-Project/models\""
      ]
    },
    {
      "cell_type": "code",
      "execution_count": null,
      "metadata": {
        "colab": {
          "base_uri": "https://localhost:8080/"
        },
        "id": "Z4Rv3ultxd2b",
        "outputId": "3e7f1d82-2916-4680-9ec0-8916a92769b5"
      },
      "outputs": [
        {
          "name": "stdout",
          "output_type": "stream",
          "text": [
            "2023-04-12 13:52:21,417 Reading data from /content/drive/Shareddrives/CIS522-Project/data\n",
            "2023-04-12 13:52:21,429 Train: /content/drive/Shareddrives/CIS522-Project/data/flair_rel_train.txt\n",
            "2023-04-12 13:52:21,433 Dev: None\n",
            "2023-04-12 13:52:21,436 Test: /content/drive/Shareddrives/CIS522-Project/data/flair_rel_test.txt\n"
          ]
        }
      ],
      "source": [
        "# Import data into flair using ColumnCorpus\n",
        "corpus = ColumnCorpus(\n",
        "    DATA_PATH, {1: 'text', 2: 'ner'},\n",
        "    train_file='flair_rel_train.txt', test_file='flair_rel_test.txt',\n",
        "    comment_symbol=\"# \"\n",
        ")"
      ]
    },
    {
      "cell_type": "code",
      "execution_count": null,
      "metadata": {
        "colab": {
          "base_uri": "https://localhost:8080/"
        },
        "id": "RFU80TGsdmNk",
        "outputId": "deb02683-63cd-475e-9cc7-d210beeff15b"
      },
      "outputs": [
        {
          "data": {
            "text/plain": [
              "Sentence[29]: \"He also may have recurrent seizures which should be treated with ativan IV or IM and do not neccessarily indicate patient needs to return to hospital unless they continue\" → [\"recurrent seizures\"/Reason, \"recurrent seizures -> ativan\"/Reason-Drug, \"ativan\"/Drug, \"IV\"/Route, \"IM\"/Route]"
            ]
          },
          "execution_count": 6,
          "metadata": {},
          "output_type": "execute_result"
        }
      ],
      "source": [
        "# Example ColumnCorpus train sample\n",
        "corpus.train[0]"
      ]
    },
    {
      "cell_type": "code",
      "execution_count": null,
      "metadata": {
        "colab": {
          "base_uri": "https://localhost:8080/"
        },
        "id": "ty5MnsMGdzdE",
        "outputId": "14d787f5-71c2-46ff-fa41-6efd47ddc418"
      },
      "outputs": [
        {
          "data": {
            "text/plain": [
              "Sentence[14]: \"MEDICATIONS : Lipitor , Tylenol with Codeine , Dilantin , previously on Decadron q.i.d\" → [\"Lipitor\"/Drug, \"Tylenol with Codeine\"/Drug, \"Dilantin\"/Drug, \"Decadron\"/Drug, \"q.i.d -> Decadron\"/Frequency-Drug, \"q.i.d\"/Frequency]"
            ]
          },
          "execution_count": 7,
          "metadata": {},
          "output_type": "execute_result"
        }
      ],
      "source": [
        "# Example ColumnCorpus test sample\n",
        "corpus.test[0]"
      ]
    },
    {
      "cell_type": "code",
      "execution_count": null,
      "metadata": {
        "colab": {
          "base_uri": "https://localhost:8080/"
        },
        "id": "bX6u5WSxf3rR",
        "outputId": "7c95810a-95db-40e8-b6f9-f5b5198d1ac2"
      },
      "outputs": [
        {
          "name": "stdout",
          "output_type": "stream",
          "text": [
            "2023-04-10 06:59:02,099 Computing label dictionary. Progress:\n"
          ]
        },
        {
          "name": "stderr",
          "output_type": "stream",
          "text": [
            "32711it [00:00, 43156.08it/s]"
          ]
        },
        {
          "name": "stdout",
          "output_type": "stream",
          "text": [
            "2023-04-10 06:59:02,899 Dictionary created for label 'relation' with 8 values: Strength-Drug (seen 6063 times), Form-Drug (seen 5968 times), Frequency-Drug (seen 5691 times), Route-Drug (seen 4974 times), Reason-Drug (seen 4642 times), Dosage-Drug (seen 3785 times), ADE-Drug (seen 1011 times), Duration-Drug (seen 577 times)\n",
            "['Strength-Drug', 'Form-Drug', 'Frequency-Drug', 'Route-Drug', 'Reason-Drug', 'Dosage-Drug', 'ADE-Drug', 'Duration-Drug', 'O']\n"
          ]
        },
        {
          "name": "stderr",
          "output_type": "stream",
          "text": [
            "\n"
          ]
        }
      ],
      "source": [
        "# Needed for model initialization\n",
        "label_dictionary = corpus.make_label_dictionary(label_type=\"relation\", add_unk=False)\n",
        "label_dictionary.add_item('O') # Important to capture invalid relations\n",
        "print(label_dictionary.get_items())"
      ]
    },
    {
      "attachments": {},
      "cell_type": "markdown",
      "metadata": {},
      "source": [
        "### Initialize Weight Dictionary\n",
        "This is the weight dictionary used by the loss function. The weight for a given relationship is set to the ratio between the frequency of the most represented relationship and the frequency of the given relationship."
      ]
    },
    {
      "cell_type": "code",
      "execution_count": null,
      "metadata": {
        "colab": {
          "base_uri": "https://localhost:8080/"
        },
        "id": "IZ7XuoknuqjW",
        "outputId": "20f21323-d4e6-44e9-fa6d-d8f491778d0b"
      },
      "outputs": [],
      "source": [
        "weight_dict = {\n",
        "    'Strength-Drug': 6063/6063,\n",
        "    'Form-Drug': 6063/5968,\n",
        "    'Frequency-Drug': 6063/5691,\n",
        "    'Route-Drug': 6063/4974,\n",
        "    'Reason-Drug': 6063/4642,\n",
        "    'Dosage-Drug': 6063/3785,\n",
        "    'ADE-Drug': 6063/1011,\n",
        "    'Duration-Drug': 6063/577,\n",
        "}"
      ]
    },
    {
      "attachments": {},
      "cell_type": "markdown",
      "metadata": {},
      "source": [
        "### Initialize/Load Embeddings & Model"
      ]
    },
    {
      "cell_type": "code",
      "execution_count": null,
      "metadata": {
        "id": "TQOawXo4kZif"
      },
      "outputs": [],
      "source": [
        "# RUN ONLY DURING EMBEDDINGS/MODEL INITIALIZATION\n",
        "# embedding_types = [\n",
        "#     FlairEmbeddings(\"pubmed-forward\", fine_tune=True),\n",
        "#     FlairEmbeddings(\"pubmed-backward\", fine_tune=True),\n",
        "# ]\n",
        "# embeddings = StackedEmbeddings(embeddings=embedding_types)\n",
        "# rel_extractor = RelationExtractor(\n",
        "#     embeddings=embeddings,\n",
        "#     label_type=\"relation\",\n",
        "#     entity_label_type='ner',\n",
        "#     pooling_operation=\"first_last\",\n",
        "#     label_dictionary=label_dictionary,\n",
        "#     loss_weights=weight_dict,\n",
        "#     entity_pair_filters=[\n",
        "#         ('Strength', 'Drug'),\n",
        "#         ('Form', 'Drug'),\n",
        "#         ('Frequency', 'Drug'),\n",
        "#         ('Route', 'Drug'),\n",
        "#         ('Reason', 'Drug'),\n",
        "#         ('Dosage', 'Drug'),\n",
        "#         ('ADE', 'Drug'),\n",
        "#         ('Duration', 'Drug')\n",
        "#     ]\n",
        "# )\n",
        "\n",
        "# RUN WHEN A COPY OF THE MODEL HAS BEEN SAVED TO DRIVE\n",
        "rel_extractor = RelationExtractor.load(\n",
        "    f\"{MODEL_PATH}/extractors/flair-embedding-rel/best-model.pt\"\n",
        ")"
      ]
    },
    {
      "attachments": {},
      "cell_type": "markdown",
      "metadata": {},
      "source": [
        "### Train Model"
      ]
    },
    {
      "cell_type": "code",
      "execution_count": null,
      "metadata": {
        "colab": {
          "base_uri": "https://localhost:8080/"
        },
        "id": "cKEo7wqaNbZd",
        "outputId": "0885fc98-ebc3-4524-bdd0-7c2e82d1ba0f"
      },
      "outputs": [],
      "source": [
        "# Initialize trainer\n",
        "trainer = ModelTrainer(rel_extractor, corpus)\n",
        "\n",
        "# Train on corpus\n",
        "trainer.train(\n",
        "    base_path=f\"{MODEL_PATH}/extractors/flair-embedding-rel\",\n",
        "    train_with_dev=False,\n",
        "    max_epochs=5,\n",
        "    learning_rate=0.1,\n",
        "    mini_batch_size=8,\n",
        "    embeddings_storage_mode='none'\n",
        ")"
      ]
    },
    {
      "attachments": {},
      "cell_type": "markdown",
      "metadata": {},
      "source": [
        "### Evaluate Model"
      ]
    },
    {
      "cell_type": "code",
      "execution_count": null,
      "metadata": {
        "colab": {
          "base_uri": "https://localhost:8080/"
        },
        "id": "rmOIYP99aQW3",
        "outputId": "ee237e12-e571-47c0-a247-01f20dc28919"
      },
      "outputs": [
        {
          "name": "stderr",
          "output_type": "stream",
          "text": [
            "100%|██████████| 367/367 [04:32<00:00,  1.35it/s]"
          ]
        },
        {
          "name": "stdout",
          "output_type": "stream",
          "text": [
            "2023-04-12 14:04:15,026 Evaluating as a multi-label problem: False\n"
          ]
        },
        {
          "name": "stderr",
          "output_type": "stream",
          "text": [
            "\n"
          ]
        },
        {
          "name": "stdout",
          "output_type": "stream",
          "text": [
            "\n",
            "Results:\n",
            "- F-score (micro) 0.8235\n",
            "- F-score (macro) 0.7998\n",
            "- Accuracy 0.7124\n",
            "\n",
            "By class:\n",
            "                precision    recall  f1-score   support\n",
            "\n",
            "     Form-Drug     0.8904    0.8267    0.8574      4374\n",
            "Frequency-Drug     0.8763    0.9251    0.9000      4034\n",
            "    Route-Drug     0.6760    0.8739    0.7624      3546\n",
            " Strength-Drug     0.9228    0.7717    0.8405      4244\n",
            "   Reason-Drug     0.6987    0.8487    0.7664      3410\n",
            "   Dosage-Drug     0.8643    0.8883    0.8761      2695\n",
            "      ADE-Drug     0.5217    0.7872    0.6275       733\n",
            " Duration-Drug     0.6818    0.8803    0.7684       426\n",
            "\n",
            "     micro avg     0.7978    0.8508    0.8235     23462\n",
            "     macro avg     0.7665    0.8502    0.7998     23462\n",
            "  weighted avg     0.8153    0.8508    0.8274     23462\n",
            "\n"
          ]
        }
      ],
      "source": [
        "result = rel_extractor.evaluate(corpus.test, gold_label_type='relation', mini_batch_size=64)\n",
        "print(result.detailed_results)"
      ]
    },
    {
      "cell_type": "code",
      "execution_count": null,
      "metadata": {
        "id": "SK2sofWTwtg3"
      },
      "outputs": [],
      "source": []
    }
  ],
  "metadata": {
    "accelerator": "GPU",
    "colab": {
      "provenance": []
    },
    "gpuClass": "standard",
    "kernelspec": {
      "display_name": "Python 3",
      "name": "python3"
    },
    "language_info": {
      "name": "python"
    }
  },
  "nbformat": 4,
  "nbformat_minor": 0
}
