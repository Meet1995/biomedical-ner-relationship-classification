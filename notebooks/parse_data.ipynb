{
 "cells": [
  {
   "cell_type": "code",
   "execution_count": 1,
   "id": "2998eb96",
   "metadata": {},
   "outputs": [],
   "source": [
    "import nltk\n",
    "# nltk.download('punkt')\n",
    "from nltk.tokenize import sent_tokenize\n",
    "import json"
   ]
  },
  {
   "cell_type": "code",
   "execution_count": 2,
   "id": "8948db1d",
   "metadata": {},
   "outputs": [],
   "source": [
    "base_path = \"../data/data_sample/\"\n",
    "file_name = \"164726\""
   ]
  },
  {
   "cell_type": "code",
   "execution_count": 3,
   "id": "320904de",
   "metadata": {},
   "outputs": [],
   "source": [
    "ann_str = None\n",
    "with open(base_path + file_name + \".ann\", \"r\") as file:\n",
    "    ann_str = file.read()"
   ]
  },
  {
   "cell_type": "code",
   "execution_count": 5,
   "id": "2193e11d",
   "metadata": {},
   "outputs": [],
   "source": [
    "def parse_entities_relationships(file_content):\n",
    "    \"\"\"\n",
    "    parses out entities and relationships from the entities file\n",
    "    \"\"\"\n",
    "    entities = {}\n",
    "    relationships = {}\n",
    "\n",
    "    for line in file_content.strip().split('\\n'):\n",
    "        cols = line.split('\\t')\n",
    "        identifier = cols[0]\n",
    "\n",
    "        if identifier.startswith('T'):\n",
    "            entity_type, start, end = cols[1].split()\n",
    "            value = cols[2]\n",
    "            entities[identifier] = {'type': entity_type, 'start': int(start), 'end': int(end), 'value': value}\n",
    "\n",
    "        elif identifier.startswith('R'):\n",
    "            relationship_type, arg1, arg2 = cols[1].split()\n",
    "            relationships[identifier] = {'type': relationship_type, 'arg1': arg1.split(':')[1], 'arg2': arg2.split(':')[1]}\n",
    "\n",
    "    return entities, relationships"
   ]
  },
  {
   "cell_type": "code",
   "execution_count": 6,
   "id": "178439db",
   "metadata": {},
   "outputs": [],
   "source": [
    "ent, rel = parse_entities_relationships(ann_str)"
   ]
  },
  {
   "cell_type": "code",
   "execution_count": 9,
   "id": "be3e8ea3",
   "metadata": {},
   "outputs": [],
   "source": [
    "txt_str = None\n",
    "with open(base_path + file_name + \".txt\", \"r\") as file:\n",
    "    txt_str = file.read()"
   ]
  },
  {
   "cell_type": "code",
   "execution_count": 12,
   "id": "85be2fcd",
   "metadata": {},
   "outputs": [],
   "source": [
    "# sentences = sent_tokenize(txt_str)\n",
    "# print(sentences)"
   ]
  },
  {
   "cell_type": "code",
   "execution_count": 22,
   "id": "b561dfd5",
   "metadata": {},
   "outputs": [],
   "source": [
    "def sentence_start_end(sentences, txt_str):\n",
    "    \"\"\"\n",
    "    get starting and ending positions of sentences\n",
    "    \"\"\"\n",
    "    sent_positions = []\n",
    "    for sent in sentences:\n",
    "        start = txt_str.find(sent)\n",
    "        end = start + len(sent)\n",
    "        sent_positions.append((start, end))\n",
    "    return sent_positions"
   ]
  },
  {
   "cell_type": "code",
   "execution_count": 24,
   "id": "5136af7e",
   "metadata": {},
   "outputs": [],
   "source": [
    "sentences = sent_tokenize(txt_str)\n",
    "sent_pos = sentence_start_end(sentences, txt_str)"
   ]
  },
  {
   "cell_type": "code",
   "execution_count": 30,
   "id": "cea0d9ad",
   "metadata": {},
   "outputs": [],
   "source": [
    "def update_entity_indices(entities, sent_positions):\n",
    "    \"\"\"\n",
    "    for each entity update its position relative to this sentence\n",
    "    \"\"\"\n",
    "    for entity_key in entities:\n",
    "        entity = entities[entity_key]\n",
    "        start = entity['start']\n",
    "        end = entity['end']\n",
    "        for i, (sent_start, sent_end) in enumerate(sent_positions):\n",
    "            if start >= sent_start and end <= sent_end:\n",
    "                entity['sentence'] = i\n",
    "                entity['sent_start'] = start - sent_start\n",
    "                entity['sent_end'] = end - sent_start\n",
    "                break\n",
    "    return entities"
   ]
  },
  {
   "cell_type": "code",
   "execution_count": 33,
   "id": "8fd93ee0",
   "metadata": {},
   "outputs": [],
   "source": [
    "ent = update_entity_indices(ent, sent_pos)"
   ]
  },
  {
   "cell_type": "code",
   "execution_count": 43,
   "id": "9ad32b3e",
   "metadata": {},
   "outputs": [],
   "source": [
    "def get_relationship_spans(entities, relationships, txt_str):\n",
    "    \"\"\"\n",
    "    get relationship spans\n",
    "    \"\"\"\n",
    "    sentences = sent_tokenize(txt_str)\n",
    "    entities = update_entity_indices(entities, sentence_start_end(sentences, txt_str))\n",
    "#     print(entities)\n",
    "    relationship_spans = {}\n",
    "    processed_sentences = set()\n",
    "\n",
    "    for rel_id, relationship in relationships.items():\n",
    "        arg1 = entities[relationship['arg1']]\n",
    "        arg2 = entities[relationship['arg2']]\n",
    "        sent_start = min(arg1['sentence'], arg2['sentence'])\n",
    "        sent_end = max(arg1['sentence'], arg2['sentence'])\n",
    "\n",
    "        span = ' '.join(sentences[sent_start:sent_end+1])\n",
    "        processed_sentences.add(sent_start)\n",
    "        processed_sentences.add(sent_end)\n",
    "\n",
    "        if span not in relationship_spans:\n",
    "            relationship_spans[span] = {\n",
    "                'relationships': [],\n",
    "                'entities': {}\n",
    "            }\n",
    "\n",
    "        relationship_spans[span]['relationships'].append({\n",
    "            'id': rel_id,\n",
    "            'type': relationship['type'],\n",
    "            'arg1': relationship['arg1'],\n",
    "            'arg2': relationship['arg2']\n",
    "        })\n",
    "\n",
    "        relationship_spans[span]['entities'][relationship['arg1']] = arg1\n",
    "        relationship_spans[span]['entities'][relationship['arg2']] = arg2\n",
    "\n",
    "    return relationship_spans"
   ]
  },
  {
   "cell_type": "code",
   "execution_count": 44,
   "id": "c4c58714",
   "metadata": {},
   "outputs": [],
   "source": [
    "spans = get_relationship_spans(ent, rel, txt_str)"
   ]
  },
  {
   "cell_type": "code",
   "execution_count": 45,
   "id": "908ef754",
   "metadata": {},
   "outputs": [
    {
     "name": "stdout",
     "output_type": "stream",
     "text": [
      "{'IV nitro inititated,\\nheparin, aspirin initiated and now painfree.': {'relationships': [{'id': 'R1', 'type': 'Route-Drug', 'arg1': 'T2', 'arg2': 'T3'}], 'entities': {'T2': {'type': 'Route', 'start': 1376, 'end': 1378, 'value': 'IV', 'sentence': 5, 'sent_start': 0, 'sent_end': 2}, 'T3': {'type': 'Drug', 'start': 1379, 'end': 1384, 'value': 'nitro', 'sentence': 5, 'sent_start': 3, 'sent_end': 8}}}, 'Aggressive diuresis\\nwith IV lasix and diuril were unsuccessful so CVVH was\\ninitiated.': {'relationships': [{'id': 'R2', 'type': 'Reason-Drug', 'arg1': 'T6', 'arg2': 'T8'}, {'id': 'R3', 'type': 'Reason-Drug', 'arg1': 'T6', 'arg2': 'T9'}, {'id': 'R4', 'type': 'Route-Drug', 'arg1': 'T7', 'arg2': 'T8'}, {'id': 'R5', 'type': 'Route-Drug', 'arg1': 'T7', 'arg2': 'T9'}], 'entities': {'T6': {'type': 'Reason', 'start': 5420, 'end': 5428, 'value': 'diuresis', 'sentence': 50, 'sent_start': 11, 'sent_end': 19}, 'T8': {'type': 'Drug', 'start': 5437, 'end': 5442, 'value': 'lasix', 'sentence': 50, 'sent_start': 28, 'sent_end': 33}, 'T9': {'type': 'Drug', 'start': 5447, 'end': 5453, 'value': 'diuril', 'sentence': 50, 'sent_start': 38, 'sent_end': 44}, 'T7': {'type': 'Route', 'start': 5434, 'end': 5436, 'value': 'IV', 'sentence': 50, 'sent_start': 25, 'sent_end': 27}}}, 'At this point she had become hemodynamically unstable\\nrequiring pressor support with dopamine.': {'relationships': [{'id': 'R6', 'type': 'Reason-Drug', 'arg1': 'T10', 'arg2': 'T11'}], 'entities': {'T10': {'type': 'Reason', 'start': 5524, 'end': 5548, 'value': 'hemodynamically unstable', 'sentence': 51, 'sent_start': 29, 'sent_end': 53}, 'T11': {'type': 'Drug', 'start': 5580, 'end': 5588, 'value': 'dopamine', 'sentence': 51, 'sent_start': 85, 'sent_end': 93}}}, 'Her dopamine requirement increased significantly with CVVH which\\nlikely contributed to the development of metabolic acidosis.': {'relationships': [{'id': 'R7', 'type': 'ADE-Drug', 'arg1': 'T13', 'arg2': 'T12'}], 'entities': {'T13': {'type': 'ADE', 'start': 5849, 'end': 5867, 'value': 'metabolic acidosis', 'sentence': 53, 'sent_start': 106, 'sent_end': 124}, 'T12': {'type': 'Drug', 'start': 5747, 'end': 5755, 'value': 'dopamine', 'sentence': 53, 'sent_start': 4, 'sent_end': 12}}}, 'Medications on Admission:\\nOutpatient Meds:\\nlipitor 80mg daily\\nplavix 75mg daily\\ntoprol xl 50mg daily\\nzestril 5mg daily\\nalsix 80mg daily\\naspirin 81mg daily\\n\\nMeds On Transfer:\\nIV heparin at 600u/hour\\nIV nitro at 30mcg / min\\nasa 325mg, lipitor 20mg daily\\nlasix 80mg po\\nplavix 75mg\\nzestril 5mg\\n\\nDischarge Medications:\\nNA\\n\\nDischarge Disposition:\\nExpired\\n\\nDischarge Diagnosis:\\nPrimary: Status post ST elevation myocardial infarction, acute\\nheart failure, renal failure, metabolic acidosis, respiratory\\nfailure\\nSecondary: Aortic stenosis, hepatitis C\\n\\n\\nDischarge Condition:\\nexpired\\n\\n\\nDischarge Instructions:\\nPatient admitted for further management of STEMI.': {'relationships': [{'id': 'R8', 'type': 'Strength-Drug', 'arg1': 'T15', 'arg2': 'T14'}, {'id': 'R9', 'type': 'Frequency-Drug', 'arg1': 'T16', 'arg2': 'T14'}, {'id': 'R10', 'type': 'Strength-Drug', 'arg1': 'T18', 'arg2': 'T17'}, {'id': 'R11', 'type': 'Frequency-Drug', 'arg1': 'T19', 'arg2': 'T17'}, {'id': 'R12', 'type': 'Strength-Drug', 'arg1': 'T21', 'arg2': 'T20'}, {'id': 'R13', 'type': 'Frequency-Drug', 'arg1': 'T22', 'arg2': 'T20'}, {'id': 'R14', 'type': 'Strength-Drug', 'arg1': 'T24', 'arg2': 'T23'}, {'id': 'R15', 'type': 'Frequency-Drug', 'arg1': 'T25', 'arg2': 'T23'}, {'id': 'R16', 'type': 'Strength-Drug', 'arg1': 'T27', 'arg2': 'T26'}, {'id': 'R17', 'type': 'Frequency-Drug', 'arg1': 'T28', 'arg2': 'T26'}, {'id': 'R18', 'type': 'Strength-Drug', 'arg1': 'T30', 'arg2': 'T29'}, {'id': 'R19', 'type': 'Frequency-Drug', 'arg1': 'T31', 'arg2': 'T29'}, {'id': 'R20', 'type': 'Route-Drug', 'arg1': 'T32', 'arg2': 'T33'}, {'id': 'R21', 'type': 'Strength-Drug', 'arg1': 'T34', 'arg2': 'T33'}, {'id': 'R22', 'type': 'Route-Drug', 'arg1': 'T35', 'arg2': 'T36'}, {'id': 'R23', 'type': 'Strength-Drug', 'arg1': 'T37', 'arg2': 'T36'}, {'id': 'R24', 'type': 'Strength-Drug', 'arg1': 'T39', 'arg2': 'T38'}, {'id': 'R25', 'type': 'Strength-Drug', 'arg1': 'T41', 'arg2': 'T40'}, {'id': 'R26', 'type': 'Frequency-Drug', 'arg1': 'T42', 'arg2': 'T40'}, {'id': 'R27', 'type': 'Strength-Drug', 'arg1': 'T44', 'arg2': 'T43'}, {'id': 'R28', 'type': 'Route-Drug', 'arg1': 'T45', 'arg2': 'T43'}, {'id': 'R29', 'type': 'Strength-Drug', 'arg1': 'T47', 'arg2': 'T46'}, {'id': 'R30', 'type': 'Strength-Drug', 'arg1': 'T49', 'arg2': 'T48'}], 'entities': {'T15': {'type': 'Strength', 'start': 6372, 'end': 6376, 'value': '80mg', 'sentence': 59, 'sent_start': 51, 'sent_end': 55}, 'T14': {'type': 'Drug', 'start': 6364, 'end': 6371, 'value': 'lipitor', 'sentence': 59, 'sent_start': 43, 'sent_end': 50}, 'T16': {'type': 'Frequency', 'start': 6377, 'end': 6382, 'value': 'daily', 'sentence': 59, 'sent_start': 56, 'sent_end': 61}, 'T18': {'type': 'Strength', 'start': 6390, 'end': 6394, 'value': '75mg', 'sentence': 59, 'sent_start': 69, 'sent_end': 73}, 'T17': {'type': 'Drug', 'start': 6383, 'end': 6389, 'value': 'plavix', 'sentence': 59, 'sent_start': 62, 'sent_end': 68}, 'T19': {'type': 'Frequency', 'start': 6395, 'end': 6400, 'value': 'daily', 'sentence': 59, 'sent_start': 74, 'sent_end': 79}, 'T21': {'type': 'Strength', 'start': 6411, 'end': 6415, 'value': '50mg', 'sentence': 59, 'sent_start': 90, 'sent_end': 94}, 'T20': {'type': 'Drug', 'start': 6401, 'end': 6410, 'value': 'toprol xl', 'sentence': 59, 'sent_start': 80, 'sent_end': 89}, 'T22': {'type': 'Frequency', 'start': 6416, 'end': 6421, 'value': 'daily', 'sentence': 59, 'sent_start': 95, 'sent_end': 100}, 'T24': {'type': 'Strength', 'start': 6430, 'end': 6433, 'value': '5mg', 'sentence': 59, 'sent_start': 109, 'sent_end': 112}, 'T23': {'type': 'Drug', 'start': 6422, 'end': 6429, 'value': 'zestril', 'sentence': 59, 'sent_start': 101, 'sent_end': 108}, 'T25': {'type': 'Frequency', 'start': 6434, 'end': 6439, 'value': 'daily', 'sentence': 59, 'sent_start': 113, 'sent_end': 118}, 'T27': {'type': 'Strength', 'start': 6446, 'end': 6450, 'value': '80mg', 'sentence': 59, 'sent_start': 125, 'sent_end': 129}, 'T26': {'type': 'Drug', 'start': 6440, 'end': 6445, 'value': 'alsix', 'sentence': 59, 'sent_start': 119, 'sent_end': 124}, 'T28': {'type': 'Frequency', 'start': 6451, 'end': 6456, 'value': 'daily', 'sentence': 59, 'sent_start': 130, 'sent_end': 135}, 'T30': {'type': 'Strength', 'start': 6465, 'end': 6469, 'value': '81mg', 'sentence': 59, 'sent_start': 144, 'sent_end': 148}, 'T29': {'type': 'Drug', 'start': 6457, 'end': 6464, 'value': 'aspirin', 'sentence': 59, 'sent_start': 136, 'sent_end': 143}, 'T31': {'type': 'Frequency', 'start': 6470, 'end': 6475, 'value': 'daily', 'sentence': 59, 'sent_start': 149, 'sent_end': 154}, 'T32': {'type': 'Route', 'start': 6495, 'end': 6497, 'value': 'IV', 'sentence': 59, 'sent_start': 174, 'sent_end': 176}, 'T33': {'type': 'Drug', 'start': 6498, 'end': 6505, 'value': 'heparin', 'sentence': 59, 'sent_start': 177, 'sent_end': 184}, 'T34': {'type': 'Strength', 'start': 6509, 'end': 6518, 'value': '600u/hour', 'sentence': 59, 'sent_start': 188, 'sent_end': 197}, 'T35': {'type': 'Route', 'start': 6519, 'end': 6521, 'value': 'IV', 'sentence': 59, 'sent_start': 198, 'sent_end': 200}, 'T36': {'type': 'Drug', 'start': 6522, 'end': 6527, 'value': 'nitro', 'sentence': 59, 'sent_start': 201, 'sent_end': 206}, 'T37': {'type': 'Strength', 'start': 6531, 'end': 6542, 'value': '30mcg / min', 'sentence': 59, 'sent_start': 210, 'sent_end': 221}, 'T39': {'type': 'Strength', 'start': 6547, 'end': 6552, 'value': '325mg', 'sentence': 59, 'sent_start': 226, 'sent_end': 231}, 'T38': {'type': 'Drug', 'start': 6543, 'end': 6546, 'value': 'asa', 'sentence': 59, 'sent_start': 222, 'sent_end': 225}, 'T41': {'type': 'Strength', 'start': 6562, 'end': 6566, 'value': '20mg', 'sentence': 59, 'sent_start': 241, 'sent_end': 245}, 'T40': {'type': 'Drug', 'start': 6554, 'end': 6561, 'value': 'lipitor', 'sentence': 59, 'sent_start': 233, 'sent_end': 240}, 'T42': {'type': 'Frequency', 'start': 6567, 'end': 6572, 'value': 'daily', 'sentence': 59, 'sent_start': 246, 'sent_end': 251}, 'T44': {'type': 'Strength', 'start': 6579, 'end': 6583, 'value': '80mg', 'sentence': 59, 'sent_start': 258, 'sent_end': 262}, 'T43': {'type': 'Drug', 'start': 6573, 'end': 6578, 'value': 'lasix', 'sentence': 59, 'sent_start': 252, 'sent_end': 257}, 'T45': {'type': 'Route', 'start': 6584, 'end': 6586, 'value': 'po', 'sentence': 59, 'sent_start': 263, 'sent_end': 265}, 'T47': {'type': 'Strength', 'start': 6594, 'end': 6598, 'value': '75mg', 'sentence': 59, 'sent_start': 273, 'sent_end': 277}, 'T46': {'type': 'Drug', 'start': 6587, 'end': 6593, 'value': 'plavix', 'sentence': 59, 'sent_start': 266, 'sent_end': 272}, 'T49': {'type': 'Strength', 'start': 6607, 'end': 6610, 'value': '5mg', 'sentence': 59, 'sent_start': 286, 'sent_end': 289}, 'T48': {'type': 'Drug', 'start': 6599, 'end': 6606, 'value': 'zestril', 'sentence': 59, 'sent_start': 278, 'sent_end': 285}}}}\n"
     ]
    }
   ],
   "source": [
    "print(spans)"
   ]
  },
  {
   "cell_type": "code",
   "execution_count": null,
   "id": "61e6de46",
   "metadata": {},
   "outputs": [],
   "source": []
  }
 ],
 "metadata": {
  "kernelspec": {
   "display_name": "Python 3 (ipykernel)",
   "language": "python",
   "name": "python3"
  },
  "language_info": {
   "codemirror_mode": {
    "name": "ipython",
    "version": 3
   },
   "file_extension": ".py",
   "mimetype": "text/x-python",
   "name": "python",
   "nbconvert_exporter": "python",
   "pygments_lexer": "ipython3",
   "version": "3.11.0"
  }
 },
 "nbformat": 4,
 "nbformat_minor": 5
}
