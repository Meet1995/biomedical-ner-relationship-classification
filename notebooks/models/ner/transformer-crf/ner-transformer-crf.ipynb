{
 "cells": [
  {
   "cell_type": "code",
   "execution_count": 1,
   "metadata": {
    "colab": {
     "base_uri": "https://localhost:8080/"
    },
    "executionInfo": {
     "elapsed": 23041,
     "status": "ok",
     "timestamp": 1681859733223,
     "user": {
      "displayName": "Rohan Saraogi",
      "userId": "04662930886212306714"
     },
     "user_tz": 240
    },
    "id": "2lz351v4xNj2",
    "outputId": "0336447b-14f2-4d6f-d878-7490c0949fe2"
   },
   "outputs": [
    {
     "name": "stdout",
     "output_type": "stream",
     "text": [
      "Mounted at /content/drive\n"
     ]
    }
   ],
   "source": [
    "from google.colab import drive\n",
    "drive.mount('/content/drive')"
   ]
  },
  {
   "cell_type": "code",
   "execution_count": 2,
   "metadata": {
    "executionInfo": {
     "elapsed": 65025,
     "status": "ok",
     "timestamp": 1681859798243,
     "user": {
      "displayName": "Rohan Saraogi",
      "userId": "04662930886212306714"
     },
     "user_tz": 240
    },
    "id": "RHaKJyT29SBx"
   },
   "outputs": [],
   "source": [
    "%%capture\n",
    "!pip install \"flair\" -q"
   ]
  },
  {
   "cell_type": "markdown",
   "metadata": {
    "id": "J76-LoBiFo5r"
   },
   "source": [
    "LSTM-CRF : [link](https://github.com/flairNLP/flair/blob/master/resources/docs/HUNFLAIR_TUTORIAL_2_TRAINING.md)\n",
    "\n",
    "Transformer: [link](https://github.com/flairNLP/flair/blob/master/resources/docs/TUTORIAL_TRAINING_SEQUENCE_LABELER.md)"
   ]
  },
  {
   "cell_type": "code",
   "execution_count": 3,
   "metadata": {
    "colab": {
     "base_uri": "https://localhost:8080/",
     "height": 35
    },
    "executionInfo": {
     "elapsed": 14036,
     "status": "ok",
     "timestamp": 1681859812274,
     "user": {
      "displayName": "Rohan Saraogi",
      "userId": "04662930886212306714"
     },
     "user_tz": 240
    },
    "id": "H7k5xilpsMSh",
    "outputId": "5bd2eab4-ec70-413b-c34c-ea8806e19945"
   },
   "outputs": [
    {
     "data": {
      "application/vnd.google.colaboratory.intrinsic+json": {
       "type": "string"
      },
      "text/plain": [
       "'0.12.2'"
      ]
     },
     "execution_count": 3,
     "metadata": {},
     "output_type": "execute_result"
    }
   ],
   "source": [
    "import flair\n",
    "from flair.data import Sentence\n",
    "from flair.datasets import ColumnCorpus\n",
    "from flair.embeddings import (\n",
    "    WordEmbeddings, TransformerWordEmbeddings, StackedEmbeddings\n",
    ")\n",
    "from flair.models import SequenceTagger\n",
    "from flair.trainers import ModelTrainer\n",
    "flair.__version__"
   ]
  },
  {
   "cell_type": "code",
   "execution_count": 4,
   "metadata": {
    "executionInfo": {
     "elapsed": 7,
     "status": "ok",
     "timestamp": 1681859812274,
     "user": {
      "displayName": "Rohan Saraogi",
      "userId": "04662930886212306714"
     },
     "user_tz": 240
    },
    "id": "qBDCigAEcMgZ"
   },
   "outputs": [],
   "source": [
    "DATA_PATH = \"/content/drive/Shareddrives/CIS522-Project/data\"\n",
    "MODEL_PATH = \"/content/drive/Shareddrives/CIS522-Project/models\""
   ]
  },
  {
   "cell_type": "code",
   "execution_count": 5,
   "metadata": {
    "colab": {
     "base_uri": "https://localhost:8080/"
    },
    "executionInfo": {
     "elapsed": 57233,
     "status": "ok",
     "timestamp": 1681859869501,
     "user": {
      "displayName": "Rohan Saraogi",
      "userId": "04662930886212306714"
     },
     "user_tz": 240
    },
    "id": "2geeI5AmcOmr",
    "outputId": "db1be16c-4b37-4ad8-b3e5-5dba254817b5"
   },
   "outputs": [
    {
     "name": "stdout",
     "output_type": "stream",
     "text": [
      "2023-04-18 23:16:52,013 Reading data from /content/drive/Shareddrives/CIS522-Project/data\n",
      "2023-04-18 23:16:52,018 Train: /content/drive/Shareddrives/CIS522-Project/data/flair_ner_train.txt\n",
      "2023-04-18 23:16:52,019 Dev: None\n",
      "2023-04-18 23:16:52,021 Test: /content/drive/Shareddrives/CIS522-Project/data/flair_ner_test.txt\n",
      "2023-04-18 23:17:47,830 Computing label dictionary. Progress:\n"
     ]
    },
    {
     "name": "stderr",
     "output_type": "stream",
     "text": [
      "35399it [00:01, 26153.32it/s]"
     ]
    },
    {
     "name": "stdout",
     "output_type": "stream",
     "text": [
      "2023-04-18 23:17:49,228 Dictionary created for label 'ner' with 9 values: Drug (seen 84101 times), Strength (seen 59318 times), Form (seen 56550 times), Frequency (seen 48929 times), Route (seen 40228 times), Dosage (seen 32789 times), Reason (seen 13189 times), Duration (seen 3240 times), ADE (seen 2021 times)\n",
      "['Drug', 'Strength', 'Form', 'Frequency', 'Route', 'Dosage', 'Reason', 'Duration', 'ADE']\n"
     ]
    },
    {
     "name": "stderr",
     "output_type": "stream",
     "text": [
      "\n"
     ]
    }
   ],
   "source": [
    "columns = {0:\"text\", 1:\"ner\"}\n",
    "\n",
    "filename = \"flair_ner_train.txt\"\n",
    "test_file = \"flair_ner_test.txt\"\n",
    "\n",
    "corpus = ColumnCorpus(\n",
    "    DATA_PATH, columns, train_file=filename, test_file=test_file\n",
    ")\n",
    "tag_dictionary = corpus.make_label_dictionary(label_type=\"ner\", add_unk=False)\n",
    "print(tag_dictionary.get_items())"
   ]
  },
  {
   "cell_type": "code",
   "execution_count": null,
   "metadata": {
    "colab": {
     "base_uri": "https://localhost:8080/"
    },
    "executionInfo": {
     "elapsed": 359,
     "status": "ok",
     "timestamp": 1681525263183,
     "user": {
      "displayName": "Meet Gandhi",
      "userId": "05850661023473202418"
     },
     "user_tz": 240
    },
    "id": "x_Zy1_kLxwL9",
    "outputId": "3b06ea8a-1da3-4477-acc0-91cbad56b689"
   },
   "outputs": [
    {
     "data": {
      "text/plain": [
       "{'Drug': 1.0,\n",
       " 'Strength': 1.4431788079470198,\n",
       " 'Form': 1.5243424734191382,\n",
       " 'Frequency': 1.753918589911266,\n",
       " 'Route': 2.1249085856369754,\n",
       " 'Dosage': 2.6185226351046893,\n",
       " 'Reason': 6.120488695407948,\n",
       " 'Duration': 26.020298507462687,\n",
       " 'ADE': 38.56991150442478}"
      ]
     },
     "execution_count": 10,
     "metadata": {},
     "output_type": "execute_result"
    }
   ],
   "source": [
    "weight_dict = {\n",
    "    'Drug': 87168/87168,\n",
    "    'Strength': 87168/60400,\n",
    "    'Form': 87168/57184,\n",
    "    'Frequency': 87168/49699,\n",
    "    'Route': 87168/41022,\n",
    "    'Dosage': 87168/33289,\n",
    "    'Reason': 87168/14242,\n",
    "    'Duration': 87168/3350,\n",
    "    'ADE': 87168/2260,\n",
    "}\n",
    "weight_dict"
   ]
  },
  {
   "cell_type": "markdown",
   "metadata": {
    "id": "FT8oaT1GWdbl"
   },
   "source": [
    "See https://github.com/flairNLP/flair/issues/2801 for `model_max_length` issue."
   ]
  },
  {
   "cell_type": "code",
   "execution_count": null,
   "metadata": {
    "colab": {
     "base_uri": "https://localhost:8080/"
    },
    "executionInfo": {
     "elapsed": 2478,
     "status": "ok",
     "timestamp": 1681525272164,
     "user": {
      "displayName": "Meet Gandhi",
      "userId": "05850661023473202418"
     },
     "user_tz": 240
    },
    "id": "8btzMFfENI26",
    "outputId": "a9efbaab-cd06-4c45-98ca-cd5affd519d6"
   },
   "outputs": [
    {
     "name": "stdout",
     "output_type": "stream",
     "text": [
      "2023-04-15 02:21:10,106 SequenceTagger predicts: Dictionary with 39 tags: O, S-Drug, B-Drug, E-Drug, I-Drug, S-Strength, B-Strength, E-Strength, I-Strength, S-Form, B-Form, E-Form, I-Form, S-Frequency, B-Frequency, E-Frequency, I-Frequency, S-Route, B-Route, E-Route, I-Route, S-Dosage, B-Dosage, E-Dosage, I-Dosage, S-Reason, B-Reason, E-Reason, I-Reason, S-Duration, B-Duration, E-Duration, I-Duration, S-ADE, B-ADE, E-ADE, I-ADE, <START>, <STOP>\n"
     ]
    }
   ],
   "source": [
    "# # 4. initialize fine-tuneable transformer embeddings WITH document context\n",
    "# tf_embeddings = TransformerWordEmbeddings(\n",
    "#     model='emilyalsentzer/Bio_ClinicalBERT',\n",
    "#     layers=\"-1\",\n",
    "#     subtoken_pooling=\"mean\",\n",
    "#     fine_tune=True,\n",
    "#     use_context=True,\n",
    "#     model_max_length=256 # required to fix a weird tensor size mismatch error \n",
    "# )\n",
    "\n",
    "# embedding_types = [\n",
    "#     # word embeddings trained on PubMed and PMC\n",
    "#     # WordEmbeddings(\"pubmed\"),\n",
    "#     tf_embeddings\n",
    "# ]\n",
    "\n",
    "# embeddings = StackedEmbeddings(embeddings=embedding_types)\n",
    "\n",
    "# # 5. initialize bare-bones sequence tagger (no CRF, no RNN, no reprojection)\n",
    "# tf_tagger = SequenceTagger(\n",
    "#     hidden_size=256,\n",
    "#     embeddings=embeddings,\n",
    "#     tag_dictionary=tag_dictionary,\n",
    "#     tag_type='ner',\n",
    "#     tag_format='BIOES',\n",
    "#     use_crf=True,\n",
    "#     use_rnn=False,\n",
    "#     reproject_embeddings=False,\n",
    "#     loss_weights=weight_dict\n",
    "# )\n",
    "tf_tagger = SequenceTagger.load(f\"{MODEL_PATH}/taggers/clinicalbert-crf/final-model.pt\")"
   ]
  },
  {
   "cell_type": "code",
   "execution_count": null,
   "metadata": {
    "colab": {
     "base_uri": "https://localhost:8080/"
    },
    "id": "_j1EShR3NXl4",
    "outputId": "cdd626ea-4780-4158-d8ce-3c53c3b5d43f"
   },
   "outputs": [
    {
     "metadata": {
      "tags": null
     },
     "name": "stderr",
     "output_type": "stream",
     "text": [
      "/usr/local/lib/python3.9/dist-packages/flair/trainers/trainer.py:69: UserWarning: There should be no best model saved at epoch 1 except there is a model from previous trainings in your training folder. All previous best models will be deleted.\n",
      "  warnings.warn(\n"
     ]
    },
    {
     "metadata": {
      "tags": null
     },
     "name": "stdout",
     "output_type": "stream",
     "text": [
      "2023-04-15 02:22:40,544 ----------------------------------------------------------------------------------------------------\n",
      "2023-04-15 02:22:40,550 Model: \"SequenceTagger(\n",
      "  (embeddings): StackedEmbeddings(\n",
      "    (list_embedding_0): TransformerWordEmbeddings(\n",
      "      (model): BertModel(\n",
      "        (embeddings): BertEmbeddings(\n",
      "          (word_embeddings): Embedding(28997, 768)\n",
      "          (position_embeddings): Embedding(512, 768)\n",
      "          (token_type_embeddings): Embedding(2, 768)\n",
      "          (LayerNorm): LayerNorm((768,), eps=1e-12, elementwise_affine=True)\n",
      "          (dropout): Dropout(p=0.1, inplace=False)\n",
      "        )\n",
      "        (encoder): BertEncoder(\n",
      "          (layer): ModuleList(\n",
      "            (0-11): 12 x BertLayer(\n",
      "              (attention): BertAttention(\n",
      "                (self): BertSelfAttention(\n",
      "                  (query): Linear(in_features=768, out_features=768, bias=True)\n",
      "                  (key): Linear(in_features=768, out_features=768, bias=True)\n",
      "                  (value): Linear(in_features=768, out_features=768, bias=True)\n",
      "                  (dropout): Dropout(p=0.1, inplace=False)\n",
      "                )\n",
      "                (output): BertSelfOutput(\n",
      "                  (dense): Linear(in_features=768, out_features=768, bias=True)\n",
      "                  (LayerNorm): LayerNorm((768,), eps=1e-12, elementwise_affine=True)\n",
      "                  (dropout): Dropout(p=0.1, inplace=False)\n",
      "                )\n",
      "              )\n",
      "              (intermediate): BertIntermediate(\n",
      "                (dense): Linear(in_features=768, out_features=3072, bias=True)\n",
      "                (intermediate_act_fn): GELUActivation()\n",
      "              )\n",
      "              (output): BertOutput(\n",
      "                (dense): Linear(in_features=3072, out_features=768, bias=True)\n",
      "                (LayerNorm): LayerNorm((768,), eps=1e-12, elementwise_affine=True)\n",
      "                (dropout): Dropout(p=0.1, inplace=False)\n",
      "              )\n",
      "            )\n",
      "          )\n",
      "        )\n",
      "        (pooler): BertPooler(\n",
      "          (dense): Linear(in_features=768, out_features=768, bias=True)\n",
      "          (activation): Tanh()\n",
      "        )\n",
      "      )\n",
      "    )\n",
      "  )\n",
      "  (word_dropout): WordDropout(p=0.05)\n",
      "  (locked_dropout): LockedDropout(p=0.5)\n",
      "  (linear): Linear(in_features=768, out_features=39, bias=True)\n",
      "  (loss_function): ViterbiLoss()\n",
      "  (crf): CRF()\n",
      ")\"\n",
      "2023-04-15 02:22:40,552 ----------------------------------------------------------------------------------------------------\n",
      "2023-04-15 02:22:40,554 Corpus: \"Corpus: 35399 train + 3933 dev + 25395 test sentences\"\n",
      "2023-04-15 02:22:40,555 ----------------------------------------------------------------------------------------------------\n",
      "2023-04-15 02:22:40,556 Parameters:\n",
      "2023-04-15 02:22:40,557  - learning_rate: \"0.005000\"\n",
      "2023-04-15 02:22:40,558  - mini_batch_size: \"16\"\n",
      "2023-04-15 02:22:40,559  - patience: \"3\"\n",
      "2023-04-15 02:22:40,564  - anneal_factor: \"0.5\"\n",
      "2023-04-15 02:22:40,565  - max_epochs: \"50\"\n",
      "2023-04-15 02:22:40,566  - shuffle: \"True\"\n",
      "2023-04-15 02:22:40,567  - train_with_dev: \"False\"\n",
      "2023-04-15 02:22:40,570  - batch_growth_annealing: \"False\"\n",
      "2023-04-15 02:22:40,571 ----------------------------------------------------------------------------------------------------\n",
      "2023-04-15 02:22:40,572 Model training base path: \"/content/drive/Shareddrives/CIS522-Project/models/taggers/clinicalbert-crf\"\n",
      "2023-04-15 02:22:40,573 ----------------------------------------------------------------------------------------------------\n",
      "2023-04-15 02:22:40,574 Device: cuda:0\n",
      "2023-04-15 02:22:40,577 ----------------------------------------------------------------------------------------------------\n",
      "2023-04-15 02:22:40,578 Embeddings storage mode: none\n",
      "2023-04-15 02:22:40,579 ----------------------------------------------------------------------------------------------------\n",
      "2023-04-15 02:27:42,584 epoch 1 - iter 221/2213 - loss 0.24591527 - time (sec): 302.00 - samples/sec: 434.13 - lr: 0.005000\n",
      "2023-04-15 02:32:16,560 epoch 1 - iter 442/2213 - loss 0.22849568 - time (sec): 575.98 - samples/sec: 448.81 - lr: 0.005000\n",
      "2023-04-15 02:36:51,254 epoch 1 - iter 663/2213 - loss 0.22312337 - time (sec): 850.67 - samples/sec: 451.34 - lr: 0.005000\n",
      "2023-04-15 02:41:37,065 epoch 1 - iter 884/2213 - loss 0.21913827 - time (sec): 1136.48 - samples/sec: 451.54 - lr: 0.005000\n",
      "2023-04-15 02:46:26,066 epoch 1 - iter 1105/2213 - loss 0.21909586 - time (sec): 1425.48 - samples/sec: 452.30 - lr: 0.005000\n",
      "2023-04-15 02:51:09,083 epoch 1 - iter 1326/2213 - loss 0.21904743 - time (sec): 1708.50 - samples/sec: 455.37 - lr: 0.005000\n",
      "2023-04-15 02:55:49,757 epoch 1 - iter 1547/2213 - loss 0.21819729 - time (sec): 1989.17 - samples/sec: 453.95 - lr: 0.005000\n",
      "2023-04-15 03:00:34,598 epoch 1 - iter 1768/2213 - loss 0.22130003 - time (sec): 2274.02 - samples/sec: 453.18 - lr: 0.005000\n",
      "2023-04-15 03:05:20,675 epoch 1 - iter 1989/2213 - loss 0.22366118 - time (sec): 2560.09 - samples/sec: 453.48 - lr: 0.005000\n",
      "2023-04-15 03:09:58,699 epoch 1 - iter 2210/2213 - loss 0.22577348 - time (sec): 2838.12 - samples/sec: 453.83 - lr: 0.005000\n",
      "2023-04-15 03:10:01,509 ----------------------------------------------------------------------------------------------------\n",
      "2023-04-15 03:10:01,510 EPOCH 1 done: loss 0.2257 - lr 0.005000\n"
     ]
    },
    {
     "metadata": {
      "tags": null
     },
     "name": "stderr",
     "output_type": "stream",
     "text": [
      "100%|██████████| 246/246 [02:24<00:00,  1.71it/s]\n"
     ]
    },
    {
     "metadata": {
      "tags": null
     },
     "name": "stdout",
     "output_type": "stream",
     "text": [
      "2023-04-15 03:12:26,477 Evaluating as a multi-label problem: False\n",
      "2023-04-15 03:12:26,791 DEV : loss 0.11919624358415604 - f1-score (micro avg)  0.9394\n",
      "2023-04-15 03:12:26,886 BAD EPOCHS (no improvement): 0\n",
      "2023-04-15 03:12:26,891 saving best model\n",
      "2023-04-15 03:12:28,491 ----------------------------------------------------------------------------------------------------\n",
      "2023-04-15 03:17:23,289 epoch 2 - iter 221/2213 - loss 0.22836939 - time (sec): 294.80 - samples/sec: 439.05 - lr: 0.005000\n",
      "2023-04-15 03:22:17,367 epoch 2 - iter 442/2213 - loss 0.22741216 - time (sec): 588.87 - samples/sec: 437.88 - lr: 0.005000\n",
      "2023-04-15 03:27:09,303 epoch 2 - iter 663/2213 - loss 0.22671612 - time (sec): 880.81 - samples/sec: 438.78 - lr: 0.005000\n",
      "2023-04-15 03:32:02,152 epoch 2 - iter 884/2213 - loss 0.22493185 - time (sec): 1173.66 - samples/sec: 439.61 - lr: 0.005000\n",
      "2023-04-15 03:36:54,623 epoch 2 - iter 1105/2213 - loss 0.22425766 - time (sec): 1466.13 - samples/sec: 439.78 - lr: 0.005000\n",
      "2023-04-15 03:41:45,072 epoch 2 - iter 1326/2213 - loss 0.22328593 - time (sec): 1756.58 - samples/sec: 440.52 - lr: 0.005000\n",
      "2023-04-15 03:46:32,803 epoch 2 - iter 1547/2213 - loss 0.22269195 - time (sec): 2044.31 - samples/sec: 441.67 - lr: 0.005000\n",
      "2023-04-15 03:51:28,428 epoch 2 - iter 1768/2213 - loss 0.22121864 - time (sec): 2339.93 - samples/sec: 441.16 - lr: 0.005000\n",
      "2023-04-15 03:56:23,600 epoch 2 - iter 1989/2213 - loss 0.21980588 - time (sec): 2635.11 - samples/sec: 440.27 - lr: 0.005000\n",
      "2023-04-15 04:01:17,041 epoch 2 - iter 2210/2213 - loss 0.21872461 - time (sec): 2928.55 - samples/sec: 439.70 - lr: 0.005000\n",
      "2023-04-15 04:01:20,296 ----------------------------------------------------------------------------------------------------\n",
      "2023-04-15 04:01:20,298 EPOCH 2 done: loss 0.2188 - lr 0.005000\n"
     ]
    },
    {
     "metadata": {
      "tags": null
     },
     "name": "stderr",
     "output_type": "stream",
     "text": [
      "100%|██████████| 246/246 [02:27<00:00,  1.66it/s]"
     ]
    },
    {
     "metadata": {
      "tags": null
     },
     "name": "stdout",
     "output_type": "stream",
     "text": [
      "2023-04-15 04:03:48,261 Evaluating as a multi-label problem: False\n"
     ]
    },
    {
     "metadata": {
      "tags": null
     },
     "name": "stderr",
     "output_type": "stream",
     "text": [
      "\n"
     ]
    },
    {
     "name": "stdout",
     "output_type": "stream",
     "text": [
      "2023-04-15 04:03:48,544 DEV : loss 0.08421977609395981 - f1-score (micro avg)  0.9522\n",
      "2023-04-15 04:03:48,639 BAD EPOCHS (no improvement): 0\n",
      "2023-04-15 04:03:48,646 saving best model\n",
      "2023-04-15 04:03:50,564 ----------------------------------------------------------------------------------------------------\n",
      "2023-04-15 04:08:40,995 epoch 3 - iter 221/2213 - loss 0.21032126 - time (sec): 290.43 - samples/sec: 440.68 - lr: 0.005000\n",
      "2023-04-15 04:13:34,600 epoch 3 - iter 442/2213 - loss 0.21138953 - time (sec): 584.03 - samples/sec: 439.61 - lr: 0.005000\n",
      "2023-04-15 04:18:29,261 epoch 3 - iter 663/2213 - loss 0.21217257 - time (sec): 878.69 - samples/sec: 438.49 - lr: 0.005000\n",
      "2023-04-15 04:23:23,292 epoch 3 - iter 884/2213 - loss 0.21111031 - time (sec): 1172.72 - samples/sec: 438.51 - lr: 0.005000\n",
      "2023-04-15 04:28:19,724 epoch 3 - iter 1105/2213 - loss 0.21050615 - time (sec): 1469.16 - samples/sec: 438.63 - lr: 0.005000\n",
      "2023-04-15 04:33:07,474 epoch 3 - iter 1326/2213 - loss 0.20975839 - time (sec): 1756.91 - samples/sec: 439.24 - lr: 0.005000\n",
      "2023-04-15 04:38:05,592 epoch 3 - iter 1547/2213 - loss 0.20961899 - time (sec): 2055.02 - samples/sec: 438.59 - lr: 0.005000\n",
      "2023-04-15 04:42:59,975 epoch 3 - iter 1768/2213 - loss 0.20911557 - time (sec): 2349.41 - samples/sec: 438.28 - lr: 0.005000\n",
      "2023-04-15 04:47:53,503 epoch 3 - iter 1989/2213 - loss 0.20836351 - time (sec): 2642.94 - samples/sec: 438.75 - lr: 0.005000\n",
      "2023-04-15 04:52:43,616 epoch 3 - iter 2210/2213 - loss 0.20752704 - time (sec): 2933.05 - samples/sec: 439.09 - lr: 0.005000\n",
      "2023-04-15 04:52:46,462 ----------------------------------------------------------------------------------------------------\n",
      "2023-04-15 04:52:46,470 EPOCH 3 done: loss 0.2075 - lr 0.005000\n"
     ]
    },
    {
     "name": "stderr",
     "output_type": "stream",
     "text": [
      "100%|██████████| 246/246 [02:22<00:00,  1.73it/s]"
     ]
    },
    {
     "name": "stdout",
     "output_type": "stream",
     "text": [
      "2023-04-15 04:55:09,117 Evaluating as a multi-label problem: False\n"
     ]
    },
    {
     "name": "stderr",
     "output_type": "stream",
     "text": [
      "\n"
     ]
    },
    {
     "name": "stdout",
     "output_type": "stream",
     "text": [
      "2023-04-15 04:55:09,415 DEV : loss 0.09575002640485764 - f1-score (micro avg)  0.9494\n",
      "2023-04-15 04:55:09,510 BAD EPOCHS (no improvement): 1\n",
      "2023-04-15 04:55:09,517 ----------------------------------------------------------------------------------------------------\n",
      "2023-04-15 05:00:08,747 epoch 4 - iter 221/2213 - loss 0.19917283 - time (sec): 299.23 - samples/sec: 430.17 - lr: 0.005000\n"
     ]
    }
   ],
   "source": [
    "# 6. initialize trainer\n",
    "trainer = ModelTrainer(tf_tagger, corpus)\n",
    "\n",
    "# 7. train on the target corpus\n",
    "trainer.train(\n",
    "    base_path=f\"{MODEL_PATH}/taggers/clinicalbert-crf\",\n",
    "    train_with_dev=False,\n",
    "    max_epochs=50,\n",
    "    learning_rate=0.005,\n",
    "    mini_batch_size=16,\n",
    "    embeddings_storage_mode='none',\n",
    "    # use_amp=True\n",
    ")"
   ]
  },
  {
   "cell_type": "code",
   "execution_count": 6,
   "metadata": {
    "colab": {
     "base_uri": "https://localhost:8080/",
     "height": 565,
     "referenced_widgets": [
      "5e2e9d8de321453497a489dab2d71d1f",
      "e972673c829d4b94a301fe4a10814dfd",
      "0bed3f6b9ca64bf3808cc9dbf1ff3303",
      "c71513f5495047f0922e61d555f8e2e7",
      "dbc2cd47ffe247ce8a9937a3984d7774",
      "151e7357410641e3a788156c458300e8",
      "5a9eca51c8304a8190a82cf5cd242fdf",
      "2825c334173743ca80ab152f11d73a58",
      "8027c4075fc449378c07748b692e5e4c",
      "e9420818837a42d686460403fd4c3da3",
      "c924676546854de7b4e78e088db93f28",
      "67263ffbee654f3fa21e24c650019e86",
      "7ba635aa3ed6424e8a4bf89bc606ba03",
      "0e3f59d07fc04b97a8574616107c3a33",
      "a76664abdc9f49579f84865b478b339a",
      "73d25a36d4414ec6ba9327c407dcb526",
      "a1a0245463e140a6baca3920e06ac07c",
      "2562829ba0504c2fb6bb5d5f61423f10",
      "4945bcafd1104f1c8970e4d5763139c3",
      "61eca5fe142c4a01b25817d8ff15a9fa",
      "cec32562c215454bbf2716a8ad46f672",
      "91fa91b118cf40fa8ad70cdcc91f0144"
     ]
    },
    "executionInfo": {
     "elapsed": 821451,
     "status": "ok",
     "timestamp": 1681860695597,
     "user": {
      "displayName": "Rohan Saraogi",
      "userId": "04662930886212306714"
     },
     "user_tz": 240
    },
    "id": "4CJTtFajlOxI",
    "outputId": "5bae5f09-4a80-4eb0-decd-4d38c9837576"
   },
   "outputs": [
    {
     "data": {
      "application/vnd.jupyter.widget-view+json": {
       "model_id": "5e2e9d8de321453497a489dab2d71d1f",
       "version_major": 2,
       "version_minor": 0
      },
      "text/plain": [
       "Downloading (…)lve/main/config.json:   0%|          | 0.00/385 [00:00<?, ?B/s]"
      ]
     },
     "metadata": {},
     "output_type": "display_data"
    },
    {
     "data": {
      "application/vnd.jupyter.widget-view+json": {
       "model_id": "67263ffbee654f3fa21e24c650019e86",
       "version_major": 2,
       "version_minor": 0
      },
      "text/plain": [
       "Downloading pytorch_model.bin:   0%|          | 0.00/436M [00:00<?, ?B/s]"
      ]
     },
     "metadata": {},
     "output_type": "display_data"
    },
    {
     "name": "stdout",
     "output_type": "stream",
     "text": [
      "2023-04-18 23:18:11,439 SequenceTagger predicts: Dictionary with 39 tags: O, S-Drug, B-Drug, E-Drug, I-Drug, S-Strength, B-Strength, E-Strength, I-Strength, S-Form, B-Form, E-Form, I-Form, S-Frequency, B-Frequency, E-Frequency, I-Frequency, S-Route, B-Route, E-Route, I-Route, S-Dosage, B-Dosage, E-Dosage, I-Dosage, S-Reason, B-Reason, E-Reason, I-Reason, S-Duration, B-Duration, E-Duration, I-Duration, S-ADE, B-ADE, E-ADE, I-ADE, <START>, <STOP>\n"
     ]
    },
    {
     "name": "stderr",
     "output_type": "stream",
     "text": [
      "100%|██████████| 397/397 [13:19<00:00,  2.01s/it]\n"
     ]
    },
    {
     "name": "stdout",
     "output_type": "stream",
     "text": [
      "2023-04-18 23:31:32,356 Evaluating as a multi-label problem: False\n",
      "\n",
      "Results:\n",
      "- F-score (micro) 0.9121\n",
      "- F-score (macro) 0.8242\n",
      "- Accuracy 0.8446\n",
      "\n",
      "By class:\n",
      "              precision    recall  f1-score   support\n",
      "\n",
      "        Drug     0.8968    0.9390    0.9174     61167\n",
      "    Strength     0.9414    0.9587    0.9500     42957\n",
      "        Form     0.9257    0.9212    0.9234     41417\n",
      "   Frequency     0.8670    0.8726    0.8698     36495\n",
      "       Route     0.9457    0.9617    0.9536     30583\n",
      "      Dosage     0.9236    0.9473    0.9353     23506\n",
      "      Reason     0.6905    0.7782    0.7317      9533\n",
      "    Duration     0.7659    0.7876    0.7766      1982\n",
      "         ADE     0.4224    0.3141    0.3603      1299\n",
      "\n",
      "   micro avg     0.9018    0.9227    0.9121    248939\n",
      "   macro avg     0.8199    0.8312    0.8242    248939\n",
      "weighted avg     0.9020    0.9227    0.9121    248939\n",
      "\n"
     ]
    }
   ],
   "source": [
    "tf_tagger = SequenceTagger.load(f\"{MODEL_PATH}/taggers/clinicalbert-crf/final-model.pt\")\n",
    "\n",
    "# run evaluation procedure\n",
    "result = tf_tagger.evaluate(\n",
    "    corpus.test, gold_label_type='ner', mini_batch_size=64\n",
    ")\n",
    "print(result.detailed_results)"
   ]
  },
  {
   "cell_type": "code",
   "execution_count": null,
   "metadata": {
    "colab": {
     "base_uri": "https://localhost:8080/"
    },
    "executionInfo": {
     "elapsed": 413,
     "status": "ok",
     "timestamp": 1680667684417,
     "user": {
      "displayName": "Tarun Raheja",
      "userId": "06230709340765194815"
     },
     "user_tz": 240
    },
    "id": "ymixHGhy2SHg",
    "outputId": "15fe4404-319b-4da0-bea7-b5f45ffea308"
   },
   "outputs": [
    {
     "name": "stdout",
     "output_type": "stream",
     "text": [
      "Sentence[15]: \"Patients on 40 mg of Topelfate and Topoxy twice a day generally suffer from headache\" → [\"40\"/B-Strength, \"mg\"/E-Strength, \"Topelfate\"/S-Drug, \"Topoxy\"/S-Drug, \"twice\"/B-Frequency, \"a\"/I-Frequency, \"day\"/E-Frequency, \"headache\"/S-Reason]\n",
      "Sentence[15]: \"Patients on 40 mg of Topelfate and Topoxy twice a day generally suffer from headache\" → [\"40 mg\"/Strength, \"Topelfate\"/Drug, \"Topoxy\"/Drug, \"twice a day\"/Frequency, \"headache\"/Reason]\n"
     ]
    }
   ],
   "source": [
    "# create example sentence\n",
    "sentence = Sentence(\"Patients on 40 mg of Topelfate and Topoxy twice a day for stomachache generally suffer from headache\")\n",
    "\n",
    "# token level predictions\n",
    "tf_tagger.predict(sentence, force_token_predictions=True)\n",
    "print(sentence.to_tagged_string())\n",
    "\n",
    "# predict tags and print\n",
    "tf_tagger.predict(sentence)\n",
    "print(sentence.to_tagged_string())"
   ]
  },
  {
   "cell_type": "code",
   "execution_count": null,
   "metadata": {
    "id": "1XgSNrLQV4qU"
   },
   "outputs": [],
   "source": []
  }
 ],
 "metadata": {
  "accelerator": "GPU",
  "colab": {
   "provenance": []
  },
  "gpuClass": "standard",
  "kernelspec": {
   "display_name": "Python 3 (ipykernel)",
   "language": "python",
   "name": "python3"
  },
  "language_info": {
   "codemirror_mode": {
    "name": "ipython",
    "version": 3
   },
   "file_extension": ".py",
   "mimetype": "text/x-python",
   "name": "python",
   "nbconvert_exporter": "python",
   "pygments_lexer": "ipython3",
   "version": "3.11.0"
  },
  "widgets": {
   "application/vnd.jupyter.widget-state+json": {
    "0bed3f6b9ca64bf3808cc9dbf1ff3303": {
     "model_module": "@jupyter-widgets/controls",
     "model_module_version": "1.5.0",
     "model_name": "FloatProgressModel",
     "state": {
      "_dom_classes": [],
      "_model_module": "@jupyter-widgets/controls",
      "_model_module_version": "1.5.0",
      "_model_name": "FloatProgressModel",
      "_view_count": null,
      "_view_module": "@jupyter-widgets/controls",
      "_view_module_version": "1.5.0",
      "_view_name": "ProgressView",
      "bar_style": "success",
      "description": "",
      "description_tooltip": null,
      "layout": "IPY_MODEL_2825c334173743ca80ab152f11d73a58",
      "max": 385,
      "min": 0,
      "orientation": "horizontal",
      "style": "IPY_MODEL_8027c4075fc449378c07748b692e5e4c",
      "value": 385
     }
    },
    "0e3f59d07fc04b97a8574616107c3a33": {
     "model_module": "@jupyter-widgets/controls",
     "model_module_version": "1.5.0",
     "model_name": "FloatProgressModel",
     "state": {
      "_dom_classes": [],
      "_model_module": "@jupyter-widgets/controls",
      "_model_module_version": "1.5.0",
      "_model_name": "FloatProgressModel",
      "_view_count": null,
      "_view_module": "@jupyter-widgets/controls",
      "_view_module_version": "1.5.0",
      "_view_name": "ProgressView",
      "bar_style": "success",
      "description": "",
      "description_tooltip": null,
      "layout": "IPY_MODEL_4945bcafd1104f1c8970e4d5763139c3",
      "max": 435778770,
      "min": 0,
      "orientation": "horizontal",
      "style": "IPY_MODEL_61eca5fe142c4a01b25817d8ff15a9fa",
      "value": 435778770
     }
    },
    "151e7357410641e3a788156c458300e8": {
     "model_module": "@jupyter-widgets/base",
     "model_module_version": "1.2.0",
     "model_name": "LayoutModel",
     "state": {
      "_model_module": "@jupyter-widgets/base",
      "_model_module_version": "1.2.0",
      "_model_name": "LayoutModel",
      "_view_count": null,
      "_view_module": "@jupyter-widgets/base",
      "_view_module_version": "1.2.0",
      "_view_name": "LayoutView",
      "align_content": null,
      "align_items": null,
      "align_self": null,
      "border": null,
      "bottom": null,
      "display": null,
      "flex": null,
      "flex_flow": null,
      "grid_area": null,
      "grid_auto_columns": null,
      "grid_auto_flow": null,
      "grid_auto_rows": null,
      "grid_column": null,
      "grid_gap": null,
      "grid_row": null,
      "grid_template_areas": null,
      "grid_template_columns": null,
      "grid_template_rows": null,
      "height": null,
      "justify_content": null,
      "justify_items": null,
      "left": null,
      "margin": null,
      "max_height": null,
      "max_width": null,
      "min_height": null,
      "min_width": null,
      "object_fit": null,
      "object_position": null,
      "order": null,
      "overflow": null,
      "overflow_x": null,
      "overflow_y": null,
      "padding": null,
      "right": null,
      "top": null,
      "visibility": null,
      "width": null
     }
    },
    "2562829ba0504c2fb6bb5d5f61423f10": {
     "model_module": "@jupyter-widgets/controls",
     "model_module_version": "1.5.0",
     "model_name": "DescriptionStyleModel",
     "state": {
      "_model_module": "@jupyter-widgets/controls",
      "_model_module_version": "1.5.0",
      "_model_name": "DescriptionStyleModel",
      "_view_count": null,
      "_view_module": "@jupyter-widgets/base",
      "_view_module_version": "1.2.0",
      "_view_name": "StyleView",
      "description_width": ""
     }
    },
    "2825c334173743ca80ab152f11d73a58": {
     "model_module": "@jupyter-widgets/base",
     "model_module_version": "1.2.0",
     "model_name": "LayoutModel",
     "state": {
      "_model_module": "@jupyter-widgets/base",
      "_model_module_version": "1.2.0",
      "_model_name": "LayoutModel",
      "_view_count": null,
      "_view_module": "@jupyter-widgets/base",
      "_view_module_version": "1.2.0",
      "_view_name": "LayoutView",
      "align_content": null,
      "align_items": null,
      "align_self": null,
      "border": null,
      "bottom": null,
      "display": null,
      "flex": null,
      "flex_flow": null,
      "grid_area": null,
      "grid_auto_columns": null,
      "grid_auto_flow": null,
      "grid_auto_rows": null,
      "grid_column": null,
      "grid_gap": null,
      "grid_row": null,
      "grid_template_areas": null,
      "grid_template_columns": null,
      "grid_template_rows": null,
      "height": null,
      "justify_content": null,
      "justify_items": null,
      "left": null,
      "margin": null,
      "max_height": null,
      "max_width": null,
      "min_height": null,
      "min_width": null,
      "object_fit": null,
      "object_position": null,
      "order": null,
      "overflow": null,
      "overflow_x": null,
      "overflow_y": null,
      "padding": null,
      "right": null,
      "top": null,
      "visibility": null,
      "width": null
     }
    },
    "4945bcafd1104f1c8970e4d5763139c3": {
     "model_module": "@jupyter-widgets/base",
     "model_module_version": "1.2.0",
     "model_name": "LayoutModel",
     "state": {
      "_model_module": "@jupyter-widgets/base",
      "_model_module_version": "1.2.0",
      "_model_name": "LayoutModel",
      "_view_count": null,
      "_view_module": "@jupyter-widgets/base",
      "_view_module_version": "1.2.0",
      "_view_name": "LayoutView",
      "align_content": null,
      "align_items": null,
      "align_self": null,
      "border": null,
      "bottom": null,
      "display": null,
      "flex": null,
      "flex_flow": null,
      "grid_area": null,
      "grid_auto_columns": null,
      "grid_auto_flow": null,
      "grid_auto_rows": null,
      "grid_column": null,
      "grid_gap": null,
      "grid_row": null,
      "grid_template_areas": null,
      "grid_template_columns": null,
      "grid_template_rows": null,
      "height": null,
      "justify_content": null,
      "justify_items": null,
      "left": null,
      "margin": null,
      "max_height": null,
      "max_width": null,
      "min_height": null,
      "min_width": null,
      "object_fit": null,
      "object_position": null,
      "order": null,
      "overflow": null,
      "overflow_x": null,
      "overflow_y": null,
      "padding": null,
      "right": null,
      "top": null,
      "visibility": null,
      "width": null
     }
    },
    "5a9eca51c8304a8190a82cf5cd242fdf": {
     "model_module": "@jupyter-widgets/controls",
     "model_module_version": "1.5.0",
     "model_name": "DescriptionStyleModel",
     "state": {
      "_model_module": "@jupyter-widgets/controls",
      "_model_module_version": "1.5.0",
      "_model_name": "DescriptionStyleModel",
      "_view_count": null,
      "_view_module": "@jupyter-widgets/base",
      "_view_module_version": "1.2.0",
      "_view_name": "StyleView",
      "description_width": ""
     }
    },
    "5e2e9d8de321453497a489dab2d71d1f": {
     "model_module": "@jupyter-widgets/controls",
     "model_module_version": "1.5.0",
     "model_name": "HBoxModel",
     "state": {
      "_dom_classes": [],
      "_model_module": "@jupyter-widgets/controls",
      "_model_module_version": "1.5.0",
      "_model_name": "HBoxModel",
      "_view_count": null,
      "_view_module": "@jupyter-widgets/controls",
      "_view_module_version": "1.5.0",
      "_view_name": "HBoxView",
      "box_style": "",
      "children": [
       "IPY_MODEL_e972673c829d4b94a301fe4a10814dfd",
       "IPY_MODEL_0bed3f6b9ca64bf3808cc9dbf1ff3303",
       "IPY_MODEL_c71513f5495047f0922e61d555f8e2e7"
      ],
      "layout": "IPY_MODEL_dbc2cd47ffe247ce8a9937a3984d7774"
     }
    },
    "61eca5fe142c4a01b25817d8ff15a9fa": {
     "model_module": "@jupyter-widgets/controls",
     "model_module_version": "1.5.0",
     "model_name": "ProgressStyleModel",
     "state": {
      "_model_module": "@jupyter-widgets/controls",
      "_model_module_version": "1.5.0",
      "_model_name": "ProgressStyleModel",
      "_view_count": null,
      "_view_module": "@jupyter-widgets/base",
      "_view_module_version": "1.2.0",
      "_view_name": "StyleView",
      "bar_color": null,
      "description_width": ""
     }
    },
    "67263ffbee654f3fa21e24c650019e86": {
     "model_module": "@jupyter-widgets/controls",
     "model_module_version": "1.5.0",
     "model_name": "HBoxModel",
     "state": {
      "_dom_classes": [],
      "_model_module": "@jupyter-widgets/controls",
      "_model_module_version": "1.5.0",
      "_model_name": "HBoxModel",
      "_view_count": null,
      "_view_module": "@jupyter-widgets/controls",
      "_view_module_version": "1.5.0",
      "_view_name": "HBoxView",
      "box_style": "",
      "children": [
       "IPY_MODEL_7ba635aa3ed6424e8a4bf89bc606ba03",
       "IPY_MODEL_0e3f59d07fc04b97a8574616107c3a33",
       "IPY_MODEL_a76664abdc9f49579f84865b478b339a"
      ],
      "layout": "IPY_MODEL_73d25a36d4414ec6ba9327c407dcb526"
     }
    },
    "73d25a36d4414ec6ba9327c407dcb526": {
     "model_module": "@jupyter-widgets/base",
     "model_module_version": "1.2.0",
     "model_name": "LayoutModel",
     "state": {
      "_model_module": "@jupyter-widgets/base",
      "_model_module_version": "1.2.0",
      "_model_name": "LayoutModel",
      "_view_count": null,
      "_view_module": "@jupyter-widgets/base",
      "_view_module_version": "1.2.0",
      "_view_name": "LayoutView",
      "align_content": null,
      "align_items": null,
      "align_self": null,
      "border": null,
      "bottom": null,
      "display": null,
      "flex": null,
      "flex_flow": null,
      "grid_area": null,
      "grid_auto_columns": null,
      "grid_auto_flow": null,
      "grid_auto_rows": null,
      "grid_column": null,
      "grid_gap": null,
      "grid_row": null,
      "grid_template_areas": null,
      "grid_template_columns": null,
      "grid_template_rows": null,
      "height": null,
      "justify_content": null,
      "justify_items": null,
      "left": null,
      "margin": null,
      "max_height": null,
      "max_width": null,
      "min_height": null,
      "min_width": null,
      "object_fit": null,
      "object_position": null,
      "order": null,
      "overflow": null,
      "overflow_x": null,
      "overflow_y": null,
      "padding": null,
      "right": null,
      "top": null,
      "visibility": null,
      "width": null
     }
    },
    "7ba635aa3ed6424e8a4bf89bc606ba03": {
     "model_module": "@jupyter-widgets/controls",
     "model_module_version": "1.5.0",
     "model_name": "HTMLModel",
     "state": {
      "_dom_classes": [],
      "_model_module": "@jupyter-widgets/controls",
      "_model_module_version": "1.5.0",
      "_model_name": "HTMLModel",
      "_view_count": null,
      "_view_module": "@jupyter-widgets/controls",
      "_view_module_version": "1.5.0",
      "_view_name": "HTMLView",
      "description": "",
      "description_tooltip": null,
      "layout": "IPY_MODEL_a1a0245463e140a6baca3920e06ac07c",
      "placeholder": "​",
      "style": "IPY_MODEL_2562829ba0504c2fb6bb5d5f61423f10",
      "value": "Downloading pytorch_model.bin: 100%"
     }
    },
    "8027c4075fc449378c07748b692e5e4c": {
     "model_module": "@jupyter-widgets/controls",
     "model_module_version": "1.5.0",
     "model_name": "ProgressStyleModel",
     "state": {
      "_model_module": "@jupyter-widgets/controls",
      "_model_module_version": "1.5.0",
      "_model_name": "ProgressStyleModel",
      "_view_count": null,
      "_view_module": "@jupyter-widgets/base",
      "_view_module_version": "1.2.0",
      "_view_name": "StyleView",
      "bar_color": null,
      "description_width": ""
     }
    },
    "91fa91b118cf40fa8ad70cdcc91f0144": {
     "model_module": "@jupyter-widgets/controls",
     "model_module_version": "1.5.0",
     "model_name": "DescriptionStyleModel",
     "state": {
      "_model_module": "@jupyter-widgets/controls",
      "_model_module_version": "1.5.0",
      "_model_name": "DescriptionStyleModel",
      "_view_count": null,
      "_view_module": "@jupyter-widgets/base",
      "_view_module_version": "1.2.0",
      "_view_name": "StyleView",
      "description_width": ""
     }
    },
    "a1a0245463e140a6baca3920e06ac07c": {
     "model_module": "@jupyter-widgets/base",
     "model_module_version": "1.2.0",
     "model_name": "LayoutModel",
     "state": {
      "_model_module": "@jupyter-widgets/base",
      "_model_module_version": "1.2.0",
      "_model_name": "LayoutModel",
      "_view_count": null,
      "_view_module": "@jupyter-widgets/base",
      "_view_module_version": "1.2.0",
      "_view_name": "LayoutView",
      "align_content": null,
      "align_items": null,
      "align_self": null,
      "border": null,
      "bottom": null,
      "display": null,
      "flex": null,
      "flex_flow": null,
      "grid_area": null,
      "grid_auto_columns": null,
      "grid_auto_flow": null,
      "grid_auto_rows": null,
      "grid_column": null,
      "grid_gap": null,
      "grid_row": null,
      "grid_template_areas": null,
      "grid_template_columns": null,
      "grid_template_rows": null,
      "height": null,
      "justify_content": null,
      "justify_items": null,
      "left": null,
      "margin": null,
      "max_height": null,
      "max_width": null,
      "min_height": null,
      "min_width": null,
      "object_fit": null,
      "object_position": null,
      "order": null,
      "overflow": null,
      "overflow_x": null,
      "overflow_y": null,
      "padding": null,
      "right": null,
      "top": null,
      "visibility": null,
      "width": null
     }
    },
    "a76664abdc9f49579f84865b478b339a": {
     "model_module": "@jupyter-widgets/controls",
     "model_module_version": "1.5.0",
     "model_name": "HTMLModel",
     "state": {
      "_dom_classes": [],
      "_model_module": "@jupyter-widgets/controls",
      "_model_module_version": "1.5.0",
      "_model_name": "HTMLModel",
      "_view_count": null,
      "_view_module": "@jupyter-widgets/controls",
      "_view_module_version": "1.5.0",
      "_view_name": "HTMLView",
      "description": "",
      "description_tooltip": null,
      "layout": "IPY_MODEL_cec32562c215454bbf2716a8ad46f672",
      "placeholder": "​",
      "style": "IPY_MODEL_91fa91b118cf40fa8ad70cdcc91f0144",
      "value": " 436M/436M [00:02&lt;00:00, 246MB/s]"
     }
    },
    "c71513f5495047f0922e61d555f8e2e7": {
     "model_module": "@jupyter-widgets/controls",
     "model_module_version": "1.5.0",
     "model_name": "HTMLModel",
     "state": {
      "_dom_classes": [],
      "_model_module": "@jupyter-widgets/controls",
      "_model_module_version": "1.5.0",
      "_model_name": "HTMLModel",
      "_view_count": null,
      "_view_module": "@jupyter-widgets/controls",
      "_view_module_version": "1.5.0",
      "_view_name": "HTMLView",
      "description": "",
      "description_tooltip": null,
      "layout": "IPY_MODEL_e9420818837a42d686460403fd4c3da3",
      "placeholder": "​",
      "style": "IPY_MODEL_c924676546854de7b4e78e088db93f28",
      "value": " 385/385 [00:00&lt;00:00, 9.22kB/s]"
     }
    },
    "c924676546854de7b4e78e088db93f28": {
     "model_module": "@jupyter-widgets/controls",
     "model_module_version": "1.5.0",
     "model_name": "DescriptionStyleModel",
     "state": {
      "_model_module": "@jupyter-widgets/controls",
      "_model_module_version": "1.5.0",
      "_model_name": "DescriptionStyleModel",
      "_view_count": null,
      "_view_module": "@jupyter-widgets/base",
      "_view_module_version": "1.2.0",
      "_view_name": "StyleView",
      "description_width": ""
     }
    },
    "cec32562c215454bbf2716a8ad46f672": {
     "model_module": "@jupyter-widgets/base",
     "model_module_version": "1.2.0",
     "model_name": "LayoutModel",
     "state": {
      "_model_module": "@jupyter-widgets/base",
      "_model_module_version": "1.2.0",
      "_model_name": "LayoutModel",
      "_view_count": null,
      "_view_module": "@jupyter-widgets/base",
      "_view_module_version": "1.2.0",
      "_view_name": "LayoutView",
      "align_content": null,
      "align_items": null,
      "align_self": null,
      "border": null,
      "bottom": null,
      "display": null,
      "flex": null,
      "flex_flow": null,
      "grid_area": null,
      "grid_auto_columns": null,
      "grid_auto_flow": null,
      "grid_auto_rows": null,
      "grid_column": null,
      "grid_gap": null,
      "grid_row": null,
      "grid_template_areas": null,
      "grid_template_columns": null,
      "grid_template_rows": null,
      "height": null,
      "justify_content": null,
      "justify_items": null,
      "left": null,
      "margin": null,
      "max_height": null,
      "max_width": null,
      "min_height": null,
      "min_width": null,
      "object_fit": null,
      "object_position": null,
      "order": null,
      "overflow": null,
      "overflow_x": null,
      "overflow_y": null,
      "padding": null,
      "right": null,
      "top": null,
      "visibility": null,
      "width": null
     }
    },
    "dbc2cd47ffe247ce8a9937a3984d7774": {
     "model_module": "@jupyter-widgets/base",
     "model_module_version": "1.2.0",
     "model_name": "LayoutModel",
     "state": {
      "_model_module": "@jupyter-widgets/base",
      "_model_module_version": "1.2.0",
      "_model_name": "LayoutModel",
      "_view_count": null,
      "_view_module": "@jupyter-widgets/base",
      "_view_module_version": "1.2.0",
      "_view_name": "LayoutView",
      "align_content": null,
      "align_items": null,
      "align_self": null,
      "border": null,
      "bottom": null,
      "display": null,
      "flex": null,
      "flex_flow": null,
      "grid_area": null,
      "grid_auto_columns": null,
      "grid_auto_flow": null,
      "grid_auto_rows": null,
      "grid_column": null,
      "grid_gap": null,
      "grid_row": null,
      "grid_template_areas": null,
      "grid_template_columns": null,
      "grid_template_rows": null,
      "height": null,
      "justify_content": null,
      "justify_items": null,
      "left": null,
      "margin": null,
      "max_height": null,
      "max_width": null,
      "min_height": null,
      "min_width": null,
      "object_fit": null,
      "object_position": null,
      "order": null,
      "overflow": null,
      "overflow_x": null,
      "overflow_y": null,
      "padding": null,
      "right": null,
      "top": null,
      "visibility": null,
      "width": null
     }
    },
    "e9420818837a42d686460403fd4c3da3": {
     "model_module": "@jupyter-widgets/base",
     "model_module_version": "1.2.0",
     "model_name": "LayoutModel",
     "state": {
      "_model_module": "@jupyter-widgets/base",
      "_model_module_version": "1.2.0",
      "_model_name": "LayoutModel",
      "_view_count": null,
      "_view_module": "@jupyter-widgets/base",
      "_view_module_version": "1.2.0",
      "_view_name": "LayoutView",
      "align_content": null,
      "align_items": null,
      "align_self": null,
      "border": null,
      "bottom": null,
      "display": null,
      "flex": null,
      "flex_flow": null,
      "grid_area": null,
      "grid_auto_columns": null,
      "grid_auto_flow": null,
      "grid_auto_rows": null,
      "grid_column": null,
      "grid_gap": null,
      "grid_row": null,
      "grid_template_areas": null,
      "grid_template_columns": null,
      "grid_template_rows": null,
      "height": null,
      "justify_content": null,
      "justify_items": null,
      "left": null,
      "margin": null,
      "max_height": null,
      "max_width": null,
      "min_height": null,
      "min_width": null,
      "object_fit": null,
      "object_position": null,
      "order": null,
      "overflow": null,
      "overflow_x": null,
      "overflow_y": null,
      "padding": null,
      "right": null,
      "top": null,
      "visibility": null,
      "width": null
     }
    },
    "e972673c829d4b94a301fe4a10814dfd": {
     "model_module": "@jupyter-widgets/controls",
     "model_module_version": "1.5.0",
     "model_name": "HTMLModel",
     "state": {
      "_dom_classes": [],
      "_model_module": "@jupyter-widgets/controls",
      "_model_module_version": "1.5.0",
      "_model_name": "HTMLModel",
      "_view_count": null,
      "_view_module": "@jupyter-widgets/controls",
      "_view_module_version": "1.5.0",
      "_view_name": "HTMLView",
      "description": "",
      "description_tooltip": null,
      "layout": "IPY_MODEL_151e7357410641e3a788156c458300e8",
      "placeholder": "​",
      "style": "IPY_MODEL_5a9eca51c8304a8190a82cf5cd242fdf",
      "value": "Downloading (…)lve/main/config.json: 100%"
     }
    }
   }
  }
 },
 "nbformat": 4,
 "nbformat_minor": 1
}
