{
 "cells": [
  {
   "attachments": {},
   "cell_type": "markdown",
   "metadata": {},
   "source": [
    "### Install & Import Packages"
   ]
  },
  {
   "cell_type": "code",
   "execution_count": 2,
   "metadata": {
    "executionInfo": {
     "elapsed": 65025,
     "status": "ok",
     "timestamp": 1681859798243,
     "user": {
      "displayName": "Rohan Saraogi",
      "userId": "04662930886212306714"
     },
     "user_tz": 240
    },
    "id": "RHaKJyT29SBx"
   },
   "outputs": [],
   "source": [
    "%%capture\n",
    "!pip install \"flair\" -q"
   ]
  },
  {
   "cell_type": "code",
   "execution_count": 3,
   "metadata": {
    "colab": {
     "base_uri": "https://localhost:8080/",
     "height": 35
    },
    "executionInfo": {
     "elapsed": 14036,
     "status": "ok",
     "timestamp": 1681859812274,
     "user": {
      "displayName": "Rohan Saraogi",
      "userId": "04662930886212306714"
     },
     "user_tz": 240
    },
    "id": "H7k5xilpsMSh",
    "outputId": "5bd2eab4-ec70-413b-c34c-ea8806e19945"
   },
   "outputs": [
    {
     "data": {
      "application/vnd.google.colaboratory.intrinsic+json": {
       "type": "string"
      },
      "text/plain": [
       "'0.12.2'"
      ]
     },
     "execution_count": 3,
     "metadata": {},
     "output_type": "execute_result"
    }
   ],
   "source": [
    "from google.colab import drive\n",
    "drive.mount('/content/drive')\n",
    "import flair\n",
    "from flair.data import Sentence\n",
    "from flair.datasets import ColumnCorpus\n",
    "from flair.embeddings import (\n",
    "    WordEmbeddings, TransformerWordEmbeddings, StackedEmbeddings\n",
    ")\n",
    "from flair.models import SequenceTagger\n",
    "from flair.trainers import ModelTrainer\n",
    "flair.__version__"
   ]
  },
  {
   "attachments": {},
   "cell_type": "markdown",
   "metadata": {},
   "source": [
    "### Import Data"
   ]
  },
  {
   "cell_type": "code",
   "execution_count": 4,
   "metadata": {
    "executionInfo": {
     "elapsed": 7,
     "status": "ok",
     "timestamp": 1681859812274,
     "user": {
      "displayName": "Rohan Saraogi",
      "userId": "04662930886212306714"
     },
     "user_tz": 240
    },
    "id": "qBDCigAEcMgZ"
   },
   "outputs": [],
   "source": [
    "DATA_PATH = \"/content/drive/Shareddrives/CIS522-Project/data\"\n",
    "MODEL_PATH = \"/content/drive/Shareddrives/CIS522-Project/models\""
   ]
  },
  {
   "cell_type": "code",
   "execution_count": 5,
   "metadata": {
    "colab": {
     "base_uri": "https://localhost:8080/"
    },
    "executionInfo": {
     "elapsed": 57233,
     "status": "ok",
     "timestamp": 1681859869501,
     "user": {
      "displayName": "Rohan Saraogi",
      "userId": "04662930886212306714"
     },
     "user_tz": 240
    },
    "id": "2geeI5AmcOmr",
    "outputId": "db1be16c-4b37-4ad8-b3e5-5dba254817b5"
   },
   "outputs": [
    {
     "name": "stdout",
     "output_type": "stream",
     "text": [
      "2023-04-18 23:16:52,013 Reading data from /content/drive/Shareddrives/CIS522-Project/data\n",
      "2023-04-18 23:16:52,018 Train: /content/drive/Shareddrives/CIS522-Project/data/flair_ner_train.txt\n",
      "2023-04-18 23:16:52,019 Dev: None\n",
      "2023-04-18 23:16:52,021 Test: /content/drive/Shareddrives/CIS522-Project/data/flair_ner_test.txt\n",
      "2023-04-18 23:17:47,830 Computing label dictionary. Progress:\n"
     ]
    },
    {
     "name": "stderr",
     "output_type": "stream",
     "text": [
      "35399it [00:01, 26153.32it/s]"
     ]
    },
    {
     "name": "stdout",
     "output_type": "stream",
     "text": [
      "2023-04-18 23:17:49,228 Dictionary created for label 'ner' with 9 values: Drug (seen 84101 times), Strength (seen 59318 times), Form (seen 56550 times), Frequency (seen 48929 times), Route (seen 40228 times), Dosage (seen 32789 times), Reason (seen 13189 times), Duration (seen 3240 times), ADE (seen 2021 times)\n",
      "['Drug', 'Strength', 'Form', 'Frequency', 'Route', 'Dosage', 'Reason', 'Duration', 'ADE']\n"
     ]
    },
    {
     "name": "stderr",
     "output_type": "stream",
     "text": [
      "\n"
     ]
    }
   ],
   "source": [
    "# Import data into flair using ColumnCorpus\n",
    "corpus = ColumnCorpus(DATA_PATH, {0: \"text\", 1: \"ner\"}, train_file=\"flair_ner_train.txt\", test_file=\"flair_ner_test.txt\")\n",
    "# Needed for model initialization\n",
    "tag_dictionary = corpus.make_label_dictionary(label_type=\"ner\", add_unk=False)\n",
    "print(tag_dictionary.get_items())"
   ]
  },
  {
   "attachments": {},
   "cell_type": "markdown",
   "metadata": {},
   "source": [
    "### Initialize Weight Dictionary\n",
    "This is the weight dictionary used by the loss function. The weight for a given entity is set to the ratio between the frequency of the most represented entity and the frequency of the given entity."
   ]
  },
  {
   "cell_type": "code",
   "execution_count": null,
   "metadata": {
    "colab": {
     "base_uri": "https://localhost:8080/"
    },
    "executionInfo": {
     "elapsed": 359,
     "status": "ok",
     "timestamp": 1681525263183,
     "user": {
      "displayName": "Meet Gandhi",
      "userId": "05850661023473202418"
     },
     "user_tz": 240
    },
    "id": "x_Zy1_kLxwL9",
    "outputId": "3b06ea8a-1da3-4477-acc0-91cbad56b689"
   },
   "outputs": [],
   "source": [
    "weight_dict = {\n",
    "    'Drug': 84101/84101,\n",
    "    'Strength': 84101/59318,\n",
    "    'Form': 84101/56550,\n",
    "    'Frequency': 84101/48929,\n",
    "    'Route': 84101/40228,\n",
    "    'Dosage': 84101/32789,\n",
    "    'Reason': 84101/13189,\n",
    "    'Duration': 84101/3240,\n",
    "    'ADE': 84101/2021,\n",
    "}"
   ]
  },
  {
   "attachments": {},
   "cell_type": "markdown",
   "metadata": {},
   "source": [
    "### Initialize/Load Embeddings & Model"
   ]
  },
  {
   "cell_type": "code",
   "execution_count": null,
   "metadata": {
    "colab": {
     "base_uri": "https://localhost:8080/"
    },
    "executionInfo": {
     "elapsed": 2478,
     "status": "ok",
     "timestamp": 1681525272164,
     "user": {
      "displayName": "Meet Gandhi",
      "userId": "05850661023473202418"
     },
     "user_tz": 240
    },
    "id": "8btzMFfENI26",
    "outputId": "a9efbaab-cd06-4c45-98ca-cd5affd519d6"
   },
   "outputs": [
    {
     "name": "stdout",
     "output_type": "stream",
     "text": [
      "2023-04-15 02:21:10,106 SequenceTagger predicts: Dictionary with 39 tags: O, S-Drug, B-Drug, E-Drug, I-Drug, S-Strength, B-Strength, E-Strength, I-Strength, S-Form, B-Form, E-Form, I-Form, S-Frequency, B-Frequency, E-Frequency, I-Frequency, S-Route, B-Route, E-Route, I-Route, S-Dosage, B-Dosage, E-Dosage, I-Dosage, S-Reason, B-Reason, E-Reason, I-Reason, S-Duration, B-Duration, E-Duration, I-Duration, S-ADE, B-ADE, E-ADE, I-ADE, <START>, <STOP>\n"
     ]
    }
   ],
   "source": [
    "# RUN ONLY DURING EMBEDDINGS/MODEL INITIALIZATION \n",
    "## Initialize fine-tuneable transformer embeddings WITH document context\n",
    "# tf_embeddings = TransformerWordEmbeddings(\n",
    "#     model='emilyalsentzer/Bio_ClinicalBERT',\n",
    "#     layers=\"-1\",\n",
    "#     subtoken_pooling=\"mean\",\n",
    "#     fine_tune=True,\n",
    "#     use_context=True,\n",
    "#     model_max_length=256 # required to fix a weird tensor size mismatch error \n",
    "# )\n",
    "# embedding_types = [\n",
    "#     # word embeddings trained on PubMed and PMC\n",
    "#     # WordEmbeddings(\"pubmed\"),\n",
    "#     tf_embeddings\n",
    "# ]\n",
    "# embeddings = StackedEmbeddings(embeddings=embedding_types)\n",
    "## Initialize bare-bones sequence tagger (no CRF, no RNN, no reprojection)\n",
    "# tf_tagger = SequenceTagger(\n",
    "#     hidden_size=256,\n",
    "#     embeddings=embeddings,\n",
    "#     tag_dictionary=tag_dictionary,\n",
    "#     tag_type='ner',\n",
    "#     tag_format='BIOES',\n",
    "#     use_crf=True,\n",
    "#     use_rnn=False,\n",
    "#     reproject_embeddings=False,\n",
    "#     loss_weights=weight_dict\n",
    "# )\n",
    "\n",
    "# RUN WHEN A COPY OF THE MODEL HAS BEEN SAVED TO DRIVE\n",
    "tf_tagger = SequenceTagger.load(f\"{MODEL_PATH}/taggers/clinicalbert-crf/final-model.pt\")"
   ]
  },
  {
   "attachments": {},
   "cell_type": "markdown",
   "metadata": {},
   "source": [
    "### Train Model"
   ]
  },
  {
   "cell_type": "code",
   "execution_count": null,
   "metadata": {
    "colab": {
     "base_uri": "https://localhost:8080/"
    },
    "id": "_j1EShR3NXl4",
    "outputId": "cdd626ea-4780-4158-d8ce-3c53c3b5d43f"
   },
   "outputs": [],
   "source": [
    "# Initialize trainer\n",
    "trainer = ModelTrainer(tf_tagger, corpus)\n",
    "\n",
    "# Train on corpus\n",
    "trainer.train(\n",
    "    base_path=f\"{MODEL_PATH}/taggers/clinicalbert-crf\",\n",
    "    train_with_dev=False,\n",
    "    max_epochs=50,\n",
    "    learning_rate=0.005,\n",
    "    mini_batch_size=16,\n",
    "    embeddings_storage_mode='none'\n",
    ")"
   ]
  },
  {
   "attachments": {},
   "cell_type": "markdown",
   "metadata": {},
   "source": [
    "### Evaluate Model"
   ]
  },
  {
   "cell_type": "code",
   "execution_count": 6,
   "metadata": {
    "colab": {
     "base_uri": "https://localhost:8080/",
     "height": 565,
     "referenced_widgets": [
      "5e2e9d8de321453497a489dab2d71d1f",
      "e972673c829d4b94a301fe4a10814dfd",
      "0bed3f6b9ca64bf3808cc9dbf1ff3303",
      "c71513f5495047f0922e61d555f8e2e7",
      "dbc2cd47ffe247ce8a9937a3984d7774",
      "151e7357410641e3a788156c458300e8",
      "5a9eca51c8304a8190a82cf5cd242fdf",
      "2825c334173743ca80ab152f11d73a58",
      "8027c4075fc449378c07748b692e5e4c",
      "e9420818837a42d686460403fd4c3da3",
      "c924676546854de7b4e78e088db93f28",
      "67263ffbee654f3fa21e24c650019e86",
      "7ba635aa3ed6424e8a4bf89bc606ba03",
      "0e3f59d07fc04b97a8574616107c3a33",
      "a76664abdc9f49579f84865b478b339a",
      "73d25a36d4414ec6ba9327c407dcb526",
      "a1a0245463e140a6baca3920e06ac07c",
      "2562829ba0504c2fb6bb5d5f61423f10",
      "4945bcafd1104f1c8970e4d5763139c3",
      "61eca5fe142c4a01b25817d8ff15a9fa",
      "cec32562c215454bbf2716a8ad46f672",
      "91fa91b118cf40fa8ad70cdcc91f0144"
     ]
    },
    "executionInfo": {
     "elapsed": 821451,
     "status": "ok",
     "timestamp": 1681860695597,
     "user": {
      "displayName": "Rohan Saraogi",
      "userId": "04662930886212306714"
     },
     "user_tz": 240
    },
    "id": "4CJTtFajlOxI",
    "outputId": "5bae5f09-4a80-4eb0-decd-4d38c9837576"
   },
   "outputs": [
    {
     "data": {
      "application/vnd.jupyter.widget-view+json": {
       "model_id": "5e2e9d8de321453497a489dab2d71d1f",
       "version_major": 2,
       "version_minor": 0
      },
      "text/plain": [
       "Downloading (…)lve/main/config.json:   0%|          | 0.00/385 [00:00<?, ?B/s]"
      ]
     },
     "metadata": {},
     "output_type": "display_data"
    },
    {
     "data": {
      "application/vnd.jupyter.widget-view+json": {
       "model_id": "67263ffbee654f3fa21e24c650019e86",
       "version_major": 2,
       "version_minor": 0
      },
      "text/plain": [
       "Downloading pytorch_model.bin:   0%|          | 0.00/436M [00:00<?, ?B/s]"
      ]
     },
     "metadata": {},
     "output_type": "display_data"
    },
    {
     "name": "stdout",
     "output_type": "stream",
     "text": [
      "2023-04-18 23:18:11,439 SequenceTagger predicts: Dictionary with 39 tags: O, S-Drug, B-Drug, E-Drug, I-Drug, S-Strength, B-Strength, E-Strength, I-Strength, S-Form, B-Form, E-Form, I-Form, S-Frequency, B-Frequency, E-Frequency, I-Frequency, S-Route, B-Route, E-Route, I-Route, S-Dosage, B-Dosage, E-Dosage, I-Dosage, S-Reason, B-Reason, E-Reason, I-Reason, S-Duration, B-Duration, E-Duration, I-Duration, S-ADE, B-ADE, E-ADE, I-ADE, <START>, <STOP>\n"
     ]
    },
    {
     "name": "stderr",
     "output_type": "stream",
     "text": [
      "100%|██████████| 397/397 [13:19<00:00,  2.01s/it]\n"
     ]
    },
    {
     "name": "stdout",
     "output_type": "stream",
     "text": [
      "2023-04-18 23:31:32,356 Evaluating as a multi-label problem: False\n",
      "\n",
      "Results:\n",
      "- F-score (micro) 0.9121\n",
      "- F-score (macro) 0.8242\n",
      "- Accuracy 0.8446\n",
      "\n",
      "By class:\n",
      "              precision    recall  f1-score   support\n",
      "\n",
      "        Drug     0.8968    0.9390    0.9174     61167\n",
      "    Strength     0.9414    0.9587    0.9500     42957\n",
      "        Form     0.9257    0.9212    0.9234     41417\n",
      "   Frequency     0.8670    0.8726    0.8698     36495\n",
      "       Route     0.9457    0.9617    0.9536     30583\n",
      "      Dosage     0.9236    0.9473    0.9353     23506\n",
      "      Reason     0.6905    0.7782    0.7317      9533\n",
      "    Duration     0.7659    0.7876    0.7766      1982\n",
      "         ADE     0.4224    0.3141    0.3603      1299\n",
      "\n",
      "   micro avg     0.9018    0.9227    0.9121    248939\n",
      "   macro avg     0.8199    0.8312    0.8242    248939\n",
      "weighted avg     0.9020    0.9227    0.9121    248939\n",
      "\n"
     ]
    }
   ],
   "source": [
    "tf_tagger = SequenceTagger.load(f\"{MODEL_PATH}/taggers/clinicalbert-crf/final-model.pt\")\n",
    "result = tf_tagger.evaluate(corpus.test, gold_label_type='ner', mini_batch_size=64)\n",
    "print(result.detailed_results)"
   ]
  },
  {
   "cell_type": "code",
   "execution_count": null,
   "metadata": {
    "colab": {
     "base_uri": "https://localhost:8080/"
    },
    "executionInfo": {
     "elapsed": 413,
     "status": "ok",
     "timestamp": 1680667684417,
     "user": {
      "displayName": "Tarun Raheja",
      "userId": "06230709340765194815"
     },
     "user_tz": 240
    },
    "id": "ymixHGhy2SHg",
    "outputId": "15fe4404-319b-4da0-bea7-b5f45ffea308"
   },
   "outputs": [
    {
     "name": "stdout",
     "output_type": "stream",
     "text": [
      "Sentence[15]: \"Patients on 40 mg of Topelfate and Topoxy twice a day generally suffer from headache\" → [\"40\"/B-Strength, \"mg\"/E-Strength, \"Topelfate\"/S-Drug, \"Topoxy\"/S-Drug, \"twice\"/B-Frequency, \"a\"/I-Frequency, \"day\"/E-Frequency, \"headache\"/S-Reason]\n",
      "Sentence[15]: \"Patients on 40 mg of Topelfate and Topoxy twice a day generally suffer from headache\" → [\"40 mg\"/Strength, \"Topelfate\"/Drug, \"Topoxy\"/Drug, \"twice a day\"/Frequency, \"headache\"/Reason]\n"
     ]
    }
   ],
   "source": [
    "# Create example sentence\n",
    "sentence = Sentence(\"Patients on 40 mg of Topelfate and Topoxy twice a day for stomachache generally suffer from headache\")\n",
    "\n",
    "# Token level predictions\n",
    "tf_tagger.predict(sentence, force_token_predictions=True)\n",
    "print(sentence.to_tagged_string())\n",
    "\n",
    "# Predict tags and print\n",
    "tf_tagger.predict(sentence)\n",
    "print(sentence.to_tagged_string())"
   ]
  },
  {
   "cell_type": "code",
   "execution_count": null,
   "metadata": {
    "id": "1XgSNrLQV4qU"
   },
   "outputs": [],
   "source": []
  }
 ],
 "metadata": {
  "accelerator": "GPU",
  "colab": {
   "provenance": []
  },
  "gpuClass": "standard",
  "kernelspec": {
   "display_name": "Python 3 (ipykernel)",
   "language": "python",
   "name": "python3"
  },
  "language_info": {
   "codemirror_mode": {
    "name": "ipython",
    "version": 3
   },
   "file_extension": ".py",
   "mimetype": "text/x-python",
   "name": "python",
   "nbconvert_exporter": "python",
   "pygments_lexer": "ipython3",
   "version": "3.11.0"
  },
  "widgets": {
   "application/vnd.jupyter.widget-state+json": {
    "0bed3f6b9ca64bf3808cc9dbf1ff3303": {
     "model_module": "@jupyter-widgets/controls",
     "model_module_version": "1.5.0",
     "model_name": "FloatProgressModel",
     "state": {
      "_dom_classes": [],
      "_model_module": "@jupyter-widgets/controls",
      "_model_module_version": "1.5.0",
      "_model_name": "FloatProgressModel",
      "_view_count": null,
      "_view_module": "@jupyter-widgets/controls",
      "_view_module_version": "1.5.0",
      "_view_name": "ProgressView",
      "bar_style": "success",
      "description": "",
      "description_tooltip": null,
      "layout": "IPY_MODEL_2825c334173743ca80ab152f11d73a58",
      "max": 385,
      "min": 0,
      "orientation": "horizontal",
      "style": "IPY_MODEL_8027c4075fc449378c07748b692e5e4c",
      "value": 385
     }
    },
    "0e3f59d07fc04b97a8574616107c3a33": {
     "model_module": "@jupyter-widgets/controls",
     "model_module_version": "1.5.0",
     "model_name": "FloatProgressModel",
     "state": {
      "_dom_classes": [],
      "_model_module": "@jupyter-widgets/controls",
      "_model_module_version": "1.5.0",
      "_model_name": "FloatProgressModel",
      "_view_count": null,
      "_view_module": "@jupyter-widgets/controls",
      "_view_module_version": "1.5.0",
      "_view_name": "ProgressView",
      "bar_style": "success",
      "description": "",
      "description_tooltip": null,
      "layout": "IPY_MODEL_4945bcafd1104f1c8970e4d5763139c3",
      "max": 435778770,
      "min": 0,
      "orientation": "horizontal",
      "style": "IPY_MODEL_61eca5fe142c4a01b25817d8ff15a9fa",
      "value": 435778770
     }
    },
    "151e7357410641e3a788156c458300e8": {
     "model_module": "@jupyter-widgets/base",
     "model_module_version": "1.2.0",
     "model_name": "LayoutModel",
     "state": {
      "_model_module": "@jupyter-widgets/base",
      "_model_module_version": "1.2.0",
      "_model_name": "LayoutModel",
      "_view_count": null,
      "_view_module": "@jupyter-widgets/base",
      "_view_module_version": "1.2.0",
      "_view_name": "LayoutView",
      "align_content": null,
      "align_items": null,
      "align_self": null,
      "border": null,
      "bottom": null,
      "display": null,
      "flex": null,
      "flex_flow": null,
      "grid_area": null,
      "grid_auto_columns": null,
      "grid_auto_flow": null,
      "grid_auto_rows": null,
      "grid_column": null,
      "grid_gap": null,
      "grid_row": null,
      "grid_template_areas": null,
      "grid_template_columns": null,
      "grid_template_rows": null,
      "height": null,
      "justify_content": null,
      "justify_items": null,
      "left": null,
      "margin": null,
      "max_height": null,
      "max_width": null,
      "min_height": null,
      "min_width": null,
      "object_fit": null,
      "object_position": null,
      "order": null,
      "overflow": null,
      "overflow_x": null,
      "overflow_y": null,
      "padding": null,
      "right": null,
      "top": null,
      "visibility": null,
      "width": null
     }
    },
    "2562829ba0504c2fb6bb5d5f61423f10": {
     "model_module": "@jupyter-widgets/controls",
     "model_module_version": "1.5.0",
     "model_name": "DescriptionStyleModel",
     "state": {
      "_model_module": "@jupyter-widgets/controls",
      "_model_module_version": "1.5.0",
      "_model_name": "DescriptionStyleModel",
      "_view_count": null,
      "_view_module": "@jupyter-widgets/base",
      "_view_module_version": "1.2.0",
      "_view_name": "StyleView",
      "description_width": ""
     }
    },
    "2825c334173743ca80ab152f11d73a58": {
     "model_module": "@jupyter-widgets/base",
     "model_module_version": "1.2.0",
     "model_name": "LayoutModel",
     "state": {
      "_model_module": "@jupyter-widgets/base",
      "_model_module_version": "1.2.0",
      "_model_name": "LayoutModel",
      "_view_count": null,
      "_view_module": "@jupyter-widgets/base",
      "_view_module_version": "1.2.0",
      "_view_name": "LayoutView",
      "align_content": null,
      "align_items": null,
      "align_self": null,
      "border": null,
      "bottom": null,
      "display": null,
      "flex": null,
      "flex_flow": null,
      "grid_area": null,
      "grid_auto_columns": null,
      "grid_auto_flow": null,
      "grid_auto_rows": null,
      "grid_column": null,
      "grid_gap": null,
      "grid_row": null,
      "grid_template_areas": null,
      "grid_template_columns": null,
      "grid_template_rows": null,
      "height": null,
      "justify_content": null,
      "justify_items": null,
      "left": null,
      "margin": null,
      "max_height": null,
      "max_width": null,
      "min_height": null,
      "min_width": null,
      "object_fit": null,
      "object_position": null,
      "order": null,
      "overflow": null,
      "overflow_x": null,
      "overflow_y": null,
      "padding": null,
      "right": null,
      "top": null,
      "visibility": null,
      "width": null
     }
    },
    "4945bcafd1104f1c8970e4d5763139c3": {
     "model_module": "@jupyter-widgets/base",
     "model_module_version": "1.2.0",
     "model_name": "LayoutModel",
     "state": {
      "_model_module": "@jupyter-widgets/base",
      "_model_module_version": "1.2.0",
      "_model_name": "LayoutModel",
      "_view_count": null,
      "_view_module": "@jupyter-widgets/base",
      "_view_module_version": "1.2.0",
      "_view_name": "LayoutView",
      "align_content": null,
      "align_items": null,
      "align_self": null,
      "border": null,
      "bottom": null,
      "display": null,
      "flex": null,
      "flex_flow": null,
      "grid_area": null,
      "grid_auto_columns": null,
      "grid_auto_flow": null,
      "grid_auto_rows": null,
      "grid_column": null,
      "grid_gap": null,
      "grid_row": null,
      "grid_template_areas": null,
      "grid_template_columns": null,
      "grid_template_rows": null,
      "height": null,
      "justify_content": null,
      "justify_items": null,
      "left": null,
      "margin": null,
      "max_height": null,
      "max_width": null,
      "min_height": null,
      "min_width": null,
      "object_fit": null,
      "object_position": null,
      "order": null,
      "overflow": null,
      "overflow_x": null,
      "overflow_y": null,
      "padding": null,
      "right": null,
      "top": null,
      "visibility": null,
      "width": null
     }
    },
    "5a9eca51c8304a8190a82cf5cd242fdf": {
     "model_module": "@jupyter-widgets/controls",
     "model_module_version": "1.5.0",
     "model_name": "DescriptionStyleModel",
     "state": {
      "_model_module": "@jupyter-widgets/controls",
      "_model_module_version": "1.5.0",
      "_model_name": "DescriptionStyleModel",
      "_view_count": null,
      "_view_module": "@jupyter-widgets/base",
      "_view_module_version": "1.2.0",
      "_view_name": "StyleView",
      "description_width": ""
     }
    },
    "5e2e9d8de321453497a489dab2d71d1f": {
     "model_module": "@jupyter-widgets/controls",
     "model_module_version": "1.5.0",
     "model_name": "HBoxModel",
     "state": {
      "_dom_classes": [],
      "_model_module": "@jupyter-widgets/controls",
      "_model_module_version": "1.5.0",
      "_model_name": "HBoxModel",
      "_view_count": null,
      "_view_module": "@jupyter-widgets/controls",
      "_view_module_version": "1.5.0",
      "_view_name": "HBoxView",
      "box_style": "",
      "children": [
       "IPY_MODEL_e972673c829d4b94a301fe4a10814dfd",
       "IPY_MODEL_0bed3f6b9ca64bf3808cc9dbf1ff3303",
       "IPY_MODEL_c71513f5495047f0922e61d555f8e2e7"
      ],
      "layout": "IPY_MODEL_dbc2cd47ffe247ce8a9937a3984d7774"
     }
    },
    "61eca5fe142c4a01b25817d8ff15a9fa": {
     "model_module": "@jupyter-widgets/controls",
     "model_module_version": "1.5.0",
     "model_name": "ProgressStyleModel",
     "state": {
      "_model_module": "@jupyter-widgets/controls",
      "_model_module_version": "1.5.0",
      "_model_name": "ProgressStyleModel",
      "_view_count": null,
      "_view_module": "@jupyter-widgets/base",
      "_view_module_version": "1.2.0",
      "_view_name": "StyleView",
      "bar_color": null,
      "description_width": ""
     }
    },
    "67263ffbee654f3fa21e24c650019e86": {
     "model_module": "@jupyter-widgets/controls",
     "model_module_version": "1.5.0",
     "model_name": "HBoxModel",
     "state": {
      "_dom_classes": [],
      "_model_module": "@jupyter-widgets/controls",
      "_model_module_version": "1.5.0",
      "_model_name": "HBoxModel",
      "_view_count": null,
      "_view_module": "@jupyter-widgets/controls",
      "_view_module_version": "1.5.0",
      "_view_name": "HBoxView",
      "box_style": "",
      "children": [
       "IPY_MODEL_7ba635aa3ed6424e8a4bf89bc606ba03",
       "IPY_MODEL_0e3f59d07fc04b97a8574616107c3a33",
       "IPY_MODEL_a76664abdc9f49579f84865b478b339a"
      ],
      "layout": "IPY_MODEL_73d25a36d4414ec6ba9327c407dcb526"
     }
    },
    "73d25a36d4414ec6ba9327c407dcb526": {
     "model_module": "@jupyter-widgets/base",
     "model_module_version": "1.2.0",
     "model_name": "LayoutModel",
     "state": {
      "_model_module": "@jupyter-widgets/base",
      "_model_module_version": "1.2.0",
      "_model_name": "LayoutModel",
      "_view_count": null,
      "_view_module": "@jupyter-widgets/base",
      "_view_module_version": "1.2.0",
      "_view_name": "LayoutView",
      "align_content": null,
      "align_items": null,
      "align_self": null,
      "border": null,
      "bottom": null,
      "display": null,
      "flex": null,
      "flex_flow": null,
      "grid_area": null,
      "grid_auto_columns": null,
      "grid_auto_flow": null,
      "grid_auto_rows": null,
      "grid_column": null,
      "grid_gap": null,
      "grid_row": null,
      "grid_template_areas": null,
      "grid_template_columns": null,
      "grid_template_rows": null,
      "height": null,
      "justify_content": null,
      "justify_items": null,
      "left": null,
      "margin": null,
      "max_height": null,
      "max_width": null,
      "min_height": null,
      "min_width": null,
      "object_fit": null,
      "object_position": null,
      "order": null,
      "overflow": null,
      "overflow_x": null,
      "overflow_y": null,
      "padding": null,
      "right": null,
      "top": null,
      "visibility": null,
      "width": null
     }
    },
    "7ba635aa3ed6424e8a4bf89bc606ba03": {
     "model_module": "@jupyter-widgets/controls",
     "model_module_version": "1.5.0",
     "model_name": "HTMLModel",
     "state": {
      "_dom_classes": [],
      "_model_module": "@jupyter-widgets/controls",
      "_model_module_version": "1.5.0",
      "_model_name": "HTMLModel",
      "_view_count": null,
      "_view_module": "@jupyter-widgets/controls",
      "_view_module_version": "1.5.0",
      "_view_name": "HTMLView",
      "description": "",
      "description_tooltip": null,
      "layout": "IPY_MODEL_a1a0245463e140a6baca3920e06ac07c",
      "placeholder": "​",
      "style": "IPY_MODEL_2562829ba0504c2fb6bb5d5f61423f10",
      "value": "Downloading pytorch_model.bin: 100%"
     }
    },
    "8027c4075fc449378c07748b692e5e4c": {
     "model_module": "@jupyter-widgets/controls",
     "model_module_version": "1.5.0",
     "model_name": "ProgressStyleModel",
     "state": {
      "_model_module": "@jupyter-widgets/controls",
      "_model_module_version": "1.5.0",
      "_model_name": "ProgressStyleModel",
      "_view_count": null,
      "_view_module": "@jupyter-widgets/base",
      "_view_module_version": "1.2.0",
      "_view_name": "StyleView",
      "bar_color": null,
      "description_width": ""
     }
    },
    "91fa91b118cf40fa8ad70cdcc91f0144": {
     "model_module": "@jupyter-widgets/controls",
     "model_module_version": "1.5.0",
     "model_name": "DescriptionStyleModel",
     "state": {
      "_model_module": "@jupyter-widgets/controls",
      "_model_module_version": "1.5.0",
      "_model_name": "DescriptionStyleModel",
      "_view_count": null,
      "_view_module": "@jupyter-widgets/base",
      "_view_module_version": "1.2.0",
      "_view_name": "StyleView",
      "description_width": ""
     }
    },
    "a1a0245463e140a6baca3920e06ac07c": {
     "model_module": "@jupyter-widgets/base",
     "model_module_version": "1.2.0",
     "model_name": "LayoutModel",
     "state": {
      "_model_module": "@jupyter-widgets/base",
      "_model_module_version": "1.2.0",
      "_model_name": "LayoutModel",
      "_view_count": null,
      "_view_module": "@jupyter-widgets/base",
      "_view_module_version": "1.2.0",
      "_view_name": "LayoutView",
      "align_content": null,
      "align_items": null,
      "align_self": null,
      "border": null,
      "bottom": null,
      "display": null,
      "flex": null,
      "flex_flow": null,
      "grid_area": null,
      "grid_auto_columns": null,
      "grid_auto_flow": null,
      "grid_auto_rows": null,
      "grid_column": null,
      "grid_gap": null,
      "grid_row": null,
      "grid_template_areas": null,
      "grid_template_columns": null,
      "grid_template_rows": null,
      "height": null,
      "justify_content": null,
      "justify_items": null,
      "left": null,
      "margin": null,
      "max_height": null,
      "max_width": null,
      "min_height": null,
      "min_width": null,
      "object_fit": null,
      "object_position": null,
      "order": null,
      "overflow": null,
      "overflow_x": null,
      "overflow_y": null,
      "padding": null,
      "right": null,
      "top": null,
      "visibility": null,
      "width": null
     }
    },
    "a76664abdc9f49579f84865b478b339a": {
     "model_module": "@jupyter-widgets/controls",
     "model_module_version": "1.5.0",
     "model_name": "HTMLModel",
     "state": {
      "_dom_classes": [],
      "_model_module": "@jupyter-widgets/controls",
      "_model_module_version": "1.5.0",
      "_model_name": "HTMLModel",
      "_view_count": null,
      "_view_module": "@jupyter-widgets/controls",
      "_view_module_version": "1.5.0",
      "_view_name": "HTMLView",
      "description": "",
      "description_tooltip": null,
      "layout": "IPY_MODEL_cec32562c215454bbf2716a8ad46f672",
      "placeholder": "​",
      "style": "IPY_MODEL_91fa91b118cf40fa8ad70cdcc91f0144",
      "value": " 436M/436M [00:02&lt;00:00, 246MB/s]"
     }
    },
    "c71513f5495047f0922e61d555f8e2e7": {
     "model_module": "@jupyter-widgets/controls",
     "model_module_version": "1.5.0",
     "model_name": "HTMLModel",
     "state": {
      "_dom_classes": [],
      "_model_module": "@jupyter-widgets/controls",
      "_model_module_version": "1.5.0",
      "_model_name": "HTMLModel",
      "_view_count": null,
      "_view_module": "@jupyter-widgets/controls",
      "_view_module_version": "1.5.0",
      "_view_name": "HTMLView",
      "description": "",
      "description_tooltip": null,
      "layout": "IPY_MODEL_e9420818837a42d686460403fd4c3da3",
      "placeholder": "​",
      "style": "IPY_MODEL_c924676546854de7b4e78e088db93f28",
      "value": " 385/385 [00:00&lt;00:00, 9.22kB/s]"
     }
    },
    "c924676546854de7b4e78e088db93f28": {
     "model_module": "@jupyter-widgets/controls",
     "model_module_version": "1.5.0",
     "model_name": "DescriptionStyleModel",
     "state": {
      "_model_module": "@jupyter-widgets/controls",
      "_model_module_version": "1.5.0",
      "_model_name": "DescriptionStyleModel",
      "_view_count": null,
      "_view_module": "@jupyter-widgets/base",
      "_view_module_version": "1.2.0",
      "_view_name": "StyleView",
      "description_width": ""
     }
    },
    "cec32562c215454bbf2716a8ad46f672": {
     "model_module": "@jupyter-widgets/base",
     "model_module_version": "1.2.0",
     "model_name": "LayoutModel",
     "state": {
      "_model_module": "@jupyter-widgets/base",
      "_model_module_version": "1.2.0",
      "_model_name": "LayoutModel",
      "_view_count": null,
      "_view_module": "@jupyter-widgets/base",
      "_view_module_version": "1.2.0",
      "_view_name": "LayoutView",
      "align_content": null,
      "align_items": null,
      "align_self": null,
      "border": null,
      "bottom": null,
      "display": null,
      "flex": null,
      "flex_flow": null,
      "grid_area": null,
      "grid_auto_columns": null,
      "grid_auto_flow": null,
      "grid_auto_rows": null,
      "grid_column": null,
      "grid_gap": null,
      "grid_row": null,
      "grid_template_areas": null,
      "grid_template_columns": null,
      "grid_template_rows": null,
      "height": null,
      "justify_content": null,
      "justify_items": null,
      "left": null,
      "margin": null,
      "max_height": null,
      "max_width": null,
      "min_height": null,
      "min_width": null,
      "object_fit": null,
      "object_position": null,
      "order": null,
      "overflow": null,
      "overflow_x": null,
      "overflow_y": null,
      "padding": null,
      "right": null,
      "top": null,
      "visibility": null,
      "width": null
     }
    },
    "dbc2cd47ffe247ce8a9937a3984d7774": {
     "model_module": "@jupyter-widgets/base",
     "model_module_version": "1.2.0",
     "model_name": "LayoutModel",
     "state": {
      "_model_module": "@jupyter-widgets/base",
      "_model_module_version": "1.2.0",
      "_model_name": "LayoutModel",
      "_view_count": null,
      "_view_module": "@jupyter-widgets/base",
      "_view_module_version": "1.2.0",
      "_view_name": "LayoutView",
      "align_content": null,
      "align_items": null,
      "align_self": null,
      "border": null,
      "bottom": null,
      "display": null,
      "flex": null,
      "flex_flow": null,
      "grid_area": null,
      "grid_auto_columns": null,
      "grid_auto_flow": null,
      "grid_auto_rows": null,
      "grid_column": null,
      "grid_gap": null,
      "grid_row": null,
      "grid_template_areas": null,
      "grid_template_columns": null,
      "grid_template_rows": null,
      "height": null,
      "justify_content": null,
      "justify_items": null,
      "left": null,
      "margin": null,
      "max_height": null,
      "max_width": null,
      "min_height": null,
      "min_width": null,
      "object_fit": null,
      "object_position": null,
      "order": null,
      "overflow": null,
      "overflow_x": null,
      "overflow_y": null,
      "padding": null,
      "right": null,
      "top": null,
      "visibility": null,
      "width": null
     }
    },
    "e9420818837a42d686460403fd4c3da3": {
     "model_module": "@jupyter-widgets/base",
     "model_module_version": "1.2.0",
     "model_name": "LayoutModel",
     "state": {
      "_model_module": "@jupyter-widgets/base",
      "_model_module_version": "1.2.0",
      "_model_name": "LayoutModel",
      "_view_count": null,
      "_view_module": "@jupyter-widgets/base",
      "_view_module_version": "1.2.0",
      "_view_name": "LayoutView",
      "align_content": null,
      "align_items": null,
      "align_self": null,
      "border": null,
      "bottom": null,
      "display": null,
      "flex": null,
      "flex_flow": null,
      "grid_area": null,
      "grid_auto_columns": null,
      "grid_auto_flow": null,
      "grid_auto_rows": null,
      "grid_column": null,
      "grid_gap": null,
      "grid_row": null,
      "grid_template_areas": null,
      "grid_template_columns": null,
      "grid_template_rows": null,
      "height": null,
      "justify_content": null,
      "justify_items": null,
      "left": null,
      "margin": null,
      "max_height": null,
      "max_width": null,
      "min_height": null,
      "min_width": null,
      "object_fit": null,
      "object_position": null,
      "order": null,
      "overflow": null,
      "overflow_x": null,
      "overflow_y": null,
      "padding": null,
      "right": null,
      "top": null,
      "visibility": null,
      "width": null
     }
    },
    "e972673c829d4b94a301fe4a10814dfd": {
     "model_module": "@jupyter-widgets/controls",
     "model_module_version": "1.5.0",
     "model_name": "HTMLModel",
     "state": {
      "_dom_classes": [],
      "_model_module": "@jupyter-widgets/controls",
      "_model_module_version": "1.5.0",
      "_model_name": "HTMLModel",
      "_view_count": null,
      "_view_module": "@jupyter-widgets/controls",
      "_view_module_version": "1.5.0",
      "_view_name": "HTMLView",
      "description": "",
      "description_tooltip": null,
      "layout": "IPY_MODEL_151e7357410641e3a788156c458300e8",
      "placeholder": "​",
      "style": "IPY_MODEL_5a9eca51c8304a8190a82cf5cd242fdf",
      "value": "Downloading (…)lve/main/config.json: 100%"
     }
    }
   }
  }
 },
 "nbformat": 4,
 "nbformat_minor": 1
}
