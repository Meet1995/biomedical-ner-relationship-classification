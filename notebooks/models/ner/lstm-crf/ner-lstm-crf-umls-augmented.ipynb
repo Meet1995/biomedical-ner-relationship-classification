{
 "cells": [
  {
   "attachments": {},
   "cell_type": "markdown",
   "metadata": {},
   "source": [
    "### Install & Import Packages"
   ]
  },
  {
   "cell_type": "code",
   "execution_count": 2,
   "metadata": {
    "executionInfo": {
     "elapsed": 65602,
     "status": "ok",
     "timestamp": 1681859305829,
     "user": {
      "displayName": "Tarun Raheja",
      "userId": "06230709340765194815"
     },
     "user_tz": 240
    },
    "id": "RHaKJyT29SBx"
   },
   "outputs": [],
   "source": [
    "%%capture\n",
    "!pip install \"flair\" -q"
   ]
  },
  {
   "cell_type": "code",
   "execution_count": 3,
   "metadata": {
    "colab": {
     "base_uri": "https://localhost:8080/",
     "height": 35
    },
    "executionInfo": {
     "elapsed": 10476,
     "status": "ok",
     "timestamp": 1681859316299,
     "user": {
      "displayName": "Tarun Raheja",
      "userId": "06230709340765194815"
     },
     "user_tz": 240
    },
    "id": "H7k5xilpsMSh",
    "outputId": "80f87ce9-8e2b-4ec0-8dc1-830add77113b"
   },
   "outputs": [
    {
     "data": {
      "application/vnd.google.colaboratory.intrinsic+json": {
       "type": "string"
      },
      "text/plain": [
       "'0.12.2'"
      ]
     },
     "execution_count": 3,
     "metadata": {},
     "output_type": "execute_result"
    }
   ],
   "source": [
    "from google.colab import drive\n",
    "drive.mount('/content/drive')\n",
    "import flair\n",
    "from flair.data import Sentence\n",
    "from flair.datasets import ColumnCorpus\n",
    "from flair.embeddings import (\n",
    "    WordEmbeddings, FlairEmbeddings, StackedEmbeddings\n",
    ")\n",
    "from flair.models import SequenceTagger\n",
    "from flair.trainers import ModelTrainer\n",
    "flair.__version__"
   ]
  },
  {
   "attachments": {},
   "cell_type": "markdown",
   "metadata": {},
   "source": [
    "### Import Data"
   ]
  },
  {
   "cell_type": "code",
   "execution_count": 4,
   "metadata": {
    "executionInfo": {
     "elapsed": 15,
     "status": "ok",
     "timestamp": 1681859316299,
     "user": {
      "displayName": "Tarun Raheja",
      "userId": "06230709340765194815"
     },
     "user_tz": 240
    },
    "id": "qBDCigAEcMgZ"
   },
   "outputs": [],
   "source": [
    "DATA_PATH = \"/content/drive/Shareddrives/CIS522-Project/data\"\n",
    "MODEL_PATH = \"/content/drive/Shareddrives/CIS522-Project/models\""
   ]
  },
  {
   "cell_type": "code",
   "execution_count": 5,
   "metadata": {
    "colab": {
     "base_uri": "https://localhost:8080/"
    },
    "executionInfo": {
     "elapsed": 26408,
     "status": "ok",
     "timestamp": 1681859342694,
     "user": {
      "displayName": "Tarun Raheja",
      "userId": "06230709340765194815"
     },
     "user_tz": 240
    },
    "id": "jIoOPYo7g41X",
    "outputId": "b81121f9-57f0-4a4a-9376-d4e12ef602da"
   },
   "outputs": [
    {
     "name": "stdout",
     "output_type": "stream",
     "text": [
      "2023-04-18 23:08:35,034 Reading data from /content/drive/Shareddrives/CIS522-Project/data\n",
      "2023-04-18 23:08:35,039 Train: /content/drive/Shareddrives/CIS522-Project/data/flair_ner_train_augmented.txt\n",
      "2023-04-18 23:08:35,043 Dev: None\n",
      "2023-04-18 23:08:35,047 Test: /content/drive/Shareddrives/CIS522-Project/data/flair_ner_test.txt\n",
      "2023-04-18 23:09:01,917 Computing label dictionary. Progress:\n"
     ]
    },
    {
     "name": "stderr",
     "output_type": "stream",
     "text": [
      "2776it [00:00, 34206.42it/s]"
     ]
    },
    {
     "name": "stdout",
     "output_type": "stream",
     "text": [
      "2023-04-18 23:09:02,047 Dictionary created for label 'ner' with 9 values: Drug (seen 5601 times), ADE (seen 4545 times), Reason (seen 1268 times), Strength (seen 953 times), Route (seen 809 times), Frequency (seen 709 times), Form (seen 607 times), Dosage (seen 584 times), Duration (seen 123 times)\n",
      "['Drug', 'ADE', 'Reason', 'Strength', 'Route', 'Frequency', 'Form', 'Dosage', 'Duration']\n"
     ]
    },
    {
     "name": "stderr",
     "output_type": "stream",
     "text": [
      "\n"
     ]
    }
   ],
   "source": [
    "# Import data into flair using ColumnCorpus\n",
    "corpus = ColumnCorpus(DATA_PATH, {0: \"text\", 1: \"ner\"}, train_file=\"flair_ner_train_augmented.txt\", test_file=\"flair_ner_test.txt\")\n",
    "# Needed for model initialization\n",
    "tag_dictionary = corpus.make_label_dictionary(label_type=\"ner\", add_unk=False)\n",
    "print(tag_dictionary.get_items())"
   ]
  },
  {
   "attachments": {},
   "cell_type": "markdown",
   "metadata": {},
   "source": [
    "### Initialize Weight Dictionary\n",
    "This is the weight dictionary used by the loss function. The weight for a given entity is set to the ratio between the frequency of the most represented entity and the frequency of the given entity."
   ]
  },
  {
   "cell_type": "code",
   "execution_count": null,
   "metadata": {
    "colab": {
     "base_uri": "https://localhost:8080/"
    },
    "executionInfo": {
     "elapsed": 204,
     "status": "ok",
     "timestamp": 1681585221086,
     "user": {
      "displayName": "Rohan Saraogi",
      "userId": "04662930886212306714"
     },
     "user_tz": 240
    },
    "id": "IZ7XuoknuqjW",
    "outputId": "5497b00e-4a98-4988-9852-d55cf7f8d886"
   },
   "outputs": [],
   "source": [
    "weight_dict = {\n",
    "    'Drug': 5601/5601,\n",
    "    'Strength': 5601/953,\n",
    "    'Form': 5601/607,\n",
    "    'Frequency': 5601/709,\n",
    "    'Route': 5601/809,\n",
    "    'Dosage': 5601/584,\n",
    "    'Reason': 5601/1268,\n",
    "    'Duration': 5601/123,\n",
    "    'ADE': 5601/4545\n",
    "}"
   ]
  },
  {
   "attachments": {},
   "cell_type": "markdown",
   "metadata": {},
   "source": [
    "### Load Model"
   ]
  },
  {
   "cell_type": "code",
   "execution_count": null,
   "metadata": {
    "colab": {
     "base_uri": "https://localhost:8080/"
    },
    "executionInfo": {
     "elapsed": 27090,
     "status": "ok",
     "timestamp": 1681585248173,
     "user": {
      "displayName": "Rohan Saraogi",
      "userId": "04662930886212306714"
     },
     "user_tz": 240
    },
    "id": "TQOawXo4kZif",
    "outputId": "caf50577-014b-4142-a803-d47436b71fff"
   },
   "outputs": [
    {
     "name": "stdout",
     "output_type": "stream",
     "text": [
      "2023-04-15 19:00:47,079 SequenceTagger predicts: Dictionary with 39 tags: O, S-Drug, B-Drug, E-Drug, I-Drug, S-Strength, B-Strength, E-Strength, I-Strength, S-Form, B-Form, E-Form, I-Form, S-Frequency, B-Frequency, E-Frequency, I-Frequency, S-Route, B-Route, E-Route, I-Route, S-Dosage, B-Dosage, E-Dosage, I-Dosage, S-Reason, B-Reason, E-Reason, I-Reason, S-Duration, B-Duration, E-Duration, I-Duration, S-ADE, B-ADE, E-ADE, I-ADE, <START>, <STOP>\n"
     ]
    }
   ],
   "source": [
    "tagger = SequenceTagger.load(f\"{MODEL_PATH}/taggers/lstm-crf/final-model.pt\")\n",
    "tagger.weight_dict = weight_dict"
   ]
  },
  {
   "attachments": {},
   "cell_type": "markdown",
   "metadata": {},
   "source": [
    "### Fine-Tune Model"
   ]
  },
  {
   "cell_type": "code",
   "execution_count": null,
   "metadata": {
    "colab": {
     "base_uri": "https://localhost:8080/"
    },
    "executionInfo": {
     "elapsed": 35849,
     "status": "ok",
     "timestamp": 1681587289900,
     "user": {
      "displayName": "Rohan Saraogi",
      "userId": "04662930886212306714"
     },
     "user_tz": 240
    },
    "id": "cKEo7wqaNbZd",
    "outputId": "2faa249f-a7fb-4a1c-d900-221024d76bbc"
   },
   "outputs": [],
   "source": [
    "# Initialize trainer\n",
    "trainer = ModelTrainer(tagger, corpus)\n",
    "\n",
    "# Train on corpus\n",
    "trainer.train(\n",
    "    base_path=f\"{MODEL_PATH}/taggers/lstm-crf-augmented\",\n",
    "    train_with_dev=False,\n",
    "    max_epochs=20,\n",
    "    patience=2,\n",
    "    learning_rate=0.1,\n",
    "    mini_batch_size=64,\n",
    "    embeddings_storage_mode='none'\n",
    ")"
   ]
  },
  {
   "attachments": {},
   "cell_type": "markdown",
   "metadata": {},
   "source": [
    "### Evalulate Model"
   ]
  },
  {
   "cell_type": "code",
   "execution_count": 6,
   "metadata": {
    "colab": {
     "base_uri": "https://localhost:8080/"
    },
    "executionInfo": {
     "elapsed": 359004,
     "status": "ok",
     "timestamp": 1681859701674,
     "user": {
      "displayName": "Tarun Raheja",
      "userId": "06230709340765194815"
     },
     "user_tz": 240
    },
    "id": "4yyqzPqHlLeh",
    "outputId": "acda83d0-088b-46f4-8fbe-fc212238c8a7"
   },
   "outputs": [
    {
     "name": "stdout",
     "output_type": "stream",
     "text": [
      "2023-04-18 23:09:34,137 SequenceTagger predicts: Dictionary with 39 tags: O, S-Drug, B-Drug, E-Drug, I-Drug, S-Strength, B-Strength, E-Strength, I-Strength, S-Form, B-Form, E-Form, I-Form, S-Frequency, B-Frequency, E-Frequency, I-Frequency, S-Route, B-Route, E-Route, I-Route, S-Dosage, B-Dosage, E-Dosage, I-Dosage, S-Reason, B-Reason, E-Reason, I-Reason, S-Duration, B-Duration, E-Duration, I-Duration, S-ADE, B-ADE, E-ADE, I-ADE, <START>, <STOP>\n"
     ]
    },
    {
     "name": "stderr",
     "output_type": "stream",
     "text": [
      "100%|██████████| 397/397 [05:23<00:00,  1.23it/s]\n"
     ]
    },
    {
     "name": "stdout",
     "output_type": "stream",
     "text": [
      "2023-04-18 23:14:58,866 Evaluating as a multi-label problem: False\n",
      "\n",
      "Results:\n",
      "- F-score (micro) 0.9026\n",
      "- F-score (macro) 0.8208\n",
      "- Accuracy 0.8303\n",
      "\n",
      "By class:\n",
      "              precision    recall  f1-score   support\n",
      "\n",
      "        Drug     0.8785    0.9489    0.9124     61167\n",
      "    Strength     0.9333    0.9606    0.9468     42957\n",
      "        Form     0.9123    0.9108    0.9116     41417\n",
      "   Frequency     0.8539    0.8562    0.8551     36495\n",
      "       Route     0.9592    0.9429    0.9510     30583\n",
      "      Dosage     0.9084    0.9172    0.9128     23506\n",
      "      Reason     0.8111    0.7028    0.7531      9533\n",
      "         ADE     0.2376    0.6474    0.3476      1299\n",
      "    Duration     0.8208    0.7740    0.7967      1982\n",
      "\n",
      "   micro avg     0.8907    0.9149    0.9026    248939\n",
      "   macro avg     0.8128    0.8512    0.8208    248939\n",
      "weighted avg     0.8963    0.9149    0.9046    248939\n",
      "\n"
     ]
    }
   ],
   "source": [
    "tagger = SequenceTagger.load(f\"{MODEL_PATH}/taggers/lstm-crf-augmented/final-model.pt\")\n",
    "result = tagger.evaluate(corpus.test, gold_label_type='ner', mini_batch_size=64)\n",
    "print(result.detailed_results)"
   ]
  },
  {
   "cell_type": "code",
   "execution_count": null,
   "metadata": {
    "colab": {
     "base_uri": "https://localhost:8080/"
    },
    "executionInfo": {
     "elapsed": 327,
     "status": "ok",
     "timestamp": 1681002852896,
     "user": {
      "displayName": "Meet Gandhi",
      "userId": "05850661023473202418"
     },
     "user_tz": 240
    },
    "id": "gAdjLrSRN-N1",
    "outputId": "e6264d64-cba5-46c9-b7a3-eedb86c03f4c"
   },
   "outputs": [
    {
     "name": "stdout",
     "output_type": "stream",
     "text": [
      "Sentence[15]: \"Patients on 40 mg of Topelfate and Topoxy twice a day generally suffer from headache\" → [\"40\"/B-Strength, \"mg\"/E-Strength, \"Topelfate\"/S-Drug, \"Topoxy\"/S-Drug, \"twice\"/B-Frequency, \"a\"/I-Frequency, \"day\"/E-Frequency, \"headache\"/S-ADE]\n",
      "Sentence[15]: \"Patients on 40 mg of Topelfate and Topoxy twice a day generally suffer from headache\" → [\"40 mg\"/Strength, \"Topelfate\"/Drug, \"Topoxy\"/Drug, \"twice a day\"/Frequency, \"headache\"/ADE]\n"
     ]
    }
   ],
   "source": [
    "# Create example sentence\n",
    "sentence = Sentence(\"Patients on 40 mg of Topelfate and Topoxy twice a day generally suffer from headache\")\n",
    "\n",
    "# Token level predictions\n",
    "tagger.predict(sentence, force_token_predictions=True)\n",
    "print(sentence.to_tagged_string())\n",
    "\n",
    "# Predict tags and print\n",
    "tagger.predict(sentence)\n",
    "print(sentence.to_tagged_string())"
   ]
  },
  {
   "cell_type": "code",
   "execution_count": null,
   "metadata": {
    "id": "mCBYPLuYk_pN"
   },
   "outputs": [],
   "source": []
  }
 ],
 "metadata": {
  "accelerator": "GPU",
  "colab": {
   "provenance": [
    {
     "file_id": "1qvTrs6iUHtvo2XgQ5P68bsvPClgnBAa6",
     "timestamp": 1680615755634
    }
   ]
  },
  "gpuClass": "standard",
  "kernelspec": {
   "display_name": "Python 3 (ipykernel)",
   "language": "python",
   "name": "python3"
  },
  "language_info": {
   "codemirror_mode": {
    "name": "ipython",
    "version": 3
   },
   "file_extension": ".py",
   "mimetype": "text/x-python",
   "name": "python",
   "nbconvert_exporter": "python",
   "pygments_lexer": "ipython3",
   "version": "3.11.0"
  }
 },
 "nbformat": 4,
 "nbformat_minor": 1
}
