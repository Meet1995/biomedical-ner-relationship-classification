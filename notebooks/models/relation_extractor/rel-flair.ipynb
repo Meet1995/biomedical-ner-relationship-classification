{
  "nbformat": 4,
  "nbformat_minor": 0,
  "metadata": {
    "colab": {
      "provenance": []
    },
    "kernelspec": {
      "name": "python3",
      "display_name": "Python 3"
    },
    "language_info": {
      "name": "python"
    },
    "gpuClass": "standard",
    "accelerator": "GPU"
  },
  "cells": [
    {
      "cell_type": "code",
      "source": [
        "from google.colab import drive\n",
        "drive.mount('/content/drive')"
      ],
      "metadata": {
        "id": "4r5-KYltiNby",
        "colab": {
          "base_uri": "https://localhost:8080/"
        },
        "outputId": "3d9c11d5-555e-4354-b8af-0444b1a8e143"
      },
      "execution_count": null,
      "outputs": [
        {
          "output_type": "stream",
          "name": "stdout",
          "text": [
            "Mounted at /content/drive\n"
          ]
        }
      ]
    },
    {
      "cell_type": "code",
      "source": [
        "%%capture\n",
        "!pip install \"flair\" -q"
      ],
      "metadata": {
        "id": "RHaKJyT29SBx"
      },
      "execution_count": null,
      "outputs": []
    },
    {
      "cell_type": "code",
      "source": [
        "import flair\n",
        "from flair.data import Sentence\n",
        "from flair.datasets import DataLoader\n",
        "from flair.datasets import ColumnCorpus\n",
        "from flair.embeddings import (\n",
        "    WordEmbeddings, FlairEmbeddings, StackedEmbeddings, TransformerWordEmbeddings\n",
        ")\n",
        "from flair.models import RelationExtractor, SequenceTagger\n",
        "from flair.trainers import ModelTrainer\n",
        "flair.__version__"
      ],
      "metadata": {
        "id": "H7k5xilpsMSh",
        "colab": {
          "base_uri": "https://localhost:8080/",
          "height": 35
        },
        "outputId": "7049da39-18d9-4fc6-bb56-c560720bd2ba"
      },
      "execution_count": null,
      "outputs": [
        {
          "output_type": "execute_result",
          "data": {
            "text/plain": [
              "'0.12.2'"
            ],
            "application/vnd.google.colaboratory.intrinsic+json": {
              "type": "string"
            }
          },
          "metadata": {},
          "execution_count": 3
        }
      ]
    },
    {
      "cell_type": "code",
      "source": [
        "DATA_PATH = \"/content/drive/Shareddrives/CIS522-Project/data/\"\n",
        "MODEL_PATH = \"/content/drive/Shareddrives/CIS522-Project/models\""
      ],
      "metadata": {
        "id": "qBDCigAEcMgZ"
      },
      "execution_count": null,
      "outputs": []
    },
    {
      "cell_type": "code",
      "source": [
        "import pandas as pd\n",
        "df = pd.read_parquet(DATA_PATH+'rel_train.parquet')\n",
        "counts_dict = df[\"label\"].value_counts().to_dict()\n",
        "\n",
        "df1 = pd.read_parquet(DATA_PATH+'rel_test.parquet')\n",
        "counts_dict1 = df1[\"label\"].value_counts().to_dict()"
      ],
      "metadata": {
        "id": "E9pGeVzZbRxO"
      },
      "execution_count": null,
      "outputs": []
    },
    {
      "cell_type": "code",
      "source": [
        "train_d = dict(sorted(counts_dict.items()))\n",
        "total = sum(list(train_d.values()))\n",
        "for elem in train_d:\n",
        "  train_d[elem] = train_d[elem]/float(total)\n",
        "train_d"
      ],
      "metadata": {
        "colab": {
          "base_uri": "https://localhost:8080/"
        },
        "id": "qq2pWeWQcQ_D",
        "outputId": "d6a61067-9b03-43e2-8664-8b3c7db5d63d"
      },
      "execution_count": null,
      "outputs": [
        {
          "output_type": "execute_result",
          "data": {
            "text/plain": [
              "{'ADE-Drug': 0.030457271776811755,\n",
              " 'Dosage-Drug': 0.11624387828096627,\n",
              " 'Duration-Drug': 0.017691080173884335,\n",
              " 'Form-Drug': 0.18307379078853245,\n",
              " 'Frequency-Drug': 0.17360920046222417,\n",
              " 'Reason-Drug': 0.1421614483024267,\n",
              " 'Route-Drug': 0.15236889891597424,\n",
              " 'Strength-Drug': 0.1843944312991801}"
            ]
          },
          "metadata": {},
          "execution_count": 17
        }
      ]
    },
    {
      "cell_type": "code",
      "source": [
        "test_d = dict(sorted(counts_dict1.items()))\n",
        "total = sum(list(test_d.values()))\n",
        "for elem in test_d:\n",
        "  test_d[elem] = test_d[elem]/float(total)\n",
        "test_d"
      ],
      "metadata": {
        "colab": {
          "base_uri": "https://localhost:8080/"
        },
        "id": "QVsg69TscSwo",
        "outputId": "f68341ea-e5f7-4b62-ff0b-b9872aebd866"
      },
      "execution_count": null,
      "outputs": [
        {
          "output_type": "execute_result",
          "data": {
            "text/plain": [
              "{'ADE-Drug': 0.031242008353934023,\n",
              " 'Dosage-Drug': 0.11486659278833859,\n",
              " 'Duration-Drug': 0.018157019861904357,\n",
              " 'Form-Drug': 0.1864291194271588,\n",
              " 'Frequency-Drug': 0.17193760122751683,\n",
              " 'Reason-Drug': 0.14534140311993862,\n",
              " 'Route-Drug': 0.1511380103997954,\n",
              " 'Strength-Drug': 0.18088824482141336}"
            ]
          },
          "metadata": {},
          "execution_count": 18
        }
      ]
    },
    {
      "cell_type": "code",
      "source": [
        "corpus = ColumnCorpus(\n",
        "    DATA_PATH, {1: 'text', 2: 'ner'},\n",
        "    train_file='flair_rel_train.txt', test_file='flair_rel_test.txt',\n",
        "    comment_symbol=\"# \"\n",
        ")"
      ],
      "metadata": {
        "colab": {
          "base_uri": "https://localhost:8080/"
        },
        "id": "Z4Rv3ultxd2b",
        "outputId": "3e7f1d82-2916-4680-9ec0-8916a92769b5"
      },
      "execution_count": null,
      "outputs": [
        {
          "output_type": "stream",
          "name": "stdout",
          "text": [
            "2023-04-12 13:52:21,417 Reading data from /content/drive/Shareddrives/CIS522-Project/data\n",
            "2023-04-12 13:52:21,429 Train: /content/drive/Shareddrives/CIS522-Project/data/flair_rel_train.txt\n",
            "2023-04-12 13:52:21,433 Dev: None\n",
            "2023-04-12 13:52:21,436 Test: /content/drive/Shareddrives/CIS522-Project/data/flair_rel_test.txt\n"
          ]
        }
      ]
    },
    {
      "cell_type": "code",
      "source": [
        "corpus.train[0]"
      ],
      "metadata": {
        "colab": {
          "base_uri": "https://localhost:8080/"
        },
        "id": "RFU80TGsdmNk",
        "outputId": "deb02683-63cd-475e-9cc7-d210beeff15b"
      },
      "execution_count": null,
      "outputs": [
        {
          "output_type": "execute_result",
          "data": {
            "text/plain": [
              "Sentence[29]: \"He also may have recurrent seizures which should be treated with ativan IV or IM and do not neccessarily indicate patient needs to return to hospital unless they continue\" → [\"recurrent seizures\"/Reason, \"recurrent seizures -> ativan\"/Reason-Drug, \"ativan\"/Drug, \"IV\"/Route, \"IM\"/Route]"
            ]
          },
          "metadata": {},
          "execution_count": 6
        }
      ]
    },
    {
      "cell_type": "code",
      "source": [
        "corpus.test[0]"
      ],
      "metadata": {
        "colab": {
          "base_uri": "https://localhost:8080/"
        },
        "id": "ty5MnsMGdzdE",
        "outputId": "14d787f5-71c2-46ff-fa41-6efd47ddc418"
      },
      "execution_count": null,
      "outputs": [
        {
          "output_type": "execute_result",
          "data": {
            "text/plain": [
              "Sentence[14]: \"MEDICATIONS : Lipitor , Tylenol with Codeine , Dilantin , previously on Decadron q.i.d\" → [\"Lipitor\"/Drug, \"Tylenol with Codeine\"/Drug, \"Dilantin\"/Drug, \"Decadron\"/Drug, \"q.i.d -> Decadron\"/Frequency-Drug, \"q.i.d\"/Frequency]"
            ]
          },
          "metadata": {},
          "execution_count": 7
        }
      ]
    },
    {
      "cell_type": "code",
      "source": [
        "label_dictionary = corpus.make_label_dictionary(label_type=\"relation\", add_unk=False)\n",
        "label_dictionary.add_item('O') # important to capture invalid relations\n",
        "print(label_dictionary.get_items())"
      ],
      "metadata": {
        "id": "bX6u5WSxf3rR",
        "colab": {
          "base_uri": "https://localhost:8080/"
        },
        "outputId": "7c95810a-95db-40e8-b6f9-f5b5198d1ac2"
      },
      "execution_count": null,
      "outputs": [
        {
          "output_type": "stream",
          "name": "stdout",
          "text": [
            "2023-04-10 06:59:02,099 Computing label dictionary. Progress:\n"
          ]
        },
        {
          "output_type": "stream",
          "name": "stderr",
          "text": [
            "32711it [00:00, 43156.08it/s]"
          ]
        },
        {
          "output_type": "stream",
          "name": "stdout",
          "text": [
            "2023-04-10 06:59:02,899 Dictionary created for label 'relation' with 8 values: Strength-Drug (seen 6063 times), Form-Drug (seen 5968 times), Frequency-Drug (seen 5691 times), Route-Drug (seen 4974 times), Reason-Drug (seen 4642 times), Dosage-Drug (seen 3785 times), ADE-Drug (seen 1011 times), Duration-Drug (seen 577 times)\n",
            "['Strength-Drug', 'Form-Drug', 'Frequency-Drug', 'Route-Drug', 'Reason-Drug', 'Dosage-Drug', 'ADE-Drug', 'Duration-Drug', 'O']\n"
          ]
        },
        {
          "output_type": "stream",
          "name": "stderr",
          "text": [
            "\n"
          ]
        }
      ]
    },
    {
      "cell_type": "code",
      "source": [
        "weight_dict = {\n",
        "    'Strength-Drug': 6021/6021,\n",
        "    'Form-Drug': 6021/6005,\n",
        "    'Frequency-Drug': 6021/5696,\n",
        "    'Route-Drug': 6021/4934,\n",
        "    'Reason-Drug': 6021/4669,\n",
        "    'Dosage-Drug': 6021/3811,\n",
        "    'ADE-Drug': 6021/996,\n",
        "    'Duration-Drug': 6021/579,\n",
        "}\n",
        "weight_dict"
      ],
      "metadata": {
        "colab": {
          "base_uri": "https://localhost:8080/"
        },
        "id": "IZ7XuoknuqjW",
        "outputId": "20f21323-d4e6-44e9-fa6d-d8f491778d0b"
      },
      "execution_count": null,
      "outputs": [
        {
          "output_type": "execute_result",
          "data": {
            "text/plain": [
              "{'Strength-Drug': 1.0,\n",
              " 'Form-Drug': 1.0026644462947543,\n",
              " 'Frequency-Drug': 1.057057584269663,\n",
              " 'Route-Drug': 1.220308066477503,\n",
              " 'Reason-Drug': 1.2895695009638037,\n",
              " 'Dosage-Drug': 1.5799002886381528,\n",
              " 'ADE-Drug': 6.045180722891566,\n",
              " 'Duration-Drug': 10.398963730569948}"
            ]
          },
          "metadata": {},
          "execution_count": 9
        }
      ]
    },
    {
      "cell_type": "code",
      "source": [
        "# embedding_types = [\n",
        "#     FlairEmbeddings(\"pubmed-forward\", fine_tune=True),\n",
        "#     FlairEmbeddings(\"pubmed-backward\", fine_tune=True),\n",
        "# ]\n",
        "\n",
        "# embeddings = StackedEmbeddings(embeddings=embedding_types)\n",
        "\n",
        "# rel_extractor = RelationExtractor(\n",
        "#     embeddings=embeddings,\n",
        "#     label_type=\"relation\",\n",
        "#     entity_label_type='ner',\n",
        "#     pooling_operation=\"first_last\",\n",
        "#     label_dictionary=label_dictionary,\n",
        "#     loss_weights=weight_dict,\n",
        "#     entity_pair_filters=[\n",
        "#         ('Strength', 'Drug'),\n",
        "#         ('Form', 'Drug'),\n",
        "#         ('Frequency', 'Drug'),\n",
        "#         ('Route', 'Drug'),\n",
        "#         ('Reason', 'Drug'),\n",
        "#         ('Dosage', 'Drug'),\n",
        "#         ('ADE', 'Drug'),\n",
        "#         ('Duration', 'Drug')\n",
        "#     ]\n",
        "# )\n",
        "\n",
        "rel_extractor = RelationExtractor.load(\n",
        "    f\"{MODEL_PATH}/extractors/flair-embedding-rel/best-model.pt\"\n",
        ")"
      ],
      "metadata": {
        "id": "TQOawXo4kZif"
      },
      "execution_count": null,
      "outputs": []
    },
    {
      "cell_type": "code",
      "source": [
        "trainer = ModelTrainer(rel_extractor, corpus)\n",
        "\n",
        "trainer.train(\n",
        "    base_path=f\"{MODEL_PATH}/extractors/flair-embedding-rel\",\n",
        "    train_with_dev=False,\n",
        "    max_epochs=5,\n",
        "    learning_rate=0.1,\n",
        "    mini_batch_size=8,\n",
        "    embeddings_storage_mode='none'\n",
        ")"
      ],
      "metadata": {
        "id": "cKEo7wqaNbZd",
        "colab": {
          "base_uri": "https://localhost:8080/"
        },
        "outputId": "0885fc98-ebc3-4524-bdd0-7c2e82d1ba0f"
      },
      "execution_count": null,
      "outputs": [
        {
          "output_type": "stream",
          "name": "stderr",
          "text": [
            "/usr/local/lib/python3.9/dist-packages/flair/trainers/trainer.py:69: UserWarning: There should be no best model saved at epoch 1 except there is a model from previous trainings in your training folder. All previous best models will be deleted.\n",
            "  warnings.warn(\n"
          ]
        },
        {
          "output_type": "stream",
          "name": "stdout",
          "text": [
            "2023-04-10 06:59:17,776 ----------------------------------------------------------------------------------------------------\n",
            "2023-04-10 06:59:17,820 Model: \"RelationExtractor(\n",
            "  (embeddings): StackedEmbeddings(\n",
            "    (list_embedding_0): FlairEmbeddings(\n",
            "      (lm): LanguageModel(\n",
            "        (drop): Dropout(p=0.1, inplace=False)\n",
            "        (encoder): Embedding(275, 100)\n",
            "        (rnn): LSTM(100, 2048)\n",
            "      )\n",
            "    )\n",
            "    (list_embedding_1): FlairEmbeddings(\n",
            "      (lm): LanguageModel(\n",
            "        (drop): Dropout(p=0.1, inplace=False)\n",
            "        (encoder): Embedding(275, 100)\n",
            "        (rnn): LSTM(100, 2048)\n",
            "      )\n",
            "    )\n",
            "  )\n",
            "  (decoder): Linear(in_features=16384, out_features=9, bias=True)\n",
            "  (dropout): Dropout(p=0.0, inplace=False)\n",
            "  (locked_dropout): LockedDropout(p=0.0)\n",
            "  (word_dropout): WordDropout(p=0.0)\n",
            "  (loss_function): CrossEntropyLoss()\n",
            "  (weights): {'Strength-Drug': 1.0, 'Form-Drug': 1.0026644462947543, 'Frequency-Drug': 1.057057584269663, 'Route-Drug': 1.220308066477503, 'Reason-Drug': 1.2895695009638037, 'Dosage-Drug': 1.5799002886381528, 'ADE-Drug': 6.045180722891566, 'Duration-Drug': 10.398963730569948}\n",
            "  (weight_tensor) tensor([ 1.0000,  1.0027,  1.0571,  1.2203,  1.2896,  1.5799,  6.0452, 10.3990,\n",
            "         1.0000], device='cuda:0')\n",
            ")\"\n",
            "2023-04-10 06:59:17,822 ----------------------------------------------------------------------------------------------------\n",
            "2023-04-10 06:59:17,824 Corpus: \"Corpus: 32711 train + 3635 dev + 23462 test sentences\"\n",
            "2023-04-10 06:59:17,826 ----------------------------------------------------------------------------------------------------\n",
            "2023-04-10 06:59:17,828 Parameters:\n",
            "2023-04-10 06:59:17,831  - learning_rate: \"0.100000\"\n",
            "2023-04-10 06:59:17,833  - mini_batch_size: \"8\"\n",
            "2023-04-10 06:59:17,835  - patience: \"3\"\n",
            "2023-04-10 06:59:17,836  - anneal_factor: \"0.5\"\n",
            "2023-04-10 06:59:17,839  - max_epochs: \"5\"\n",
            "2023-04-10 06:59:17,841  - shuffle: \"True\"\n",
            "2023-04-10 06:59:17,842  - train_with_dev: \"False\"\n",
            "2023-04-10 06:59:17,843  - batch_growth_annealing: \"False\"\n",
            "2023-04-10 06:59:17,845 ----------------------------------------------------------------------------------------------------\n",
            "2023-04-10 06:59:17,847 Model training base path: \"/content/drive/Shareddrives/CIS522-Project/models/extractors/flair-embedding-rel\"\n",
            "2023-04-10 06:59:17,848 ----------------------------------------------------------------------------------------------------\n",
            "2023-04-10 06:59:17,850 Device: cuda:0\n",
            "2023-04-10 06:59:17,852 ----------------------------------------------------------------------------------------------------\n",
            "2023-04-10 06:59:17,856 Embeddings storage mode: none\n",
            "2023-04-10 06:59:17,858 ----------------------------------------------------------------------------------------------------\n",
            "2023-04-10 07:02:52,051 epoch 1 - iter 408/4089 - loss 0.07243431 - time (sec): 214.19 - samples/sec: 374.23 - lr: 0.100000\n",
            "2023-04-10 07:06:13,684 epoch 1 - iter 816/4089 - loss 0.07206186 - time (sec): 415.83 - samples/sec: 367.56 - lr: 0.100000\n",
            "2023-04-10 07:09:45,960 epoch 1 - iter 1224/4089 - loss 0.06837166 - time (sec): 628.10 - samples/sec: 376.94 - lr: 0.100000\n",
            "2023-04-10 07:13:23,367 epoch 1 - iter 1632/4089 - loss 0.07055544 - time (sec): 845.51 - samples/sec: 363.00 - lr: 0.100000\n",
            "2023-04-10 07:17:03,201 epoch 1 - iter 2040/4089 - loss 0.07194340 - time (sec): 1065.34 - samples/sec: 356.85 - lr: 0.100000\n",
            "2023-04-10 07:20:39,124 epoch 1 - iter 2448/4089 - loss 0.06996501 - time (sec): 1281.27 - samples/sec: 359.93 - lr: 0.100000\n",
            "2023-04-10 07:24:08,928 epoch 1 - iter 2856/4089 - loss 0.06958003 - time (sec): 1491.07 - samples/sec: 358.12 - lr: 0.100000\n",
            "2023-04-10 07:27:40,038 epoch 1 - iter 3264/4089 - loss 0.07035367 - time (sec): 1702.18 - samples/sec: 357.35 - lr: 0.100000\n",
            "2023-04-10 07:31:14,539 epoch 1 - iter 3672/4089 - loss 0.06837306 - time (sec): 1916.68 - samples/sec: 365.46 - lr: 0.100000\n",
            "2023-04-10 07:34:48,446 epoch 1 - iter 4080/4089 - loss 0.06791079 - time (sec): 2130.59 - samples/sec: 368.74 - lr: 0.100000\n",
            "2023-04-10 07:34:51,848 ----------------------------------------------------------------------------------------------------\n",
            "2023-04-10 07:34:51,851 EPOCH 1 done: loss 0.0680 - lr 0.100000\n"
          ]
        },
        {
          "output_type": "stream",
          "name": "stderr",
          "text": [
            "100%|██████████| 455/455 [02:04<00:00,  3.66it/s]\n"
          ]
        },
        {
          "output_type": "stream",
          "name": "stdout",
          "text": [
            "2023-04-10 07:36:56,602 Evaluating as a multi-label problem: False\n",
            "2023-04-10 07:36:56,653 DEV : loss 0.04677500203251839 - f1-score (micro avg)  0.7725\n",
            "2023-04-10 07:36:56,759 BAD EPOCHS (no improvement): 0\n",
            "2023-04-10 07:36:56,766 saving best model\n",
            "2023-04-10 07:36:57,240 ----------------------------------------------------------------------------------------------------\n",
            "2023-04-10 07:41:00,290 epoch 2 - iter 408/4089 - loss 0.05602665 - time (sec): 243.04 - samples/sec: 325.82 - lr: 0.100000\n",
            "2023-04-10 07:45:01,491 epoch 2 - iter 816/4089 - loss 0.05558043 - time (sec): 484.25 - samples/sec: 322.36 - lr: 0.100000\n",
            "2023-04-10 07:48:55,792 epoch 2 - iter 1224/4089 - loss 0.05598320 - time (sec): 718.55 - samples/sec: 326.55 - lr: 0.100000\n",
            "2023-04-10 07:53:01,654 epoch 2 - iter 1632/4089 - loss 0.05599502 - time (sec): 964.41 - samples/sec: 324.47 - lr: 0.100000\n",
            "2023-04-10 07:57:00,004 epoch 2 - iter 2040/4089 - loss 0.05654076 - time (sec): 1202.76 - samples/sec: 324.33 - lr: 0.100000\n",
            "2023-04-10 08:01:03,707 epoch 2 - iter 2448/4089 - loss 0.05588521 - time (sec): 1446.46 - samples/sec: 324.54 - lr: 0.100000\n",
            "2023-04-10 08:05:04,065 epoch 2 - iter 2856/4089 - loss 0.05627057 - time (sec): 1686.82 - samples/sec: 324.82 - lr: 0.100000\n",
            "2023-04-10 08:09:13,908 epoch 2 - iter 3264/4089 - loss 0.05606443 - time (sec): 1936.66 - samples/sec: 323.31 - lr: 0.100000\n",
            "2023-04-10 08:13:11,978 epoch 2 - iter 3672/4089 - loss 0.05618775 - time (sec): 2174.73 - samples/sec: 324.03 - lr: 0.100000\n",
            "2023-04-10 08:17:14,464 epoch 2 - iter 4080/4089 - loss 0.05587891 - time (sec): 2417.22 - samples/sec: 324.73 - lr: 0.100000\n",
            "2023-04-10 08:17:20,049 ----------------------------------------------------------------------------------------------------\n",
            "2023-04-10 08:17:20,052 EPOCH 2 done: loss 0.0559 - lr 0.100000\n"
          ]
        },
        {
          "output_type": "stream",
          "name": "stderr",
          "text": [
            "100%|██████████| 455/455 [02:03<00:00,  3.67it/s]"
          ]
        },
        {
          "output_type": "stream",
          "name": "stdout",
          "text": [
            "2023-04-10 08:19:24,024 Evaluating as a multi-label problem: False\n"
          ]
        },
        {
          "output_type": "stream",
          "name": "stderr",
          "text": [
            "\n"
          ]
        },
        {
          "output_type": "stream",
          "name": "stdout",
          "text": [
            "2023-04-10 08:19:24,097 DEV : loss 0.05283693969249725 - f1-score (micro avg)  0.7506\n",
            "2023-04-10 08:19:24,247 BAD EPOCHS (no improvement): 1\n",
            "2023-04-10 08:19:24,256 ----------------------------------------------------------------------------------------------------\n",
            "2023-04-10 08:23:27,432 epoch 3 - iter 408/4089 - loss 0.04955468 - time (sec): 243.17 - samples/sec: 324.34 - lr: 0.100000\n",
            "2023-04-10 08:27:28,616 epoch 3 - iter 816/4089 - loss 0.05101356 - time (sec): 484.36 - samples/sec: 320.45 - lr: 0.100000\n",
            "2023-04-10 08:31:34,290 epoch 3 - iter 1224/4089 - loss 0.05101134 - time (sec): 730.03 - samples/sec: 319.24 - lr: 0.100000\n",
            "2023-04-10 08:35:40,693 epoch 3 - iter 1632/4089 - loss 0.05073283 - time (sec): 976.44 - samples/sec: 319.06 - lr: 0.100000\n",
            "2023-04-10 08:39:41,051 epoch 3 - iter 2040/4089 - loss 0.05053183 - time (sec): 1216.79 - samples/sec: 320.79 - lr: 0.100000\n",
            "2023-04-10 08:43:47,500 epoch 3 - iter 2448/4089 - loss 0.05063105 - time (sec): 1463.24 - samples/sec: 318.57 - lr: 0.100000\n",
            "2023-04-10 08:47:48,244 epoch 3 - iter 2856/4089 - loss 0.05096595 - time (sec): 1703.99 - samples/sec: 319.94 - lr: 0.100000\n",
            "2023-04-10 08:51:54,388 epoch 3 - iter 3264/4089 - loss 0.05059398 - time (sec): 1950.13 - samples/sec: 321.45 - lr: 0.100000\n",
            "2023-04-10 08:55:53,334 epoch 3 - iter 3672/4089 - loss 0.05042821 - time (sec): 2189.08 - samples/sec: 322.53 - lr: 0.100000\n",
            "2023-04-10 08:59:49,082 epoch 3 - iter 4080/4089 - loss 0.05034691 - time (sec): 2424.82 - samples/sec: 323.70 - lr: 0.100000\n",
            "2023-04-10 08:59:54,712 ----------------------------------------------------------------------------------------------------\n",
            "2023-04-10 08:59:54,718 EPOCH 3 done: loss 0.0503 - lr 0.100000\n"
          ]
        },
        {
          "output_type": "stream",
          "name": "stderr",
          "text": [
            "100%|██████████| 455/455 [02:03<00:00,  3.68it/s]"
          ]
        },
        {
          "output_type": "stream",
          "name": "stdout",
          "text": [
            "2023-04-10 09:01:58,551 Evaluating as a multi-label problem: False\n",
            "2023-04-10 09:01:58,592 DEV : loss 0.055398471653461456 - f1-score (micro avg)  0.7647\n"
          ]
        },
        {
          "output_type": "stream",
          "name": "stderr",
          "text": [
            "\n"
          ]
        },
        {
          "output_type": "stream",
          "name": "stdout",
          "text": [
            "2023-04-10 09:01:58,690 BAD EPOCHS (no improvement): 2\n",
            "2023-04-10 09:01:58,704 ----------------------------------------------------------------------------------------------------\n",
            "2023-04-10 09:05:51,901 epoch 4 - iter 408/4089 - loss 0.04410451 - time (sec): 233.20 - samples/sec: 333.09 - lr: 0.100000\n",
            "2023-04-10 09:09:53,077 epoch 4 - iter 816/4089 - loss 0.04462273 - time (sec): 474.37 - samples/sec: 328.49 - lr: 0.100000\n",
            "2023-04-10 09:13:56,548 epoch 4 - iter 1224/4089 - loss 0.04474615 - time (sec): 717.84 - samples/sec: 326.99 - lr: 0.100000\n",
            "2023-04-10 09:17:55,126 epoch 4 - iter 1632/4089 - loss 0.04459590 - time (sec): 956.42 - samples/sec: 328.25 - lr: 0.100000\n",
            "2023-04-10 09:21:54,601 epoch 4 - iter 2040/4089 - loss 0.04453981 - time (sec): 1195.90 - samples/sec: 329.91 - lr: 0.100000\n",
            "2023-04-10 09:26:05,375 epoch 4 - iter 2448/4089 - loss 0.04517755 - time (sec): 1446.67 - samples/sec: 328.59 - lr: 0.100000\n",
            "2023-04-10 09:30:10,133 epoch 4 - iter 2856/4089 - loss 0.04523071 - time (sec): 1691.43 - samples/sec: 327.55 - lr: 0.100000\n",
            "2023-04-10 09:34:10,065 epoch 4 - iter 3264/4089 - loss 0.04549272 - time (sec): 1931.36 - samples/sec: 326.43 - lr: 0.100000\n",
            "2023-04-10 09:38:08,385 epoch 4 - iter 3672/4089 - loss 0.04566636 - time (sec): 2169.68 - samples/sec: 326.16 - lr: 0.100000\n",
            "2023-04-10 09:42:09,430 epoch 4 - iter 4080/4089 - loss 0.04568674 - time (sec): 2410.72 - samples/sec: 325.62 - lr: 0.100000\n",
            "2023-04-10 09:42:14,629 ----------------------------------------------------------------------------------------------------\n",
            "2023-04-10 09:42:14,637 EPOCH 4 done: loss 0.0457 - lr 0.100000\n"
          ]
        },
        {
          "output_type": "stream",
          "name": "stderr",
          "text": [
            "100%|██████████| 455/455 [02:03<00:00,  3.69it/s]"
          ]
        },
        {
          "output_type": "stream",
          "name": "stdout",
          "text": [
            "2023-04-10 09:44:18,121 Evaluating as a multi-label problem: False\n",
            "2023-04-10 09:44:18,163 DEV : loss 0.05601434409618378 - f1-score (micro avg)  0.7597\n"
          ]
        },
        {
          "output_type": "stream",
          "name": "stderr",
          "text": [
            "\n"
          ]
        },
        {
          "output_type": "stream",
          "name": "stdout",
          "text": [
            "2023-04-10 09:44:18,262 BAD EPOCHS (no improvement): 3\n",
            "2023-04-10 09:44:18,268 ----------------------------------------------------------------------------------------------------\n",
            "2023-04-10 09:48:19,467 epoch 5 - iter 408/4089 - loss 0.04270323 - time (sec): 241.20 - samples/sec: 326.25 - lr: 0.100000\n",
            "2023-04-10 09:52:26,236 epoch 5 - iter 816/4089 - loss 0.04223448 - time (sec): 487.96 - samples/sec: 326.08 - lr: 0.100000\n",
            "2023-04-10 09:56:29,273 epoch 5 - iter 1224/4089 - loss 0.04259352 - time (sec): 731.00 - samples/sec: 325.40 - lr: 0.100000\n",
            "2023-04-10 10:00:25,258 epoch 5 - iter 1632/4089 - loss 0.04241547 - time (sec): 966.99 - samples/sec: 326.13 - lr: 0.100000\n",
            "2023-04-10 10:04:22,193 epoch 5 - iter 2040/4089 - loss 0.04249717 - time (sec): 1203.92 - samples/sec: 326.56 - lr: 0.100000\n",
            "2023-04-10 10:08:20,566 epoch 5 - iter 2448/4089 - loss 0.04243990 - time (sec): 1442.29 - samples/sec: 326.56 - lr: 0.100000\n",
            "2023-04-10 10:12:27,995 epoch 5 - iter 2856/4089 - loss 0.04242879 - time (sec): 1689.72 - samples/sec: 325.71 - lr: 0.100000\n",
            "2023-04-10 10:16:28,816 epoch 5 - iter 3264/4089 - loss 0.04269444 - time (sec): 1930.54 - samples/sec: 326.10 - lr: 0.100000\n",
            "2023-04-10 10:20:34,284 epoch 5 - iter 3672/4089 - loss 0.04275844 - time (sec): 2176.01 - samples/sec: 325.42 - lr: 0.100000\n",
            "2023-04-10 10:24:37,313 epoch 5 - iter 4080/4089 - loss 0.04258835 - time (sec): 2419.04 - samples/sec: 324.62 - lr: 0.100000\n",
            "2023-04-10 10:24:42,580 ----------------------------------------------------------------------------------------------------\n",
            "2023-04-10 10:24:42,586 EPOCH 5 done: loss 0.0426 - lr 0.100000\n"
          ]
        },
        {
          "output_type": "stream",
          "name": "stderr",
          "text": [
            "100%|██████████| 455/455 [02:03<00:00,  3.68it/s]"
          ]
        },
        {
          "output_type": "stream",
          "name": "stdout",
          "text": [
            "2023-04-10 10:26:46,102 Evaluating as a multi-label problem: False\n",
            "2023-04-10 10:26:46,144 DEV : loss 0.043203406035900116 - f1-score (micro avg)  0.8255\n"
          ]
        },
        {
          "output_type": "stream",
          "name": "stderr",
          "text": [
            "\n"
          ]
        },
        {
          "output_type": "stream",
          "name": "stdout",
          "text": [
            "2023-04-10 10:26:46,245 BAD EPOCHS (no improvement): 0\n",
            "2023-04-10 10:26:46,252 saving best model\n",
            "2023-04-10 10:26:47,314 ----------------------------------------------------------------------------------------------------\n"
          ]
        },
        {
          "output_type": "stream",
          "name": "stderr",
          "text": [
            " 78%|███████▊  | 2289/2933 [09:46<02:42,  3.97it/s]"
          ]
        }
      ]
    },
    {
      "cell_type": "code",
      "source": [
        "# run evaluation procedure\n",
        "result = rel_extractor.evaluate(\n",
        "    corpus.test, gold_label_type='relation', mini_batch_size=64\n",
        ")\n",
        "print(result.detailed_results)"
      ],
      "metadata": {
        "id": "rmOIYP99aQW3",
        "colab": {
          "base_uri": "https://localhost:8080/"
        },
        "outputId": "ee237e12-e571-47c0-a247-01f20dc28919"
      },
      "execution_count": null,
      "outputs": [
        {
          "output_type": "stream",
          "name": "stderr",
          "text": [
            "100%|██████████| 367/367 [04:32<00:00,  1.35it/s]"
          ]
        },
        {
          "output_type": "stream",
          "name": "stdout",
          "text": [
            "2023-04-12 14:04:15,026 Evaluating as a multi-label problem: False\n"
          ]
        },
        {
          "output_type": "stream",
          "name": "stderr",
          "text": [
            "\n"
          ]
        },
        {
          "output_type": "stream",
          "name": "stdout",
          "text": [
            "\n",
            "Results:\n",
            "- F-score (micro) 0.8235\n",
            "- F-score (macro) 0.7998\n",
            "- Accuracy 0.7124\n",
            "\n",
            "By class:\n",
            "                precision    recall  f1-score   support\n",
            "\n",
            "     Form-Drug     0.8904    0.8267    0.8574      4374\n",
            "Frequency-Drug     0.8763    0.9251    0.9000      4034\n",
            "    Route-Drug     0.6760    0.8739    0.7624      3546\n",
            " Strength-Drug     0.9228    0.7717    0.8405      4244\n",
            "   Reason-Drug     0.6987    0.8487    0.7664      3410\n",
            "   Dosage-Drug     0.8643    0.8883    0.8761      2695\n",
            "      ADE-Drug     0.5217    0.7872    0.6275       733\n",
            " Duration-Drug     0.6818    0.8803    0.7684       426\n",
            "\n",
            "     micro avg     0.7978    0.8508    0.8235     23462\n",
            "     macro avg     0.7665    0.8502    0.7998     23462\n",
            "  weighted avg     0.8153    0.8508    0.8274     23462\n",
            "\n"
          ]
        }
      ]
    },
    {
      "cell_type": "code",
      "source": [
        "tagger = SequenceTagger.load(f\"{MODEL_PATH}/taggers/lstm-crf-augmented/final-model.pt\")"
      ],
      "metadata": {
        "id": "chwGAv0dYm_l"
      },
      "execution_count": null,
      "outputs": []
    },
    {
      "cell_type": "code",
      "source": [
        "# create example sentence\n",
        "sentence = Sentence(\"Patients on 40 mg of Topelfate and Topoxy twice a day generally suffer from headache\")\n",
        "\n",
        "# predict tags and print\n",
        "tagger.predict(sentence)\n",
        "rel_extractor.predict(sentence)\n",
        "\n",
        "print(sentence.to_tagged_string())"
      ],
      "metadata": {
        "id": "gAdjLrSRN-N1"
      },
      "execution_count": null,
      "outputs": []
    },
    {
      "cell_type": "code",
      "source": [],
      "metadata": {
        "id": "SK2sofWTwtg3"
      },
      "execution_count": null,
      "outputs": []
    }
  ]
}