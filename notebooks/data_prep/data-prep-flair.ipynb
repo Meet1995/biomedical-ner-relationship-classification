{
 "cells": [
  {
   "cell_type": "code",
   "execution_count": 1,
   "id": "3f19a621",
   "metadata": {},
   "outputs": [],
   "source": [
    "import pandas as pd\n",
    "from tqdm import tqdm"
   ]
  },
  {
   "cell_type": "code",
   "execution_count": 2,
   "id": "8134e66a",
   "metadata": {},
   "outputs": [],
   "source": [
    "DATA_PATH = \"../../data/parsed_data\"\n",
    "\n",
    "ner_train_path = f\"{DATA_PATH}/ner_train.parquet\"\n",
    "rel_train_path = f\"{DATA_PATH}/rel_train.parquet\"\n",
    "\n",
    "ner_test_path = f\"{DATA_PATH}/ner_test.parquet\"\n",
    "rel_test_path = f\"{DATA_PATH}/rel_test.parquet\""
   ]
  },
  {
   "cell_type": "code",
   "execution_count": 3,
   "id": "e8358237",
   "metadata": {},
   "outputs": [
    {
     "data": {
      "text/html": [
       "<div>\n",
       "<style scoped>\n",
       "    .dataframe tbody tr th:only-of-type {\n",
       "        vertical-align: middle;\n",
       "    }\n",
       "\n",
       "    .dataframe tbody tr th {\n",
       "        vertical-align: top;\n",
       "    }\n",
       "\n",
       "    .dataframe thead th {\n",
       "        text-align: right;\n",
       "    }\n",
       "</style>\n",
       "<table border=\"1\" class=\"dataframe\">\n",
       "  <thead>\n",
       "    <tr style=\"text-align: right;\">\n",
       "      <th></th>\n",
       "      <th>text</th>\n",
       "      <th>arg1</th>\n",
       "      <th>arg2</th>\n",
       "      <th>label</th>\n",
       "      <th>sid</th>\n",
       "      <th>uid</th>\n",
       "    </tr>\n",
       "  </thead>\n",
       "  <tbody>\n",
       "    <tr>\n",
       "      <th>0</th>\n",
       "      <td>MEDICATIONS|:|Lipitor|,|Tylenol|with|Codeine|,...</td>\n",
       "      <td>13:14</td>\n",
       "      <td>12:13</td>\n",
       "      <td>Frequency-Drug</td>\n",
       "      <td>0</td>\n",
       "      <td>100130</td>\n",
       "    </tr>\n",
       "    <tr>\n",
       "      <th>0</th>\n",
       "      <td>MEDICATIONS|:|Lipitor|,|Tylenol|with|Codeine|,...</td>\n",
       "      <td>17:19</td>\n",
       "      <td>12:13</td>\n",
       "      <td>Duration-Drug</td>\n",
       "      <td>1</td>\n",
       "      <td>100130</td>\n",
       "    </tr>\n",
       "    <tr>\n",
       "      <th>0</th>\n",
       "      <td>She|was|started|on|prophylactic|Oxacillin|to|c...</td>\n",
       "      <td>22:24</td>\n",
       "      <td>5:6</td>\n",
       "      <td>Reason-Drug</td>\n",
       "      <td>2</td>\n",
       "      <td>100130</td>\n",
       "    </tr>\n",
       "    <tr>\n",
       "      <th>0</th>\n",
       "      <td>Unit|was|uneventful|,|and|she|was|discharged|t...</td>\n",
       "      <td>17:19</td>\n",
       "      <td>19:21</td>\n",
       "      <td>Frequency-Drug</td>\n",
       "      <td>3</td>\n",
       "      <td>100130</td>\n",
       "    </tr>\n",
       "    <tr>\n",
       "      <th>0</th>\n",
       "      <td>1|hour|Pred|Forte|application|to|the|eye|and|c...</td>\n",
       "      <td>7:8</td>\n",
       "      <td>2:4</td>\n",
       "      <td>Route-Drug</td>\n",
       "      <td>4</td>\n",
       "      <td>100130</td>\n",
       "    </tr>\n",
       "  </tbody>\n",
       "</table>\n",
       "</div>"
      ],
      "text/plain": [
       "                                                text   arg1   arg2  \\\n",
       "0  MEDICATIONS|:|Lipitor|,|Tylenol|with|Codeine|,...  13:14  12:13   \n",
       "0  MEDICATIONS|:|Lipitor|,|Tylenol|with|Codeine|,...  17:19  12:13   \n",
       "0  She|was|started|on|prophylactic|Oxacillin|to|c...  22:24    5:6   \n",
       "0  Unit|was|uneventful|,|and|she|was|discharged|t...  17:19  19:21   \n",
       "0  1|hour|Pred|Forte|application|to|the|eye|and|c...    7:8    2:4   \n",
       "\n",
       "            label  sid     uid  \n",
       "0  Frequency-Drug    0  100130  \n",
       "0   Duration-Drug    1  100130  \n",
       "0     Reason-Drug    2  100130  \n",
       "0  Frequency-Drug    3  100130  \n",
       "0      Route-Drug    4  100130  "
      ]
     },
     "execution_count": 3,
     "metadata": {},
     "output_type": "execute_result"
    }
   ],
   "source": [
    "pd.read_parquet(f\"{DATA_PATH}/{rel_test_path}\").head()"
   ]
  },
  {
   "cell_type": "code",
   "execution_count": 12,
   "id": "e0923c78",
   "metadata": {},
   "outputs": [],
   "source": [
    "class FlairDataWriter:\n",
    "    \"\"\"\n",
    "    A class to write NER and Relation extraction data in Flair format.\n",
    "\n",
    "    Args:\n",
    "        ner_data_path (str): The path to NER data in parquet format.\n",
    "        output_path (str): The path to save the output files.\n",
    "        rel_data_path (str, optional): The path to Relation extraction data in parquet format. Defaults to None.\n",
    "\n",
    "    Attributes:\n",
    "        ner_data (DataFrame): A pandas DataFrame containing the NER data.\n",
    "        output_path (str): The path to save the output files.\n",
    "        rel_data (DataFrame): A pandas DataFrame containing the relation extraction data. Default is None.\n",
    "\n",
    "    Methods:\n",
    "        __collapse(df): A private method that collapses a DataFrame into a single row.\n",
    "        save_rel_data(name): A method that saves the relation extraction data in Flair format.\n",
    "        save_ner_data(name): A method that saves the NER data in Flair format.\n",
    "    \"\"\"\n",
    "    def __init__(self, ner_data_path, output_path, rel_data_path=None):\n",
    "        \"\"\"\n",
    "        Initializes the FlairDataWriter object.\n",
    "\n",
    "        Args:\n",
    "            ner_data_path (str): The path to NER data in parquet format.\n",
    "            output_path (str): The path to save the output files.\n",
    "            rel_data_path (str, optional): The path to Relation extraction data in parquet format. Defaults to None.\n",
    "        \"\"\"\n",
    "        self.ner_data = pd.read_parquet(ner_data_path)\n",
    "        self.output_path = output_path\n",
    "        self.rel_data = None\n",
    "        if rel_data_path:\n",
    "            self.rel_data = pd.read_parquet(rel_data_path)\n",
    "            self.rel_data['UUID'] = range(self.rel_data.shape[0])\n",
    "\n",
    "    def __collapse(self, df):\n",
    "        \"\"\"\n",
    "        A private method that collapses a DataFrame into a single row.\n",
    "\n",
    "        Args:\n",
    "            df (DataFrame): The pandas DataFrame to be collapsed.\n",
    "\n",
    "        Returns:\n",
    "            DataFrame: A pandas DataFrame with a single row containing the collapsed data.\n",
    "        \"\"\"\n",
    "        token_str = \"|\".join(df['token'].to_list())\n",
    "        tag_str = \"|\".join(df['tag'].to_list())\n",
    "        return pd.DataFrame([[token_str, tag_str]], columns=['text', 'tags'])\n",
    "\n",
    "    def save_rel_data(self, name):\n",
    "        \"\"\"\n",
    "        Saves the relation extraction data in Flair format.\n",
    "\n",
    "        Args:\n",
    "            name (str): The name of the file to be saved.\n",
    "        \"\"\"\n",
    "        assert self.rel_data is not None, \"Provide Relations Data!\"\n",
    "        ner_collapsed = self.ner_data[self.ner_data['contains_rel']==1].groupby(\n",
    "            ['uid', 'sid']\n",
    "        ).apply(self.__collapse).droplevel(2).reset_index()\n",
    "        \n",
    "        merged_data = pd.merge(\n",
    "            self.rel_data, ner_collapsed, on=['uid', 'text'], how='left'\n",
    "        ).drop(columns=['sid_x', 'sid_y'])\n",
    "\n",
    "        assert merged_data.isnull().sum().sum() == 0\n",
    "        assert merged_data.shape[0] == self.rel_data.shape[0]\n",
    "\n",
    "        with open(f\"{self.output_path}/{name}.txt\", \"w\") as file:\n",
    "            file.write(\"# global.columns = id form ner\\n\")\n",
    "            for idx, row in tqdm(merged_data.iterrows(), total=merged_data.shape[0]):\n",
    "                words = row[\"text\"].split(\"|\")\n",
    "                tags = row[\"tags\"].split(\"|\")\n",
    "                sent = \" \".join(words)\n",
    "                file.write(f\"# text = {sent}\\n\")\n",
    "                file.write(f\"# sentence_id = {row['UUID']}\\n\")\n",
    "                a1 = row[\"arg1\"].split(\":\")\n",
    "                a2 = row[\"arg2\"].split(\":\")\n",
    "                file.write(f'# relations = {int(a1[0])+1};{int(a1[1])};{int(a2[0])+1};{int(a2[1])};{row[\"label\"]}\\n')\n",
    "                for i, (word, tag) in enumerate(zip(words, tags)):\n",
    "                    file.write(f\"{i+1} {word} {tag}\\n\")\n",
    "                file.write(\"\\n\")\n",
    "\n",
    "    def save_ner_data(self, name):\n",
    "        \"\"\"\n",
    "        Saves the NER data in Flair format.\n",
    "\n",
    "        Args:\n",
    "            name (str): The name of the file to be saved.\n",
    "        \"\"\"\n",
    "        with open(f\"{self.output_path}/{name}.txt\", \"w\") as file:\n",
    "            curr_sid = 0\n",
    "            for idx, row in tqdm(self.ner_data.iterrows(), total=self.ner_data.shape[0]):\n",
    "                if row[\"sid\"] != curr_sid:\n",
    "                    curr_sid = row[\"sid\"]\n",
    "                    file.write(\"\\n\")\n",
    "                file.write(row[\"token\"] + \" \" + row[\"tag\"] + \"\\n\")"
   ]
  },
  {
   "cell_type": "code",
   "execution_count": 13,
   "id": "a05354e7",
   "metadata": {},
   "outputs": [],
   "source": [
    "flair_train_writer = FlairDataWriter(ner_train_path, DATA_PATH, rel_train_path)"
   ]
  },
  {
   "cell_type": "code",
   "execution_count": 21,
   "id": "afc3278c",
   "metadata": {},
   "outputs": [
    {
     "name": "stderr",
     "output_type": "stream",
     "text": [
      "100%|██████████| 1435233/1435233 [01:47<00:00, 13312.49it/s]\n"
     ]
    }
   ],
   "source": [
    "flair_train_writer.save_ner_data('flair_ner_train')"
   ]
  },
  {
   "cell_type": "code",
   "execution_count": 14,
   "id": "2bd05baf",
   "metadata": {},
   "outputs": [
    {
     "name": "stderr",
     "output_type": "stream",
     "text": [
      "100%|██████████| 36346/36346 [00:07<00:00, 5131.04it/s]\n"
     ]
    }
   ],
   "source": [
    "flair_train_writer.save_rel_data('flair_rel_train')"
   ]
  },
  {
   "cell_type": "code",
   "execution_count": 15,
   "id": "68a455dd",
   "metadata": {},
   "outputs": [],
   "source": [
    "flair_test_writer = FlairDataWriter(ner_test_path, DATA_PATH, rel_test_path)"
   ]
  },
  {
   "cell_type": "code",
   "execution_count": 7,
   "id": "87b79815",
   "metadata": {},
   "outputs": [
    {
     "name": "stderr",
     "output_type": "stream",
     "text": [
      "100%|██████████| 931604/931604 [01:11<00:00, 13047.09it/s]\n"
     ]
    }
   ],
   "source": [
    "flair_test_writer.save_ner_data('flair_ner_test')"
   ]
  },
  {
   "cell_type": "code",
   "execution_count": 16,
   "id": "224fb504",
   "metadata": {},
   "outputs": [
    {
     "name": "stderr",
     "output_type": "stream",
     "text": [
      "100%|██████████| 23462/23462 [00:04<00:00, 5018.79it/s]\n"
     ]
    }
   ],
   "source": [
    "flair_test_writer.save_rel_data('flair_rel_test')"
   ]
  },
  {
   "cell_type": "code",
   "execution_count": null,
   "id": "d8a42bb9",
   "metadata": {},
   "outputs": [],
   "source": []
  }
 ],
 "metadata": {
  "kernelspec": {
   "display_name": "Python 3 (ipykernel)",
   "language": "python",
   "name": "python3"
  },
  "language_info": {
   "codemirror_mode": {
    "name": "ipython",
    "version": 3
   },
   "file_extension": ".py",
   "mimetype": "text/x-python",
   "name": "python",
   "nbconvert_exporter": "python",
   "pygments_lexer": "ipython3",
   "version": "3.10.8"
  }
 },
 "nbformat": 4,
 "nbformat_minor": 5
}
